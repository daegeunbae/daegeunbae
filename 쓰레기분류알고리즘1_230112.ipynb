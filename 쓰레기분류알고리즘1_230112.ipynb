{
  "nbformat": 4,
  "nbformat_minor": 0,
  "metadata": {
    "colab": {
      "private_outputs": true,
      "provenance": [],
      "include_colab_link": true
    },
    "kernelspec": {
      "name": "python3",
      "display_name": "Python 3"
    },
    "language_info": {
      "name": "python"
    },
    "accelerator": "GPU",
    "gpuClass": "standard"
  },
  "cells": [
    {
      "cell_type": "markdown",
      "metadata": {
        "id": "view-in-github",
        "colab_type": "text"
      },
      "source": [
        "<a href=\"https://colab.research.google.com/github/daegeunbae/daegeunbae/blob/main/%EC%93%B0%EB%A0%88%EA%B8%B0%EB%B6%84%EB%A5%98%EC%95%8C%EA%B3%A0%EB%A6%AC%EC%A6%981_230112.ipynb\" target=\"_parent\"><img src=\"https://colab.research.google.com/assets/colab-badge.svg\" alt=\"Open In Colab\"/></a>"
      ]
    },
    {
      "cell_type": "code",
      "execution_count": null,
      "metadata": {
        "id": "VADrZs9wiKmQ"
      },
      "outputs": [],
      "source": [
        "!pip3 install torch\n",
        "!pip3 install torchvision"
      ]
    },
    {
      "cell_type": "code",
      "source": [
        "from google.colab import drive\n",
        "drive.mount('/gdrive')"
      ],
      "metadata": {
        "id": "n4rkwOub7kLj"
      },
      "execution_count": null,
      "outputs": []
    },
    {
      "cell_type": "code",
      "source": [
        "!ls\n",
        "!ls \"/gdrive/My Drive/Colab Notebooks/\""
      ],
      "metadata": {
        "id": "KFRM41eriUtq"
      },
      "execution_count": null,
      "outputs": []
    },
    {
      "cell_type": "code",
      "source": [
        "import zipfile as zf\n",
        "files = zf.ZipFile(\"/gdrive/My Drive/Colab Notebooks/dataset.zip\",'r')\n",
        "files.extractall()\n",
        "files.close()"
      ],
      "metadata": {
        "id": "QCh0eSQUkNMO"
      },
      "execution_count": null,
      "outputs": []
    },
    {
      "cell_type": "code",
      "source": [
        "!ls"
      ],
      "metadata": {
        "id": "8gsu5TOjH1lP"
      },
      "execution_count": null,
      "outputs": []
    },
    {
      "cell_type": "code",
      "source": [
        "import os\n",
        "os.listdir(os.path.join(os.getcwd(), \"dataset\"))"
      ],
      "metadata": {
        "id": "a2qsW7PcH580"
      },
      "execution_count": null,
      "outputs": []
    },
    {
      "cell_type": "code",
      "source": [
        "from pathlib import Path\n",
        "path = Path(os.getcwd())/\"dataset\"\n",
        "path"
      ],
      "metadata": {
        "id": "quLF__sSH--e"
      },
      "execution_count": null,
      "outputs": []
    },
    {
      "cell_type": "code",
      "source": [
        "# train, valid, test 구조로 분할하는 함수\n",
        "def split_indices(folder,seed1,seed2):    \n",
        "    n = len(os.listdir(folder))\n",
        "    full_set = list(range(1,n+1))\n",
        "\n",
        "    # train 인덱싱\n",
        "    random.seed(seed1)\n",
        "    train = random.sample(list(range(1,n+1)), int(.5*n)) # 50%를 train 폴더로 이동\n",
        "    remain = list(set(full_set)-set(train))\n",
        "\n",
        "    # valid 인덱싱\n",
        "    random.seed(seed2)\n",
        "    valid = random.sample(remain, int(.5*len(remain))) # 남은 것들 중 50%(전체 25%)를 valid 폴더로 이동\n",
        "    test = list(set(remain)-set(valid))\n",
        "    \n",
        "    return(train,valid,test)\n",
        "\n",
        "# 인덱싱에 따라 파일 이름을 구하기\n",
        "def get_names(waste_type, indices):\n",
        "    file_names = [waste_type+str(i)+\".jpg\" for i in indices]\n",
        "    return(file_names)\n",
        "\n",
        "# 파일의 위치를 옮기는 함수\n",
        "def move_files(source_files, destination_folder):\n",
        "    for file in source_files:\n",
        "        shutil.move(file, destination_folder)\n"
      ],
      "metadata": {
        "id": "CwJr2gU3ID9W"
      },
      "execution_count": null,
      "outputs": []
    },
    {
      "cell_type": "code",
      "source": [
        "\n",
        "import random\n",
        "import shutil\n",
        "\n",
        "# 데이터 종류 / 쓰레기 타입 설정\n",
        "subsets = ['train','valid']\n",
        "waste_types = ['cardboard','glass','metal','paper','plastic','trash']\n",
        "\n",
        "# data/데이터 종류/쓰레기 타입 디렉토리가 존재하지 않으면 폴더를 생성한다.\n",
        "for subset in subsets:\n",
        "    for waste_type in waste_types:\n",
        "        folder = os.path.join('data', subset, waste_type)\n",
        "        if not os.path.exists(folder):\n",
        "            os.makedirs(folder)\n",
        "\n",
        "# test 폴더는 쓰레기 타입 디렉토리가 포함되지 않으므로 따로 작성\n",
        "if not os.path.exists(os.path.join('data','test')):\n",
        "    os.makedirs(os.path.join('data','test'))\n",
        "            \n",
        "# 각 쓰레기 타입별로 \n",
        "for waste_type in waste_types:\n",
        "    source_folder = os.path.join('dataset', waste_type)\n",
        "    train_ind, valid_ind, test_ind = split_indices(source_folder,1,1)\n",
        "    \n",
        "    # 파일들을 train 폴더로 옮김\n",
        "    train_names = get_names(waste_type,train_ind)\n",
        "    train_source_files = [os.path.join(source_folder,name) for name in train_names]\n",
        "    move_files(train_source_files, \"data/train/\" + waste_type)\n",
        "    \n",
        "    # 파일들을 valid 폴더로 옮김\n",
        "    valid_names = get_names(waste_type,valid_ind)\n",
        "    valid_source_files = [os.path.join(source_folder,name) for name in valid_names]\n",
        "    move_files(valid_source_files, \"data/valid/\" + waste_type)\n",
        "    \n",
        "    # 파일들을 test폴더로 옮김\n",
        "    test_names = get_names(waste_type,test_ind)\n",
        "    test_source_files = [os.path.join(source_folder,name) for name in test_names]\n",
        "    move_files(test_source_files,\"data/test\")    # test 폴더는 쓰레기 타입 미포함"
      ],
      "metadata": {
        "id": "Qku4ApYfIjpi"
      },
      "execution_count": null,
      "outputs": []
    },
    {
      "cell_type": "code",
      "source": [
        "\n",
        "# 변경된 디렉토리 구조 확인\n",
        "!ls\n",
        "!ls data"
      ],
      "metadata": {
        "id": "IKTANBe3I-Pi"
      },
      "execution_count": null,
      "outputs": []
    },
    {
      "cell_type": "code",
      "source": [
        "\n",
        "!pip install fastai==1.0.42"
      ],
      "metadata": {
        "id": "QBdACAiZVsR2"
      },
      "execution_count": null,
      "outputs": []
    },
    {
      "cell_type": "code",
      "source": [
        "!pip install torch==1.6.0+cpu torchvision==0.7.0+cpu -f https://download.pytorch.org/whl/torch_stable.html"
      ],
      "metadata": {
        "id": "hhd2FpeideD5"
      },
      "execution_count": null,
      "outputs": []
    },
    {
      "cell_type": "code",
      "source": [],
      "metadata": {
        "id": "a0byIs6afb11"
      },
      "execution_count": null,
      "outputs": []
    },
    {
      "cell_type": "code",
      "source": [
        "from fastai import *\n",
        "\n",
        "from fastai.vision import *\n",
        "\n",
        "\n",
        "path = Path(os.getcwd())/\"data\"\n",
        "tfms = get_transforms(do_flip=True, flip_vert=True)\n",
        "data = ImageDataBunch.from_folder(path, test=\"test\", ds_tfms=tfms, bs=16)\n",
        "data\n",
        "     "
      ],
      "metadata": {
        "id": "YsRtGJAzJBwo"
      },
      "execution_count": null,
      "outputs": []
    },
    {
      "cell_type": "code",
      "source": [
        "data.classes"
      ],
      "metadata": {
        "id": "pT6gKikpNWuh"
      },
      "execution_count": null,
      "outputs": []
    },
    {
      "cell_type": "code",
      "source": [],
      "metadata": {
        "id": "1Rq0gxbk5n-7"
      },
      "execution_count": null,
      "outputs": []
    },
    {
      "cell_type": "code",
      "source": [],
      "metadata": {
        "id": "y1pwLmWx7AyU"
      },
      "execution_count": null,
      "outputs": []
    },
    {
      "cell_type": "code",
      "source": [
        "data.show_batch(rows=4, figsize=(8,8))"
      ],
      "metadata": {
        "id": "lX8gwC3M3erQ"
      },
      "execution_count": null,
      "outputs": []
    },
    {
      "cell_type": "code",
      "source": [
        "learn = cnn_learner(data, models.resnet34, metrics=error_rate)"
      ],
      "metadata": {
        "id": "pZZ9lItd90LG"
      },
      "execution_count": null,
      "outputs": []
    }
  ]
}