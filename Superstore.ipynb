{
  "nbformat": 4,
  "nbformat_minor": 0,
  "metadata": {
    "colab": {
      "name": "Superstore",
      "provenance": [],
      "collapsed_sections": [],
      "mount_file_id": "1R3bD1GI0FUkCF1bbm-61ynAmi2K_lkXa",
      "authorship_tag": "ABX9TyOGPYVsuLFBLDhgLoZ2rcQR",
      "include_colab_link": true
    },
    "kernelspec": {
      "name": "python3",
      "display_name": "Python 3"
    },
    "language_info": {
      "name": "python"
    }
  },
  "cells": [
    {
      "cell_type": "markdown",
      "metadata": {
        "id": "view-in-github",
        "colab_type": "text"
      },
      "source": [
        "<a href=\"https://colab.research.google.com/github/daegeunbae/daegeunbae/blob/main/Superstore.ipynb\" target=\"_parent\"><img src=\"https://colab.research.google.com/assets/colab-badge.svg\" alt=\"Open In Colab\"/></a>"
      ]
    },
    {
      "cell_type": "code",
      "execution_count": null,
      "metadata": {
        "id": "HPB_DcrPC1_K"
      },
      "outputs": [],
      "source": [
        "import pandas as pd\n",
        "import numpy as np\n",
        "import matplotlib.pyplot as plt\n",
        "plt.rc('font', family='NanumBarunGothic') "
      ]
    },
    {
      "cell_type": "code",
      "source": [
        "from google.colab import drive\n",
        "drive.mount('/content/drive')"
      ],
      "metadata": {
        "colab": {
          "base_uri": "https://localhost:8080/"
        },
        "id": "DvIqochK3wav",
        "outputId": "57c2d549-625f-4aea-a80c-49b7622c9b31"
      },
      "execution_count": null,
      "outputs": [
        {
          "output_type": "stream",
          "name": "stdout",
          "text": [
            "Drive already mounted at /content/drive; to attempt to forcibly remount, call drive.mount(\"/content/drive\", force_remount=True).\n"
          ]
        }
      ]
    },
    {
      "cell_type": "code",
      "source": [
        "df = pd.read_csv('/content/drive/MyDrive/02.coding/10.Team_Project/03.laplas/Superstore.csv')\n",
        "df.info()\n",
        "#,encoding='utf-8'\n",
        "#df=pd.read_excel('https://github.com/springcoil/marsmodelling/blob/master/relay-foods.xlsx?raw=true', \n",
        "#                 sheet_name='Purchase Data - Full Study')\n",
        "#df.head()"
      ],
      "metadata": {
        "colab": {
          "base_uri": "https://localhost:8080/"
        },
        "id": "3N-dfzbnC6uz",
        "outputId": "79530106-5695-4514-daf2-db3b6750a4ef"
      },
      "execution_count": null,
      "outputs": [
        {
          "output_type": "stream",
          "name": "stdout",
          "text": [
            "<class 'pandas.core.frame.DataFrame'>\n",
            "RangeIndex: 9994 entries, 0 to 9993\n",
            "Data columns (total 21 columns):\n",
            " #   Column         Non-Null Count  Dtype  \n",
            "---  ------         --------------  -----  \n",
            " 0   Row ID         9994 non-null   int64  \n",
            " 1   Order ID       9994 non-null   object \n",
            " 2   Order Date     9994 non-null   object \n",
            " 3   Ship Date      9994 non-null   object \n",
            " 4   Ship Mode      9994 non-null   object \n",
            " 5   Customer ID    9994 non-null   object \n",
            " 6   Customer Name  9994 non-null   object \n",
            " 7   Segment        9994 non-null   object \n",
            " 8   Country        9994 non-null   object \n",
            " 9   City           9994 non-null   object \n",
            " 10  State          9994 non-null   object \n",
            " 11  Postal Code    9994 non-null   int64  \n",
            " 12  Region         9994 non-null   object \n",
            " 13  Product ID     9994 non-null   object \n",
            " 14  Category       9994 non-null   object \n",
            " 15  Sub-Category   9994 non-null   object \n",
            " 16  Product Name   9994 non-null   object \n",
            " 17  Sales          9994 non-null   float64\n",
            " 18  Quantity       9994 non-null   int64  \n",
            " 19  Discount       9994 non-null   float64\n",
            " 20  Profit         9994 non-null   float64\n",
            "dtypes: float64(3), int64(3), object(15)\n",
            "memory usage: 1.6+ MB\n"
          ]
        }
      ]
    },
    {
      "cell_type": "code",
      "source": [
        "df.value_counts()"
      ],
      "metadata": {
        "colab": {
          "base_uri": "https://localhost:8080/"
        },
        "id": "kowkeCXN667l",
        "outputId": "42cd8aef-3090-4998-f6ab-2c08a4d6ab7d"
      },
      "execution_count": null,
      "outputs": [
        {
          "output_type": "execute_result",
          "data": {
            "text/plain": [
              "Row ID  Order ID        Order Date  Ship Date   Ship Mode       Customer ID  Customer Name     Segment      Country        City         State          Postal Code  Region   Product ID       Category         Sub-Category  Product Name                                                               Sales    Quantity  Discount  Profit   \n",
              "1       CA-2016-152156  2016-11-08  2016-11-11  Second Class    CG-12520     Claire Gute       Consumer     United States  Henderson    Kentucky       42420        South    FUR-BO-10001798  Furniture        Bookcases     Bush Somerset Collection Bookcase                                          261.960  2         0.0        41.9136     1\n",
              "6666    CA-2016-115483  2016-07-14  2016-07-18  Second Class    JS-15880     John Stevenson    Consumer     United States  Irving       Texas          75061        Central  OFF-PA-10001497  Office Supplies  Paper         Xerox 1914                                                                 219.840  5         0.2        79.6920     1\n",
              "6659    CA-2017-135937  2017-02-20  2017-02-27  Standard Class  KM-16375     Katherine Murray  Home Office  United States  Gilbert      Arizona        85234        West     FUR-FU-10002253  Furniture        Furnishings   Howard Miller 13\" Diameter Pewter Finish Round Wall Clock                  68.704   2         0.2        16.3172     1\n",
              "6660    CA-2017-135937  2017-02-20  2017-02-27  Standard Class  KM-16375     Katherine Murray  Home Office  United States  Gilbert      Arizona        85234        West     FUR-TA-10001039  Furniture        Tables        KI Adjustable-Height Table                                                 386.910  9         0.5       -185.7168    1\n",
              "6661    CA-2015-129322  2015-08-08  2015-08-10  Second Class    DB-13405     Denny Blanton     Consumer     United States  Lawrence     Massachusetts  1841         East     OFF-AR-10004587  Office Supplies  Art           Boston 1827 Commercial Additional Cutter, Drive Gear & Gear Rack for 1606  39.660   2         0.0        11.8980     1\n",
              "                                                                                                                                                                                                                                                                                                                                                 ..\n",
              "3333    CA-2017-122595  2017-12-14  2017-12-20  Standard Class  GM-14455     Gary Mitchum      Home Office  United States  Chicago      Illinois       60653        Central  TEC-PH-10003095  Technology       Phones        Samsung HM1900 Bluetooth Headset                                           52.680   3         0.2        19.7550     1\n",
              "3334    CA-2017-122595  2017-12-14  2017-12-20  Standard Class  GM-14455     Gary Mitchum      Home Office  United States  Chicago      Illinois       60653        Central  FUR-FU-10002963  Furniture        Furnishings   Master Caster Door Stop, Gray                                              2.032    1         0.6       -1.3208      1\n",
              "3335    US-2017-109253  2017-08-21  2017-08-22  First Class     PR-18880     Patrick Ryan      Consumer     United States  Oakland      California     94601        West     OFF-AR-10000203  Office Supplies  Art           Newell 336                                                                 17.120   4         0.0        4.9648      1\n",
              "3336    US-2017-109253  2017-08-21  2017-08-22  First Class     PR-18880     Patrick Ryan      Consumer     United States  Oakland      California     94601        West     TEC-PH-10004667  Technology       Phones        Cisco 8x8 Inc. 6753i IP Business Phone System                              431.968  4         0.2        37.7972     1\n",
              "9994    CA-2017-119914  2017-05-04  2017-05-09  Second Class    CC-12220     Chris Cortes      Consumer     United States  Westminster  California     92683        West     OFF-AP-10002684  Office Supplies  Appliances    Acco 7-Outlet Masterpiece Power Center, Wihtout Fax/Phone Line Protection  243.160  2         0.0        72.9480     1\n",
              "Length: 9994, dtype: int64"
            ]
          },
          "metadata": {},
          "execution_count": 5
        }
      ]
    },
    {
      "cell_type": "code",
      "source": [
        "df.isnull().any()"
      ],
      "metadata": {
        "id": "qpWEtdDYEHoV",
        "colab": {
          "base_uri": "https://localhost:8080/"
        },
        "outputId": "3d618b60-8bd1-4c84-9ec3-6ad7df0ceda3"
      },
      "execution_count": null,
      "outputs": [
        {
          "output_type": "execute_result",
          "data": {
            "text/plain": [
              "Row ID           False\n",
              "Order ID         False\n",
              "Order Date       False\n",
              "Ship Date        False\n",
              "Ship Mode        False\n",
              "Customer ID      False\n",
              "Customer Name    False\n",
              "Segment          False\n",
              "Country          False\n",
              "City             False\n",
              "State            False\n",
              "Postal Code      False\n",
              "Region           False\n",
              "Product ID       False\n",
              "Category         False\n",
              "Sub-Category     False\n",
              "Product Name     False\n",
              "Sales            False\n",
              "Quantity         False\n",
              "Discount         False\n",
              "Profit           False\n",
              "dtype: bool"
            ]
          },
          "metadata": {},
          "execution_count": 30
        }
      ]
    },
    {
      "cell_type": "code",
      "source": [
        "df.isnull().any().sum()"
      ],
      "metadata": {
        "colab": {
          "base_uri": "https://localhost:8080/"
        },
        "id": "Nnw3GRhL_pJH",
        "outputId": "4cdcd18d-6067-40cd-a2da-9b5b9579cde9"
      },
      "execution_count": null,
      "outputs": [
        {
          "output_type": "execute_result",
          "data": {
            "text/plain": [
              "0"
            ]
          },
          "metadata": {},
          "execution_count": 6
        }
      ]
    },
    {
      "cell_type": "code",
      "source": [
        "# RFM 분석 ->고객별 scoring이 나오면 그 조합별로 클러스터링\n",
        "# Recency : 얼마나 최근에 구매했는가 Frequency : 얼마나 자주 구매했는가 Monetary : 얼마나 많은 금액을 지출했는가\n",
        "# 사용자 분류하기(segmentation)\n",
        "# 논문 활용하여 묶"
      ],
      "metadata": {
        "id": "ScKyLPCknfZF"
      },
      "execution_count": null,
      "outputs": []
    },
    {
      "cell_type": "code",
      "source": [
        "#지역\n",
        "df['Region'].value_counts()"
      ],
      "metadata": {
        "colab": {
          "base_uri": "https://localhost:8080/"
        },
        "id": "EygGV8LN-tzK",
        "outputId": "353aaa15-3691-4dd7-e615-2158e741ed37"
      },
      "execution_count": null,
      "outputs": [
        {
          "output_type": "execute_result",
          "data": {
            "text/plain": [
              "West       3203\n",
              "East       2848\n",
              "Central    2323\n",
              "South      1620\n",
              "Name: Region, dtype: int64"
            ]
          },
          "metadata": {},
          "execution_count": 9
        }
      ]
    },
    {
      "cell_type": "code",
      "source": [
        "#고객분포\n",
        "df['Segment'].value_counts()"
      ],
      "metadata": {
        "id": "tCEXSpRQ-t1j",
        "colab": {
          "base_uri": "https://localhost:8080/"
        },
        "outputId": "225284d2-f853-4f56-a9cb-20687974062e"
      },
      "execution_count": null,
      "outputs": [
        {
          "output_type": "execute_result",
          "data": {
            "text/plain": [
              "Consumer       5191\n",
              "Corporate      3020\n",
              "Home Office    1783\n",
              "Name: Segment, dtype: int64"
            ]
          },
          "metadata": {},
          "execution_count": 10
        }
      ]
    },
    {
      "cell_type": "code",
      "source": [
        "#코호트 그룹 분석\n",
        "#(연령) 코호트\n",
        "#(지역) 코호트\n",
        "#(상품별 판매량) 코호트\n",
        "#(연령별 상품)\n",
        "#(상품별 마진) 코호트"
      ],
      "metadata": {
        "id": "l9ChKRuUnqj0"
      },
      "execution_count": null,
      "outputs": []
    },
    {
      "cell_type": "code",
      "source": [
        ""
      ],
      "metadata": {
        "id": "P-wPMogJnqmV"
      },
      "execution_count": null,
      "outputs": []
    },
    {
      "cell_type": "code",
      "source": [
        "#행동패턴 분석\n",
        "import seaborn as sns \n",
        "import matplotlib.pyplot as plt\n",
        "df.hist(figsize=(10, 9))\n",
        "plt.tight_layout() \n",
        "plt.show()"
      ],
      "metadata": {
        "colab": {
          "base_uri": "https://localhost:8080/",
          "height": 692
        },
        "id": "PdmsZoJNnqol",
        "outputId": "e28ca840-ff1d-42a1-9250-4dc369c3b936"
      },
      "execution_count": null,
      "outputs": [
        {
          "output_type": "stream",
          "name": "stderr",
          "text": [
            "findfont: Font family ['NanumBarunGothic'] not found. Falling back to DejaVu Sans.\n",
            "findfont: Font family ['NanumBarunGothic'] not found. Falling back to DejaVu Sans.\n"
          ]
        },
        {
          "output_type": "display_data",
          "data": {
            "text/plain": [
              "<Figure size 720x648 with 6 Axes>"
            ],
            "image/png": "[encoded data removed]"
          },
          "metadata": {
            "needs_background": "light"
          }
        }
      ]
    },
    {
      "cell_type": "code",
      "source": [
        "df['OrderPeriod']=df['Order Date'].dt.strftime('%Y-%m')\n",
        "df"
      ],
      "metadata": {
        "colab": {
          "base_uri": "https://localhost:8080/",
          "height": 294
        },
        "id": "tStiKQIRnqrP",
        "outputId": "f652cfe5-c656-4f65-8519-4eeed285bd59"
      },
      "execution_count": null,
      "outputs": [
        {
          "output_type": "error",
          "ename": "AttributeError",
          "evalue": "ignored",
          "traceback": [
            "\u001b[0;31m---------------------------------------------------------------------------\u001b[0m",
            "\u001b[0;31mAttributeError\u001b[0m                            Traceback (most recent call last)",
            "\u001b[0;32m<ipython-input-14-abda84a78fb3>\u001b[0m in \u001b[0;36m<module>\u001b[0;34m()\u001b[0m\n\u001b[0;32m----> 1\u001b[0;31m \u001b[0mdf\u001b[0m\u001b[0;34m[\u001b[0m\u001b[0;34m'OrderPeriod'\u001b[0m\u001b[0;34m]\u001b[0m\u001b[0;34m=\u001b[0m\u001b[0mdf\u001b[0m\u001b[0;34m[\u001b[0m\u001b[0;34m'Order Date'\u001b[0m\u001b[0;34m]\u001b[0m\u001b[0;34m.\u001b[0m\u001b[0mdt\u001b[0m\u001b[0;34m.\u001b[0m\u001b[0mstrftime\u001b[0m\u001b[0;34m(\u001b[0m\u001b[0;34m'%Y-%m'\u001b[0m\u001b[0;34m)\u001b[0m\u001b[0;34m\u001b[0m\u001b[0;34m\u001b[0m\u001b[0m\n\u001b[0m\u001b[1;32m      2\u001b[0m \u001b[0mdf\u001b[0m\u001b[0;34m\u001b[0m\u001b[0;34m\u001b[0m\u001b[0m\n",
            "\u001b[0;32m/usr/local/lib/python3.7/dist-packages/pandas/core/generic.py\u001b[0m in \u001b[0;36m__getattr__\u001b[0;34m(self, name)\u001b[0m\n\u001b[1;32m   5485\u001b[0m         ):\n\u001b[1;32m   5486\u001b[0m             \u001b[0;32mreturn\u001b[0m \u001b[0mself\u001b[0m\u001b[0;34m[\u001b[0m\u001b[0mname\u001b[0m\u001b[0;34m]\u001b[0m\u001b[0;34m\u001b[0m\u001b[0;34m\u001b[0m\u001b[0m\n\u001b[0;32m-> 5487\u001b[0;31m         \u001b[0;32mreturn\u001b[0m \u001b[0mobject\u001b[0m\u001b[0;34m.\u001b[0m\u001b[0m__getattribute__\u001b[0m\u001b[0;34m(\u001b[0m\u001b[0mself\u001b[0m\u001b[0;34m,\u001b[0m \u001b[0mname\u001b[0m\u001b[0;34m)\u001b[0m\u001b[0;34m\u001b[0m\u001b[0;34m\u001b[0m\u001b[0m\n\u001b[0m\u001b[1;32m   5488\u001b[0m \u001b[0;34m\u001b[0m\u001b[0m\n\u001b[1;32m   5489\u001b[0m     \u001b[0;32mdef\u001b[0m \u001b[0m__setattr__\u001b[0m\u001b[0;34m(\u001b[0m\u001b[0mself\u001b[0m\u001b[0;34m,\u001b[0m \u001b[0mname\u001b[0m\u001b[0;34m:\u001b[0m \u001b[0mstr\u001b[0m\u001b[0;34m,\u001b[0m \u001b[0mvalue\u001b[0m\u001b[0;34m)\u001b[0m \u001b[0;34m->\u001b[0m \u001b[0;32mNone\u001b[0m\u001b[0;34m:\u001b[0m\u001b[0;34m\u001b[0m\u001b[0;34m\u001b[0m\u001b[0m\n",
            "\u001b[0;32m/usr/local/lib/python3.7/dist-packages/pandas/core/accessor.py\u001b[0m in \u001b[0;36m__get__\u001b[0;34m(self, obj, cls)\u001b[0m\n\u001b[1;32m    179\u001b[0m             \u001b[0;31m# we're accessing the attribute of the class, i.e., Dataset.geo\u001b[0m\u001b[0;34m\u001b[0m\u001b[0;34m\u001b[0m\u001b[0;34m\u001b[0m\u001b[0m\n\u001b[1;32m    180\u001b[0m             \u001b[0;32mreturn\u001b[0m \u001b[0mself\u001b[0m\u001b[0;34m.\u001b[0m\u001b[0m_accessor\u001b[0m\u001b[0;34m\u001b[0m\u001b[0;34m\u001b[0m\u001b[0m\n\u001b[0;32m--> 181\u001b[0;31m         \u001b[0maccessor_obj\u001b[0m \u001b[0;34m=\u001b[0m \u001b[0mself\u001b[0m\u001b[0;34m.\u001b[0m\u001b[0m_accessor\u001b[0m\u001b[0;34m(\u001b[0m\u001b[0mobj\u001b[0m\u001b[0;34m)\u001b[0m\u001b[0;34m\u001b[0m\u001b[0;34m\u001b[0m\u001b[0m\n\u001b[0m\u001b[1;32m    182\u001b[0m         \u001b[0;31m# Replace the property with the accessor object. Inspired by:\u001b[0m\u001b[0;34m\u001b[0m\u001b[0;34m\u001b[0m\u001b[0;34m\u001b[0m\u001b[0m\n\u001b[1;32m    183\u001b[0m         \u001b[0;31m# https://www.pydanny.com/cached-property.html\u001b[0m\u001b[0;34m\u001b[0m\u001b[0;34m\u001b[0m\u001b[0;34m\u001b[0m\u001b[0m\n",
            "\u001b[0;32m/usr/local/lib/python3.7/dist-packages/pandas/core/indexes/accessors.py\u001b[0m in \u001b[0;36m__new__\u001b[0;34m(cls, data)\u001b[0m\n\u001b[1;32m    504\u001b[0m             \u001b[0;32mreturn\u001b[0m \u001b[0mPeriodProperties\u001b[0m\u001b[0;34m(\u001b[0m\u001b[0mdata\u001b[0m\u001b[0;34m,\u001b[0m \u001b[0morig\u001b[0m\u001b[0;34m)\u001b[0m\u001b[0;34m\u001b[0m\u001b[0;34m\u001b[0m\u001b[0m\n\u001b[1;32m    505\u001b[0m \u001b[0;34m\u001b[0m\u001b[0m\n\u001b[0;32m--> 506\u001b[0;31m         \u001b[0;32mraise\u001b[0m \u001b[0mAttributeError\u001b[0m\u001b[0;34m(\u001b[0m\u001b[0;34m\"Can only use .dt accessor with datetimelike values\"\u001b[0m\u001b[0;34m)\u001b[0m\u001b[0;34m\u001b[0m\u001b[0;34m\u001b[0m\u001b[0m\n\u001b[0m",
            "\u001b[0;31mAttributeError\u001b[0m: Can only use .dt accessor with datetimelike values"
          ]
        }
      ]
    },
    {
      "cell_type": "code",
      "source": [
        "df['Order Date']"
      ],
      "metadata": {
        "colab": {
          "base_uri": "https://localhost:8080/"
        },
        "id": "iZj5GZ7Dnqtg",
        "outputId": "5d0c8231-9a4c-476d-b060-b76a7e90d49a"
      },
      "execution_count": null,
      "outputs": [
        {
          "output_type": "execute_result",
          "data": {
            "text/plain": [
              "0       2016-11-08\n",
              "1       2016-11-08\n",
              "2       2016-06-12\n",
              "3       2015-10-11\n",
              "4       2015-10-11\n",
              "           ...    \n",
              "9989    2014-01-21\n",
              "9990    2017-02-26\n",
              "9991    2017-02-26\n",
              "9992    2017-02-26\n",
              "9993    2017-05-04\n",
              "Name: Order Date, Length: 9994, dtype: object"
            ]
          },
          "metadata": {},
          "execution_count": 12
        }
      ]
    },
    {
      "cell_type": "code",
      "source": [
        ""
      ],
      "metadata": {
        "id": "58uDVlmK-t3s"
      },
      "execution_count": null,
      "outputs": []
    },
    {
      "cell_type": "code",
      "source": [
        "#드디어 람다 어플라이..\n",
        "# 날짜별로 그 날짜의 여러 값 중에서 max-min의 차이를 알고자 함!!\n",
        "df.apply(lambda x : x.max('Order Date') - x.min('Order Date'), axis = 1)"
      ],
      "metadata": {
        "id": "zPlqSs5e-tw7"
      },
      "execution_count": null,
      "outputs": []
    },
    {
      "cell_type": "code",
      "source": [
        ""
      ],
      "metadata": {
        "id": "X5IiwoKV-t58"
      },
      "execution_count": null,
      "outputs": []
    }
  ]
}