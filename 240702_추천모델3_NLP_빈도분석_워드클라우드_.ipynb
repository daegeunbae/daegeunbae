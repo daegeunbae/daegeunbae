{
  "nbformat": 4,
  "nbformat_minor": 0,
  "metadata": {
    "colab": {
      "provenance": [],
      "include_colab_link": true
    },
    "kernelspec": {
      "name": "python3",
      "display_name": "Python 3"
    },
    "language_info": {
      "name": "python"
    }
  },
  "cells": [
    {
      "cell_type": "markdown",
      "metadata": {
        "id": "view-in-github",
        "colab_type": "text"
      },
      "source": [
        "<a href=\"https://colab.research.google.com/github/daegeunbae/daegeunbae/blob/main/240702_%EC%B6%94%EC%B2%9C%EB%AA%A8%EB%8D%B83_NLP_%EB%B9%88%EB%8F%84%EB%B6%84%EC%84%9D_%EC%9B%8C%EB%93%9C%ED%81%B4%EB%9D%BC%EC%9A%B0%EB%93%9C_.ipynb\" target=\"_parent\"><img src=\"https://colab.research.google.com/assets/colab-badge.svg\" alt=\"Open In Colab\"/></a>"
      ]
    },
    {
      "cell_type": "code",
      "source": [
        "#matplotlib 한글설정\n",
        "!sudo apt-get install -y fonts-nanum\n",
        "!sudo fc-cache -fv\n",
        "!rm ~/.cache/matplotlib -rf\n",
        "import matplotlib.pyplot as plt # 맷플롯립 import 하기\n",
        "plt.rcParams['font.family'] = 'NanumBarunGothic' # 나눔바른고딕 적용하기"
      ],
      "metadata": {
        "colab": {
          "base_uri": "https://localhost:8080/"
        },
        "id": "gnalPlpKBlBg",
        "outputId": "eb00268e-7de1-47f7-9acc-ab0802866e24"
      },
      "execution_count": null,
      "outputs": [
        {
          "output_type": "stream",
          "name": "stdout",
          "text": [
            "Reading package lists... Done\n",
            "Building dependency tree... Done\n",
            "Reading state information... Done\n",
            "fonts-nanum is already the newest version (20200506-1).\n",
            "0 upgraded, 0 newly installed, 0 to remove and 45 not upgraded.\n",
            "/usr/share/fonts: caching, new cache contents: 0 fonts, 1 dirs\n",
            "/usr/share/fonts/truetype: caching, new cache contents: 0 fonts, 3 dirs\n",
            "/usr/share/fonts/truetype/humor-sans: caching, new cache contents: 1 fonts, 0 dirs\n",
            "/usr/share/fonts/truetype/liberation: caching, new cache contents: 16 fonts, 0 dirs\n",
            "/usr/share/fonts/truetype/nanum: caching, new cache contents: 12 fonts, 0 dirs\n",
            "/usr/local/share/fonts: caching, new cache contents: 0 fonts, 0 dirs\n",
            "/root/.local/share/fonts: skipping, no such directory\n",
            "/root/.fonts: skipping, no such directory\n",
            "/usr/share/fonts/truetype: skipping, looped directory detected\n",
            "/usr/share/fonts/truetype/humor-sans: skipping, looped directory detected\n",
            "/usr/share/fonts/truetype/liberation: skipping, looped directory detected\n",
            "/usr/share/fonts/truetype/nanum: skipping, looped directory detected\n",
            "/var/cache/fontconfig: cleaning cache directory\n",
            "/root/.cache/fontconfig: not cleaning non-existent cache directory\n",
            "/root/.fontconfig: not cleaning non-existent cache directory\n",
            "fc-cache: succeeded\n"
          ]
        }
      ]
    },
    {
      "cell_type": "markdown",
      "source": [
        "# 사전형 ( {키:값, }): 파이썬 자료형 중 하나"
      ],
      "metadata": {
        "id": "b28grhFY_ivw"
      }
    },
    {
      "cell_type": "code",
      "execution_count": null,
      "metadata": {
        "colab": {
          "base_uri": "https://localhost:8080/"
        },
        "id": "oO674XOD_UMS",
        "outputId": "13afccd9-1d64-489e-c5fa-93d3a31e3b07"
      },
      "outputs": [
        {
          "output_type": "execute_result",
          "data": {
            "text/plain": [
              "{'A': [89, 91, 56, 72],\n",
              " 'B': [99, 98, 80, 56],\n",
              " 'C': [60, 56, 98, 95],\n",
              " 'D': [30, 40, 50, 60]}"
            ]
          },
          "metadata": {},
          "execution_count": 2
        }
      ],
      "source": [
        "# 사전형: {키:값, }\n",
        "a=[89,91,56,72]\n",
        "b=[99, 98, 80, 56]\n",
        "c=[60, 56, 98, 95]\n",
        "score_dict={\"A\": [89,91,56,72], \"B\": [99, 98, 80, 56], \"C\": [60, 56, 98, 95]}\n",
        "score_dict[\"D\"]=[30,40,50,60]\n",
        "score_dict"
      ]
    },
    {
      "cell_type": "code",
      "source": [
        "score_dict[\"name\"]={\"A\":\"은연\", \"B\":\"윤아\"}\n",
        "score_dict"
      ],
      "metadata": {
        "colab": {
          "base_uri": "https://localhost:8080/"
        },
        "id": "hkMYHwpS_8wX",
        "outputId": "13862f48-72c0-4b37-e401-8957c14f1ab0"
      },
      "execution_count": null,
      "outputs": [
        {
          "output_type": "execute_result",
          "data": {
            "text/plain": [
              "{'A': [89, 91, 56, 72],\n",
              " 'B': [99, 98, 80, 56],\n",
              " 'C': [60, 56, 98, 95],\n",
              " 'D': [30, 40, 50, 60],\n",
              " 'name': {'A': '은연', 'B': '윤아'}}"
            ]
          },
          "metadata": {},
          "execution_count": 3
        }
      ]
    },
    {
      "cell_type": "code",
      "source": [
        "score_dict[\"class\"]=1\n",
        "score_dict"
      ],
      "metadata": {
        "colab": {
          "base_uri": "https://localhost:8080/"
        },
        "id": "saFpPK8HAR-w",
        "outputId": "16049e82-0207-487f-e5ac-ae83d6a9f852"
      },
      "execution_count": null,
      "outputs": [
        {
          "output_type": "execute_result",
          "data": {
            "text/plain": [
              "{'A': [89, 91, 56, 72],\n",
              " 'B': [99, 98, 80, 56],\n",
              " 'C': [60, 56, 98, 95],\n",
              " 'D': [30, 40, 50, 60],\n",
              " 'name': {'A': '은연', 'B': '윤아'},\n",
              " 'class': 1}"
            ]
          },
          "metadata": {},
          "execution_count": 4
        }
      ]
    },
    {
      "cell_type": "code",
      "source": [
        "score_dict['name']"
      ],
      "metadata": {
        "colab": {
          "base_uri": "https://localhost:8080/"
        },
        "id": "mf_PL1s4Aom1",
        "outputId": "c7d3cc1d-c0e7-4d54-ef5f-69eb0f003297"
      },
      "execution_count": null,
      "outputs": [
        {
          "output_type": "execute_result",
          "data": {
            "text/plain": [
              "{'A': '은연', 'B': '윤아'}"
            ]
          },
          "metadata": {},
          "execution_count": 5
        }
      ]
    },
    {
      "cell_type": "markdown",
      "source": [
        "# 자연어 전처리"
      ],
      "metadata": {
        "id": "XrMcN76yAyT-"
      }
    },
    {
      "cell_type": "markdown",
      "source": [
        "## 토큰화\n"
      ],
      "metadata": {
        "id": "9JY7-d0pB07H"
      }
    },
    {
      "cell_type": "code",
      "source": [
        "para = \"Hello everyone. It's good to see you. Let's start our text mining class!\"\n",
        "\n",
        "\n",
        "paragraph_french = \"\"\"Je t'ai demandé si tu m'aimais bien, Tu m'a répondu non.\n",
        "Je t'ai demandé si j'étais jolie, Tu m'a répondu non.\n",
        "Je t'ai demandé si j'étai dans ton coeur, Tu m'a répondu non.\"\"\"\n",
        "\n",
        "\n",
        "para_kor = \"안녕하세요, 여러분. 만나서 반갑습니다. 이제 텍스트마이닝 클래스를 시작해봅시다!\"\n"
      ],
      "metadata": {
        "id": "JCNNlUR6AuAX"
      },
      "execution_count": null,
      "outputs": []
    },
    {
      "cell_type": "code",
      "source": [
        "#  영어 토큰화 모듈 불러오기\n",
        "import nltk\n",
        "nltk.download('punkt')"
      ],
      "metadata": {
        "colab": {
          "base_uri": "https://localhost:8080/"
        },
        "id": "75nh1E34Bu24",
        "outputId": "eefce082-98b0-4b72-ee80-60dd1aec92a1"
      },
      "execution_count": null,
      "outputs": [
        {
          "output_type": "stream",
          "name": "stderr",
          "text": [
            "[nltk_data] Downloading package punkt to /root/nltk_data...\n",
            "[nltk_data]   Package punkt is already up-to-date!\n"
          ]
        },
        {
          "output_type": "execute_result",
          "data": {
            "text/plain": [
              "True"
            ]
          },
          "metadata": {},
          "execution_count": 7
        }
      ]
    },
    {
      "cell_type": "code",
      "source": [
        "nltk.tokenize.word_tokenize(para)"
      ],
      "metadata": {
        "colab": {
          "base_uri": "https://localhost:8080/"
        },
        "id": "UaER0wPgCod3",
        "outputId": "c07425c0-efdc-42a7-9fee-aa09d47a2e32"
      },
      "execution_count": null,
      "outputs": [
        {
          "output_type": "execute_result",
          "data": {
            "text/plain": [
              "['Hello',\n",
              " 'everyone',\n",
              " '.',\n",
              " 'It',\n",
              " \"'s\",\n",
              " 'good',\n",
              " 'to',\n",
              " 'see',\n",
              " 'you',\n",
              " '.',\n",
              " 'Let',\n",
              " \"'s\",\n",
              " 'start',\n",
              " 'our',\n",
              " 'text',\n",
              " 'mining',\n",
              " 'class',\n",
              " '!']"
            ]
          },
          "metadata": {},
          "execution_count": 8
        }
      ]
    },
    {
      "cell_type": "code",
      "source": [
        "from nltk.tokenize import word_tokenize\n",
        "print(word_tokenize(para))\n",
        "print(word_tokenize(para_kor))\n",
        "print(word_tokenize(paragraph_french))"
      ],
      "metadata": {
        "colab": {
          "base_uri": "https://localhost:8080/"
        },
        "id": "m5byEwLmDmzH",
        "outputId": "d95ed5c6-a114-4b4c-c64b-f650f13e2d89"
      },
      "execution_count": null,
      "outputs": [
        {
          "output_type": "stream",
          "name": "stdout",
          "text": [
            "['Hello', 'everyone', '.', 'It', \"'s\", 'good', 'to', 'see', 'you', '.', 'Let', \"'s\", 'start', 'our', 'text', 'mining', 'class', '!']\n",
            "['안녕하세요', ',', '여러분', '.', '만나서', '반갑습니다', '.', '이제', '텍스트마이닝', '클래스를', '시작해봅시다', '!']\n",
            "['Je', \"t'ai\", 'demandé', 'si', 'tu', \"m'aimais\", 'bien', ',', 'Tu', 'm', \"'\", 'a', 'répondu', 'non', '.', 'Je', \"t'ai\", 'demandé', 'si', \"j'étais\", 'jolie', ',', 'Tu', 'm', \"'\", 'a', 'répondu', 'non', '.', 'Je', \"t'ai\", 'demandé', 'si', \"j'étai\", 'dans', 'ton', 'coeur', ',', 'Tu', 'm', \"'\", 'a', 'répondu', 'non', '.']\n"
          ]
        }
      ]
    },
    {
      "cell_type": "code",
      "source": [
        "!pip install konlpy\n"
      ],
      "metadata": {
        "colab": {
          "base_uri": "https://localhost:8080/"
        },
        "id": "WCiPnZ5CEC1-",
        "outputId": "fa61b156-4073-46cf-e3b5-1fd1ba686e97"
      },
      "execution_count": null,
      "outputs": [
        {
          "output_type": "stream",
          "name": "stdout",
          "text": [
            "Requirement already satisfied: konlpy in /usr/local/lib/python3.10/dist-packages (0.6.0)\n",
            "Requirement already satisfied: JPype1>=0.7.0 in /usr/local/lib/python3.10/dist-packages (from konlpy) (1.5.0)\n",
            "Requirement already satisfied: lxml>=4.1.0 in /usr/local/lib/python3.10/dist-packages (from konlpy) (4.9.4)\n",
            "Requirement already satisfied: numpy>=1.6 in /usr/local/lib/python3.10/dist-packages (from konlpy) (1.25.2)\n",
            "Requirement already satisfied: packaging in /usr/local/lib/python3.10/dist-packages (from JPype1>=0.7.0->konlpy) (24.1)\n"
          ]
        }
      ]
    },
    {
      "cell_type": "code",
      "source": [
        "from konlpy.tag import Okt #한글 토큰화 객체\n",
        "okt=Okt()\n",
        "print(okt.morphs(para_kor))\n",
        "print(okt.pos(para_kor))\n",
        "print(okt.nouns(para_kor))\n",
        "\n"
      ],
      "metadata": {
        "colab": {
          "base_uri": "https://localhost:8080/"
        },
        "id": "d1YvnlWpFHVw",
        "outputId": "7664eadc-778d-48ad-9e8d-7e10dd790588"
      },
      "execution_count": null,
      "outputs": [
        {
          "output_type": "stream",
          "name": "stdout",
          "text": [
            "['안녕하세요', ',', '여러분', '.', '만나서', '반갑습니다', '.', '이제', '텍스트', '마', '이닝', '클래스', '를', '시작', '해봅시다', '!']\n",
            "[('안녕하세요', 'Adjective'), (',', 'Punctuation'), ('여러분', 'Noun'), ('.', 'Punctuation'), ('만나서', 'Verb'), ('반갑습니다', 'Adjective'), ('.', 'Punctuation'), ('이제', 'Noun'), ('텍스트', 'Noun'), ('마', 'Noun'), ('이닝', 'Noun'), ('클래스', 'Noun'), ('를', 'Josa'), ('시작', 'Noun'), ('해봅시다', 'Verb'), ('!', 'Punctuation')]\n",
            "['여러분', '이제', '텍스트', '마', '이닝', '클래스', '시작']\n"
          ]
        }
      ]
    },
    {
      "cell_type": "code",
      "source": [
        "pos_list=okt.pos(para_kor)"
      ],
      "metadata": {
        "id": "7VnGqizyGl1w"
      },
      "execution_count": null,
      "outputs": []
    },
    {
      "cell_type": "code",
      "source": [
        "print(pos_list[2][0])\n",
        "print(pos_list[2][1])"
      ],
      "metadata": {
        "colab": {
          "base_uri": "https://localhost:8080/"
        },
        "id": "0acs-F6uG3au",
        "outputId": "836ed19f-2ea4-452d-d5dc-84305a5547f9"
      },
      "execution_count": null,
      "outputs": [
        {
          "output_type": "stream",
          "name": "stdout",
          "text": [
            "여러분\n",
            "Noun\n"
          ]
        }
      ]
    },
    {
      "cell_type": "code",
      "source": [
        "tags=['Adjective', 'Noun']\n",
        "tokens=[]\n",
        "for word,tag in pos_list:\n",
        "  if tag in tags:\n",
        "    tokens.append(word)\n",
        "print(tokens)\n",
        "#[   word   for word,tag in pos_list  if tag in tags ]:리스트 내포"
      ],
      "metadata": {
        "colab": {
          "base_uri": "https://localhost:8080/"
        },
        "id": "Xtij-j4qHPBI",
        "outputId": "36b029b5-ad11-48b6-f941-536475b07f39"
      },
      "execution_count": null,
      "outputs": [
        {
          "output_type": "stream",
          "name": "stdout",
          "text": [
            "['안녕하세요', '여러분', '반갑습니다', '이제', '텍스트', '마', '이닝', '클래스', '시작']\n"
          ]
        }
      ]
    },
    {
      "cell_type": "markdown",
      "source": [
        "#단어 빈도 분석"
      ],
      "metadata": {
        "id": "Ay87ZX33LuSt"
      }
    },
    {
      "cell_type": "code",
      "source": [
        "from konlpy.corpus import kolaw\n",
        "from konlpy.utils import pprint\n",
        "fobj = kolaw.open(kolaw.fileids()[0])\n",
        "texts = fobj.read()\n",
        "texts[:200]"
      ],
      "metadata": {
        "colab": {
          "base_uri": "https://localhost:8080/",
          "height": 52
        },
        "id": "wEpXIJRezFjt",
        "outputId": "524a8c66-e734-4289-8f00-d2c89bab3d75"
      },
      "execution_count": null,
      "outputs": [
        {
          "output_type": "execute_result",
          "data": {
            "text/plain": [
              "'대한민국헌법\\n\\n유구한 역사와 전통에 빛나는 우리 대한국민은 3·1운동으로 건립된 대한민국임시정부의 법통과 불의에 항거한 4·19민주이념을 계승하고, 조국의 민주개혁과 평화적 통일의 사명에 입각하여 정의·인도와 동포애로써 민족의 단결을 공고히 하고, 모든 사회적 폐습과 불의를 타파하며, 자율과 조화를 바탕으로 자유민주적 기본질서를 더욱 확고히 하여 정치·경제'"
            ],
            "application/vnd.google.colaboratory.intrinsic+json": {
              "type": "string"
            }
          },
          "metadata": {},
          "execution_count": 15
        }
      ]
    },
    {
      "cell_type": "code",
      "source": [
        "print(texts[-200:])"
      ],
      "metadata": {
        "colab": {
          "base_uri": "https://localhost:8080/"
        },
        "id": "MzUDpxEl0FXj",
        "outputId": "15a203da-dc1f-433d-b1cc-bbbdcbaf2df9"
      },
      "execution_count": null,
      "outputs": [
        {
          "output_type": "stream",
          "name": "stdout",
          "text": [
            "규정은 이 헌법에 의하여 그 공무원이 최초로 선출 또는 임명된 때로부터 적용한다.\n",
            "제5조 이 헌법시행 당시의 법령과 조약은 이 헌법에 위배되지 아니하는 한 그 효력을 지속한다.\n",
            "제6조 이 헌법시행 당시에 이 헌법에 의하여 새로 설치될 기관의 권한에 속하는 직무를 행하고 있는 기관은 이 헌법에 의하여 새로운 기관이 설치될 때까지 존속하며 그 직무를 행한다.\n",
            "\n"
          ]
        }
      ]
    },
    {
      "cell_type": "code",
      "source": [
        "len(texts)"
      ],
      "metadata": {
        "colab": {
          "base_uri": "https://localhost:8080/"
        },
        "id": "oLUi0Kza0LTJ",
        "outputId": "171f65dc-8e11-4855-8e31-0f92ce48560d"
      },
      "execution_count": null,
      "outputs": [
        {
          "output_type": "execute_result",
          "data": {
            "text/plain": [
              "18884"
            ]
          },
          "metadata": {},
          "execution_count": 17
        }
      ]
    },
    {
      "cell_type": "code",
      "source": [
        "print()"
      ],
      "metadata": {
        "colab": {
          "base_uri": "https://localhost:8080/"
        },
        "id": "uIneGdob0auo",
        "outputId": "6ad51902-70da-4fc8-adce-952b9e116ee9"
      },
      "execution_count": null,
      "outputs": [
        {
          "output_type": "stream",
          "name": "stdout",
          "text": [
            "\n"
          ]
        }
      ]
    },
    {
      "cell_type": "code",
      "source": [
        "# kolaw 말뭉치의 파일 ID 목록 출력\n",
        "#print(kolaw.fileids())\n",
        "\n",
        "# 파일 내용을 읽고 출력\n",
        "doc = kolaw.open('constitution.txt').read()\n",
        "pprint(doc[:100])  # 처음 100자만 출력\n",
        "\n",
        "\n",
        "#kolaw.fileids()\n",
        "#print(kolaw)"
      ],
      "metadata": {
        "colab": {
          "base_uri": "https://localhost:8080/"
        },
        "id": "Vd2zfG-RNJtO",
        "outputId": "c82f76d6-a626-4e61-c6dd-63d2c38183aa"
      },
      "execution_count": null,
      "outputs": [
        {
          "output_type": "stream",
          "name": "stdout",
          "text": [
            "('대한민국헌법\\n'\n",
            " '\\n'\n",
            " '유구한 역사와 전통에 빛나는 우리 대한국민은 3·1운동으로 건립된 대한민국임시정부의 법통과 불의에 항거한 4·19민주이념을 계승하고, '\n",
            " '조국의 민주개혁과 평화적 통일의')\n"
          ]
        }
      ]
    },
    {
      "cell_type": "code",
      "source": [
        "from konlpy.corpus import kolaw\n",
        "\n",
        "fobj = kolaw.open(kolaw.fileids()[0])\n",
        "texts= fobj.read()\n",
        "print(texts[:200])\n",
        "print(texts[-200:])\n",
        "len(texts)"
      ],
      "metadata": {
        "colab": {
          "base_uri": "https://localhost:8080/"
        },
        "id": "ynwpIXc1Ltsu",
        "outputId": "e0898428-2220-4262-819c-d7ea19ce9dd8"
      },
      "execution_count": null,
      "outputs": [
        {
          "output_type": "stream",
          "name": "stdout",
          "text": [
            "대한민국헌법\n",
            "\n",
            "유구한 역사와 전통에 빛나는 우리 대한국민은 3·1운동으로 건립된 대한민국임시정부의 법통과 불의에 항거한 4·19민주이념을 계승하고, 조국의 민주개혁과 평화적 통일의 사명에 입각하여 정의·인도와 동포애로써 민족의 단결을 공고히 하고, 모든 사회적 폐습과 불의를 타파하며, 자율과 조화를 바탕으로 자유민주적 기본질서를 더욱 확고히 하여 정치·경제\n",
            "규정은 이 헌법에 의하여 그 공무원이 최초로 선출 또는 임명된 때로부터 적용한다.\n",
            "제5조 이 헌법시행 당시의 법령과 조약은 이 헌법에 위배되지 아니하는 한 그 효력을 지속한다.\n",
            "제6조 이 헌법시행 당시에 이 헌법에 의하여 새로 설치될 기관의 권한에 속하는 직무를 행하고 있는 기관은 이 헌법에 의하여 새로운 기관이 설치될 때까지 존속하며 그 직무를 행한다.\n",
            "\n"
          ]
        },
        {
          "output_type": "execute_result",
          "data": {
            "text/plain": [
              "18884"
            ]
          },
          "metadata": {},
          "execution_count": 20
        }
      ]
    },
    {
      "cell_type": "code",
      "source": [
        "f=open(\"kolow.txt\", \"w\")\n",
        "f.write(texts)\n",
        "f.close()"
      ],
      "metadata": {
        "id": "FiEW_4yxYozM"
      },
      "execution_count": null,
      "outputs": []
    },
    {
      "cell_type": "code",
      "source": [
        "# 1. texts 토큰화(품사 태깅)\n",
        "okt=Okt()\n",
        "pos_list=okt.pos(texts)\n",
        "print(len(pos_list))\n",
        "pos_list[ :10]"
      ],
      "metadata": {
        "colab": {
          "base_uri": "https://localhost:8080/"
        },
        "id": "yAWfSyl2NOzX",
        "outputId": "ea6f8e24-c977-42aa-ceea-b7d0255c4ab0"
      },
      "execution_count": null,
      "outputs": [
        {
          "output_type": "stream",
          "name": "stdout",
          "text": [
            "8796\n"
          ]
        },
        {
          "output_type": "execute_result",
          "data": {
            "text/plain": [
              "[('대한민국', 'Noun'),\n",
              " ('헌법', 'Noun'),\n",
              " ('\\n\\n', 'Foreign'),\n",
              " ('유구', 'Noun'),\n",
              " ('한', 'Josa'),\n",
              " ('역사', 'Noun'),\n",
              " ('와', 'Josa'),\n",
              " ('전통', 'Noun'),\n",
              " ('에', 'Josa'),\n",
              " ('빛나는', 'Verb')]"
            ]
          },
          "metadata": {},
          "execution_count": 22
        }
      ]
    },
    {
      "cell_type": "code",
      "source": [
        "# 2. 명사와 형용사만 뽑아서 리스트로 저장(리스트 내포)\n",
        "tags=['Adjective', 'Noun']\n",
        "tokens=[  word  for word,tag in pos_list  if tag in tags ]\n",
        "print(len(tokens))\n",
        "tokens[:10]"
      ],
      "metadata": {
        "colab": {
          "base_uri": "https://localhost:8080/"
        },
        "id": "Bjv8W_9rNdQP",
        "outputId": "3fe0c0dc-42cb-4208-e71d-21b05d789808"
      },
      "execution_count": null,
      "outputs": [
        {
          "output_type": "stream",
          "name": "stdout",
          "text": [
            "4267\n"
          ]
        },
        {
          "output_type": "execute_result",
          "data": {
            "text/plain": [
              "['대한민국', '헌법', '유구', '역사', '전통', '우리', '국민', '운동', '건립', '대한민국']"
            ]
          },
          "metadata": {},
          "execution_count": 23
        }
      ]
    },
    {
      "cell_type": "code",
      "source": [
        "# tokens안에 있는 단어들의 등장 횟수 계산=> 사전형\n",
        "#{'대한민국':100, '헌법':105, \"유구\": 15,.....}\n",
        "from collections import Counter\n",
        "word_count=Counter(tokens)\n",
        "word_count"
      ],
      "metadata": {
        "colab": {
          "base_uri": "https://localhost:8080/"
        },
        "id": "kuDiz0U8PqwB",
        "outputId": "758d117f-21e6-4065-f812-7180b4f38eb0"
      },
      "execution_count": null,
      "outputs": [
        {
          "output_type": "execute_result",
          "data": {
            "text/plain": [
              "Counter({'대한민국': 11,\n",
              "         '헌법': 53,\n",
              "         '유구': 1,\n",
              "         '역사': 1,\n",
              "         '전통': 1,\n",
              "         '우리': 3,\n",
              "         '국민': 61,\n",
              "         '운동': 2,\n",
              "         '건립': 1,\n",
              "         '임시정부': 1,\n",
              "         '법': 3,\n",
              "         '통과': 1,\n",
              "         '불의': 2,\n",
              "         '항거': 1,\n",
              "         '민주': 6,\n",
              "         '이념': 1,\n",
              "         '계승': 2,\n",
              "         '조국': 3,\n",
              "         '개혁': 1,\n",
              "         '평화': 6,\n",
              "         '통일': 6,\n",
              "         '사명': 2,\n",
              "         '입': 1,\n",
              "         '각하': 1,\n",
              "         '정의': 1,\n",
              "         '인도': 1,\n",
              "         '동포': 1,\n",
              "         '애': 1,\n",
              "         '로써': 5,\n",
              "         '민족': 3,\n",
              "         '단결': 1,\n",
              "         '공고': 3,\n",
              "         '모든': 37,\n",
              "         '사회': 8,\n",
              "         '폐습': 1,\n",
              "         '타파': 1,\n",
              "         '자율': 2,\n",
              "         '조화': 2,\n",
              "         '바탕': 1,\n",
              "         '자유민주': 2,\n",
              "         '질서': 8,\n",
              "         '더욱': 1,\n",
              "         '확고히': 1,\n",
              "         '정치': 9,\n",
              "         '경제': 18,\n",
              "         '문화': 4,\n",
              "         '영역': 4,\n",
              "         '있어서': 9,\n",
              "         '각인': 1,\n",
              "         '기회': 3,\n",
              "         '균등히': 1,\n",
              "         '능력': 3,\n",
              "         '최고': 2,\n",
              "         '도로': 1,\n",
              "         '발휘': 1,\n",
              "         '자유': 20,\n",
              "         '권리': 21,\n",
              "         '책임': 5,\n",
              "         '의무': 18,\n",
              "         '완수': 1,\n",
              "         '안': 21,\n",
              "         '생활': 8,\n",
              "         '균등한': 2,\n",
              "         '향상': 5,\n",
              "         '기하': 1,\n",
              "         '밖': 1,\n",
              "         '항구': 1,\n",
              "         '세계': 1,\n",
              "         '인류': 1,\n",
              "         '공영': 1,\n",
              "         '이바지': 1,\n",
              "         '함': 5,\n",
              "         '자손': 1,\n",
              "         '안전': 1,\n",
              "         '행복': 2,\n",
              "         '영원히': 1,\n",
              "         '확보': 1,\n",
              "         '것': 7,\n",
              "         '다짐': 1,\n",
              "         '제정': 8,\n",
              "         '차': 4,\n",
              "         '개정': 6,\n",
              "         '이제': 1,\n",
              "         '국회': 68,\n",
              "         '의결': 17,\n",
              "         '국민투표': 7,\n",
              "         '의하여': 66,\n",
              "         '제': 175,\n",
              "         '장': 15,\n",
              "         '강': 1,\n",
              "         '민주공화국': 1,\n",
              "         '주권': 2,\n",
              "         '있고': 4,\n",
              "         '권력': 1,\n",
              "         '요건': 1,\n",
              "         '법률': 127,\n",
              "         '정': 89,\n",
              "         '국가': 73,\n",
              "         '바': 37,\n",
              "         '재외국민': 1,\n",
              "         '보호': 14,\n",
              "         '영토': 2,\n",
              "         '한반도': 1,\n",
              "         '그': 47,\n",
              "         '부속': 1,\n",
              "         '도서': 1,\n",
              "         '지향': 1,\n",
              "         '입각': 1,\n",
              "         '정책': 14,\n",
              "         '수립': 7,\n",
              "         '추진': 1,\n",
              "         '국제': 4,\n",
              "         '유지': 7,\n",
              "         '노력': 13,\n",
              "         '침략': 1,\n",
              "         '전쟁': 1,\n",
              "         '부인': 1,\n",
              "         '국군': 4,\n",
              "         '안전보장': 10,\n",
              "         '국토': 3,\n",
              "         '방위': 1,\n",
              "         '신성한': 1,\n",
              "         '수행': 4,\n",
              "         '중립성': 3,\n",
              "         '준수': 2,\n",
              "         '체결': 4,\n",
              "         '공포': 10,\n",
              "         '조약': 11,\n",
              "         '일반': 2,\n",
              "         '승인': 6,\n",
              "         '법규': 1,\n",
              "         '국내법': 1,\n",
              "         '같은': 2,\n",
              "         '효력': 9,\n",
              "         '외국인': 1,\n",
              "         '지위': 3,\n",
              "         '보장': 13,\n",
              "         '공무원': 17,\n",
              "         '전체': 1,\n",
              "         '대한': 10,\n",
              "         '봉사자': 1,\n",
              "         '대하': 9,\n",
              "         '신분': 3,\n",
              "         '정당': 14,\n",
              "         '설립': 1,\n",
              "         '복수정당제': 1,\n",
              "         '목적': 4,\n",
              "         '조직': 18,\n",
              "         '활동': 3,\n",
              "         '의사': 2,\n",
              "         '형성': 1,\n",
              "         '참여': 1,\n",
              "         '필요한': 21,\n",
              "         '운영': 5,\n",
              "         '자금': 1,\n",
              "         '보조': 1,\n",
              "         '수': 88,\n",
              "         '있다': 57,\n",
              "         '위배': 2,\n",
              "         '때': 55,\n",
              "         '정부': 20,\n",
              "         '헌법재판소': 14,\n",
              "         '해산': 5,\n",
              "         '제소': 3,\n",
              "         '심판': 10,\n",
              "         '전통문화': 1,\n",
              "         '발전': 5,\n",
              "         '창달': 2,\n",
              "         '인간': 3,\n",
              "         '존엄': 2,\n",
              "         '가치': 1,\n",
              "         '가지': 2,\n",
              "         '추구': 1,\n",
              "         '개인': 3,\n",
              "         '불가침': 1,\n",
              "         '기본': 5,\n",
              "         '인권': 1,\n",
              "         '확인': 1,\n",
              "         '앞': 2,\n",
              "         '평등하다': 1,\n",
              "         '누구': 6,\n",
              "         '성별': 1,\n",
              "         '종교': 3,\n",
              "         '차별': 2,\n",
              "         '아니': 30,\n",
              "         '특수': 1,\n",
              "         '계급': 1,\n",
              "         '제도': 4,\n",
              "         '인정': 8,\n",
              "         '아니하며': 6,\n",
              "         '어떠한': 2,\n",
              "         '형태': 1,\n",
              "         '도': 2,\n",
              "         '창설': 1,\n",
              "         '없다': 21,\n",
              "         '훈장': 2,\n",
              "         '등': 6,\n",
              "         '영전': 3,\n",
              "         '자': 4,\n",
              "         '특권': 1,\n",
              "         '이': 38,\n",
              "         '신체': 3,\n",
              "         '의하지': 6,\n",
              "         '아니하고는': 7,\n",
              "         '체포': 9,\n",
              "         '구속': 8,\n",
              "         '압수': 3,\n",
              "         '수색': 3,\n",
              "         '심문': 1,\n",
              "         '적법한': 2,\n",
              "         '절차': 9,\n",
              "         '처벌': 3,\n",
              "         '보안처분': 1,\n",
              "         '강제': 1,\n",
              "         '노역': 1,\n",
              "         '고문': 2,\n",
              "         '형사': 9,\n",
              "         '자기': 2,\n",
              "         '불리한': 3,\n",
              "         '진술': 5,\n",
              "         '강요': 1,\n",
              "         '당하지': 3,\n",
              "         '검사': 4,\n",
              "         '신청': 2,\n",
              "         '법관': 15,\n",
              "         '발부': 2,\n",
              "         '영장': 4,\n",
              "         '제시': 2,\n",
              "         '다만': 11,\n",
              "         '현행범인': 3,\n",
              "         '경우': 17,\n",
              "         '장기': 2,\n",
              "         '이상': 17,\n",
              "         '형': 4,\n",
              "         '해당': 1,\n",
              "         '죄': 4,\n",
              "         '범': 1,\n",
              "         '도피': 1,\n",
              "         '증거': 3,\n",
              "         '멸': 1,\n",
              "         '염려': 2,\n",
              "         '있을': 9,\n",
              "         '사후': 1,\n",
              "         '청구': 6,\n",
              "         '당한': 3,\n",
              "         '즉시': 2,\n",
              "         '변호인': 4,\n",
              "         '조력': 2,\n",
              "         '피고인': 6,\n",
              "         '스스로': 1,\n",
              "         '구': 1,\n",
              "         '없을': 5,\n",
              "         '이유': 7,\n",
              "         '있': 1,\n",
              "         '음': 1,\n",
              "         '고지': 1,\n",
              "         '자의': 2,\n",
              "         '가족': 2,\n",
              "         '일시': 1,\n",
              "         '장소': 1,\n",
              "         '지체': 6,\n",
              "         '통지': 1,\n",
              "         '적': 1,\n",
              "         '부의': 3,\n",
              "         '심사': 5,\n",
              "         '법원': 12,\n",
              "         '자백': 2,\n",
              "         '폭행': 1,\n",
              "         '협박': 1,\n",
              "         '부당한': 2,\n",
              "         '망': 1,\n",
              "         '기타': 26,\n",
              "         '방법': 4,\n",
              "         '아니라고': 1,\n",
              "         '정식': 1,\n",
              "         '재판': 11,\n",
              "         '유일한': 1,\n",
              "         '일': 2,\n",
              "         '유죄': 2,\n",
              "         '행위': 7,\n",
              "         '시': 1,\n",
              "         '범죄': 4,\n",
              "         '구성': 8,\n",
              "         '아니하는': 6,\n",
              "         '추': 6,\n",
              "         '동일한': 1,\n",
              "         '거듭': 1,\n",
              "         '소급입법': 1,\n",
              "         '참정권': 1,\n",
              "         '제한': 7,\n",
              "         '재산권': 4,\n",
              "         '박탈': 1,\n",
              "         '아닌': 7,\n",
              "         '친족': 1,\n",
              "         '인하여': 5,\n",
              "         '불이익': 2,\n",
              "         '처우': 2,\n",
              "         '거주': 1,\n",
              "         '이전': 1,\n",
              "         '직업': 1,\n",
              "         '선택': 1,\n",
              "         '주거': 3,\n",
              "         '침해': 6,\n",
              "         '사생활': 1,\n",
              "         '비밀': 2,\n",
              "         '통신': 2,\n",
              "         '양심': 3,\n",
              "         '국교': 1,\n",
              "         '분리': 1,\n",
              "         '언론': 5,\n",
              "         '출판': 5,\n",
              "         '집회': 12,\n",
              "         '결사': 3,\n",
              "         '허가': 2,\n",
              "         '검열': 1,\n",
              "         '방송': 1,\n",
              "         '시설': 2,\n",
              "         '기준': 2,\n",
              "         '신문': 1,\n",
              "         '기능': 1,\n",
              "         '위': 36,\n",
              "         '사항': 23,\n",
              "         '타인': 4,\n",
              "         '명예': 2,\n",
              "         '공중도덕': 1,\n",
              "         '윤리': 1,\n",
              "         '피해자': 2,\n",
              "         '피해': 2,\n",
              "         '배상': 3,\n",
              "         '학문': 1,\n",
              "         '예술': 1,\n",
              "         '저작자': 1,\n",
              "         '발명가': 1,\n",
              "         '과학기술': 2,\n",
              "         '예술가': 1,\n",
              "         '내용': 5,\n",
              "         '한계': 1,\n",
              "         '행사': 3,\n",
              "         '복리': 4,\n",
              "         '적합하도록': 1,\n",
              "         '공공필요': 1,\n",
              "         '의한': 10,\n",
              "         '수용': 1,\n",
              "         '사용': 1,\n",
              "         '및': 25,\n",
              "         '보상': 4,\n",
              "         '정당한': 3,\n",
              "         '지급': 1,\n",
              "         '선거권': 3,\n",
              "         '공무': 1,\n",
              "         '담임': 1,\n",
              "         '기관': 7,\n",
              "         '문서': 3,\n",
              "         '청원': 3,\n",
              "         '군인': 5,\n",
              "         '군무원': 3,\n",
              "         '중대한': 5,\n",
              "         '군사': 6,\n",
              "         '기밀': 1,\n",
              "         '초병': 2,\n",
              "         '초소': 2,\n",
              "         '유독': 2,\n",
              "         '음식물': 2,\n",
              "         '공급': 2,\n",
              "         '포로': 2,\n",
              "         '군용': 1,\n",
              "         '물': 1,\n",
              "         '관': 58,\n",
              "         '비상계엄': 4,\n",
              "         '선포': 4,\n",
              "         '제외': 5,\n",
              "         '군사법원': 4,\n",
              "         '신속한': 1,\n",
              "         '상당한': 1,\n",
              "         '없는': 4,\n",
              "         '공개': 7,\n",
              "         '판결': 3,\n",
              "         '확정': 8,\n",
              "         '무죄': 1,\n",
              "         '추정': 1,\n",
              "         '당해': 2,\n",
              "         '사건': 1,\n",
              "         '피의자': 1,\n",
              "         '구금': 3,\n",
              "         '자가': 3,\n",
              "         '불기소처분': 1,\n",
              "         '무죄판결': 1,\n",
              "         '직무': 19,\n",
              "         '불법행위': 2,\n",
              "         '손해': 2,\n",
              "         '단체': 4,\n",
              "         '자신': 1,\n",
              "         '면제': 2,\n",
              "         '경찰': 1,\n",
              "         '전투': 1,\n",
              "         '훈련': 1,\n",
              "         '집행': 4,\n",
              "         '관련': 2,\n",
              "         '여': 3,\n",
              "         '외': 3,\n",
              "         '인한': 1,\n",
              "         '생명': 1,\n",
              "         '로부터': 4,\n",
              "         '구조': 2,\n",
              "         '균등하게': 1,\n",
              "         '교육': 4,\n",
              "         '자녀': 1,\n",
              "         '초등교육': 1,\n",
              "         '의무교육': 1,\n",
              "         '무상': 1,\n",
              "         '자주성': 1,\n",
              "         '전문성': 1,\n",
              "         '대학': 1,\n",
              "         '자율성': 1,\n",
              "         '평생교육': 2,\n",
              "         '진흥': 1,\n",
              "         '학교': 1,\n",
              "         '포함': 2,\n",
              "         '교육제도': 1,\n",
              "         '교육재정': 1,\n",
              "         '교원': 1,\n",
              "         '근로': 9,\n",
              "         '근로자': 4,\n",
              "         '고용': 2,\n",
              "         '증진': 3,\n",
              "         '적정': 1,\n",
              "         '임금': 2,\n",
              "         '최저임금제': 1,\n",
              "         '시행': 10,\n",
              "         '조건': 4,\n",
              "         '민주주의': 1,\n",
              "         '원칙': 2,\n",
              "         '존엄성': 1,\n",
              "         '여자': 2,\n",
              "         '특별한': 5,\n",
              "         '연소자': 1,\n",
              "         '유공': 1,\n",
              "         '상이': 1,\n",
              "         '군경': 1,\n",
              "         '전몰': 1,\n",
              "         '경의': 1,\n",
              "         '유가족': 1,\n",
              "         '우선': 1,\n",
              "         '부여': 1,\n",
              "         '자주': 1,\n",
              "         '단결권': 2,\n",
              "         '단체교섭권': 2,\n",
              "         '단체행동권': 3,\n",
              "         '방위산업': 1,\n",
              "         '체': 1,\n",
              "         '종사': 1,\n",
              "         '거나': 13,\n",
              "         '다운': 1,\n",
              "         '사회보장': 1,\n",
              "         '복지': 3,\n",
              "         '권익': 1,\n",
              "         '노인': 1,\n",
              "         '청소년': 1,\n",
              "         '실시': 3,\n",
              "         '장애자': 1,\n",
              "         '질병': 1,\n",
              "         '노령': 1,\n",
              "         '사유': 3,\n",
              "         '재해': 1,\n",
              "         '예방': 1,\n",
              "         '위험': 1,\n",
              "         '건강하고': 1,\n",
              "         '쾌적한': 2,\n",
              "         '환경': 1,\n",
              "         '환경보전': 1,\n",
              "         '환경권': 1,\n",
              "         '주택': 1,\n",
              "         '개발': 6,\n",
              "         '통': 3,\n",
              "         '있도록': 2,\n",
              "         '혼인': 1,\n",
              "         '양성': 1,\n",
              "         '평등': 3,\n",
              "         '기초': 1,\n",
              "         '성립': 1,\n",
              "         '모성': 1,\n",
              "         '보건': 1,\n",
              "         '열거': 1,\n",
              "         '아니한': 3,\n",
              "         '경시': 1,\n",
              "         '있으며': 3,\n",
              "         '본질': 1,\n",
              "         '납세': 1,\n",
              "         '국방': 3,\n",
              "         '병역의무': 1,\n",
              "         '이행': 2,\n",
              "         '입법권': 1,\n",
              "         '속': 5,\n",
              "         '보통': 2,\n",
              "         '직접': 2,\n",
              "         '비밀선거': 2,\n",
              "         '선출': 7,\n",
              "         '국회의원': 18,\n",
              "         '인': 11,\n",
              "         '선거구': 1,\n",
              "         '비례대표제': 1,\n",
              "         '선거': 20,\n",
              "         '임기': 18,\n",
              "         '직': 2,\n",
              "         '겸': 2,\n",
              "         '회': 6,\n",
              "         '중': 4,\n",
              "         '동의': 11,\n",
              "         '기전': 1,\n",
              "         '요구': 13,\n",
              "         '있으면': 1,\n",
              "         '석방': 1,\n",
              "         '행': 5,\n",
              "         '발언': 2,\n",
              "         '표결': 1,\n",
              "         '지지': 1,\n",
              "         '청렴': 1,\n",
              "         '이익': 3,\n",
              "         '우선하여': 1,\n",
              "         '남용': 2,\n",
              "         '기업체': 3,\n",
              "         '계약': 3,\n",
              "         '처분': 9,\n",
              "         '재산': 2,\n",
              "         '상의': 8,\n",
              "         '직위': 1,\n",
              "         '취득': 2,\n",
              "         '알선': 1,\n",
              "         '정기회': 2,\n",
              "         '매년': 2,\n",
              "         '임시회': 4,\n",
              "         '대통령': 83,\n",
              "         '재적': 14,\n",
              "         '의원': 21,\n",
              "         '초과': 1,\n",
              "         '기간': 5,\n",
              "         '명시': 1,\n",
              "         '의장': 5,\n",
              "         '인과': 2,\n",
              "         '규정': 6,\n",
              "         '과반수': 12,\n",
              "         '출석': 12,\n",
              "         '찬성': 12,\n",
              "         '가부': 1,\n",
              "         '수인': 1,\n",
              "         '부결': 1,\n",
              "         '회의': 14,\n",
              "         '있거나': 1,\n",
              "         '필요하다고': 2,\n",
              "         '공표': 1,\n",
              "         '의한다': 1,\n",
              "         '제출': 8,\n",
              "         '의안': 1,\n",
              "         '못': 4,\n",
              "         '폐기': 1,\n",
              "         '만료': 3,\n",
              "         '그러하지': 2,\n",
              "         '아니하다': 2,\n",
              "         '이송': 2,\n",
              "         '이내': 6,\n",
              "         '이의': 2,\n",
              "         '항의': 14,\n",
              "         '내': 2,\n",
              "         '를': 1,\n",
              "         '환부': 1,\n",
              "         '재의': 5,\n",
              "         '폐회': 1,\n",
              "         '또한': 2,\n",
              "         '같다': 2,\n",
              "         '일부': 1,\n",
              "         '수정': 1,\n",
              "         '붙이': 1,\n",
              "         '전과': 1,\n",
              "         '로서': 4,\n",
              "         '항': 8,\n",
              "         '후': 6,\n",
              "         '국회의장': 1,\n",
              "         '날로': 2,\n",
              "         '경과': 1,\n",
              "         '발생': 2,\n",
              "         '예산안': 5,\n",
              "         '심의': 5,\n",
              "         '회계': 6,\n",
              "         '연도': 5,\n",
              "         '편성': 3,\n",
              "         '개시': 5,\n",
              "         '새로운': 2,\n",
              "         '다음': 4,\n",
              "         '경비': 2,\n",
              "         '년도': 2,\n",
              "         '예산': 5,\n",
              "         '준': 2,\n",
              "         '설치': 5,\n",
              "         '법률상': 1,\n",
              "         '지출': 4,\n",
              "         '사업': 1,\n",
              "         '계속': 4,\n",
              "         '필요': 5,\n",
              "         '연한': 1,\n",
              "         '비': 1,\n",
              "         '비비': 2,\n",
              "         '액': 1,\n",
              "         '차기': 1,\n",
              "         '변경': 3,\n",
              "         '추가경정예산': 1,\n",
              "         '각항': 1,\n",
              "         '금액': 1,\n",
              "         '증가': 1,\n",
              "         '새': 1,\n",
              "         '비목': 1,\n",
              "         '국채': 1,\n",
              "         '모집': 1,\n",
              "         '부담': 4,\n",
              "         '미리': 1,\n",
              "         '조세': 1,\n",
              "         '종목': 1,\n",
              "         '세율': 1,\n",
              "         '상호': 3,\n",
              "         '원조': 1,\n",
              "         '중요한': 6,\n",
              "         '우호': 1,\n",
              "         '통상': 1,\n",
              "         '항해': 1,\n",
              "         '제약': 1,\n",
              "         '강화조약': 1,\n",
              "         '재정': 5,\n",
              "         '입법': 1,\n",
              "         '비준': 2,\n",
              "         '선전포고': 2,\n",
              "         '외국': 3,\n",
              "         '파견': 2,\n",
              "         '군대': 1,\n",
              "         '주류': 1,\n",
              "         '국정': 8,\n",
              "         '감사': 6,\n",
              "         '특정한': 1,\n",
              "         '사안': 1,\n",
              "         '조사': 2,\n",
              "         '서류': 1,\n",
              "         '증인': 1,\n",
              "         '증언': 1,\n",
              "         '의견': 3,\n",
              "         '국정감사': 1,\n",
              "         '국무총리': 19,\n",
              "         '국무위원': 17,\n",
              "         '정부위원': 3,\n",
              "         '위원회': 9,\n",
              "         '처리': 6,\n",
              "         '상황': 2,\n",
              "         '질문': 1,\n",
              "         '응답': 1,\n",
              "         '답변': 2,\n",
              "         '해임': 3,\n",
              "         '건의': 3,\n",
              "         '발의': 4,\n",
              "         '있어야': 6,\n",
              "         '저촉': 4,\n",
              "         '범위': 16,\n",
              "         '내부': 4,\n",
              "         '규율': 4,\n",
              "         '규칙': 6,\n",
              "         '자격': 6,\n",
              "         '징계': 1,\n",
              "         '제명': 1,\n",
              "         '행정각부': 9,\n",
              "         '재판관': 10,\n",
              "         '중앙': 3,\n",
              "         '관리': 14,\n",
              "         '위원': 10,\n",
              "         '감사원장': 2,\n",
              "         '배한': 1,\n",
              "         '탄핵': 11,\n",
              "         '권한': 11,\n",
              "         '정지': 1,\n",
              "         '결정': 6,\n",
              "         '공직': 1,\n",
              "         '파면': 4,\n",
              "         '민사': 1,\n",
              "         '절': 3,\n",
              "         '원수': 1,\n",
              "         '대표': 1,\n",
              "         '독립': 2,\n",
              "         '보전': 2,\n",
              "         '성과': 1,\n",
              "         '수호': 1,\n",
              "         '책무': 1,\n",
              "         '성실한': 1,\n",
              "         '행정권': 1,\n",
              "         '수반': 1,\n",
              "         '득표': 2,\n",
              "         '이상인': 1,\n",
              "         '다수': 1,\n",
              "         '표': 1,\n",
              "         '당선자': 2,\n",
              "         '후보자': 2,\n",
              "         '인일': 1,\n",
              "         '수가': 1,\n",
              "         '총수': 1,\n",
              "         '아니면': 3,\n",
              "         '당선': 1,\n",
              "         '있는': 7,\n",
              "         '피선거권': 1,\n",
              "         '선거일': 1,\n",
              "         '현재': 1,\n",
              "         '세': 3,\n",
              "         '달': 1,\n",
              "         '내지': 1,\n",
              "         '후임': 4,\n",
              "         '궐위': 2,\n",
              "         '사망': 1,\n",
              "         '상실한': 1,\n",
              "         '취임': 1,\n",
              "         '즈음': 1,\n",
              "         '선서': 2,\n",
              "         '나': 1,\n",
              "         '보위': 2,\n",
              "         '직책': 1,\n",
              "         '성실히': 1,\n",
              "         '엄숙히': 1,\n",
              "         '중임': 6,\n",
              "         '사고': 1,\n",
              "         '순서': 1,\n",
              "         '대행': 1,\n",
              "         '외교': 1,\n",
              "         '안위': 2,\n",
              "         '중요': 4,\n",
              "         '외교사절': 1,\n",
              "         '신임': 1,\n",
              "         '접수': 1,\n",
              "         '강화': 2,\n",
              "         '통수': 1,\n",
              "         '구체': 1,\n",
              "         '위임': 3,\n",
              "         '대통령령': 3,\n",
              "         '발': 4,\n",
              "         '외환': 2,\n",
              "         '천재': 1,\n",
              "         '변': 1,\n",
              "         '위기': 1,\n",
              "         '공공': 2,\n",
              "         '안녕': 3,\n",
              "         '긴급한': 2,\n",
              "         '조치': 3,\n",
              "         '필요하고': 2,\n",
              "         '여유': 1,\n",
              "         '최소한': 1,\n",
              "         '명령': 9,\n",
              "         '관계': 4,\n",
              "         '교전': 1,\n",
              "         '상태': 1,\n",
              "         '불가능한': 1,\n",
              "         '보고': 2,\n",
              "         '얻지': 2,\n",
              "         '그때': 1,\n",
              "         '상실한다': 1,\n",
              "         '폐지': 1,\n",
              "         '당연히': 1,\n",
              "         '회복한다': 1,\n",
              "         '전시': 1,\n",
              "         '사변': 1,\n",
              "         '비상': 1,\n",
              "         '사태': 1,\n",
              "         '병력': 1,\n",
              "         '응': 6,\n",
              "         '계엄': 5,\n",
              "         '경비계엄': 1,\n",
              "         '통고': 1,\n",
              "         '해제': 3,\n",
              "         '사면': 4,\n",
              "         '감형': 3,\n",
              "         '복권': 3,\n",
              "         '명': 3,\n",
              "         '수여': 2,\n",
              "         '서한': 1,\n",
              "         '표시': 1,\n",
              "         '국법': 1,\n",
              "         '부서': 1,\n",
              "         '공사': 1,\n",
              "         '내란': 1,\n",
              "         '범한': 1,\n",
              "         '재직': 1,\n",
              "         '전직': 1,\n",
              "         '예우': 1,\n",
              "         '행정부': 1,\n",
              "         '임명': 20,\n",
              "         '보좌': 2,\n",
              "         '행정': 1,\n",
              "         '현역': 2,\n",
              "         '면': 2,\n",
              "         '제청': 6,\n",
              "         '국무회의': 7,\n",
              "         '구성원': 1,\n",
              "         '이하': 2,\n",
              "         '계획': 5,\n",
              "         '선전': 1,\n",
              "         '대외': 3,\n",
              "         '개정안': 5,\n",
              "         '결산': 3,\n",
              "         '국유재산': 1,\n",
              "         '긴급': 2,\n",
              "         '획정': 1,\n",
              "         '배정': 1,\n",
              "         '평가': 1,\n",
              "         '분석': 1,\n",
              "         '조정': 3,\n",
              "         '회부': 1,\n",
              "         '검찰총장': 1,\n",
              "         '합동': 1,\n",
              "         '참모': 1,\n",
              "         '군': 1,\n",
              "         '참모총장': 1,\n",
              "         '국립': 1,\n",
              "         '대학교': 1,\n",
              "         '총장': 1,\n",
              "         '대사': 1,\n",
              "         '국영': 1,\n",
              "         '관리자': 1,\n",
              "         '자문': 8,\n",
              "         '원로': 1,\n",
              "         '둘': 7,\n",
              "         '직전': 2,\n",
              "         '지명': 3,\n",
              "         '국내': 1,\n",
              "         '앞서': 1,\n",
              "         '주재': 1,\n",
              "         '평화통일': 3,\n",
              "         '소관': 1,\n",
              "         '사무': 8,\n",
              "         '직권': 1,\n",
              "         '총리': 1,\n",
              "         '령': 1,\n",
              "         '부령': 1,\n",
              "         '감사원': 5,\n",
              "         '세입': 2,\n",
              "         '행정기관': 3,\n",
              "         '감찰': 1,\n",
              "         '소속': 1,\n",
              "         '원장': 3,\n",
              "         '결과': 1,\n",
              "         '대상': 1,\n",
              "         '사법권': 1,\n",
              "         '최고법원': 1,\n",
              "         '대법원': 17,\n",
              "         '급': 5,\n",
              "         '대법관': 7,\n",
              "         '임': 3,\n",
              "         '정년': 1,\n",
              "         '금고': 3,\n",
              "         '선고': 4,\n",
              "         '징계처분': 1,\n",
              "         '정직': 1,\n",
              "         '감봉': 1,\n",
              "         '심신': 1,\n",
              "         '장해': 1,\n",
              "         '퇴직': 1,\n",
              "         '위반': 2,\n",
              "         '여부': 3,\n",
              "         '전제': 2,\n",
              "         '최종': 1,\n",
              "         '전심': 1,\n",
              "         '행정심판': 2,\n",
              "         '사법': 1,\n",
              "         '준용': 1,\n",
              "         '소송': 1,\n",
              "         '심리': 2,\n",
              "         '방': 1,\n",
              "         '선량한': 1,\n",
              "         '풍속': 1,\n",
              "         '해': 1,\n",
              "         '군사재판': 2,\n",
              "         '관할': 2,\n",
              "         '특별법': 1,\n",
              "         '상고': 1,\n",
              "         '하의': 1,\n",
              "         '간첩죄': 1,\n",
              "         '단심': 1,\n",
              "         '사형': 1,\n",
              "         '관장': 1,\n",
              "         '지방자치단체': 7,\n",
              "         '쟁의': 1,\n",
              "         '헌법소원': 2,\n",
              "         '인의': 2,\n",
              "         '가입': 2,\n",
              "         '관여': 2,\n",
              "         '인용': 1,\n",
              "         '공정한': 1,\n",
              "         '위원장': 1,\n",
              "         '호선': 1,\n",
              "         '법령': 3,\n",
              "         '선거인명부': 1,\n",
              "         '작성': 1,\n",
              "         '지시': 2,\n",
              "         '선거운동': 1,\n",
              "         '지방자치': 1,\n",
              "         '주민': 1,\n",
              "         '자치': 1,\n",
              "         '종류': 1,\n",
              "         '의회': 1,\n",
              "         '지방의회': 1,\n",
              "         '장의': 1,\n",
              "         '선임': 4,\n",
              "         '기업': 2,\n",
              "         '창의': 1,\n",
              "         '존중': 1,\n",
              "         '균형': 5,\n",
              "         '성장': 1,\n",
              "         '안정': 2,\n",
              "         '적정한': 1,\n",
              "         '소득': 1,\n",
              "         '분배': 1,\n",
              "         '시장': 1,\n",
              "         '지배': 1,\n",
              "         '경제력': 1,\n",
              "         '방지': 1,\n",
              "         '주체': 1,\n",
              "         '통한': 1,\n",
              "         '민주화': 1,\n",
              "         '규제': 2,\n",
              "         '광물': 1,\n",
              "         '지하자원': 1,\n",
              "         '수산': 1,\n",
              "         '자원': 2,\n",
              "         '수력': 1,\n",
              "         '이용': 5,\n",
              "         '자연력': 1,\n",
              "         '일정한': 1,\n",
              "         '채취': 1,\n",
              "         '특허': 1,\n",
              "         '농지': 4,\n",
              "         '전의': 1,\n",
              "         '달성': 2,\n",
              "         '금지': 1,\n",
              "         '농업': 2,\n",
              "         '생산': 2,\n",
              "         '성의': 1,\n",
              "         '고': 1,\n",
              "         '합리': 1,\n",
              "         '불가피한': 1,\n",
              "         '사정': 1,\n",
              "         '임대차': 1,\n",
              "         '위탁': 1,\n",
              "         '경영': 2,\n",
              "         '모두': 1,\n",
              "         '기반': 1,\n",
              "         '효율': 1,\n",
              "         '과': 1,\n",
              "         '어업': 1,\n",
              "         '육성': 5,\n",
              "         '농': 3,\n",
              "         '어촌': 1,\n",
              "         '종합': 1,\n",
              "         '지원': 1,\n",
              "         '지역': 2,\n",
              "         '중소기업': 2,\n",
              "         '농수산': 1,\n",
              "         '물의': 1,\n",
              "         '수급': 1,\n",
              "         '유통': 1,\n",
              "         '개선': 1,\n",
              "         '가격': 1,\n",
              "         '모함': 1,\n",
              "         '어민': 2,\n",
              "         '건전한': 1,\n",
              "         '소비': 1,\n",
              "         '계': 1,\n",
              "         '도하': 1,\n",
              "         '생산품': 1,\n",
              "         '품질': 1,\n",
              "         '촉구': 1,\n",
              "         '소비자보호': 1,\n",
              "         '무역': 1,\n",
              "         '국유': 1,\n",
              "         '공유': 1,\n",
              "         '전하': 1,\n",
              "         '통제': 1,\n",
              "         '혁신': 1,\n",
              "         '정보': 1,\n",
              "         '인력': 1,\n",
              "         '표준': 1,\n",
              "         '확립': 1,\n",
              "         '기구': 1,\n",
              "         '정은': 3,\n",
              "         '제안': 3,\n",
              "         '연장': 1,\n",
              "         '당시': 6,\n",
              "         '투표': 2,\n",
              "         '부칙': 2,\n",
              "         '호': 1,\n",
              "         '보기': 1,\n",
              "         '준비': 1,\n",
              "         '전': 2,\n",
              "         '최초': 7,\n",
              "         '대통령선거': 1,\n",
              "         '시행일': 2,\n",
              "         '국회의원선거': 2,\n",
              "         '공포일': 1,\n",
              "         '일로': 1,\n",
              "         '전일': 2,\n",
              "         '임원': 1,\n",
              "         '임자': 1,\n",
              "         ...})"
            ]
          },
          "metadata": {},
          "execution_count": 24
        }
      ]
    },
    {
      "cell_type": "code",
      "source": [
        "dict(word_count)"
      ],
      "metadata": {
        "colab": {
          "base_uri": "https://localhost:8080/"
        },
        "id": "qhEbQaLG4XA0",
        "outputId": "5eb89067-5f89-424d-a7a5-6adf70c1a562"
      },
      "execution_count": null,
      "outputs": [
        {
          "output_type": "execute_result",
          "data": {
            "text/plain": [
              "{'대한민국': 11,\n",
              " '헌법': 53,\n",
              " '유구': 1,\n",
              " '역사': 1,\n",
              " '전통': 1,\n",
              " '우리': 3,\n",
              " '국민': 61,\n",
              " '운동': 2,\n",
              " '건립': 1,\n",
              " '임시정부': 1,\n",
              " '법': 3,\n",
              " '통과': 1,\n",
              " '불의': 2,\n",
              " '항거': 1,\n",
              " '민주': 6,\n",
              " '이념': 1,\n",
              " '계승': 2,\n",
              " '조국': 3,\n",
              " '개혁': 1,\n",
              " '평화': 6,\n",
              " '통일': 6,\n",
              " '사명': 2,\n",
              " '입': 1,\n",
              " '각하': 1,\n",
              " '정의': 1,\n",
              " '인도': 1,\n",
              " '동포': 1,\n",
              " '애': 1,\n",
              " '로써': 5,\n",
              " '민족': 3,\n",
              " '단결': 1,\n",
              " '공고': 3,\n",
              " '모든': 37,\n",
              " '사회': 8,\n",
              " '폐습': 1,\n",
              " '타파': 1,\n",
              " '자율': 2,\n",
              " '조화': 2,\n",
              " '바탕': 1,\n",
              " '자유민주': 2,\n",
              " '질서': 8,\n",
              " '더욱': 1,\n",
              " '확고히': 1,\n",
              " '정치': 9,\n",
              " '경제': 18,\n",
              " '문화': 4,\n",
              " '영역': 4,\n",
              " '있어서': 9,\n",
              " '각인': 1,\n",
              " '기회': 3,\n",
              " '균등히': 1,\n",
              " '능력': 3,\n",
              " '최고': 2,\n",
              " '도로': 1,\n",
              " '발휘': 1,\n",
              " '자유': 20,\n",
              " '권리': 21,\n",
              " '책임': 5,\n",
              " '의무': 18,\n",
              " '완수': 1,\n",
              " '안': 21,\n",
              " '생활': 8,\n",
              " '균등한': 2,\n",
              " '향상': 5,\n",
              " '기하': 1,\n",
              " '밖': 1,\n",
              " '항구': 1,\n",
              " '세계': 1,\n",
              " '인류': 1,\n",
              " '공영': 1,\n",
              " '이바지': 1,\n",
              " '함': 5,\n",
              " '자손': 1,\n",
              " '안전': 1,\n",
              " '행복': 2,\n",
              " '영원히': 1,\n",
              " '확보': 1,\n",
              " '것': 7,\n",
              " '다짐': 1,\n",
              " '제정': 8,\n",
              " '차': 4,\n",
              " '개정': 6,\n",
              " '이제': 1,\n",
              " '국회': 68,\n",
              " '의결': 17,\n",
              " '국민투표': 7,\n",
              " '의하여': 66,\n",
              " '제': 175,\n",
              " '장': 15,\n",
              " '강': 1,\n",
              " '민주공화국': 1,\n",
              " '주권': 2,\n",
              " '있고': 4,\n",
              " '권력': 1,\n",
              " '요건': 1,\n",
              " '법률': 127,\n",
              " '정': 89,\n",
              " '국가': 73,\n",
              " '바': 37,\n",
              " '재외국민': 1,\n",
              " '보호': 14,\n",
              " '영토': 2,\n",
              " '한반도': 1,\n",
              " '그': 47,\n",
              " '부속': 1,\n",
              " '도서': 1,\n",
              " '지향': 1,\n",
              " '입각': 1,\n",
              " '정책': 14,\n",
              " '수립': 7,\n",
              " '추진': 1,\n",
              " '국제': 4,\n",
              " '유지': 7,\n",
              " '노력': 13,\n",
              " '침략': 1,\n",
              " '전쟁': 1,\n",
              " '부인': 1,\n",
              " '국군': 4,\n",
              " '안전보장': 10,\n",
              " '국토': 3,\n",
              " '방위': 1,\n",
              " '신성한': 1,\n",
              " '수행': 4,\n",
              " '중립성': 3,\n",
              " '준수': 2,\n",
              " '체결': 4,\n",
              " '공포': 10,\n",
              " '조약': 11,\n",
              " '일반': 2,\n",
              " '승인': 6,\n",
              " '법규': 1,\n",
              " '국내법': 1,\n",
              " '같은': 2,\n",
              " '효력': 9,\n",
              " '외국인': 1,\n",
              " '지위': 3,\n",
              " '보장': 13,\n",
              " '공무원': 17,\n",
              " '전체': 1,\n",
              " '대한': 10,\n",
              " '봉사자': 1,\n",
              " '대하': 9,\n",
              " '신분': 3,\n",
              " '정당': 14,\n",
              " '설립': 1,\n",
              " '복수정당제': 1,\n",
              " '목적': 4,\n",
              " '조직': 18,\n",
              " '활동': 3,\n",
              " '의사': 2,\n",
              " '형성': 1,\n",
              " '참여': 1,\n",
              " '필요한': 21,\n",
              " '운영': 5,\n",
              " '자금': 1,\n",
              " '보조': 1,\n",
              " '수': 88,\n",
              " '있다': 57,\n",
              " '위배': 2,\n",
              " '때': 55,\n",
              " '정부': 20,\n",
              " '헌법재판소': 14,\n",
              " '해산': 5,\n",
              " '제소': 3,\n",
              " '심판': 10,\n",
              " '전통문화': 1,\n",
              " '발전': 5,\n",
              " '창달': 2,\n",
              " '인간': 3,\n",
              " '존엄': 2,\n",
              " '가치': 1,\n",
              " '가지': 2,\n",
              " '추구': 1,\n",
              " '개인': 3,\n",
              " '불가침': 1,\n",
              " '기본': 5,\n",
              " '인권': 1,\n",
              " '확인': 1,\n",
              " '앞': 2,\n",
              " '평등하다': 1,\n",
              " '누구': 6,\n",
              " '성별': 1,\n",
              " '종교': 3,\n",
              " '차별': 2,\n",
              " '아니': 30,\n",
              " '특수': 1,\n",
              " '계급': 1,\n",
              " '제도': 4,\n",
              " '인정': 8,\n",
              " '아니하며': 6,\n",
              " '어떠한': 2,\n",
              " '형태': 1,\n",
              " '도': 2,\n",
              " '창설': 1,\n",
              " '없다': 21,\n",
              " '훈장': 2,\n",
              " '등': 6,\n",
              " '영전': 3,\n",
              " '자': 4,\n",
              " '특권': 1,\n",
              " '이': 38,\n",
              " '신체': 3,\n",
              " '의하지': 6,\n",
              " '아니하고는': 7,\n",
              " '체포': 9,\n",
              " '구속': 8,\n",
              " '압수': 3,\n",
              " '수색': 3,\n",
              " '심문': 1,\n",
              " '적법한': 2,\n",
              " '절차': 9,\n",
              " '처벌': 3,\n",
              " '보안처분': 1,\n",
              " '강제': 1,\n",
              " '노역': 1,\n",
              " '고문': 2,\n",
              " '형사': 9,\n",
              " '자기': 2,\n",
              " '불리한': 3,\n",
              " '진술': 5,\n",
              " '강요': 1,\n",
              " '당하지': 3,\n",
              " '검사': 4,\n",
              " '신청': 2,\n",
              " '법관': 15,\n",
              " '발부': 2,\n",
              " '영장': 4,\n",
              " '제시': 2,\n",
              " '다만': 11,\n",
              " '현행범인': 3,\n",
              " '경우': 17,\n",
              " '장기': 2,\n",
              " '이상': 17,\n",
              " '형': 4,\n",
              " '해당': 1,\n",
              " '죄': 4,\n",
              " '범': 1,\n",
              " '도피': 1,\n",
              " '증거': 3,\n",
              " '멸': 1,\n",
              " '염려': 2,\n",
              " '있을': 9,\n",
              " '사후': 1,\n",
              " '청구': 6,\n",
              " '당한': 3,\n",
              " '즉시': 2,\n",
              " '변호인': 4,\n",
              " '조력': 2,\n",
              " '피고인': 6,\n",
              " '스스로': 1,\n",
              " '구': 1,\n",
              " '없을': 5,\n",
              " '이유': 7,\n",
              " '있': 1,\n",
              " '음': 1,\n",
              " '고지': 1,\n",
              " '자의': 2,\n",
              " '가족': 2,\n",
              " '일시': 1,\n",
              " '장소': 1,\n",
              " '지체': 6,\n",
              " '통지': 1,\n",
              " '적': 1,\n",
              " '부의': 3,\n",
              " '심사': 5,\n",
              " '법원': 12,\n",
              " '자백': 2,\n",
              " '폭행': 1,\n",
              " '협박': 1,\n",
              " '부당한': 2,\n",
              " '망': 1,\n",
              " '기타': 26,\n",
              " '방법': 4,\n",
              " '아니라고': 1,\n",
              " '정식': 1,\n",
              " '재판': 11,\n",
              " '유일한': 1,\n",
              " '일': 2,\n",
              " '유죄': 2,\n",
              " '행위': 7,\n",
              " '시': 1,\n",
              " '범죄': 4,\n",
              " '구성': 8,\n",
              " '아니하는': 6,\n",
              " '추': 6,\n",
              " '동일한': 1,\n",
              " '거듭': 1,\n",
              " '소급입법': 1,\n",
              " '참정권': 1,\n",
              " '제한': 7,\n",
              " '재산권': 4,\n",
              " '박탈': 1,\n",
              " '아닌': 7,\n",
              " '친족': 1,\n",
              " '인하여': 5,\n",
              " '불이익': 2,\n",
              " '처우': 2,\n",
              " '거주': 1,\n",
              " '이전': 1,\n",
              " '직업': 1,\n",
              " '선택': 1,\n",
              " '주거': 3,\n",
              " '침해': 6,\n",
              " '사생활': 1,\n",
              " '비밀': 2,\n",
              " '통신': 2,\n",
              " '양심': 3,\n",
              " '국교': 1,\n",
              " '분리': 1,\n",
              " '언론': 5,\n",
              " '출판': 5,\n",
              " '집회': 12,\n",
              " '결사': 3,\n",
              " '허가': 2,\n",
              " '검열': 1,\n",
              " '방송': 1,\n",
              " '시설': 2,\n",
              " '기준': 2,\n",
              " '신문': 1,\n",
              " '기능': 1,\n",
              " '위': 36,\n",
              " '사항': 23,\n",
              " '타인': 4,\n",
              " '명예': 2,\n",
              " '공중도덕': 1,\n",
              " '윤리': 1,\n",
              " '피해자': 2,\n",
              " '피해': 2,\n",
              " '배상': 3,\n",
              " '학문': 1,\n",
              " '예술': 1,\n",
              " '저작자': 1,\n",
              " '발명가': 1,\n",
              " '과학기술': 2,\n",
              " '예술가': 1,\n",
              " '내용': 5,\n",
              " '한계': 1,\n",
              " '행사': 3,\n",
              " '복리': 4,\n",
              " '적합하도록': 1,\n",
              " '공공필요': 1,\n",
              " '의한': 10,\n",
              " '수용': 1,\n",
              " '사용': 1,\n",
              " '및': 25,\n",
              " '보상': 4,\n",
              " '정당한': 3,\n",
              " '지급': 1,\n",
              " '선거권': 3,\n",
              " '공무': 1,\n",
              " '담임': 1,\n",
              " '기관': 7,\n",
              " '문서': 3,\n",
              " '청원': 3,\n",
              " '군인': 5,\n",
              " '군무원': 3,\n",
              " '중대한': 5,\n",
              " '군사': 6,\n",
              " '기밀': 1,\n",
              " '초병': 2,\n",
              " '초소': 2,\n",
              " '유독': 2,\n",
              " '음식물': 2,\n",
              " '공급': 2,\n",
              " '포로': 2,\n",
              " '군용': 1,\n",
              " '물': 1,\n",
              " '관': 58,\n",
              " '비상계엄': 4,\n",
              " '선포': 4,\n",
              " '제외': 5,\n",
              " '군사법원': 4,\n",
              " '신속한': 1,\n",
              " '상당한': 1,\n",
              " '없는': 4,\n",
              " '공개': 7,\n",
              " '판결': 3,\n",
              " '확정': 8,\n",
              " '무죄': 1,\n",
              " '추정': 1,\n",
              " '당해': 2,\n",
              " '사건': 1,\n",
              " '피의자': 1,\n",
              " '구금': 3,\n",
              " '자가': 3,\n",
              " '불기소처분': 1,\n",
              " '무죄판결': 1,\n",
              " '직무': 19,\n",
              " '불법행위': 2,\n",
              " '손해': 2,\n",
              " '단체': 4,\n",
              " '자신': 1,\n",
              " '면제': 2,\n",
              " '경찰': 1,\n",
              " '전투': 1,\n",
              " '훈련': 1,\n",
              " '집행': 4,\n",
              " '관련': 2,\n",
              " '여': 3,\n",
              " '외': 3,\n",
              " '인한': 1,\n",
              " '생명': 1,\n",
              " '로부터': 4,\n",
              " '구조': 2,\n",
              " '균등하게': 1,\n",
              " '교육': 4,\n",
              " '자녀': 1,\n",
              " '초등교육': 1,\n",
              " '의무교육': 1,\n",
              " '무상': 1,\n",
              " '자주성': 1,\n",
              " '전문성': 1,\n",
              " '대학': 1,\n",
              " '자율성': 1,\n",
              " '평생교육': 2,\n",
              " '진흥': 1,\n",
              " '학교': 1,\n",
              " '포함': 2,\n",
              " '교육제도': 1,\n",
              " '교육재정': 1,\n",
              " '교원': 1,\n",
              " '근로': 9,\n",
              " '근로자': 4,\n",
              " '고용': 2,\n",
              " '증진': 3,\n",
              " '적정': 1,\n",
              " '임금': 2,\n",
              " '최저임금제': 1,\n",
              " '시행': 10,\n",
              " '조건': 4,\n",
              " '민주주의': 1,\n",
              " '원칙': 2,\n",
              " '존엄성': 1,\n",
              " '여자': 2,\n",
              " '특별한': 5,\n",
              " '연소자': 1,\n",
              " '유공': 1,\n",
              " '상이': 1,\n",
              " '군경': 1,\n",
              " '전몰': 1,\n",
              " '경의': 1,\n",
              " '유가족': 1,\n",
              " '우선': 1,\n",
              " '부여': 1,\n",
              " '자주': 1,\n",
              " '단결권': 2,\n",
              " '단체교섭권': 2,\n",
              " '단체행동권': 3,\n",
              " '방위산업': 1,\n",
              " '체': 1,\n",
              " '종사': 1,\n",
              " '거나': 13,\n",
              " '다운': 1,\n",
              " '사회보장': 1,\n",
              " '복지': 3,\n",
              " '권익': 1,\n",
              " '노인': 1,\n",
              " '청소년': 1,\n",
              " '실시': 3,\n",
              " '장애자': 1,\n",
              " '질병': 1,\n",
              " '노령': 1,\n",
              " '사유': 3,\n",
              " '재해': 1,\n",
              " '예방': 1,\n",
              " '위험': 1,\n",
              " '건강하고': 1,\n",
              " '쾌적한': 2,\n",
              " '환경': 1,\n",
              " '환경보전': 1,\n",
              " '환경권': 1,\n",
              " '주택': 1,\n",
              " '개발': 6,\n",
              " '통': 3,\n",
              " '있도록': 2,\n",
              " '혼인': 1,\n",
              " '양성': 1,\n",
              " '평등': 3,\n",
              " '기초': 1,\n",
              " '성립': 1,\n",
              " '모성': 1,\n",
              " '보건': 1,\n",
              " '열거': 1,\n",
              " '아니한': 3,\n",
              " '경시': 1,\n",
              " '있으며': 3,\n",
              " '본질': 1,\n",
              " '납세': 1,\n",
              " '국방': 3,\n",
              " '병역의무': 1,\n",
              " '이행': 2,\n",
              " '입법권': 1,\n",
              " '속': 5,\n",
              " '보통': 2,\n",
              " '직접': 2,\n",
              " '비밀선거': 2,\n",
              " '선출': 7,\n",
              " '국회의원': 18,\n",
              " '인': 11,\n",
              " '선거구': 1,\n",
              " '비례대표제': 1,\n",
              " '선거': 20,\n",
              " '임기': 18,\n",
              " '직': 2,\n",
              " '겸': 2,\n",
              " '회': 6,\n",
              " '중': 4,\n",
              " '동의': 11,\n",
              " '기전': 1,\n",
              " '요구': 13,\n",
              " '있으면': 1,\n",
              " '석방': 1,\n",
              " '행': 5,\n",
              " '발언': 2,\n",
              " '표결': 1,\n",
              " '지지': 1,\n",
              " '청렴': 1,\n",
              " '이익': 3,\n",
              " '우선하여': 1,\n",
              " '남용': 2,\n",
              " '기업체': 3,\n",
              " '계약': 3,\n",
              " '처분': 9,\n",
              " '재산': 2,\n",
              " '상의': 8,\n",
              " '직위': 1,\n",
              " '취득': 2,\n",
              " '알선': 1,\n",
              " '정기회': 2,\n",
              " '매년': 2,\n",
              " '임시회': 4,\n",
              " '대통령': 83,\n",
              " '재적': 14,\n",
              " '의원': 21,\n",
              " '초과': 1,\n",
              " '기간': 5,\n",
              " '명시': 1,\n",
              " '의장': 5,\n",
              " '인과': 2,\n",
              " '규정': 6,\n",
              " '과반수': 12,\n",
              " '출석': 12,\n",
              " '찬성': 12,\n",
              " '가부': 1,\n",
              " '수인': 1,\n",
              " '부결': 1,\n",
              " '회의': 14,\n",
              " '있거나': 1,\n",
              " '필요하다고': 2,\n",
              " '공표': 1,\n",
              " '의한다': 1,\n",
              " '제출': 8,\n",
              " '의안': 1,\n",
              " '못': 4,\n",
              " '폐기': 1,\n",
              " '만료': 3,\n",
              " '그러하지': 2,\n",
              " '아니하다': 2,\n",
              " '이송': 2,\n",
              " '이내': 6,\n",
              " '이의': 2,\n",
              " '항의': 14,\n",
              " '내': 2,\n",
              " '를': 1,\n",
              " '환부': 1,\n",
              " '재의': 5,\n",
              " '폐회': 1,\n",
              " '또한': 2,\n",
              " '같다': 2,\n",
              " '일부': 1,\n",
              " '수정': 1,\n",
              " '붙이': 1,\n",
              " '전과': 1,\n",
              " '로서': 4,\n",
              " '항': 8,\n",
              " '후': 6,\n",
              " '국회의장': 1,\n",
              " '날로': 2,\n",
              " '경과': 1,\n",
              " '발생': 2,\n",
              " '예산안': 5,\n",
              " '심의': 5,\n",
              " '회계': 6,\n",
              " '연도': 5,\n",
              " '편성': 3,\n",
              " '개시': 5,\n",
              " '새로운': 2,\n",
              " '다음': 4,\n",
              " '경비': 2,\n",
              " '년도': 2,\n",
              " '예산': 5,\n",
              " '준': 2,\n",
              " '설치': 5,\n",
              " '법률상': 1,\n",
              " '지출': 4,\n",
              " '사업': 1,\n",
              " '계속': 4,\n",
              " '필요': 5,\n",
              " '연한': 1,\n",
              " '비': 1,\n",
              " '비비': 2,\n",
              " '액': 1,\n",
              " '차기': 1,\n",
              " '변경': 3,\n",
              " '추가경정예산': 1,\n",
              " '각항': 1,\n",
              " '금액': 1,\n",
              " '증가': 1,\n",
              " '새': 1,\n",
              " '비목': 1,\n",
              " '국채': 1,\n",
              " '모집': 1,\n",
              " '부담': 4,\n",
              " '미리': 1,\n",
              " '조세': 1,\n",
              " '종목': 1,\n",
              " '세율': 1,\n",
              " '상호': 3,\n",
              " '원조': 1,\n",
              " '중요한': 6,\n",
              " '우호': 1,\n",
              " '통상': 1,\n",
              " '항해': 1,\n",
              " '제약': 1,\n",
              " '강화조약': 1,\n",
              " '재정': 5,\n",
              " '입법': 1,\n",
              " '비준': 2,\n",
              " '선전포고': 2,\n",
              " '외국': 3,\n",
              " '파견': 2,\n",
              " '군대': 1,\n",
              " '주류': 1,\n",
              " '국정': 8,\n",
              " '감사': 6,\n",
              " '특정한': 1,\n",
              " '사안': 1,\n",
              " '조사': 2,\n",
              " '서류': 1,\n",
              " '증인': 1,\n",
              " '증언': 1,\n",
              " '의견': 3,\n",
              " '국정감사': 1,\n",
              " '국무총리': 19,\n",
              " '국무위원': 17,\n",
              " '정부위원': 3,\n",
              " '위원회': 9,\n",
              " '처리': 6,\n",
              " '상황': 2,\n",
              " '질문': 1,\n",
              " '응답': 1,\n",
              " '답변': 2,\n",
              " '해임': 3,\n",
              " '건의': 3,\n",
              " '발의': 4,\n",
              " '있어야': 6,\n",
              " '저촉': 4,\n",
              " '범위': 16,\n",
              " '내부': 4,\n",
              " '규율': 4,\n",
              " '규칙': 6,\n",
              " '자격': 6,\n",
              " '징계': 1,\n",
              " '제명': 1,\n",
              " '행정각부': 9,\n",
              " '재판관': 10,\n",
              " '중앙': 3,\n",
              " '관리': 14,\n",
              " '위원': 10,\n",
              " '감사원장': 2,\n",
              " '배한': 1,\n",
              " '탄핵': 11,\n",
              " '권한': 11,\n",
              " '정지': 1,\n",
              " '결정': 6,\n",
              " '공직': 1,\n",
              " '파면': 4,\n",
              " '민사': 1,\n",
              " '절': 3,\n",
              " '원수': 1,\n",
              " '대표': 1,\n",
              " '독립': 2,\n",
              " '보전': 2,\n",
              " '성과': 1,\n",
              " '수호': 1,\n",
              " '책무': 1,\n",
              " '성실한': 1,\n",
              " '행정권': 1,\n",
              " '수반': 1,\n",
              " '득표': 2,\n",
              " '이상인': 1,\n",
              " '다수': 1,\n",
              " '표': 1,\n",
              " '당선자': 2,\n",
              " '후보자': 2,\n",
              " '인일': 1,\n",
              " '수가': 1,\n",
              " '총수': 1,\n",
              " '아니면': 3,\n",
              " '당선': 1,\n",
              " '있는': 7,\n",
              " '피선거권': 1,\n",
              " '선거일': 1,\n",
              " '현재': 1,\n",
              " '세': 3,\n",
              " '달': 1,\n",
              " '내지': 1,\n",
              " '후임': 4,\n",
              " '궐위': 2,\n",
              " '사망': 1,\n",
              " '상실한': 1,\n",
              " '취임': 1,\n",
              " '즈음': 1,\n",
              " '선서': 2,\n",
              " '나': 1,\n",
              " '보위': 2,\n",
              " '직책': 1,\n",
              " '성실히': 1,\n",
              " '엄숙히': 1,\n",
              " '중임': 6,\n",
              " '사고': 1,\n",
              " '순서': 1,\n",
              " '대행': 1,\n",
              " '외교': 1,\n",
              " '안위': 2,\n",
              " '중요': 4,\n",
              " '외교사절': 1,\n",
              " '신임': 1,\n",
              " '접수': 1,\n",
              " '강화': 2,\n",
              " '통수': 1,\n",
              " '구체': 1,\n",
              " '위임': 3,\n",
              " '대통령령': 3,\n",
              " '발': 4,\n",
              " '외환': 2,\n",
              " '천재': 1,\n",
              " '변': 1,\n",
              " '위기': 1,\n",
              " '공공': 2,\n",
              " '안녕': 3,\n",
              " '긴급한': 2,\n",
              " '조치': 3,\n",
              " '필요하고': 2,\n",
              " '여유': 1,\n",
              " '최소한': 1,\n",
              " '명령': 9,\n",
              " '관계': 4,\n",
              " '교전': 1,\n",
              " '상태': 1,\n",
              " '불가능한': 1,\n",
              " '보고': 2,\n",
              " '얻지': 2,\n",
              " '그때': 1,\n",
              " '상실한다': 1,\n",
              " '폐지': 1,\n",
              " '당연히': 1,\n",
              " '회복한다': 1,\n",
              " '전시': 1,\n",
              " '사변': 1,\n",
              " '비상': 1,\n",
              " '사태': 1,\n",
              " '병력': 1,\n",
              " '응': 6,\n",
              " '계엄': 5,\n",
              " '경비계엄': 1,\n",
              " '통고': 1,\n",
              " '해제': 3,\n",
              " '사면': 4,\n",
              " '감형': 3,\n",
              " '복권': 3,\n",
              " '명': 3,\n",
              " '수여': 2,\n",
              " '서한': 1,\n",
              " '표시': 1,\n",
              " '국법': 1,\n",
              " '부서': 1,\n",
              " '공사': 1,\n",
              " '내란': 1,\n",
              " '범한': 1,\n",
              " '재직': 1,\n",
              " '전직': 1,\n",
              " '예우': 1,\n",
              " '행정부': 1,\n",
              " '임명': 20,\n",
              " '보좌': 2,\n",
              " '행정': 1,\n",
              " '현역': 2,\n",
              " '면': 2,\n",
              " '제청': 6,\n",
              " '국무회의': 7,\n",
              " '구성원': 1,\n",
              " '이하': 2,\n",
              " '계획': 5,\n",
              " '선전': 1,\n",
              " '대외': 3,\n",
              " '개정안': 5,\n",
              " '결산': 3,\n",
              " '국유재산': 1,\n",
              " '긴급': 2,\n",
              " '획정': 1,\n",
              " '배정': 1,\n",
              " '평가': 1,\n",
              " '분석': 1,\n",
              " '조정': 3,\n",
              " '회부': 1,\n",
              " '검찰총장': 1,\n",
              " '합동': 1,\n",
              " '참모': 1,\n",
              " '군': 1,\n",
              " '참모총장': 1,\n",
              " '국립': 1,\n",
              " '대학교': 1,\n",
              " '총장': 1,\n",
              " '대사': 1,\n",
              " '국영': 1,\n",
              " '관리자': 1,\n",
              " '자문': 8,\n",
              " '원로': 1,\n",
              " '둘': 7,\n",
              " '직전': 2,\n",
              " '지명': 3,\n",
              " '국내': 1,\n",
              " '앞서': 1,\n",
              " '주재': 1,\n",
              " '평화통일': 3,\n",
              " '소관': 1,\n",
              " '사무': 8,\n",
              " '직권': 1,\n",
              " '총리': 1,\n",
              " '령': 1,\n",
              " '부령': 1,\n",
              " '감사원': 5,\n",
              " '세입': 2,\n",
              " '행정기관': 3,\n",
              " '감찰': 1,\n",
              " '소속': 1,\n",
              " '원장': 3,\n",
              " '결과': 1,\n",
              " '대상': 1,\n",
              " '사법권': 1,\n",
              " '최고법원': 1,\n",
              " '대법원': 17,\n",
              " '급': 5,\n",
              " '대법관': 7,\n",
              " '임': 3,\n",
              " '정년': 1,\n",
              " '금고': 3,\n",
              " '선고': 4,\n",
              " '징계처분': 1,\n",
              " '정직': 1,\n",
              " '감봉': 1,\n",
              " '심신': 1,\n",
              " '장해': 1,\n",
              " '퇴직': 1,\n",
              " '위반': 2,\n",
              " '여부': 3,\n",
              " '전제': 2,\n",
              " '최종': 1,\n",
              " '전심': 1,\n",
              " '행정심판': 2,\n",
              " '사법': 1,\n",
              " '준용': 1,\n",
              " '소송': 1,\n",
              " '심리': 2,\n",
              " '방': 1,\n",
              " '선량한': 1,\n",
              " '풍속': 1,\n",
              " '해': 1,\n",
              " '군사재판': 2,\n",
              " '관할': 2,\n",
              " '특별법': 1,\n",
              " '상고': 1,\n",
              " '하의': 1,\n",
              " '간첩죄': 1,\n",
              " '단심': 1,\n",
              " '사형': 1,\n",
              " '관장': 1,\n",
              " '지방자치단체': 7,\n",
              " '쟁의': 1,\n",
              " '헌법소원': 2,\n",
              " '인의': 2,\n",
              " '가입': 2,\n",
              " '관여': 2,\n",
              " '인용': 1,\n",
              " '공정한': 1,\n",
              " '위원장': 1,\n",
              " '호선': 1,\n",
              " '법령': 3,\n",
              " '선거인명부': 1,\n",
              " '작성': 1,\n",
              " '지시': 2,\n",
              " '선거운동': 1,\n",
              " '지방자치': 1,\n",
              " '주민': 1,\n",
              " '자치': 1,\n",
              " '종류': 1,\n",
              " '의회': 1,\n",
              " '지방의회': 1,\n",
              " '장의': 1,\n",
              " '선임': 4,\n",
              " '기업': 2,\n",
              " '창의': 1,\n",
              " '존중': 1,\n",
              " '균형': 5,\n",
              " '성장': 1,\n",
              " '안정': 2,\n",
              " '적정한': 1,\n",
              " '소득': 1,\n",
              " '분배': 1,\n",
              " '시장': 1,\n",
              " '지배': 1,\n",
              " '경제력': 1,\n",
              " '방지': 1,\n",
              " '주체': 1,\n",
              " '통한': 1,\n",
              " '민주화': 1,\n",
              " '규제': 2,\n",
              " '광물': 1,\n",
              " '지하자원': 1,\n",
              " '수산': 1,\n",
              " '자원': 2,\n",
              " '수력': 1,\n",
              " '이용': 5,\n",
              " '자연력': 1,\n",
              " '일정한': 1,\n",
              " '채취': 1,\n",
              " '특허': 1,\n",
              " '농지': 4,\n",
              " '전의': 1,\n",
              " '달성': 2,\n",
              " '금지': 1,\n",
              " '농업': 2,\n",
              " '생산': 2,\n",
              " '성의': 1,\n",
              " '고': 1,\n",
              " '합리': 1,\n",
              " '불가피한': 1,\n",
              " '사정': 1,\n",
              " '임대차': 1,\n",
              " '위탁': 1,\n",
              " '경영': 2,\n",
              " '모두': 1,\n",
              " '기반': 1,\n",
              " '효율': 1,\n",
              " '과': 1,\n",
              " '어업': 1,\n",
              " '육성': 5,\n",
              " '농': 3,\n",
              " '어촌': 1,\n",
              " '종합': 1,\n",
              " '지원': 1,\n",
              " '지역': 2,\n",
              " '중소기업': 2,\n",
              " '농수산': 1,\n",
              " '물의': 1,\n",
              " '수급': 1,\n",
              " '유통': 1,\n",
              " '개선': 1,\n",
              " '가격': 1,\n",
              " '모함': 1,\n",
              " '어민': 2,\n",
              " '건전한': 1,\n",
              " '소비': 1,\n",
              " '계': 1,\n",
              " '도하': 1,\n",
              " '생산품': 1,\n",
              " '품질': 1,\n",
              " '촉구': 1,\n",
              " '소비자보호': 1,\n",
              " '무역': 1,\n",
              " '국유': 1,\n",
              " '공유': 1,\n",
              " '전하': 1,\n",
              " '통제': 1,\n",
              " '혁신': 1,\n",
              " '정보': 1,\n",
              " '인력': 1,\n",
              " '표준': 1,\n",
              " '확립': 1,\n",
              " '기구': 1,\n",
              " '정은': 3,\n",
              " '제안': 3,\n",
              " '연장': 1,\n",
              " '당시': 6,\n",
              " '투표': 2,\n",
              " '부칙': 2,\n",
              " '호': 1,\n",
              " '보기': 1,\n",
              " '준비': 1,\n",
              " '전': 2,\n",
              " '최초': 7,\n",
              " '대통령선거': 1,\n",
              " '시행일': 2,\n",
              " '국회의원선거': 2,\n",
              " '공포일': 1,\n",
              " '일로': 1,\n",
              " '전일': 2,\n",
              " '임원': 1,\n",
              " '임자': 1,\n",
              " ...}"
            ]
          },
          "metadata": {},
          "execution_count": 26
        }
      ]
    },
    {
      "cell_type": "code",
      "source": [
        "word_count=dict(word_count)\n",
        "word_count['헌법']"
      ],
      "metadata": {
        "colab": {
          "base_uri": "https://localhost:8080/"
        },
        "id": "--y7G5LK4KE8",
        "outputId": "2f3617dc-654e-4756-ca9d-3849d3886069"
      },
      "execution_count": null,
      "outputs": [
        {
          "output_type": "execute_result",
          "data": {
            "text/plain": [
              "53"
            ]
          },
          "metadata": {},
          "execution_count": 25
        }
      ]
    },
    {
      "cell_type": "code",
      "source": [
        "del word_count['제']"
      ],
      "metadata": {
        "id": "IwtJfEKjabFb"
      },
      "execution_count": null,
      "outputs": []
    },
    {
      "cell_type": "markdown",
      "source": [
        "## 워드 클라우드 생성"
      ],
      "metadata": {
        "id": "nxZkGYWNQwl4"
      }
    },
    {
      "cell_type": "code",
      "source": [
        "from google.colab import drive\n",
        "drive.mount('/content/drive')"
      ],
      "metadata": {
        "colab": {
          "base_uri": "https://localhost:8080/"
        },
        "id": "GOeD8Mht04oT",
        "outputId": "bb830891-85f9-42b6-93d0-e86bc45a74ea"
      },
      "execution_count": null,
      "outputs": [
        {
          "output_type": "stream",
          "name": "stdout",
          "text": [
            "Drive already mounted at /content/drive; to attempt to forcibly remount, call drive.mount(\"/content/drive\", force_remount=True).\n"
          ]
        }
      ]
    },
    {
      "cell_type": "code",
      "source": [
        "from wordcloud import WordCloud\n",
        "#font 조정\n",
        "wc=WordCloud(font_path=\"/content/malgun.ttf\", background_color=\"white\", max_words=100)\n",
        "wc.generate_from_frequencies(word_count)\n",
        "plt.figure(figsize=(10,10))\n",
        "plt.imshow(wc)\n",
        "plt.axis('off')\n",
        "plt.show"
      ],
      "metadata": {
        "colab": {
          "base_uri": "https://localhost:8080/",
          "height": 594
        },
        "id": "gmaFpU2IRJX7",
        "outputId": "3a204f5a-d425-4334-a5be-aba080d8455f"
      },
      "execution_count": null,
      "outputs": [
        {
          "output_type": "execute_result",
          "data": {
            "text/plain": [
              "<function matplotlib.pyplot.show(close=None, block=None)>"
            ],
            "text/html": [
              "<div style=\"max-width:800px; border: 1px solid var(--colab-border-color);\"><style>\n",
              "      pre.function-repr-contents {\n",
              "        overflow-x: auto;\n",
              "        padding: 8px 12px;\n",
              "        max-height: 500px;\n",
              "      }\n",
              "\n",
              "      pre.function-repr-contents.function-repr-contents-collapsed {\n",
              "        cursor: pointer;\n",
              "        max-height: 100px;\n",
              "      }\n",
              "    </style>\n",
              "    <pre style=\"white-space: initial; background:\n",
              "         var(--colab-secondary-surface-color); padding: 8px 12px;\n",
              "         border-bottom: 1px solid var(--colab-border-color);\"><b>matplotlib.pyplot.show</b><br/>def show(*args, **kwargs)</pre><pre class=\"function-repr-contents function-repr-contents-collapsed\" style=\"\"><a class=\"filepath\" style=\"display:none\" href=\"#\">/usr/local/lib/python3.10/dist-packages/matplotlib/pyplot.py</a>Display all open figures.\n",
              "\n",
              "Parameters\n",
              "----------\n",
              "block : bool, optional\n",
              "    Whether to wait for all figures to be closed before returning.\n",
              "\n",
              "    If `True` block and run the GUI main loop until all figure windows\n",
              "    are closed.\n",
              "\n",
              "    If `False` ensure that all figure windows are displayed and return\n",
              "    immediately.  In this case, you are responsible for ensuring\n",
              "    that the event loop is running to have responsive figures.\n",
              "\n",
              "    Defaults to True in non-interactive mode and to False in interactive\n",
              "    mode (see `.pyplot.isinteractive`).\n",
              "\n",
              "See Also\n",
              "--------\n",
              "ion : Enable interactive mode, which shows / updates the figure after\n",
              "      every plotting command, so that calling ``show()`` is not necessary.\n",
              "ioff : Disable interactive mode.\n",
              "savefig : Save the figure to an image file instead of showing it on screen.\n",
              "\n",
              "Notes\n",
              "-----\n",
              "**Saving figures to file and showing a window at the same time**\n",
              "\n",
              "If you want an image file as well as a user interface window, use\n",
              "`.pyplot.savefig` before `.pyplot.show`. At the end of (a blocking)\n",
              "``show()`` the figure is closed and thus unregistered from pyplot. Calling\n",
              "`.pyplot.savefig` afterwards would save a new and thus empty figure. This\n",
              "limitation of command order does not apply if the show is non-blocking or\n",
              "if you keep a reference to the figure and use `.Figure.savefig`.\n",
              "\n",
              "**Auto-show in jupyter notebooks**\n",
              "\n",
              "The jupyter backends (activated via ``%matplotlib inline``,\n",
              "``%matplotlib notebook``, or ``%matplotlib widget``), call ``show()`` at\n",
              "the end of every cell by default. Thus, you usually don&#x27;t have to call it\n",
              "explicitly there.</pre>\n",
              "      <script>\n",
              "      if (google.colab.kernel.accessAllowed && google.colab.files && google.colab.files.view) {\n",
              "        for (const element of document.querySelectorAll('.filepath')) {\n",
              "          element.style.display = 'block'\n",
              "          element.onclick = (event) => {\n",
              "            event.preventDefault();\n",
              "            event.stopPropagation();\n",
              "            google.colab.files.view(element.textContent, 401);\n",
              "          };\n",
              "        }\n",
              "      }\n",
              "      for (const element of document.querySelectorAll('.function-repr-contents')) {\n",
              "        element.onclick = (event) => {\n",
              "          event.preventDefault();\n",
              "          event.stopPropagation();\n",
              "          element.classList.toggle('function-repr-contents-collapsed');\n",
              "        };\n",
              "      }\n",
              "      </script>\n",
              "      </div>"
            ]
          },
          "metadata": {},
          "execution_count": 29
        },
        {
          "output_type": "display_data",
          "data": {
            "text/plain": [
              "<Figure size 1000x1000 with 1 Axes>"
            ],
            "image/png": "[encoded data removed]"
          },
          "metadata": {}
        }
      ]
    },
    {
      "cell_type": "markdown",
      "source": [
        "# 카운트 벡터"
      ],
      "metadata": {
        "id": "a_2ToH_oalqM"
      }
    },
    {
      "cell_type": "code",
      "source": [
        "#문장=> 단어들의 등장 횟수로 문장을 벡터화\n",
        "text='''먹고 싶은 바나나\n",
        "먹고 싶은 사과\n",
        "길고 노란 바나나 바나나\n",
        "저는 과일이 좋아요\n",
        "과일 중에 사과가 좋아요'''\n",
        "from konlpy.tag import Okt\n",
        "okt=Okt()\n",
        "print(okt.morphs(text))\n",
        "#print(pos_list)"
      ],
      "metadata": {
        "colab": {
          "base_uri": "https://localhost:8080/"
        },
        "id": "j59SgFFlajd0",
        "outputId": "d884b4a1-a360-4769-a9a1-82c0fada3cf2"
      },
      "execution_count": null,
      "outputs": [
        {
          "output_type": "stream",
          "name": "stdout",
          "text": [
            "['먹고', '싶은', '바나나', '\\n', '먹고', '싶은', '사과', '\\n', '길고', '노란', '바나나', '바나나', '\\n', '저', '는', '과일', '이', '좋아요', '\\n', '과일', '중', '에', '사과', '가', '좋아요']\n"
          ]
        }
      ]
    },
    {
      "cell_type": "code",
      "source": [
        "#조사만 빼기\n",
        "pos_list=okt.pos(text)\n",
        "print(pos_list)\n",
        "tokens=[   word   for word,tag in pos_list  if tag not in  ['Foreign', 'Josa'] ]\n",
        "print(tokens)\n",
        "#"
      ],
      "metadata": {
        "colab": {
          "base_uri": "https://localhost:8080/"
        },
        "id": "1wsnKM8zc2f8",
        "outputId": "253bc4e0-31b8-4d2e-a1e7-b34aa24c5520"
      },
      "execution_count": null,
      "outputs": [
        {
          "output_type": "stream",
          "name": "stdout",
          "text": [
            "[('먹고', 'Verb'), ('싶은', 'Verb'), ('바나나', 'Noun'), ('\\n', 'Foreign'), ('먹고', 'Verb'), ('싶은', 'Verb'), ('사과', 'Noun'), ('\\n', 'Foreign'), ('길고', 'Adjective'), ('노란', 'Adjective'), ('바나나', 'Noun'), ('바나나', 'Noun'), ('\\n', 'Foreign'), ('저', 'Noun'), ('는', 'Josa'), ('과일', 'Noun'), ('이', 'Josa'), ('좋아요', 'Adjective'), ('\\n', 'Foreign'), ('과일', 'Noun'), ('중', 'Noun'), ('에', 'Josa'), ('사과', 'Noun'), ('가', 'Josa'), ('좋아요', 'Adjective')]\n",
            "['먹고', '싶은', '바나나', '먹고', '싶은', '사과', '길고', '노란', '바나나', '바나나', '저', '과일', '좋아요', '과일', '중', '사과', '좋아요']\n"
          ]
        }
      ]
    },
    {
      "cell_type": "code",
      "source": [
        "set(tokens)#: 중복제거\n"
      ],
      "metadata": {
        "colab": {
          "base_uri": "https://localhost:8080/"
        },
        "id": "xL7CYSOWdd9z",
        "outputId": "08338d3f-dfd7-4608-cf32-3f777bb32229"
      },
      "execution_count": null,
      "outputs": [
        {
          "output_type": "execute_result",
          "data": {
            "text/plain": [
              "{'과일', '길고', '노란', '먹고', '바나나', '사과', '싶은', '저', '좋아요', '중'}"
            ]
          },
          "metadata": {},
          "execution_count": 32
        }
      ]
    },
    {
      "cell_type": "code",
      "source": [
        "texts=text.split(\"\\n\")\n",
        "print(texts)"
      ],
      "metadata": {
        "colab": {
          "base_uri": "https://localhost:8080/"
        },
        "id": "QCJ6UHUvfF1P",
        "outputId": "c4352323-7005-408f-fefd-4e4b5a46f9f5"
      },
      "execution_count": null,
      "outputs": [
        {
          "output_type": "stream",
          "name": "stdout",
          "text": [
            "['먹고 싶은 바나나', '먹고 싶은 사과', '길고 노란 바나나 바나나', '저는 과일이 좋아요', '과일 중에 사과가 좋아요']\n"
          ]
        }
      ]
    },
    {
      "cell_type": "code",
      "source": [
        "# 문장별 토큰화\n",
        "tokens=[]\n",
        "for text in texts:\n",
        "\n",
        "  tokens.append([   word   for word,tag in okt.pos(text)  if tag not in  ['Foreign', 'Josa'] ])\n",
        "tokens"
      ],
      "metadata": {
        "colab": {
          "base_uri": "https://localhost:8080/"
        },
        "id": "ilX1SwJCfTay",
        "outputId": "e78aafa1-96cd-4f4d-93dc-14a39e23fc13"
      },
      "execution_count": null,
      "outputs": [
        {
          "output_type": "execute_result",
          "data": {
            "text/plain": [
              "[['먹고', '싶은', '바나나'],\n",
              " ['먹고', '싶은', '사과'],\n",
              " ['길고', '노란', '바나나', '바나나'],\n",
              " ['저', '과일', '좋아요'],\n",
              " ['과일', '중', '사과', '좋아요']]"
            ]
          },
          "metadata": {},
          "execution_count": 34
        }
      ]
    },
    {
      "cell_type": "code",
      "source": [
        "def my_tokenizer(text):\n",
        "  return [   word   for word,tag in okt.pos(text)  if tag not in  ['Foreign', 'Josa'] ]\n",
        "tokens=[]\n",
        "for text in texts:\n",
        "    tokens.append(my_tokenizer(text))\n",
        "\n",
        "tokens"
      ],
      "metadata": {
        "colab": {
          "base_uri": "https://localhost:8080/"
        },
        "id": "76vrcJgR1ASS",
        "outputId": "b1c1d761-c8d8-4c84-d61c-69acdc87624c"
      },
      "execution_count": null,
      "outputs": [
        {
          "output_type": "execute_result",
          "data": {
            "text/plain": [
              "[['먹고', '싶은', '바나나'],\n",
              " ['먹고', '싶은', '사과'],\n",
              " ['길고', '노란', '바나나', '바나나'],\n",
              " ['저', '과일', '좋아요'],\n",
              " ['과일', '중', '사과', '좋아요']]"
            ]
          },
          "metadata": {},
          "execution_count": 35
        }
      ]
    },
    {
      "cell_type": "code",
      "source": [
        "tokens=[my_tokenizer(text) for text in texts ]\n",
        "tokens"
      ],
      "metadata": {
        "colab": {
          "base_uri": "https://localhost:8080/"
        },
        "id": "Dq4781mP1cbE",
        "outputId": "e87940b9-f185-4520-ebd4-d9e9f5503dab"
      },
      "execution_count": null,
      "outputs": [
        {
          "output_type": "execute_result",
          "data": {
            "text/plain": [
              "[['먹고', '싶은', '바나나'],\n",
              " ['먹고', '싶은', '사과'],\n",
              " ['길고', '노란', '바나나', '바나나'],\n",
              " ['저', '과일', '좋아요'],\n",
              " ['과일', '중', '사과', '좋아요']]"
            ]
          },
          "metadata": {},
          "execution_count": 36
        }
      ]
    },
    {
      "cell_type": "code",
      "source": [],
      "metadata": {
        "id": "iG7E7qIrzU9A"
      },
      "execution_count": null,
      "outputs": []
    },
    {
      "cell_type": "code",
      "source": [
        "from sklearn.feature_extraction.text import CountVectorizer\n",
        "cv=CountVectorizer(tokenizer=my_tokenizer) # 사이킷런 변형기\n",
        "cv.fit(texts) #기준설정: 단어 인덱스 사전"
      ],
      "metadata": {
        "colab": {
          "base_uri": "https://localhost:8080/",
          "height": 110
        },
        "id": "lztMpwTLe397",
        "outputId": "1846a6d2-f08e-4f56-a880-ce6c3cdb65b9"
      },
      "execution_count": null,
      "outputs": [
        {
          "output_type": "stream",
          "name": "stderr",
          "text": [
            "/usr/local/lib/python3.10/dist-packages/sklearn/feature_extraction/text.py:528: UserWarning: The parameter 'token_pattern' will not be used since 'tokenizer' is not None'\n",
            "  warnings.warn(\n"
          ]
        },
        {
          "output_type": "execute_result",
          "data": {
            "text/plain": [
              "CountVectorizer(tokenizer=<function my_tokenizer at 0x7b8f396fa710>)"
            ],
            "text/html": [
              "<style>#sk-container-id-1 {color: black;background-color: white;}#sk-container-id-1 pre{padding: 0;}#sk-container-id-1 div.sk-toggleable {background-color: white;}#sk-container-id-1 label.sk-toggleable__label {cursor: pointer;display: block;width: 100%;margin-bottom: 0;padding: 0.3em;box-sizing: border-box;text-align: center;}#sk-container-id-1 label.sk-toggleable__label-arrow:before {content: \"▸\";float: left;margin-right: 0.25em;color: #696969;}#sk-container-id-1 label.sk-toggleable__label-arrow:hover:before {color: black;}#sk-container-id-1 div.sk-estimator:hover label.sk-toggleable__label-arrow:before {color: black;}#sk-container-id-1 div.sk-toggleable__content {max-height: 0;max-width: 0;overflow: hidden;text-align: left;background-color: #f0f8ff;}#sk-container-id-1 div.sk-toggleable__content pre {margin: 0.2em;color: black;border-radius: 0.25em;background-color: #f0f8ff;}#sk-container-id-1 input.sk-toggleable__control:checked~div.sk-toggleable__content {max-height: 200px;max-width: 100%;overflow: auto;}#sk-container-id-1 input.sk-toggleable__control:checked~label.sk-toggleable__label-arrow:before {content: \"▾\";}#sk-container-id-1 div.sk-estimator input.sk-toggleable__control:checked~label.sk-toggleable__label {background-color: #d4ebff;}#sk-container-id-1 div.sk-label input.sk-toggleable__control:checked~label.sk-toggleable__label {background-color: #d4ebff;}#sk-container-id-1 input.sk-hidden--visually {border: 0;clip: rect(1px 1px 1px 1px);clip: rect(1px, 1px, 1px, 1px);height: 1px;margin: -1px;overflow: hidden;padding: 0;position: absolute;width: 1px;}#sk-container-id-1 div.sk-estimator {font-family: monospace;background-color: #f0f8ff;border: 1px dotted black;border-radius: 0.25em;box-sizing: border-box;margin-bottom: 0.5em;}#sk-container-id-1 div.sk-estimator:hover {background-color: #d4ebff;}#sk-container-id-1 div.sk-parallel-item::after {content: \"\";width: 100%;border-bottom: 1px solid gray;flex-grow: 1;}#sk-container-id-1 div.sk-label:hover label.sk-toggleable__label {background-color: #d4ebff;}#sk-container-id-1 div.sk-serial::before {content: \"\";position: absolute;border-left: 1px solid gray;box-sizing: border-box;top: 0;bottom: 0;left: 50%;z-index: 0;}#sk-container-id-1 div.sk-serial {display: flex;flex-direction: column;align-items: center;background-color: white;padding-right: 0.2em;padding-left: 0.2em;position: relative;}#sk-container-id-1 div.sk-item {position: relative;z-index: 1;}#sk-container-id-1 div.sk-parallel {display: flex;align-items: stretch;justify-content: center;background-color: white;position: relative;}#sk-container-id-1 div.sk-item::before, #sk-container-id-1 div.sk-parallel-item::before {content: \"\";position: absolute;border-left: 1px solid gray;box-sizing: border-box;top: 0;bottom: 0;left: 50%;z-index: -1;}#sk-container-id-1 div.sk-parallel-item {display: flex;flex-direction: column;z-index: 1;position: relative;background-color: white;}#sk-container-id-1 div.sk-parallel-item:first-child::after {align-self: flex-end;width: 50%;}#sk-container-id-1 div.sk-parallel-item:last-child::after {align-self: flex-start;width: 50%;}#sk-container-id-1 div.sk-parallel-item:only-child::after {width: 0;}#sk-container-id-1 div.sk-dashed-wrapped {border: 1px dashed gray;margin: 0 0.4em 0.5em 0.4em;box-sizing: border-box;padding-bottom: 0.4em;background-color: white;}#sk-container-id-1 div.sk-label label {font-family: monospace;font-weight: bold;display: inline-block;line-height: 1.2em;}#sk-container-id-1 div.sk-label-container {text-align: center;}#sk-container-id-1 div.sk-container {/* jupyter's `normalize.less` sets `[hidden] { display: none; }` but bootstrap.min.css set `[hidden] { display: none !important; }` so we also need the `!important` here to be able to override the default hidden behavior on the sphinx rendered scikit-learn.org. See: https://github.com/scikit-learn/scikit-learn/issues/21755 */display: inline-block !important;position: relative;}#sk-container-id-1 div.sk-text-repr-fallback {display: none;}</style><div id=\"sk-container-id-1\" class=\"sk-top-container\"><div class=\"sk-text-repr-fallback\"><pre>CountVectorizer(tokenizer=&lt;function my_tokenizer at 0x7b8f396fa710&gt;)</pre><b>In a Jupyter environment, please rerun this cell to show the HTML representation or trust the notebook. <br />On GitHub, the HTML representation is unable to render, please try loading this page with nbviewer.org.</b></div><div class=\"sk-container\" hidden><div class=\"sk-item\"><div class=\"sk-estimator sk-toggleable\"><input class=\"sk-toggleable__control sk-hidden--visually\" id=\"sk-estimator-id-1\" type=\"checkbox\" checked><label for=\"sk-estimator-id-1\" class=\"sk-toggleable__label sk-toggleable__label-arrow\">CountVectorizer</label><div class=\"sk-toggleable__content\"><pre>CountVectorizer(tokenizer=&lt;function my_tokenizer at 0x7b8f396fa710&gt;)</pre></div></div></div></div></div>"
            ]
          },
          "metadata": {},
          "execution_count": 37
        }
      ]
    },
    {
      "cell_type": "code",
      "source": [
        "cv.vocabulary_"
      ],
      "metadata": {
        "colab": {
          "base_uri": "https://localhost:8080/"
        },
        "id": "fl1wIiUo2vlE",
        "outputId": "137889ee-f86d-445b-fab2-b7ea3c1e9ec3"
      },
      "execution_count": null,
      "outputs": [
        {
          "output_type": "execute_result",
          "data": {
            "text/plain": [
              "{'먹고': 3,\n",
              " '싶은': 6,\n",
              " '바나나': 4,\n",
              " '사과': 5,\n",
              " '길고': 1,\n",
              " '노란': 2,\n",
              " '저': 7,\n",
              " '과일': 0,\n",
              " '좋아요': 8,\n",
              " '중': 9}"
            ]
          },
          "metadata": {},
          "execution_count": 38
        }
      ]
    },
    {
      "cell_type": "code",
      "source": [
        "texts_array=cv.transform(texts).toarray() # 사전 인덱스 맞추어 카운트 벡터 생성\n",
        "texts_array"
      ],
      "metadata": {
        "colab": {
          "base_uri": "https://localhost:8080/"
        },
        "id": "Rr2FJ5me2vE5",
        "outputId": "60bcb5b1-7c04-4ff9-8b1a-942b63bdc8b1"
      },
      "execution_count": null,
      "outputs": [
        {
          "output_type": "execute_result",
          "data": {
            "text/plain": [
              "array([[0, 0, 0, 1, 1, 0, 1, 0, 0, 0],\n",
              "       [0, 0, 0, 1, 0, 1, 1, 0, 0, 0],\n",
              "       [0, 1, 1, 0, 2, 0, 0, 0, 0, 0],\n",
              "       [1, 0, 0, 0, 0, 0, 0, 1, 1, 0],\n",
              "       [1, 0, 0, 0, 0, 1, 0, 0, 1, 1]])"
            ]
          },
          "metadata": {},
          "execution_count": 39
        }
      ]
    },
    {
      "cell_type": "code",
      "source": [
        "import numpy as np\n",
        "def cos_similarity(x,y):\n",
        "  return np.dot(x,y)/(np.linalg.norm(x)*np.linalg.norm(y))"
      ],
      "metadata": {
        "id": "DKOT914K3V6A"
      },
      "execution_count": null,
      "outputs": []
    },
    {
      "cell_type": "code",
      "source": [
        "for i in range(1,len(texts)):\n",
        "  print(cos_similarity(texts_array[0],texts_array[i]))"
      ],
      "metadata": {
        "colab": {
          "base_uri": "https://localhost:8080/"
        },
        "id": "9YSc2DFz40yz",
        "outputId": "4fbd9aa0-2326-4378-e65a-f0744225429e"
      },
      "execution_count": null,
      "outputs": [
        {
          "output_type": "stream",
          "name": "stdout",
          "text": [
            "0.6666666666666667\n",
            "0.47140452079103173\n",
            "0.0\n",
            "0.0\n"
          ]
        }
      ]
    },
    {
      "cell_type": "markdown",
      "source": [
        "#카운트 벡터와 벡터 유사도 를 이용한 비슷한 영화 추천"
      ],
      "metadata": {
        "id": "K4bmaPR55pwh"
      }
    },
    {
      "cell_type": "code",
      "source": [
        "import pandas as pd\n",
        "data=pd.read_csv(\"/content/drive/MyDrive/02.coding/01_3.수요예측 김은연 강사님/movies_metadata.csv\")\n",
        "data.info()"
      ],
      "metadata": {
        "colab": {
          "base_uri": "https://localhost:8080/"
        },
        "id": "PdlybEDh5pEk",
        "outputId": "8779839c-946f-46bf-9af1-3c7915c17506"
      },
      "execution_count": null,
      "outputs": [
        {
          "output_type": "stream",
          "name": "stderr",
          "text": [
            "<ipython-input-42-c3aa9b8a0981>:2: DtypeWarning: Columns (10) have mixed types. Specify dtype option on import or set low_memory=False.\n",
            "  data=pd.read_csv(\"/content/drive/MyDrive/02.coding/01_3.수요예측 김은연 강사님/movies_metadata.csv\")\n"
          ]
        },
        {
          "output_type": "stream",
          "name": "stdout",
          "text": [
            "<class 'pandas.core.frame.DataFrame'>\n",
            "RangeIndex: 45466 entries, 0 to 45465\n",
            "Data columns (total 24 columns):\n",
            " #   Column                 Non-Null Count  Dtype  \n",
            "---  ------                 --------------  -----  \n",
            " 0   adult                  45466 non-null  object \n",
            " 1   belongs_to_collection  4494 non-null   object \n",
            " 2   budget                 45466 non-null  object \n",
            " 3   genres                 45466 non-null  object \n",
            " 4   homepage               7782 non-null   object \n",
            " 5   id                     45466 non-null  object \n",
            " 6   imdb_id                45449 non-null  object \n",
            " 7   original_language      45455 non-null  object \n",
            " 8   original_title         45466 non-null  object \n",
            " 9   overview               44512 non-null  object \n",
            " 10  popularity             45461 non-null  object \n",
            " 11  poster_path            45080 non-null  object \n",
            " 12  production_companies   45463 non-null  object \n",
            " 13  production_countries   45463 non-null  object \n",
            " 14  release_date           45379 non-null  object \n",
            " 15  revenue                45460 non-null  float64\n",
            " 16  runtime                45203 non-null  float64\n",
            " 17  spoken_languages       45460 non-null  object \n",
            " 18  status                 45379 non-null  object \n",
            " 19  tagline                20412 non-null  object \n",
            " 20  title                  45460 non-null  object \n",
            " 21  video                  45460 non-null  object \n",
            " 22  vote_average           45460 non-null  float64\n",
            " 23  vote_count             45460 non-null  float64\n",
            "dtypes: float64(4), object(20)\n",
            "memory usage: 8.3+ MB\n"
          ]
        }
      ]
    },
    {
      "cell_type": "code",
      "source": [
        "data=data[[\"title\", \"overview\"]][:20000]\n",
        "data.head()"
      ],
      "metadata": {
        "colab": {
          "base_uri": "https://localhost:8080/",
          "height": 206
        },
        "id": "OzczAmiP8-b-",
        "outputId": "979aad6d-588e-452a-cef8-116fdbe5608c"
      },
      "execution_count": null,
      "outputs": [
        {
          "output_type": "execute_result",
          "data": {
            "text/plain": [
              "                         title  \\\n",
              "0                    Toy Story   \n",
              "1                      Jumanji   \n",
              "2             Grumpier Old Men   \n",
              "3            Waiting to Exhale   \n",
              "4  Father of the Bride Part II   \n",
              "\n",
              "                                            overview  \n",
              "0  Led by Woody, Andy's toys live happily in his ...  \n",
              "1  When siblings Judy and Peter discover an encha...  \n",
              "2  A family wedding reignites the ancient feud be...  \n",
              "3  Cheated on, mistreated and stepped on, the wom...  \n",
              "4  Just when George Banks has recovered from his ...  "
            ],
            "text/html": [
              "\n",
              "  <div id=\"df-b8affeb7-bde7-465a-87a8-4e32a4ae6efe\" class=\"colab-df-container\">\n",
              "    <div>\n",
              "<style scoped>\n",
              "    .dataframe tbody tr th:only-of-type {\n",
              "        vertical-align: middle;\n",
              "    }\n",
              "\n",
              "    .dataframe tbody tr th {\n",
              "        vertical-align: top;\n",
              "    }\n",
              "\n",
              "    .dataframe thead th {\n",
              "        text-align: right;\n",
              "    }\n",
              "</style>\n",
              "<table border=\"1\" class=\"dataframe\">\n",
              "  <thead>\n",
              "    <tr style=\"text-align: right;\">\n",
              "      <th></th>\n",
              "      <th>title</th>\n",
              "      <th>overview</th>\n",
              "    </tr>\n",
              "  </thead>\n",
              "  <tbody>\n",
              "    <tr>\n",
              "      <th>0</th>\n",
              "      <td>Toy Story</td>\n",
              "      <td>Led by Woody, Andy's toys live happily in his ...</td>\n",
              "    </tr>\n",
              "    <tr>\n",
              "      <th>1</th>\n",
              "      <td>Jumanji</td>\n",
              "      <td>When siblings Judy and Peter discover an encha...</td>\n",
              "    </tr>\n",
              "    <tr>\n",
              "      <th>2</th>\n",
              "      <td>Grumpier Old Men</td>\n",
              "      <td>A family wedding reignites the ancient feud be...</td>\n",
              "    </tr>\n",
              "    <tr>\n",
              "      <th>3</th>\n",
              "      <td>Waiting to Exhale</td>\n",
              "      <td>Cheated on, mistreated and stepped on, the wom...</td>\n",
              "    </tr>\n",
              "    <tr>\n",
              "      <th>4</th>\n",
              "      <td>Father of the Bride Part II</td>\n",
              "      <td>Just when George Banks has recovered from his ...</td>\n",
              "    </tr>\n",
              "  </tbody>\n",
              "</table>\n",
              "</div>\n",
              "    <div class=\"colab-df-buttons\">\n",
              "\n",
              "  <div class=\"colab-df-container\">\n",
              "    <button class=\"colab-df-convert\" onclick=\"convertToInteractive('df-b8affeb7-bde7-465a-87a8-4e32a4ae6efe')\"\n",
              "            title=\"Convert this dataframe to an interactive table.\"\n",
              "            style=\"display:none;\">\n",
              "\n",
              "  <svg xmlns=\"http://www.w3.org/2000/svg\" height=\"24px\" viewBox=\"0 -960 960 960\">\n",
              "    <path d=\"M120-120v-720h720v720H120Zm60-500h600v-160H180v160Zm220 220h160v-160H400v160Zm0 220h160v-160H400v160ZM180-400h160v-160H180v160Zm440 0h160v-160H620v160ZM180-180h160v-160H180v160Zm440 0h160v-160H620v160Z\"/>\n",
              "  </svg>\n",
              "    </button>\n",
              "\n",
              "  <style>\n",
              "    .colab-df-container {\n",
              "      display:flex;\n",
              "      gap: 12px;\n",
              "    }\n",
              "\n",
              "    .colab-df-convert {\n",
              "      background-color: #E8F0FE;\n",
              "      border: none;\n",
              "      border-radius: 50%;\n",
              "      cursor: pointer;\n",
              "      display: none;\n",
              "      fill: #1967D2;\n",
              "      height: 32px;\n",
              "      padding: 0 0 0 0;\n",
              "      width: 32px;\n",
              "    }\n",
              "\n",
              "    .colab-df-convert:hover {\n",
              "      background-color: #E2EBFA;\n",
              "      box-shadow: 0px 1px 2px rgba(60, 64, 67, 0.3), 0px 1px 3px 1px rgba(60, 64, 67, 0.15);\n",
              "      fill: #174EA6;\n",
              "    }\n",
              "\n",
              "    .colab-df-buttons div {\n",
              "      margin-bottom: 4px;\n",
              "    }\n",
              "\n",
              "    [theme=dark] .colab-df-convert {\n",
              "      background-color: #3B4455;\n",
              "      fill: #D2E3FC;\n",
              "    }\n",
              "\n",
              "    [theme=dark] .colab-df-convert:hover {\n",
              "      background-color: #434B5C;\n",
              "      box-shadow: 0px 1px 3px 1px rgba(0, 0, 0, 0.15);\n",
              "      filter: drop-shadow(0px 1px 2px rgba(0, 0, 0, 0.3));\n",
              "      fill: #FFFFFF;\n",
              "    }\n",
              "  </style>\n",
              "\n",
              "    <script>\n",
              "      const buttonEl =\n",
              "        document.querySelector('#df-b8affeb7-bde7-465a-87a8-4e32a4ae6efe button.colab-df-convert');\n",
              "      buttonEl.style.display =\n",
              "        google.colab.kernel.accessAllowed ? 'block' : 'none';\n",
              "\n",
              "      async function convertToInteractive(key) {\n",
              "        const element = document.querySelector('#df-b8affeb7-bde7-465a-87a8-4e32a4ae6efe');\n",
              "        const dataTable =\n",
              "          await google.colab.kernel.invokeFunction('convertToInteractive',\n",
              "                                                    [key], {});\n",
              "        if (!dataTable) return;\n",
              "\n",
              "        const docLinkHtml = 'Like what you see? Visit the ' +\n",
              "          '<a target=\"_blank\" href=https://colab.research.google.com/notebooks/data_table.ipynb>data table notebook</a>'\n",
              "          + ' to learn more about interactive tables.';\n",
              "        element.innerHTML = '';\n",
              "        dataTable['output_type'] = 'display_data';\n",
              "        await google.colab.output.renderOutput(dataTable, element);\n",
              "        const docLink = document.createElement('div');\n",
              "        docLink.innerHTML = docLinkHtml;\n",
              "        element.appendChild(docLink);\n",
              "      }\n",
              "    </script>\n",
              "  </div>\n",
              "\n",
              "\n",
              "<div id=\"df-c103a33f-fded-439b-8322-1f03e017b971\">\n",
              "  <button class=\"colab-df-quickchart\" onclick=\"quickchart('df-c103a33f-fded-439b-8322-1f03e017b971')\"\n",
              "            title=\"Suggest charts\"\n",
              "            style=\"display:none;\">\n",
              "\n",
              "<svg xmlns=\"http://www.w3.org/2000/svg\" height=\"24px\"viewBox=\"0 0 24 24\"\n",
              "     width=\"24px\">\n",
              "    <g>\n",
              "        <path d=\"M19 3H5c-1.1 0-2 .9-2 2v14c0 1.1.9 2 2 2h14c1.1 0 2-.9 2-2V5c0-1.1-.9-2-2-2zM9 17H7v-7h2v7zm4 0h-2V7h2v10zm4 0h-2v-4h2v4z\"/>\n",
              "    </g>\n",
              "</svg>\n",
              "  </button>\n",
              "\n",
              "<style>\n",
              "  .colab-df-quickchart {\n",
              "      --bg-color: #E8F0FE;\n",
              "      --fill-color: #1967D2;\n",
              "      --hover-bg-color: #E2EBFA;\n",
              "      --hover-fill-color: #174EA6;\n",
              "      --disabled-fill-color: #AAA;\n",
              "      --disabled-bg-color: #DDD;\n",
              "  }\n",
              "\n",
              "  [theme=dark] .colab-df-quickchart {\n",
              "      --bg-color: #3B4455;\n",
              "      --fill-color: #D2E3FC;\n",
              "      --hover-bg-color: #434B5C;\n",
              "      --hover-fill-color: #FFFFFF;\n",
              "      --disabled-bg-color: #3B4455;\n",
              "      --disabled-fill-color: #666;\n",
              "  }\n",
              "\n",
              "  .colab-df-quickchart {\n",
              "    background-color: var(--bg-color);\n",
              "    border: none;\n",
              "    border-radius: 50%;\n",
              "    cursor: pointer;\n",
              "    display: none;\n",
              "    fill: var(--fill-color);\n",
              "    height: 32px;\n",
              "    padding: 0;\n",
              "    width: 32px;\n",
              "  }\n",
              "\n",
              "  .colab-df-quickchart:hover {\n",
              "    background-color: var(--hover-bg-color);\n",
              "    box-shadow: 0 1px 2px rgba(60, 64, 67, 0.3), 0 1px 3px 1px rgba(60, 64, 67, 0.15);\n",
              "    fill: var(--button-hover-fill-color);\n",
              "  }\n",
              "\n",
              "  .colab-df-quickchart-complete:disabled,\n",
              "  .colab-df-quickchart-complete:disabled:hover {\n",
              "    background-color: var(--disabled-bg-color);\n",
              "    fill: var(--disabled-fill-color);\n",
              "    box-shadow: none;\n",
              "  }\n",
              "\n",
              "  .colab-df-spinner {\n",
              "    border: 2px solid var(--fill-color);\n",
              "    border-color: transparent;\n",
              "    border-bottom-color: var(--fill-color);\n",
              "    animation:\n",
              "      spin 1s steps(1) infinite;\n",
              "  }\n",
              "\n",
              "  @keyframes spin {\n",
              "    0% {\n",
              "      border-color: transparent;\n",
              "      border-bottom-color: var(--fill-color);\n",
              "      border-left-color: var(--fill-color);\n",
              "    }\n",
              "    20% {\n",
              "      border-color: transparent;\n",
              "      border-left-color: var(--fill-color);\n",
              "      border-top-color: var(--fill-color);\n",
              "    }\n",
              "    30% {\n",
              "      border-color: transparent;\n",
              "      border-left-color: var(--fill-color);\n",
              "      border-top-color: var(--fill-color);\n",
              "      border-right-color: var(--fill-color);\n",
              "    }\n",
              "    40% {\n",
              "      border-color: transparent;\n",
              "      border-right-color: var(--fill-color);\n",
              "      border-top-color: var(--fill-color);\n",
              "    }\n",
              "    60% {\n",
              "      border-color: transparent;\n",
              "      border-right-color: var(--fill-color);\n",
              "    }\n",
              "    80% {\n",
              "      border-color: transparent;\n",
              "      border-right-color: var(--fill-color);\n",
              "      border-bottom-color: var(--fill-color);\n",
              "    }\n",
              "    90% {\n",
              "      border-color: transparent;\n",
              "      border-bottom-color: var(--fill-color);\n",
              "    }\n",
              "  }\n",
              "</style>\n",
              "\n",
              "  <script>\n",
              "    async function quickchart(key) {\n",
              "      const quickchartButtonEl =\n",
              "        document.querySelector('#' + key + ' button');\n",
              "      quickchartButtonEl.disabled = true;  // To prevent multiple clicks.\n",
              "      quickchartButtonEl.classList.add('colab-df-spinner');\n",
              "      try {\n",
              "        const charts = await google.colab.kernel.invokeFunction(\n",
              "            'suggestCharts', [key], {});\n",
              "      } catch (error) {\n",
              "        console.error('Error during call to suggestCharts:', error);\n",
              "      }\n",
              "      quickchartButtonEl.classList.remove('colab-df-spinner');\n",
              "      quickchartButtonEl.classList.add('colab-df-quickchart-complete');\n",
              "    }\n",
              "    (() => {\n",
              "      let quickchartButtonEl =\n",
              "        document.querySelector('#df-c103a33f-fded-439b-8322-1f03e017b971 button');\n",
              "      quickchartButtonEl.style.display =\n",
              "        google.colab.kernel.accessAllowed ? 'block' : 'none';\n",
              "    })();\n",
              "  </script>\n",
              "</div>\n",
              "\n",
              "    </div>\n",
              "  </div>\n"
            ],
            "application/vnd.google.colaboratory.intrinsic+json": {
              "type": "dataframe",
              "variable_name": "data",
              "summary": "{\n  \"name\": \"data\",\n  \"rows\": 20000,\n  \"fields\": [\n    {\n      \"column\": \"title\",\n      \"properties\": {\n        \"dtype\": \"string\",\n        \"num_unique_values\": 19098,\n        \"samples\": [\n          \"New York Confidential\",\n          \"Bride & Prejudice\",\n          \"The Big City\"\n        ],\n        \"semantic_type\": \"\",\n        \"description\": \"\"\n      }\n    },\n    {\n      \"column\": \"overview\",\n      \"properties\": {\n        \"dtype\": \"string\",\n        \"num_unique_values\": 19820,\n        \"samples\": [\n          \"Thriller about Guy Luthan (Hugh Grant), a British doctor working at a hospital in New York who starts making unwanted enquiries when the body of a man who died in his emergency room disappears. The trail leads Luthan to the door of the eminent surgeon Dr Lawrence Myrick (Gene Hackman), but Luthan soon finds himself under in danger from people who want the hospital's secret to remain undiscovered.\",\n          \"The true story of how the Parkes Radio Telescope was used to relay the live television of man's first steps on the moon, during the Apollo 11 mission in 1969.\",\n          \"A batch of unhatched critter eggs are mistaken for Easter eggs by the country-folk inhabitants of Grover's Bend and, before long, the ferocious furballs are on the rampage again.\"\n        ],\n        \"semantic_type\": \"\",\n        \"description\": \"\"\n      }\n    }\n  ]\n}"
            }
          },
          "metadata": {},
          "execution_count": 43
        }
      ]
    },
    {
      "cell_type": "code",
      "source": [
        "data[\"overview\"]=data[\"overview\"].fillna(\"\")"
      ],
      "metadata": {
        "id": "eh9dG6V89bMh"
      },
      "execution_count": null,
      "outputs": []
    },
    {
      "cell_type": "code",
      "source": [
        "from sklearn.feature_extraction.text import CountVectorizer\n",
        "cv=CountVectorizer(stop_words=\"english\", max_features=1000 )\n",
        "count_vecs=cv.fit_transform(data[\"overview\"])\n",
        "count_vecs.shape"
      ],
      "metadata": {
        "colab": {
          "base_uri": "https://localhost:8080/"
        },
        "id": "5LKofpyZ9aux",
        "outputId": "b6cfb8a0-dbcf-412a-bf38-8ffd6eea12ef"
      },
      "execution_count": null,
      "outputs": [
        {
          "output_type": "execute_result",
          "data": {
            "text/plain": [
              "(20000, 1000)"
            ]
          },
          "metadata": {},
          "execution_count": 45
        }
      ]
    },
    {
      "cell_type": "code",
      "source": [
        "from sklearn.metrics.pairwise import linear_kernel\n",
        "sim_matrix=linear_kernel(count_vecs, count_vecs)\n",
        "sim_matrix.shape"
      ],
      "metadata": {
        "colab": {
          "base_uri": "https://localhost:8080/"
        },
        "id": "brfseKUF-2TT",
        "outputId": "b60ec0cc-8c8b-459f-abc1-3b3f9c5ea4af"
      },
      "execution_count": null,
      "outputs": [
        {
          "output_type": "execute_result",
          "data": {
            "text/plain": [
              "(20000, 20000)"
            ]
          },
          "metadata": {},
          "execution_count": 46
        }
      ]
    },
    {
      "cell_type": "code",
      "source": [
        "print(data.title[0])\n",
        "print(sim_matrix[0].argsort()[-10:])\n",
        "print(data.title[[ 3515,  6326,  6260,   621,  4766, 19875,  7993, 15437,   591,     0]])"
      ],
      "metadata": {
        "colab": {
          "base_uri": "https://localhost:8080/"
        },
        "id": "Hx3qrtkm_Lzv",
        "outputId": "fdc83301-1e85-4b7c-dd1b-51592fd5e4eb"
      },
      "execution_count": null,
      "outputs": [
        {
          "output_type": "stream",
          "name": "stdout",
          "text": [
            "Toy Story\n",
            "[ 3515  6326  6260   621  4766 19875  7993 15437   591     0]\n",
            "3515                                     Vagabond\n",
            "6326                           Opportunity Knocks\n",
            "6260                               Walk Don't Run\n",
            "621                                  Carried Away\n",
            "4766     Harry Potter and the Philosopher's Stone\n",
            "19875             Raw Deal: A Question Of Consent\n",
            "7993                                    The Super\n",
            "15437                                    Cool Air\n",
            "591                               Window to Paris\n",
            "0                                       Toy Story\n",
            "Name: title, dtype: object\n"
          ]
        }
      ]
    },
    {
      "cell_type": "code",
      "source": [
        "list(data.title).index('The Dark Knight Rises')"
      ],
      "metadata": {
        "colab": {
          "base_uri": "https://localhost:8080/"
        },
        "id": "0ab-vJUkAOmA",
        "outputId": "9404e755-366b-4edf-e85c-cc875bec027a"
      },
      "execution_count": null,
      "outputs": [
        {
          "output_type": "execute_result",
          "data": {
            "text/plain": [
              "18252"
            ]
          },
          "metadata": {},
          "execution_count": 48
        }
      ]
    },
    {
      "cell_type": "code",
      "source": [
        "print(sim_matrix[18252].argsort()[-10:])\n",
        "print(data.title[[ 14979, 14577, 11288, 19570, 15949, 16888, 11473, 15710, 12071, 18252]])"
      ],
      "metadata": {
        "colab": {
          "base_uri": "https://localhost:8080/"
        },
        "id": "z_29RtNQAn8b",
        "outputId": "0ff142f6-a6bc-4432-d43c-22b7d7cb531a"
      },
      "execution_count": null,
      "outputs": [
        {
          "output_type": "stream",
          "name": "stdout",
          "text": [
            "[14979 14577 11288 19570 15949 16888 11473 15710 12071 18252]\n",
            "14979                                       Blackwoods\n",
            "14577                                       The Minion\n",
            "11288     Flight from Death: The Quest for Immortality\n",
            "19570                                  Our City Dreams\n",
            "15949                                   Morning Patrol\n",
            "16888                              Hobo with a Shotgun\n",
            "11473    When the Levees Broke: A Requiem in Four Acts\n",
            "15710        If God Is Willing and da Creek Don't Rise\n",
            "12071                                   Tekkonkinkreet\n",
            "18252                            The Dark Knight Rises\n",
            "Name: title, dtype: object\n"
          ]
        }
      ]
    },
    {
      "cell_type": "code",
      "source": [
        "def recommend(title, sim_matrix=sim_matrix):\n",
        "  id=list(data.title).index(title)\n",
        "  idx=list(sim_matrix[id].argsort()[-10:])\n",
        "  return data.title[idx]\n",
        "recommend(\"The Dark Knight Rises\")"
      ],
      "metadata": {
        "colab": {
          "base_uri": "https://localhost:8080/"
        },
        "id": "doNdQC5jA-ku",
        "outputId": "f55e929f-d86b-4941-ae8a-83bb0f37ce93"
      },
      "execution_count": null,
      "outputs": [
        {
          "output_type": "execute_result",
          "data": {
            "text/plain": [
              "14979                                       Blackwoods\n",
              "14577                                       The Minion\n",
              "11288     Flight from Death: The Quest for Immortality\n",
              "19570                                  Our City Dreams\n",
              "15949                                   Morning Patrol\n",
              "16888                              Hobo with a Shotgun\n",
              "11473    When the Levees Broke: A Requiem in Four Acts\n",
              "15710        If God Is Willing and da Creek Don't Rise\n",
              "12071                                   Tekkonkinkreet\n",
              "18252                            The Dark Knight Rises\n",
              "Name: title, dtype: object"
            ]
          },
          "metadata": {},
          "execution_count": 50
        }
      ]
    },
    {
      "cell_type": "markdown",
      "source": [
        "# 토픽 모델링"
      ],
      "metadata": {
        "id": "TlKDhM_7FCC-"
      }
    },
    {
      "cell_type": "code",
      "source": [
        "from sklearn.decomposition import LatentDirichletAllocation # LDA 토픽 모델"
      ],
      "metadata": {
        "id": "wXXJQl-1ErCY"
      },
      "execution_count": null,
      "outputs": []
    },
    {
      "cell_type": "code",
      "source": [
        "import pandas as pd\n",
        "petitions=pd.read_csv(\"/content/drive/MyDrive/02.coding/01_3.수요예측 김은연 강사님/petition_sampled.csv\")\n",
        "petitions.info()"
      ],
      "metadata": {
        "colab": {
          "base_uri": "https://localhost:8080/"
        },
        "id": "S1SwzRDEJCY2",
        "outputId": "6087eddc-9c8c-4616-a03d-8466f4ae0987"
      },
      "execution_count": null,
      "outputs": [
        {
          "output_type": "stream",
          "name": "stdout",
          "text": [
            "<class 'pandas.core.frame.DataFrame'>\n",
            "RangeIndex: 18077 entries, 0 to 18076\n",
            "Data columns (total 8 columns):\n",
            " #   Column      Non-Null Count  Dtype \n",
            "---  ------      --------------  ----- \n",
            " 0   article_id  18077 non-null  int64 \n",
            " 1   start       18077 non-null  object\n",
            " 2   end         18077 non-null  object\n",
            " 3   answered    18077 non-null  int64 \n",
            " 4   votes       18077 non-null  int64 \n",
            " 5   category    18077 non-null  object\n",
            " 6   title       18077 non-null  object\n",
            " 7   content     18077 non-null  object\n",
            "dtypes: int64(3), object(5)\n",
            "memory usage: 1.1+ MB\n"
          ]
        }
      ]
    },
    {
      "cell_type": "code",
      "source": [
        "petitions[\"category\"].value_counts()"
      ],
      "metadata": {
        "colab": {
          "base_uri": "https://localhost:8080/"
        },
        "id": "4hdfVzyPJvao",
        "outputId": "2b60b791-ac6a-4e84-8e89-2ec409d99e2d"
      },
      "execution_count": null,
      "outputs": [
        {
          "output_type": "execute_result",
          "data": {
            "text/plain": [
              "category\n",
              "정치개혁           2845\n",
              "기타             2189\n",
              "인권/성평등         1611\n",
              "안전/환경          1350\n",
              "외교/통일/국방       1262\n",
              "교통/건축/국토       1262\n",
              "육아/교육          1219\n",
              "보건복지           1142\n",
              "일자리            1030\n",
              "행정              944\n",
              "문화/예술/체육/언론     886\n",
              "미래              821\n",
              "경제민주화           753\n",
              "성장동력            311\n",
              "저출산/고령화대책       192\n",
              "반려동물            177\n",
              "농산어촌             83\n",
              "Name: count, dtype: int64"
            ]
          },
          "metadata": {},
          "execution_count": 53
        }
      ]
    },
    {
      "cell_type": "code",
      "source": [
        "data=petitions[petitions[\"category\"]==\"교통/건축/국토\"][\"content\"]"
      ],
      "metadata": {
        "id": "XQ75CLCqL7qh"
      },
      "execution_count": null,
      "outputs": []
    },
    {
      "cell_type": "code",
      "source": [
        "data.head()"
      ],
      "metadata": {
        "colab": {
          "base_uri": "https://localhost:8080/"
        },
        "id": "36HyjQoyMOYv",
        "outputId": "12f3321f-62b5-4e2a-f155-9f24453f0664"
      },
      "execution_count": null,
      "outputs": [
        {
          "output_type": "execute_result",
          "data": {
            "text/plain": [
              "9      최근의 부동산시장 과열로 인한 정부의 대책들에 대해 일부 무리한 측면이 없는 것은 ...\n",
              "22     헌법재판소 판결내용을 보면 진입불가인 이유가 안전상의 이유로 현상황이 합헌이라는 판...\n",
              "39     양양오색케이블카 설치 반대합니다.\\n왜 자연을 있는 그대로 두지 않는지 이해가 되지...\n",
              "87     안녕하십니까\\n우선 국민의 소리에 귀기울여주는 국민청원이라는 소통의 장을 열어주셔서...\n",
              "551    안녕하십니까 대구 수성구지역에 아파트를 계약한 30대 평범한 직장인 입니다. 그 동...\n",
              "Name: content, dtype: object"
            ]
          },
          "metadata": {},
          "execution_count": 55
        }
      ]
    },
    {
      "cell_type": "code",
      "source": [
        "def my_tokenizer(text): # 명사만 추출하는 토큰화 정의\n",
        "  return [   word   for word,tag in okt.pos(text)  if tag  in  ['Noun'] ]\n",
        "from sklearn.feature_extraction.text import CountVectorizer # 단어 인덱스 사전 형성후 카운트 벡터 생성\n",
        "cv=CountVectorizer(tokenizer=my_tokenizer )\n",
        "count_vecs=cv.fit_transform(data)\n",
        "count_vecs.shape #(문서개수, 단어개수)"
      ],
      "metadata": {
        "colab": {
          "base_uri": "https://localhost:8080/"
        },
        "id": "olKa6gVDMUJc",
        "outputId": "076498d2-a2ca-45af-87d2-93f1ff4de4f9"
      },
      "execution_count": null,
      "outputs": [
        {
          "output_type": "stream",
          "name": "stderr",
          "text": [
            "/usr/local/lib/python3.10/dist-packages/sklearn/feature_extraction/text.py:528: UserWarning: The parameter 'token_pattern' will not be used since 'tokenizer' is not None'\n",
            "  warnings.warn(\n"
          ]
        },
        {
          "output_type": "execute_result",
          "data": {
            "text/plain": [
              "(1262, 10672)"
            ]
          },
          "metadata": {},
          "execution_count": 56
        }
      ]
    },
    {
      "cell_type": "code",
      "source": [
        "from sklearn.decomposition import LatentDirichletAllocation\n",
        "lda=LatentDirichletAllocation(n_components=4, random_state=0)\n",
        "topics=lda.fit_transform(count_vecs)"
      ],
      "metadata": {
        "id": "hvB_7hUrNvgj"
      },
      "execution_count": null,
      "outputs": []
    },
    {
      "cell_type": "code",
      "source": [
        "topics.shape"
      ],
      "metadata": {
        "colab": {
          "base_uri": "https://localhost:8080/"
        },
        "id": "CGmjvjH-RQl8",
        "outputId": "ee38e811-351f-4fa9-ecf6-b25ca055ac43"
      },
      "execution_count": null,
      "outputs": [
        {
          "output_type": "execute_result",
          "data": {
            "text/plain": [
              "(1262, 4)"
            ]
          },
          "metadata": {},
          "execution_count": 58
        }
      ]
    },
    {
      "cell_type": "code",
      "source": [
        "topics.argmax(axis=1)[:10]"
      ],
      "metadata": {
        "colab": {
          "base_uri": "https://localhost:8080/"
        },
        "id": "RCWX7-NLRZK8",
        "outputId": "0d087c6f-4b75-4a10-bd01-c5ceee607d34"
      },
      "execution_count": null,
      "outputs": [
        {
          "output_type": "execute_result",
          "data": {
            "text/plain": [
              "array([1, 2, 2, 2, 0, 3, 3, 1, 2, 3])"
            ]
          },
          "metadata": {},
          "execution_count": 59
        }
      ]
    },
    {
      "cell_type": "code",
      "source": [
        "topics.sum(axis=0)"
      ],
      "metadata": {
        "colab": {
          "base_uri": "https://localhost:8080/"
        },
        "id": "DGEBR3mARii8",
        "outputId": "1e35efd1-66a1-47ee-8354-9c72ab153cd9"
      },
      "execution_count": null,
      "outputs": [
        {
          "output_type": "execute_result",
          "data": {
            "text/plain": [
              "array([397.51349579, 270.2870516 , 363.63120276, 230.56824985])"
            ]
          },
          "metadata": {},
          "execution_count": 60
        }
      ]
    },
    {
      "cell_type": "code",
      "source": [
        "lda.components_.shape"
      ],
      "metadata": {
        "colab": {
          "base_uri": "https://localhost:8080/"
        },
        "id": "A02dVgs1Sdwb",
        "outputId": "b081c9d8-e65a-448c-db36-81c71ec6f2ba"
      },
      "execution_count": null,
      "outputs": [
        {
          "output_type": "execute_result",
          "data": {
            "text/plain": [
              "(4, 10672)"
            ]
          },
          "metadata": {},
          "execution_count": 61
        }
      ]
    },
    {
      "cell_type": "code",
      "source": [
        "d={}\n",
        "for word, idx in cv.vocabulary_.items():\n",
        "  d[idx]=word\n"
      ],
      "metadata": {
        "collapsed": true,
        "id": "39xQiXlwTBXh"
      },
      "execution_count": null,
      "outputs": []
    },
    {
      "cell_type": "code",
      "source": [
        "lst=list(lda.components_[0].argsort()[-20:])\n",
        "lst.reverse()\n",
        "topic_0=[d[idx] for idx in lst ]\n",
        "print(topic_0)"
      ],
      "metadata": {
        "colab": {
          "base_uri": "https://localhost:8080/"
        },
        "id": "lWmdpmldWQp2",
        "outputId": "1ce7d5db-7d5a-43e3-891a-100d05be90e5"
      },
      "execution_count": null,
      "outputs": [
        {
          "output_type": "stream",
          "name": "stdout",
          "text": [
            "['주택', '투기', '부동산', '집값', '아파트', '것', '정책', '정부', '집', '서울', '서민', '강남', '가격', '세금', '임대', '분양', '지역', '사람', '더', '대책']\n"
          ]
        }
      ]
    },
    {
      "cell_type": "code",
      "source": [
        "lst=list(lda.components_[1].argsort()[-20:])\n",
        "lst.reverse()\n",
        "topic_1=[d[idx] for idx in lst ]\n",
        "print(topic_1)"
      ],
      "metadata": {
        "colab": {
          "base_uri": "https://localhost:8080/"
        },
        "id": "cv3VvuMRS-hr",
        "outputId": "8ca0ac80-9b35-4ec8-90d3-f9a1df922e48"
      },
      "execution_count": null,
      "outputs": [
        {
          "output_type": "stream",
          "name": "stdout",
          "text": [
            "['것', '분양', '수', '아파트', '건설', '법', '등', '공사', '지역', '이', '사업', '및', '제', '주민', '그', '관리', '건물', '주택', '운영', '문제']\n"
          ]
        }
      ]
    },
    {
      "cell_type": "code",
      "source": [
        "lst=list(lda.components_[2].argsort()[-20:])\n",
        "lst.reverse()\n",
        "topic_2=[d[idx] for idx in lst ]\n",
        "print(topic_2)"
      ],
      "metadata": {
        "colab": {
          "base_uri": "https://localhost:8080/"
        },
        "id": "YaaMZSkuYQys",
        "outputId": "8e8a1bd7-37d8-4eaf-f2ba-57b0d1d2342f"
      },
      "execution_count": null,
      "outputs": [
        {
          "output_type": "stream",
          "name": "stdout",
          "text": [
            "['차량', '것', '생각', '사고', '도로', '수', '차', '사람', '제', '주차', '저', '자동차', '버스', '그', '문제', '국민', '보험', '운전', '단속', '이']\n"
          ]
        }
      ]
    },
    {
      "cell_type": "code",
      "source": [
        "lst=list(lda.components_[3].argsort()[-20:])\n",
        "lst.reverse()\n",
        "topic_3=[d[idx] for idx in lst ]\n",
        "print(topic_3)"
      ],
      "metadata": {
        "colab": {
          "base_uri": "https://localhost:8080/"
        },
        "id": "bxwYeVjLYUAD",
        "outputId": "6e6d0082-7b1a-4998-df94-2e6cadf4438a"
      },
      "execution_count": null,
      "outputs": [
        {
          "output_type": "stream",
          "name": "stdout",
          "text": [
            "['부동산', '것', '집', '정책', '정부', '사람', '수', '이', '저', '국민', '그', '대출', '지금', '저희', '계단', '상황', '우리', '택시', '위', '생각']\n"
          ]
        }
      ]
    },
    {
      "cell_type": "code",
      "source": [
        "# topic list\n",
        "print([topic_0, topic_1, topic_2, topic_3])\n"
      ],
      "metadata": {
        "colab": {
          "base_uri": "https://localhost:8080/"
        },
        "id": "ZQ3CMqarVl_V",
        "outputId": "603897f3-6aa8-4160-e9bd-f86dd35c735e"
      },
      "execution_count": null,
      "outputs": [
        {
          "output_type": "stream",
          "name": "stdout",
          "text": [
            "[['주택', '투기', '부동산', '집값', '아파트', '것', '정책', '정부', '집', '서울', '서민', '강남', '가격', '세금', '임대', '분양', '지역', '사람', '더', '대책'], ['것', '분양', '수', '아파트', '건설', '법', '등', '공사', '지역', '이', '사업', '및', '제', '주민', '그', '관리', '건물', '주택', '운영', '문제'], ['차량', '것', '생각', '사고', '도로', '수', '차', '사람', '제', '주차', '저', '자동차', '버스', '그', '문제', '국민', '보험', '운전', '단속', '이'], ['부동산', '것', '집', '정책', '정부', '사람', '수', '이', '저', '국민', '그', '대출', '지금', '저희', '계단', '상황', '우리', '택시', '위', '생각']]\n"
          ]
        }
      ]
    },
    {
      "cell_type": "code",
      "source": [],
      "metadata": {
        "id": "fnZnDdTZgZAw"
      },
      "execution_count": null,
      "outputs": []
    },
    {
      "cell_type": "markdown",
      "source": [
        "## 육아 교육 범주 주제 분석 4시 30분"
      ],
      "metadata": {
        "id": "KwQXx_0jgZhM"
      }
    },
    {
      "cell_type": "code",
      "source": [
        "data=petitions[petitions[\"category\"]==\"육아/교육\"][\"content\"]\n",
        "data.head()"
      ],
      "metadata": {
        "colab": {
          "base_uri": "https://localhost:8080/"
        },
        "id": "sw3agzQhWvhc",
        "outputId": "abafa93d-c70a-4cbf-c230-26971edff890"
      },
      "execution_count": null,
      "outputs": [
        {
          "output_type": "execute_result",
          "data": {
            "text/plain": [
              "2     저는 광주에 사는 중3 학생입니다. 고등학교 가기 직전의 학년이라 어느 때보다 고등...\n",
              "21    기회는 평등하게, 과정은 공정하게, 결과는 정의롭게~!\\n대통령님 안녕하세요. 유치...\n",
              "35    제 동생의 이야기 입니다.\\n동생은 토끼같은 남자 아이 두명과 마누라 밖에 모르는 ...\n",
              "38    현재 현직교원으로 재직 중인 교사입니다. 교사란 직업은 엄연히 임용고시라는 제도를 ...\n",
              "50    가정어린이집에 근무하고 있는 보육교사입니다.\\n우리는 어린이집에서 항상 '을'입니다...\n",
              "Name: content, dtype: object"
            ]
          },
          "metadata": {},
          "execution_count": 68
        }
      ]
    },
    {
      "cell_type": "code",
      "source": [
        "# count_vector 만들기\n",
        "cv=CountVectorizer(tokenizer=my_tokenizer )\n",
        "count_vecs=cv.fit_transform(data)\n",
        "count_vecs.shape"
      ],
      "metadata": {
        "colab": {
          "base_uri": "https://localhost:8080/"
        },
        "id": "kmrOF3zfjgB7",
        "outputId": "54a32824-4c2a-49d0-b993-2f2843fe79ce"
      },
      "execution_count": null,
      "outputs": [
        {
          "output_type": "execute_result",
          "data": {
            "text/plain": [
              "(1219, 9217)"
            ]
          },
          "metadata": {},
          "execution_count": 69
        }
      ]
    },
    {
      "cell_type": "code",
      "source": [
        "# LDA 모델 적용\n",
        "lda=LatentDirichletAllocation(n_components=5, random_state=0)\n",
        "topics=lda.fit_transform(count_vecs)"
      ],
      "metadata": {
        "id": "vc6HH2vOkHor"
      },
      "execution_count": null,
      "outputs": []
    },
    {
      "cell_type": "markdown",
      "source": [],
      "metadata": {
        "id": "4eKAZwJQkmbi"
      }
    },
    {
      "cell_type": "code",
      "source": [
        "# 단어: 인덱스 사전을 인덱스:단어 사전으로 변환:\\\n",
        "d={}\n",
        "for word, idx in cv.vocabulary_.items():\n",
        "  d[idx]=word\n",
        "d[8]"
      ],
      "metadata": {
        "colab": {
          "base_uri": "https://localhost:8080/",
          "height": 35
        },
        "id": "TC26sXObknFB",
        "outputId": "b433916f-14eb-4745-c76e-e3bd83eabe5b"
      },
      "execution_count": null,
      "outputs": [
        {
          "output_type": "execute_result",
          "data": {
            "text/plain": [
              "'가끔'"
            ],
            "application/vnd.google.colaboratory.intrinsic+json": {
              "type": "string"
            }
          },
          "metadata": {},
          "execution_count": 71
        }
      ]
    },
    {
      "cell_type": "code",
      "source": [
        "# 토픽 주제 단어 분포\n",
        "print(lda.components_.shape)\n",
        "topics=[]\n",
        "for i in range(lda.components_.shape[0]):\n",
        "  lst=list(lda.components_[i].argsort()[-20:])\n",
        "  lst.reverse()\n",
        "  topics.append([d[idx] for idx in lst ])\n",
        "print(topics)"
      ],
      "metadata": {
        "colab": {
          "base_uri": "https://localhost:8080/"
        },
        "id": "ZriR9nD-kU3t",
        "outputId": "38f02a87-584d-4185-87df-98e5c3141b96"
      },
      "execution_count": null,
      "outputs": [
        {
          "output_type": "stream",
          "name": "stdout",
          "text": [
            "(5, 9217)\n",
            "[['학교', '교육', '학생', '교사', '것', '교실', '학년', '사회', '수', '대학', '운영', '제안', '교복', '국민', '등', '우리', '대한', '방학', '평가', '이'], ['아이', '유치원', '것', '수', '어린이집', '생각', '정책', '지원', '부모', '그', '출산', '이', '정부', '자녀', '일', '저', '교육', '돈', '문제', '사람'], ['학생', '것', '교육', '수', '생각', '대학', '학교', '이', '공부', '그', '수능', '시험', '교사', '더', '제도', '문제', '말', '저', '전형', '등'], ['아이', '것', '저', '생각', '선생님', '학교', '수', '엄마', '제', '사람', '그', '부모', '더', '어린이집', '때', '말', '우리', '이', '때문', '일'], ['교사', '청소년', '법', '보육', '아이', '처벌', '학교', '폐지', '어린이집', '시간', '일', '보호', '제', '생각', '원장', '저', '사건', '수업', '근무', '것']]\n"
          ]
        }
      ]
    },
    {
      "cell_type": "code",
      "source": [
        "import pandas as pd\n",
        "\n",
        "data_df=pd.read_csv(\"/content/drive/MyDrive/02.coding/01_3.수요예측 김은연 강사님/연관분석 예제1.csv\")\n",
        "data_df.head()"
      ],
      "metadata": {
        "colab": {
          "base_uri": "https://localhost:8080/",
          "height": 206
        },
        "id": "noqx99a1ooYv",
        "outputId": "c118beb4-c83b-4a2b-a110-746016ccc6cb"
      },
      "execution_count": null,
      "outputs": [
        {
          "output_type": "execute_result",
          "data": {
            "text/plain": [
              "         Date  Key           Item\n",
              "0  2016-10-30    1          Bread\n",
              "1  2016-10-30    2   Scandinavian\n",
              "2  2016-10-30    2   Scandinavian\n",
              "3  2016-10-30    3  Hot chocolate\n",
              "4  2016-10-30    3            Jam"
            ],
            "text/html": [
              "\n",
              "  <div id=\"df-5eed5c8f-ab03-4d1a-9af8-f0d6dbc5a627\" class=\"colab-df-container\">\n",
              "    <div>\n",
              "<style scoped>\n",
              "    .dataframe tbody tr th:only-of-type {\n",
              "        vertical-align: middle;\n",
              "    }\n",
              "\n",
              "    .dataframe tbody tr th {\n",
              "        vertical-align: top;\n",
              "    }\n",
              "\n",
              "    .dataframe thead th {\n",
              "        text-align: right;\n",
              "    }\n",
              "</style>\n",
              "<table border=\"1\" class=\"dataframe\">\n",
              "  <thead>\n",
              "    <tr style=\"text-align: right;\">\n",
              "      <th></th>\n",
              "      <th>Date</th>\n",
              "      <th>Key</th>\n",
              "      <th>Item</th>\n",
              "    </tr>\n",
              "  </thead>\n",
              "  <tbody>\n",
              "    <tr>\n",
              "      <th>0</th>\n",
              "      <td>2016-10-30</td>\n",
              "      <td>1</td>\n",
              "      <td>Bread</td>\n",
              "    </tr>\n",
              "    <tr>\n",
              "      <th>1</th>\n",
              "      <td>2016-10-30</td>\n",
              "      <td>2</td>\n",
              "      <td>Scandinavian</td>\n",
              "    </tr>\n",
              "    <tr>\n",
              "      <th>2</th>\n",
              "      <td>2016-10-30</td>\n",
              "      <td>2</td>\n",
              "      <td>Scandinavian</td>\n",
              "    </tr>\n",
              "    <tr>\n",
              "      <th>3</th>\n",
              "      <td>2016-10-30</td>\n",
              "      <td>3</td>\n",
              "      <td>Hot chocolate</td>\n",
              "    </tr>\n",
              "    <tr>\n",
              "      <th>4</th>\n",
              "      <td>2016-10-30</td>\n",
              "      <td>3</td>\n",
              "      <td>Jam</td>\n",
              "    </tr>\n",
              "  </tbody>\n",
              "</table>\n",
              "</div>\n",
              "    <div class=\"colab-df-buttons\">\n",
              "\n",
              "  <div class=\"colab-df-container\">\n",
              "    <button class=\"colab-df-convert\" onclick=\"convertToInteractive('df-5eed5c8f-ab03-4d1a-9af8-f0d6dbc5a627')\"\n",
              "            title=\"Convert this dataframe to an interactive table.\"\n",
              "            style=\"display:none;\">\n",
              "\n",
              "  <svg xmlns=\"http://www.w3.org/2000/svg\" height=\"24px\" viewBox=\"0 -960 960 960\">\n",
              "    <path d=\"M120-120v-720h720v720H120Zm60-500h600v-160H180v160Zm220 220h160v-160H400v160Zm0 220h160v-160H400v160ZM180-400h160v-160H180v160Zm440 0h160v-160H620v160ZM180-180h160v-160H180v160Zm440 0h160v-160H620v160Z\"/>\n",
              "  </svg>\n",
              "    </button>\n",
              "\n",
              "  <style>\n",
              "    .colab-df-container {\n",
              "      display:flex;\n",
              "      gap: 12px;\n",
              "    }\n",
              "\n",
              "    .colab-df-convert {\n",
              "      background-color: #E8F0FE;\n",
              "      border: none;\n",
              "      border-radius: 50%;\n",
              "      cursor: pointer;\n",
              "      display: none;\n",
              "      fill: #1967D2;\n",
              "      height: 32px;\n",
              "      padding: 0 0 0 0;\n",
              "      width: 32px;\n",
              "    }\n",
              "\n",
              "    .colab-df-convert:hover {\n",
              "      background-color: #E2EBFA;\n",
              "      box-shadow: 0px 1px 2px rgba(60, 64, 67, 0.3), 0px 1px 3px 1px rgba(60, 64, 67, 0.15);\n",
              "      fill: #174EA6;\n",
              "    }\n",
              "\n",
              "    .colab-df-buttons div {\n",
              "      margin-bottom: 4px;\n",
              "    }\n",
              "\n",
              "    [theme=dark] .colab-df-convert {\n",
              "      background-color: #3B4455;\n",
              "      fill: #D2E3FC;\n",
              "    }\n",
              "\n",
              "    [theme=dark] .colab-df-convert:hover {\n",
              "      background-color: #434B5C;\n",
              "      box-shadow: 0px 1px 3px 1px rgba(0, 0, 0, 0.15);\n",
              "      filter: drop-shadow(0px 1px 2px rgba(0, 0, 0, 0.3));\n",
              "      fill: #FFFFFF;\n",
              "    }\n",
              "  </style>\n",
              "\n",
              "    <script>\n",
              "      const buttonEl =\n",
              "        document.querySelector('#df-5eed5c8f-ab03-4d1a-9af8-f0d6dbc5a627 button.colab-df-convert');\n",
              "      buttonEl.style.display =\n",
              "        google.colab.kernel.accessAllowed ? 'block' : 'none';\n",
              "\n",
              "      async function convertToInteractive(key) {\n",
              "        const element = document.querySelector('#df-5eed5c8f-ab03-4d1a-9af8-f0d6dbc5a627');\n",
              "        const dataTable =\n",
              "          await google.colab.kernel.invokeFunction('convertToInteractive',\n",
              "                                                    [key], {});\n",
              "        if (!dataTable) return;\n",
              "\n",
              "        const docLinkHtml = 'Like what you see? Visit the ' +\n",
              "          '<a target=\"_blank\" href=https://colab.research.google.com/notebooks/data_table.ipynb>data table notebook</a>'\n",
              "          + ' to learn more about interactive tables.';\n",
              "        element.innerHTML = '';\n",
              "        dataTable['output_type'] = 'display_data';\n",
              "        await google.colab.output.renderOutput(dataTable, element);\n",
              "        const docLink = document.createElement('div');\n",
              "        docLink.innerHTML = docLinkHtml;\n",
              "        element.appendChild(docLink);\n",
              "      }\n",
              "    </script>\n",
              "  </div>\n",
              "\n",
              "\n",
              "<div id=\"df-981a6924-c5b0-46a7-92d5-9d75006736d8\">\n",
              "  <button class=\"colab-df-quickchart\" onclick=\"quickchart('df-981a6924-c5b0-46a7-92d5-9d75006736d8')\"\n",
              "            title=\"Suggest charts\"\n",
              "            style=\"display:none;\">\n",
              "\n",
              "<svg xmlns=\"http://www.w3.org/2000/svg\" height=\"24px\"viewBox=\"0 0 24 24\"\n",
              "     width=\"24px\">\n",
              "    <g>\n",
              "        <path d=\"M19 3H5c-1.1 0-2 .9-2 2v14c0 1.1.9 2 2 2h14c1.1 0 2-.9 2-2V5c0-1.1-.9-2-2-2zM9 17H7v-7h2v7zm4 0h-2V7h2v10zm4 0h-2v-4h2v4z\"/>\n",
              "    </g>\n",
              "</svg>\n",
              "  </button>\n",
              "\n",
              "<style>\n",
              "  .colab-df-quickchart {\n",
              "      --bg-color: #E8F0FE;\n",
              "      --fill-color: #1967D2;\n",
              "      --hover-bg-color: #E2EBFA;\n",
              "      --hover-fill-color: #174EA6;\n",
              "      --disabled-fill-color: #AAA;\n",
              "      --disabled-bg-color: #DDD;\n",
              "  }\n",
              "\n",
              "  [theme=dark] .colab-df-quickchart {\n",
              "      --bg-color: #3B4455;\n",
              "      --fill-color: #D2E3FC;\n",
              "      --hover-bg-color: #434B5C;\n",
              "      --hover-fill-color: #FFFFFF;\n",
              "      --disabled-bg-color: #3B4455;\n",
              "      --disabled-fill-color: #666;\n",
              "  }\n",
              "\n",
              "  .colab-df-quickchart {\n",
              "    background-color: var(--bg-color);\n",
              "    border: none;\n",
              "    border-radius: 50%;\n",
              "    cursor: pointer;\n",
              "    display: none;\n",
              "    fill: var(--fill-color);\n",
              "    height: 32px;\n",
              "    padding: 0;\n",
              "    width: 32px;\n",
              "  }\n",
              "\n",
              "  .colab-df-quickchart:hover {\n",
              "    background-color: var(--hover-bg-color);\n",
              "    box-shadow: 0 1px 2px rgba(60, 64, 67, 0.3), 0 1px 3px 1px rgba(60, 64, 67, 0.15);\n",
              "    fill: var(--button-hover-fill-color);\n",
              "  }\n",
              "\n",
              "  .colab-df-quickchart-complete:disabled,\n",
              "  .colab-df-quickchart-complete:disabled:hover {\n",
              "    background-color: var(--disabled-bg-color);\n",
              "    fill: var(--disabled-fill-color);\n",
              "    box-shadow: none;\n",
              "  }\n",
              "\n",
              "  .colab-df-spinner {\n",
              "    border: 2px solid var(--fill-color);\n",
              "    border-color: transparent;\n",
              "    border-bottom-color: var(--fill-color);\n",
              "    animation:\n",
              "      spin 1s steps(1) infinite;\n",
              "  }\n",
              "\n",
              "  @keyframes spin {\n",
              "    0% {\n",
              "      border-color: transparent;\n",
              "      border-bottom-color: var(--fill-color);\n",
              "      border-left-color: var(--fill-color);\n",
              "    }\n",
              "    20% {\n",
              "      border-color: transparent;\n",
              "      border-left-color: var(--fill-color);\n",
              "      border-top-color: var(--fill-color);\n",
              "    }\n",
              "    30% {\n",
              "      border-color: transparent;\n",
              "      border-left-color: var(--fill-color);\n",
              "      border-top-color: var(--fill-color);\n",
              "      border-right-color: var(--fill-color);\n",
              "    }\n",
              "    40% {\n",
              "      border-color: transparent;\n",
              "      border-right-color: var(--fill-color);\n",
              "      border-top-color: var(--fill-color);\n",
              "    }\n",
              "    60% {\n",
              "      border-color: transparent;\n",
              "      border-right-color: var(--fill-color);\n",
              "    }\n",
              "    80% {\n",
              "      border-color: transparent;\n",
              "      border-right-color: var(--fill-color);\n",
              "      border-bottom-color: var(--fill-color);\n",
              "    }\n",
              "    90% {\n",
              "      border-color: transparent;\n",
              "      border-bottom-color: var(--fill-color);\n",
              "    }\n",
              "  }\n",
              "</style>\n",
              "\n",
              "  <script>\n",
              "    async function quickchart(key) {\n",
              "      const quickchartButtonEl =\n",
              "        document.querySelector('#' + key + ' button');\n",
              "      quickchartButtonEl.disabled = true;  // To prevent multiple clicks.\n",
              "      quickchartButtonEl.classList.add('colab-df-spinner');\n",
              "      try {\n",
              "        const charts = await google.colab.kernel.invokeFunction(\n",
              "            'suggestCharts', [key], {});\n",
              "      } catch (error) {\n",
              "        console.error('Error during call to suggestCharts:', error);\n",
              "      }\n",
              "      quickchartButtonEl.classList.remove('colab-df-spinner');\n",
              "      quickchartButtonEl.classList.add('colab-df-quickchart-complete');\n",
              "    }\n",
              "    (() => {\n",
              "      let quickchartButtonEl =\n",
              "        document.querySelector('#df-981a6924-c5b0-46a7-92d5-9d75006736d8 button');\n",
              "      quickchartButtonEl.style.display =\n",
              "        google.colab.kernel.accessAllowed ? 'block' : 'none';\n",
              "    })();\n",
              "  </script>\n",
              "</div>\n",
              "\n",
              "    </div>\n",
              "  </div>\n"
            ],
            "application/vnd.google.colaboratory.intrinsic+json": {
              "type": "dataframe",
              "variable_name": "data_df",
              "summary": "{\n  \"name\": \"data_df\",\n  \"rows\": 2999,\n  \"fields\": [\n    {\n      \"column\": \"Date\",\n      \"properties\": {\n        \"dtype\": \"object\",\n        \"num_unique_values\": 18,\n        \"samples\": [\n          \"2016-10-30\",\n          \"2016-10-31\",\n          \"2016-11-07\"\n        ],\n        \"semantic_type\": \"\",\n        \"description\": \"\"\n      }\n    },\n    {\n      \"column\": \"Key\",\n      \"properties\": {\n        \"dtype\": \"number\",\n        \"std\": 408,\n        \"min\": 1,\n        \"max\": 1411,\n        \"num_unique_values\": 1385,\n        \"samples\": [\n          1152,\n          240,\n          165\n        ],\n        \"semantic_type\": \"\",\n        \"description\": \"\"\n      }\n    },\n    {\n      \"column\": \"Item\",\n      \"properties\": {\n        \"dtype\": \"category\",\n        \"num_unique_values\": 50,\n        \"samples\": [\n          \"Mineral water\",\n          \"Empanadas\",\n          \"Sandwich\"\n        ],\n        \"semantic_type\": \"\",\n        \"description\": \"\"\n      }\n    }\n  ]\n}"
            }
          },
          "metadata": {},
          "execution_count": 73
        }
      ]
    },
    {
      "cell_type": "code",
      "source": [],
      "metadata": {
        "id": "VwF5m5RW3hRy"
      },
      "execution_count": null,
      "outputs": []
    }
  ]
}