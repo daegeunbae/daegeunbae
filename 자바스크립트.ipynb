{
  "nbformat": 4,
  "nbformat_minor": 0,
  "metadata": {
    "colab": {
      "provenance": [],
      "authorship_tag": "ABX9TyNZmNAfqXqJ9cMBVPyjImxL",
      "include_colab_link": true
    },
    "kernelspec": {
      "name": "python3",
      "display_name": "Python 3"
    },
    "language_info": {
      "name": "python"
    }
  },
  "cells": [
    {
      "cell_type": "markdown",
      "metadata": {
        "id": "view-in-github",
        "colab_type": "text"
      },
      "source": [
        "<a href=\"https://colab.research.google.com/github/daegeunbae/daegeunbae/blob/main/%EC%9E%90%EB%B0%94%EC%8A%A4%ED%81%AC%EB%A6%BD%ED%8A%B8.ipynb\" target=\"_parent\"><img src=\"https://colab.research.google.com/assets/colab-badge.svg\" alt=\"Open In Colab\"/></a>"
      ]
    },
    {
      "cell_type": "code",
      "execution_count": null,
      "metadata": {
        "id": "CNUYhy9SbOts"
      },
      "outputs": [],
      "source": [
        "query\t\t: 질의하다\n",
        "Javascript 코드에서 `$` 달러 표시는 변수명에 여타 알파벳처럼 사용할 수 있는 문자\n",
        "property\t\t: 객체 안에 선언된 이름과 값으로 이루어진 한 쌍을 의미\n",
        "Object = Property\t: 객체는 키 (Key)와 값 (Value)의 쌍으로 이루어진 데이터의 집합\n",
        "프로퍼티 name과 surname이 있는 객체 user\n",
        "let user = {\n",
        "  name: \"John\","
      ]
    }
  ]
}