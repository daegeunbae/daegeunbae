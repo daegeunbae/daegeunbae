{
  "nbformat": 4,
  "nbformat_minor": 0,
  "metadata": {
    "colab": {
      "name": "2022.02.09 BAE 영화정보불러오기05.ipynb",
      "provenance": [],
      "collapsed_sections": [],
      "mount_file_id": "1xyHKIXTt4qMdF_C5VUKOUugN7uhaA_zN",
      "authorship_tag": "ABX9TyMtDjANrLQg0SaTw/sK24jj",
      "include_colab_link": true
    },
    "kernelspec": {
      "name": "python3",
      "display_name": "Python 3"
    },
    "language_info": {
      "name": "python"
    }
  },
  "cells": [
    {
      "cell_type": "markdown",
      "metadata": {
        "id": "view-in-github",
        "colab_type": "text"
      },
      "source": [
        "<a href=\"https://colab.research.google.com/github/daegeunbae/daegeunbae/blob/main/2022_02_09_BAE_%EC%98%81%ED%99%94%EC%A0%95%EB%B3%B4%EB%B6%88%EB%9F%AC%EC%98%A4%EA%B8%B005.ipynb\" target=\"_parent\"><img src=\"https://colab.research.google.com/assets/colab-badge.svg\" alt=\"Open In Colab\"/></a>"
      ]
    },
    {
      "cell_type": "code",
      "execution_count": null,
      "metadata": {
        "id": "WuNjM61c1MJe"
      },
      "outputs": [],
      "source": [
        "from collections import deque"
      ]
    },
    {
      "cell_type": "code",
      "source": [
        "## kobis api : json\n",
        "#필요한 패키지들\n",
        "import pandas as pd\n",
        "import urllib.request # urllib, requests\n",
        "import json"
      ],
      "metadata": {
        "id": "fSZxO3XQFtTJ"
      },
      "execution_count": null,
      "outputs": []
    },
    {
      "cell_type": "code",
      "source": [
        "stock_price_DF = pd.DataFrame( #리뷰\n",
        "    data = [10000, 10300, 9900, 10500, 11000],\n",
        "    index = [\"2022-01-01\", \"2022-01-02\",\"2022-01-03\",\n",
        "             \"2022-01-04\", \"2022-01-5\"]\n",
        ")\n",
        "stock_price_DF"
      ],
      "metadata": {
        "id": "928XJu9OREod"
      },
      "execution_count": null,
      "outputs": []
    },
    {
      "cell_type": "code",
      "source": [
        ""
      ],
      "metadata": {
        "id": "hWIOc0LiFs7D"
      },
      "execution_count": null,
      "outputs": []
    },
    {
      "cell_type": "code",
      "source": [
        "N = 1000\n",
        "time = 100\n",
        "M = 1000 #M번에 대해서 pop, append\n",
        "\n",
        "#test에 사용할 list, Deque\n",
        "list_stack = list([ i for i in range(0, N)])\n",
        "deque_stack = list([ i for i in range(0, N)])\n",
        "\n",
        "#listf를 가지고 Stack으로 할때\n",
        "start_time = time.time()\n",
        "for _ in range(0,TIMES):\n",
        "    #M번에 대해서 원소를 추가append도 하고, 빼기도 : stack\n",
        "    for i in range(0,M):#M까지 넣는거에 대해서\n",
        "        list_stack.append(i)\n",
        "        list_stack.pop()\n",
        "print(\"List-Stack Run Time:\", time.time() - start_time()\n",
        "\n",
        "#Deque를 가지고 \n",
        "start_time = time.time()\n",
        "for _ in range(0,TIMES):\n",
        "    #M번에 대해서 원소를 추가append도 하고, 빼기도 : stack\n",
        "    for i in range(0,M):#M까지 넣는거에 대해서\n",
        "        deque_stack.append(i)\n",
        "        deque_stack.popleft()\n",
        "print(\"Deque-Stack Run Time:\", time.time() - start_time()\n",
        "\n"
      ],
      "metadata": {
        "colab": {
          "base_uri": "https://localhost:8080/",
          "height": 137
        },
        "id": "Vn4gGqn110Vz",
        "outputId": "6cacea37-050b-41e5-f5e0-8fcc5d62e7d6"
      },
      "execution_count": null,
      "outputs": [
        {
          "output_type": "error",
          "ename": "SyntaxError",
          "evalue": "ignored",
          "traceback": [
            "\u001b[0;36m  File \u001b[0;32m\"<ipython-input-6-aa81481cc0db>\"\u001b[0;36m, line \u001b[0;32m19\u001b[0m\n\u001b[0;31m    start_time = time.time()\u001b[0m\n\u001b[0m             ^\u001b[0m\n\u001b[0;31mSyntaxError\u001b[0m\u001b[0;31m:\u001b[0m invalid syntax\n"
          ]
        }
      ]
    },
    {
      "cell_type": "code",
      "source": [
        "#list를 가지고 Queue으로 할때\n",
        "start_time = time.time()\n",
        "for _ in range(0,TIMES):\n",
        "    for i in range(0,M): #M까지 넣는거에 대해서\n",
        "        list_queue.append(i)\n",
        "        list_queue.pop()\n",
        "print(\"List-queue Run Time:\", time.time() - start_time()\n",
        "\n",
        "#Deque를 가지고 \n",
        "start_time = time.time()\n",
        "for _ in range(0,TIMES):\n",
        "    for i in range(0,M): #M까지 넣는거에 대해서\n",
        "        deque_queue.append(i)\n",
        "        deque_queue.popleft()\n",
        "print(\"Deque-queue Run Time:\", time.time() - start_time()"
      ],
      "metadata": {
        "id": "O9IoSysB2OAL"
      },
      "execution_count": null,
      "outputs": []
    },
    {
      "cell_type": "code",
      "source": [
        "#백준 특정 도시 거리 찾기\n",
        "from collections import deque"
      ],
      "metadata": {
        "id": "oB_JJx1d48lr"
      },
      "execution_count": null,
      "outputs": []
    },
    {
      "cell_type": "code",
      "source": [
        "n,m,k,x = list(map(int,input(\"도시소,도로수,거리,시작도시\").split())\n",
        "print(n,m,k,x)"
      ],
      "metadata": {
        "colab": {
          "base_uri": "https://localhost:8080/",
          "height": 137
        },
        "id": "L7SFJE9l48oQ",
        "outputId": "3b25134a-1013-4a5c-9c58-98adbb6e1796"
      },
      "execution_count": null,
      "outputs": [
        {
          "output_type": "error",
          "ename": "SyntaxError",
          "evalue": "ignored",
          "traceback": [
            "\u001b[0;36m  File \u001b[0;32m\"<ipython-input-10-ad6283c0d22a>\"\u001b[0;36m, line \u001b[0;32m2\u001b[0m\n\u001b[0;31m    print(n,m,k,x)\u001b[0m\n\u001b[0m        ^\u001b[0m\n\u001b[0;31mSyntaxError\u001b[0m\u001b[0;31m:\u001b[0m invalid syntax\n"
          ]
        }
      ]
    },
    {
      "cell_type": "code",
      "source": [
        "(map(int,input().split())) -> 1,2,3,4 ->[1,2,3,4]"
      ],
      "metadata": {
        "colab": {
          "base_uri": "https://localhost:8080/",
          "height": 137
        },
        "id": "9Xg3ymjJ9mLs",
        "outputId": "4579ee81-3fd9-43c4-f45d-7071685329a3"
      },
      "execution_count": null,
      "outputs": [
        {
          "output_type": "error",
          "ename": "SyntaxError",
          "evalue": "ignored",
          "traceback": [
            "\u001b[0;36m  File \u001b[0;32m\"<ipython-input-16-aabb666738e8>\"\u001b[0;36m, line \u001b[0;32m1\u001b[0m\n\u001b[0;31m    (map(int,input().split())) -> 1,2,3,4 ->[1,2,3,4]\u001b[0m\n\u001b[0m                                ^\u001b[0m\n\u001b[0;31mSyntaxError\u001b[0m\u001b[0;31m:\u001b[0m invalid syntax\n"
          ]
        }
      ]
    },
    {
      "cell_type": "code",
      "source": [
        "#문제에서 1번 도시부터 N번 도시까지이니"
      ],
      "metadata": {
        "id": "BmVmMoGm9mOG"
      },
      "execution_count": null,
      "outputs": []
    },
    {
      "cell_type": "code",
      "source": [
        "#graph 지도에서 1번 인덱스 ~N번 인덱스에 각 도시를 연결\n",
        "#일단 0번 도시~ N번 도시까지 있다. 빈 그래프 생성\n",
        "graph = [ [] for _ in range(n+1)]\n",
        "# 도로의 개수에 대해서 \n",
        "for _ in range(m): \n",
        "    s, e = map(int, input(\"연결 s e\").split())\n",
        "    graph[s].append(e) #시작점과 종착점을 꽂아넣는다\n",
        "graph"
      ],
      "metadata": {
        "colab": {
          "base_uri": "https://localhost:8080/",
          "height": 248
        },
        "id": "X_ONsnQ7-_R2",
        "outputId": "841ce251-7bdf-4f73-ca15-f4e241d3306a"
      },
      "execution_count": null,
      "outputs": [
        {
          "output_type": "error",
          "ename": "NameError",
          "evalue": "ignored",
          "traceback": [
            "\u001b[0;31m---------------------------------------------------------------------------\u001b[0m",
            "\u001b[0;31mNameError\u001b[0m                                 Traceback (most recent call last)",
            "\u001b[0;32m<ipython-input-15-1d9465972032>\u001b[0m in \u001b[0;36m<module>\u001b[0;34m()\u001b[0m\n\u001b[1;32m      1\u001b[0m \u001b[0;31m#graph 지도에서 1번 인덱스 ~N번 인덱스에 각 도시를 연결\u001b[0m\u001b[0;34m\u001b[0m\u001b[0;34m\u001b[0m\u001b[0;34m\u001b[0m\u001b[0m\n\u001b[1;32m      2\u001b[0m \u001b[0;31m#일단 0번 도시~ N번 도시까지 있다. 빈 그래프 생성\u001b[0m\u001b[0;34m\u001b[0m\u001b[0;34m\u001b[0m\u001b[0;34m\u001b[0m\u001b[0m\n\u001b[0;32m----> 3\u001b[0;31m \u001b[0mgraph\u001b[0m \u001b[0;34m=\u001b[0m \u001b[0;34m[\u001b[0m \u001b[0;34m[\u001b[0m\u001b[0;34m]\u001b[0m \u001b[0;32mfor\u001b[0m \u001b[0m_\u001b[0m \u001b[0;32min\u001b[0m \u001b[0mrange\u001b[0m\u001b[0;34m(\u001b[0m\u001b[0mn\u001b[0m\u001b[0;34m+\u001b[0m\u001b[0;36m1\u001b[0m\u001b[0;34m)\u001b[0m\u001b[0;34m]\u001b[0m\u001b[0;34m\u001b[0m\u001b[0;34m\u001b[0m\u001b[0m\n\u001b[0m\u001b[1;32m      4\u001b[0m \u001b[0;31m# 도로의 개수에 대해서\u001b[0m\u001b[0;34m\u001b[0m\u001b[0;34m\u001b[0m\u001b[0;34m\u001b[0m\u001b[0m\n\u001b[1;32m      5\u001b[0m \u001b[0;32mfor\u001b[0m \u001b[0m_\u001b[0m \u001b[0;32min\u001b[0m \u001b[0mrange\u001b[0m\u001b[0;34m(\u001b[0m\u001b[0mm\u001b[0m\u001b[0;34m)\u001b[0m\u001b[0;34m:\u001b[0m\u001b[0;34m\u001b[0m\u001b[0;34m\u001b[0m\u001b[0m\n",
            "\u001b[0;31mNameError\u001b[0m: name 'n' is not defined"
          ]
        }
      ]
    },
    {
      "cell_type": "code",
      "source": [
        "graph"
      ],
      "metadata": {
        "colab": {
          "base_uri": "https://localhost:8080/",
          "height": 174
        },
        "id": "KViR5P91-_YP",
        "outputId": "ddc1c771-78b2-47dc-a97d-58438f97e606"
      },
      "execution_count": null,
      "outputs": [
        {
          "output_type": "error",
          "ename": "NameError",
          "evalue": "ignored",
          "traceback": [
            "\u001b[0;31m---------------------------------------------------------------------------\u001b[0m",
            "\u001b[0;31mNameError\u001b[0m                                 Traceback (most recent call last)",
            "\u001b[0;32m<ipython-input-17-e7bca803254d>\u001b[0m in \u001b[0;36m<module>\u001b[0;34m()\u001b[0m\n\u001b[0;32m----> 1\u001b[0;31m \u001b[0mgraph\u001b[0m\u001b[0;34m\u001b[0m\u001b[0;34m\u001b[0m\u001b[0m\n\u001b[0m",
            "\u001b[0;31mNameError\u001b[0m: name 'graph' is not defined"
          ]
        }
      ]
    },
    {
      "cell_type": "code",
      "source": [
        "graph[1]"
      ],
      "metadata": {
        "id": "U10qx5ml-_a9"
      },
      "execution_count": null,
      "outputs": []
    },
    {
      "cell_type": "code",
      "source": [
        "# 함수: 입력 출발도시 -> 주어진 graph에 따라서\n",
        "#       각 도시별 거리에 대한 정보를 출력\n",
        "#       입력은 출발도시, 출력: 각 도시별 거리, 방식은 BFS\n",
        "INF = float(\"inf\") \n",
        "def bfs_city(start):\n",
        "    ### 필요한 정보를 세팅 : To visit, Visited\n",
        "    #visited list : -> 각 도시별 거리에 대한 정보 -> \n",
        "    distance = [INF] * (n+1)\n",
        "    #방문목록: to visit list\n",
        "    q = deque()\n",
        "\n",
        "    #### 초기값 설정\n",
        "    q.append(start)\n",
        "    distance[start]=0\n",
        "\n",
        "    #to visit list 빌 때 까지\n",
        "    while q:\n",
        "        # 일단 1개 도시에서 -> 뽑아 popleft\n",
        "        now = q.popleft()\n",
        "        for next_node in graph[now]:                    #이동\n",
        "            if distance[next_node] == INF:              #온적이 없었다면\n",
        "                #거리갱신\n",
        "                distance[next_node] = distance[now] +1  #+1을 해주겠다\n",
        "                q.append(next_node)                     #집어 넣는\n",
        "        return distance\n"
      ],
      "metadata": {
        "id": "BqY9Kbq39mQt"
      },
      "execution_count": null,
      "outputs": []
    },
    {
      "cell_type": "code",
      "source": [
        "INF = float(\"inf\") \n",
        "[INF] * (n+1) #[INF] + [INF] +[INF] "
      ],
      "metadata": {
        "colab": {
          "base_uri": "https://localhost:8080/",
          "height": 193
        },
        "id": "lb3Z-kzVCuB9",
        "outputId": "da846397-87de-4465-ceb8-2ab9aca376a8"
      },
      "execution_count": null,
      "outputs": [
        {
          "output_type": "error",
          "ename": "NameError",
          "evalue": "ignored",
          "traceback": [
            "\u001b[0;31m---------------------------------------------------------------------------\u001b[0m",
            "\u001b[0;31mNameError\u001b[0m                                 Traceback (most recent call last)",
            "\u001b[0;32m<ipython-input-19-d223fd4bc80f>\u001b[0m in \u001b[0;36m<module>\u001b[0;34m()\u001b[0m\n\u001b[1;32m      1\u001b[0m \u001b[0mINF\u001b[0m \u001b[0;34m=\u001b[0m \u001b[0mfloat\u001b[0m\u001b[0;34m(\u001b[0m\u001b[0;34m\"inf\"\u001b[0m\u001b[0;34m)\u001b[0m\u001b[0;34m\u001b[0m\u001b[0;34m\u001b[0m\u001b[0m\n\u001b[0;32m----> 2\u001b[0;31m \u001b[0;34m[\u001b[0m\u001b[0mINF\u001b[0m\u001b[0;34m]\u001b[0m \u001b[0;34m*\u001b[0m \u001b[0;34m(\u001b[0m\u001b[0mn\u001b[0m\u001b[0;34m+\u001b[0m\u001b[0;36m1\u001b[0m\u001b[0;34m)\u001b[0m \u001b[0;31m#[INF] + [INF] +[INF]\u001b[0m\u001b[0;34m\u001b[0m\u001b[0;34m\u001b[0m\u001b[0m\n\u001b[0m",
            "\u001b[0;31mNameError\u001b[0m: name 'n' is not defined"
          ]
        }
      ]
    },
    {
      "cell_type": "code",
      "source": [
        "dis_result = bfs_city(x)\n",
        "dis_result"
      ],
      "metadata": {
        "colab": {
          "base_uri": "https://localhost:8080/",
          "height": 193
        },
        "id": "XUi-N9j_FAA0",
        "outputId": "fb0e5090-4053-48e9-f145-045faaa7a967"
      },
      "execution_count": null,
      "outputs": [
        {
          "output_type": "error",
          "ename": "NameError",
          "evalue": "ignored",
          "traceback": [
            "\u001b[0;31m---------------------------------------------------------------------------\u001b[0m",
            "\u001b[0;31mNameError\u001b[0m                                 Traceback (most recent call last)",
            "\u001b[0;32m<ipython-input-21-00c623d2a4ca>\u001b[0m in \u001b[0;36m<module>\u001b[0;34m()\u001b[0m\n\u001b[0;32m----> 1\u001b[0;31m \u001b[0mdis_result\u001b[0m \u001b[0;34m=\u001b[0m \u001b[0mbfs_city\u001b[0m\u001b[0;34m(\u001b[0m\u001b[0mx\u001b[0m\u001b[0;34m)\u001b[0m\u001b[0;34m\u001b[0m\u001b[0;34m\u001b[0m\u001b[0m\n\u001b[0m\u001b[1;32m      2\u001b[0m \u001b[0mdis_result\u001b[0m\u001b[0;34m\u001b[0m\u001b[0;34m\u001b[0m\u001b[0m\n",
            "\u001b[0;31mNameError\u001b[0m: name 'x' is not defined"
          ]
        }
      ]
    },
    {
      "cell_type": "code",
      "source": [
        "dis_k = [i for i, v in enumerate(dis_result) if v ==k ]\n",
        "#출력 양식\n",
        "if dis_k == []:\n",
        "    print(-1)\n",
        "else:\n",
        "    while dis_k:\n",
        "        print(dis_k.pop(0))"
      ],
      "metadata": {
        "colab": {
          "base_uri": "https://localhost:8080/",
          "height": 248
        },
        "id": "M4VlcxA6FADT",
        "outputId": "30652d8b-ba2d-4324-e93c-97babeeaefcd"
      },
      "execution_count": null,
      "outputs": [
        {
          "output_type": "error",
          "ename": "NameError",
          "evalue": "ignored",
          "traceback": [
            "\u001b[0;31m---------------------------------------------------------------------------\u001b[0m",
            "\u001b[0;31mNameError\u001b[0m                                 Traceback (most recent call last)",
            "\u001b[0;32m<ipython-input-22-5c1a8b80f398>\u001b[0m in \u001b[0;36m<module>\u001b[0;34m()\u001b[0m\n\u001b[0;32m----> 1\u001b[0;31m \u001b[0mdis_k\u001b[0m \u001b[0;34m=\u001b[0m \u001b[0;34m[\u001b[0m\u001b[0mi\u001b[0m \u001b[0;32mfor\u001b[0m \u001b[0mi\u001b[0m\u001b[0;34m,\u001b[0m \u001b[0mv\u001b[0m \u001b[0;32min\u001b[0m \u001b[0menumerate\u001b[0m\u001b[0;34m(\u001b[0m\u001b[0mdis_result\u001b[0m\u001b[0;34m)\u001b[0m \u001b[0;32mif\u001b[0m \u001b[0mv\u001b[0m \u001b[0;34m==\u001b[0m\u001b[0mk\u001b[0m \u001b[0;34m]\u001b[0m\u001b[0;34m\u001b[0m\u001b[0;34m\u001b[0m\u001b[0m\n\u001b[0m\u001b[1;32m      2\u001b[0m \u001b[0;31m#출력 양식\u001b[0m\u001b[0;34m\u001b[0m\u001b[0;34m\u001b[0m\u001b[0;34m\u001b[0m\u001b[0m\n\u001b[1;32m      3\u001b[0m \u001b[0;32mif\u001b[0m \u001b[0mdis_k\u001b[0m \u001b[0;34m==\u001b[0m \u001b[0;34m[\u001b[0m\u001b[0;34m]\u001b[0m\u001b[0;34m:\u001b[0m\u001b[0;34m\u001b[0m\u001b[0;34m\u001b[0m\u001b[0m\n\u001b[1;32m      4\u001b[0m     \u001b[0mprint\u001b[0m\u001b[0;34m(\u001b[0m\u001b[0;34m-\u001b[0m\u001b[0;36m1\u001b[0m\u001b[0;34m)\u001b[0m\u001b[0;34m\u001b[0m\u001b[0;34m\u001b[0m\u001b[0m\n\u001b[1;32m      5\u001b[0m \u001b[0;32melse\u001b[0m\u001b[0;34m:\u001b[0m\u001b[0;34m\u001b[0m\u001b[0;34m\u001b[0m\u001b[0m\n",
            "\u001b[0;31mNameError\u001b[0m: name 'dis_result' is not defined"
          ]
        }
      ]
    },
    {
      "cell_type": "code",
      "source": [
        "거리 계산, 최단거리 등에서는 "
      ],
      "metadata": {
        "id": "x9jhgA6UFAJl"
      },
      "execution_count": null,
      "outputs": []
    },
    {
      "cell_type": "code",
      "source": [
        "## kobis api : json\n",
        "#필요한 패키지들\n",
        "import pandas as pd\n",
        "import urllib.request # urllib, requests\n",
        "import json"
      ],
      "metadata": {
        "id": "lhUqilpJC27C"
      },
      "execution_count": null,
      "outputs": []
    },
    {
      "cell_type": "code",
      "source": [
        "#내가 요청할 url을 문자열로 생성\n",
        "url = \"https://kobis.or.kr/kobisopenapi/webservice/rest/movie/searchMovieList.json?key=16017155671c20ec5a59a6a52b651447&itemPerPage=20\"\n",
        "movie_page = urllib.request.urlopen(url)\n",
        "movie_data = json.loads(movie_page.read().decode(\"utf-8\"))\n",
        "movie_data"
      ],
      "metadata": {
        "colab": {
          "base_uri": "https://localhost:8080/"
        },
        "id": "uZMzELRPaxFY",
        "outputId": "7cad8430-0eeb-411e-e8e6-3b7e2a2cc0eb"
      },
      "execution_count": null,
      "outputs": [
        {
          "output_type": "execute_result",
          "data": {
            "text/plain": [
              "{'movieListResult': {'movieList': [{'companys': [],\n",
              "    'directors': [{'peopleNm': '김동하'}],\n",
              "    'genreAlt': '드라마',\n",
              "    'movieCd': '20203354',\n",
              "    'movieNm': '상규형이 하지 말랬어',\n",
              "    'movieNmEn': '',\n",
              "    'nationAlt': '한국',\n",
              "    'openDt': '',\n",
              "    'prdtStatNm': '기타',\n",
              "    'prdtYear': '2020',\n",
              "    'repGenreNm': '드라마',\n",
              "    'repNationNm': '한국',\n",
              "    'typeNm': '단편'},\n",
              "   {'companys': [],\n",
              "    'directors': [],\n",
              "    'genreAlt': '애니메이션',\n",
              "    'movieCd': '20223829',\n",
              "    'movieNm': '베르그프루',\n",
              "    'movieNmEn': 'Bergfrue',\n",
              "    'nationAlt': '한국',\n",
              "    'openDt': '',\n",
              "    'prdtStatNm': '기타',\n",
              "    'prdtYear': '2021',\n",
              "    'repGenreNm': '애니메이션',\n",
              "    'repNationNm': '한국',\n",
              "    'typeNm': '단편'},\n",
              "   {'companys': [{'companyCd': '20169190', 'companyNm': '(주)어뉴'},\n",
              "     {'companyCd': '20205861', 'companyNm': '오스카10스튜디오'}],\n",
              "    'directors': [{'peopleNm': '김정훈'}],\n",
              "    'genreAlt': '어드벤처,액션,코미디',\n",
              "    'movieCd': '20201965',\n",
              "    'movieNm': '해적: 도깨비 깃발',\n",
              "    'movieNmEn': 'The Pirates : The Last Royal Treasure',\n",
              "    'nationAlt': '한국',\n",
              "    'openDt': '20220126',\n",
              "    'prdtStatNm': '개봉',\n",
              "    'prdtYear': '2020',\n",
              "    'repGenreNm': '어드벤처',\n",
              "    'repNationNm': '한국',\n",
              "    'typeNm': '장편'},\n",
              "   {'companys': [{'companyCd': '20199861', 'companyNm': '주식회사 고래픽처스'}],\n",
              "    'directors': [{'peopleNm': '천명관'}],\n",
              "    'genreAlt': '범죄,드라마',\n",
              "    'movieCd': '20199500',\n",
              "    'movieNm': '뜨거운 피',\n",
              "    'movieNmEn': 'Hot Blooded',\n",
              "    'nationAlt': '한국',\n",
              "    'openDt': '',\n",
              "    'prdtStatNm': '후반작업',\n",
              "    'prdtYear': '2020',\n",
              "    'repGenreNm': '범죄',\n",
              "    'repNationNm': '한국',\n",
              "    'typeNm': '장편'},\n",
              "   {'companys': [],\n",
              "    'directors': [{'peopleNm': '강민구'}],\n",
              "    'genreAlt': '미스터리,드라마',\n",
              "    'movieCd': '20212704',\n",
              "    'movieNm': '뉴타운 생존자 수색작전',\n",
              "    'movieNmEn': 'Search operation: The New Town Survivor',\n",
              "    'nationAlt': '한국',\n",
              "    'openDt': '',\n",
              "    'prdtStatNm': '개봉준비',\n",
              "    'prdtYear': '2021',\n",
              "    'repGenreNm': '미스터리',\n",
              "    'repNationNm': '한국',\n",
              "    'typeNm': '장편'},\n",
              "   {'companys': [],\n",
              "    'directors': [{'peopleNm': '나가사키 켄지'}],\n",
              "    'genreAlt': '애니메이션',\n",
              "    'movieCd': '20223828',\n",
              "    'movieNm': '나의 히어로 아카데미아 더 무비: 월드 히어로즈 미션',\n",
              "    'movieNmEn': \"My Hero Academia: World Heroes' Mission\",\n",
              "    'nationAlt': '일본',\n",
              "    'openDt': '',\n",
              "    'prdtStatNm': '개봉예정',\n",
              "    'prdtYear': '2021',\n",
              "    'repGenreNm': '애니메이션',\n",
              "    'repNationNm': '일본',\n",
              "    'typeNm': '장편'},\n",
              "   {'companys': [],\n",
              "    'directors': [{'peopleNm': '박송열'}],\n",
              "    'genreAlt': '기타',\n",
              "    'movieCd': '20211542',\n",
              "    'movieNm': '낮에는 덥고 밤에는 춥고',\n",
              "    'movieNmEn': 'Hot in Day, Cold at Night',\n",
              "    'nationAlt': '한국',\n",
              "    'openDt': '',\n",
              "    'prdtStatNm': '기타',\n",
              "    'prdtYear': '2021',\n",
              "    'repGenreNm': '기타',\n",
              "    'repNationNm': '한국',\n",
              "    'typeNm': '장편'},\n",
              "   {'companys': [],\n",
              "    'directors': [{'peopleNm': '조던 필'}],\n",
              "    'genreAlt': '미스터리,공포(호러)',\n",
              "    'movieCd': '20219345',\n",
              "    'movieNm': '놉',\n",
              "    'movieNmEn': 'NOPE',\n",
              "    'nationAlt': '미국',\n",
              "    'openDt': '',\n",
              "    'prdtStatNm': '개봉예정',\n",
              "    'prdtYear': '2022',\n",
              "    'repGenreNm': '미스터리',\n",
              "    'repNationNm': '미국',\n",
              "    'typeNm': '장편'},\n",
              "   {'companys': [],\n",
              "    'directors': [{'peopleNm': '루이스 프리에토'}],\n",
              "    'genreAlt': '스릴러,범죄',\n",
              "    'movieCd': '20223288',\n",
              "    'movieNm': '셰터드',\n",
              "    'movieNmEn': 'Shattered',\n",
              "    'nationAlt': '미국',\n",
              "    'openDt': '',\n",
              "    'prdtStatNm': '개봉예정',\n",
              "    'prdtYear': '2022',\n",
              "    'repGenreNm': '스릴러',\n",
              "    'repNationNm': '미국',\n",
              "    'typeNm': '장편'},\n",
              "   {'companys': [],\n",
              "    'directors': [{'peopleNm': '루벤 플레셔'}],\n",
              "    'genreAlt': '액션,어드벤처',\n",
              "    'movieCd': '20211200',\n",
              "    'movieNm': '언차티드',\n",
              "    'movieNmEn': 'Uncharted',\n",
              "    'nationAlt': '미국',\n",
              "    'openDt': '20220216',\n",
              "    'prdtStatNm': '개봉예정',\n",
              "    'prdtYear': '2022',\n",
              "    'repGenreNm': '액션',\n",
              "    'repNationNm': '미국',\n",
              "    'typeNm': '장편'},\n",
              "   {'companys': [],\n",
              "    'directors': [{'peopleNm': '다니스 고렛'}],\n",
              "    'genreAlt': '스릴러,미스터리,드라마,SF',\n",
              "    'movieCd': '20223402',\n",
              "    'movieNm': '나이트 레이더스',\n",
              "    'movieNmEn': 'Night Raiders',\n",
              "    'nationAlt': '뉴질랜드',\n",
              "    'openDt': '',\n",
              "    'prdtStatNm': '개봉예정',\n",
              "    'prdtYear': '2021',\n",
              "    'repGenreNm': '스릴러',\n",
              "    'repNationNm': '뉴질랜드',\n",
              "    'typeNm': '장편'},\n",
              "   {'companys': [{'companyCd': '20030116', 'companyNm': '(주)연필로명상하기'}],\n",
              "    'directors': [{'peopleNm': '안재훈'}],\n",
              "    'genreAlt': '애니메이션,드라마',\n",
              "    'movieCd': '20223827',\n",
              "    'movieNm': '살아오름: 천년의 동행',\n",
              "    'movieNmEn': 'A Thousand Years Together',\n",
              "    'nationAlt': '한국',\n",
              "    'openDt': '',\n",
              "    'prdtStatNm': '후반작업',\n",
              "    'prdtYear': '2022',\n",
              "    'repGenreNm': '애니메이션',\n",
              "    'repNationNm': '한국',\n",
              "    'typeNm': '장편'},\n",
              "   {'companys': [],\n",
              "    'directors': [{'peopleNm': '사이먼 킨버그'}],\n",
              "    'genreAlt': '액션',\n",
              "    'movieCd': '20212836',\n",
              "    'movieNm': '355',\n",
              "    'movieNmEn': 'The 355',\n",
              "    'nationAlt': '미국',\n",
              "    'openDt': '20220209',\n",
              "    'prdtStatNm': '개봉',\n",
              "    'prdtYear': '2021',\n",
              "    'repGenreNm': '액션',\n",
              "    'repNationNm': '미국',\n",
              "    'typeNm': '장편'},\n",
              "   {'companys': [],\n",
              "    'directors': [],\n",
              "    'genreAlt': '액션',\n",
              "    'movieCd': '20223793',\n",
              "    'movieNm': '서유기: 손오공 홍해아 대전',\n",
              "    'movieNmEn': 'The Journey to the West: Red Boy',\n",
              "    'nationAlt': '중국',\n",
              "    'openDt': '',\n",
              "    'prdtStatNm': '개봉예정',\n",
              "    'prdtYear': '2021',\n",
              "    'repGenreNm': '액션',\n",
              "    'repNationNm': '중국',\n",
              "    'typeNm': '장편'},\n",
              "   {'companys': [],\n",
              "    'directors': [{'peopleNm': '정량'}],\n",
              "    'genreAlt': '애니메이션,판타지,어드벤처',\n",
              "    'movieCd': '20223266',\n",
              "    'movieNm': '애니멀 체인지',\n",
              "    'movieNmEn': 'The Wild Life',\n",
              "    'nationAlt': '중국',\n",
              "    'openDt': '20220209',\n",
              "    'prdtStatNm': '개봉',\n",
              "    'prdtYear': '2020',\n",
              "    'repGenreNm': '애니메이션',\n",
              "    'repNationNm': '중국',\n",
              "    'typeNm': '장편'},\n",
              "   {'companys': [],\n",
              "    'directors': [{'peopleNm': '구파도'}],\n",
              "    'genreAlt': '멜로/로맨스,액션,공포(호러),코미디,판타지',\n",
              "    'movieCd': '20219245',\n",
              "    'movieNm': '만년이 지나도 변하지 않는 게 있어',\n",
              "    'movieNmEn': 'Till We Meet Again',\n",
              "    'nationAlt': '대만',\n",
              "    'openDt': '20220209',\n",
              "    'prdtStatNm': '개봉',\n",
              "    'prdtYear': '2021',\n",
              "    'repGenreNm': '멜로/로맨스',\n",
              "    'repNationNm': '대만',\n",
              "    'typeNm': '장편'},\n",
              "   {'companys': [],\n",
              "    'directors': [{'peopleNm': '케네스 브래너'}],\n",
              "    'genreAlt': '범죄,드라마,미스터리',\n",
              "    'movieCd': '20205443',\n",
              "    'movieNm': '나일 강의 죽음',\n",
              "    'movieNmEn': 'Death on the Nile',\n",
              "    'nationAlt': '미국',\n",
              "    'openDt': '20220209',\n",
              "    'prdtStatNm': '개봉',\n",
              "    'prdtYear': '2021',\n",
              "    'repGenreNm': '범죄',\n",
              "    'repNationNm': '미국',\n",
              "    'typeNm': '장편'},\n",
              "   {'companys': [],\n",
              "    'directors': [],\n",
              "    'genreAlt': '멜로/로맨스',\n",
              "    'movieCd': '20212871',\n",
              "    'movieNm': '가슴이 떨리는 건 너 때문',\n",
              "    'movieNmEn': '',\n",
              "    'nationAlt': '일본',\n",
              "    'openDt': '20220209',\n",
              "    'prdtStatNm': '개봉',\n",
              "    'prdtYear': '2021',\n",
              "    'repGenreNm': '멜로/로맨스',\n",
              "    'repNationNm': '일본',\n",
              "    'typeNm': '장편'},\n",
              "   {'companys': [{'companyCd': '20217881', 'companyNm': '(주)샤이커뮤니케이션즈'}],\n",
              "    'directors': [{'peopleNm': '강현성'}],\n",
              "    'genreAlt': '성인물(에로)',\n",
              "    'movieCd': '20223691',\n",
              "    'movieNm': '퇴폐의 온상 은밀한 만남',\n",
              "    'movieNmEn': '',\n",
              "    'nationAlt': '한국',\n",
              "    'openDt': '20220208',\n",
              "    'prdtStatNm': '개봉',\n",
              "    'prdtYear': '2021',\n",
              "    'repGenreNm': '성인물(에로)',\n",
              "    'repNationNm': '한국',\n",
              "    'typeNm': '장편'},\n",
              "   {'companys': [{'companyCd': '20141911', 'companyNm': '(주)뮤직엔닷컴'}],\n",
              "    'directors': [{'peopleNm': '제너럴리스트'}],\n",
              "    'genreAlt': '성인물(에로)',\n",
              "    'movieCd': '20223724',\n",
              "    'movieNm': '몸으로 대출 갚는 유부녀',\n",
              "    'movieNmEn': '',\n",
              "    'nationAlt': '한국',\n",
              "    'openDt': '20220208',\n",
              "    'prdtStatNm': '개봉',\n",
              "    'prdtYear': '2021',\n",
              "    'repGenreNm': '성인물(에로)',\n",
              "    'repNationNm': '한국',\n",
              "    'typeNm': '장편'}],\n",
              "  'source': '영화진흥위원회',\n",
              "  'totCnt': 86450}}"
            ]
          },
          "metadata": {},
          "execution_count": 71
        }
      ]
    },
    {
      "cell_type": "code",
      "source": [
        "movie_data[\"movieListResult\"]"
      ],
      "metadata": {
        "colab": {
          "base_uri": "https://localhost:8080/"
        },
        "id": "_dy0jzz2wO6o",
        "outputId": "46891f93-fa22-43f2-ef92-93def2a13e88"
      },
      "execution_count": null,
      "outputs": [
        {
          "output_type": "execute_result",
          "data": {
            "text/plain": [
              "{'movieList': [{'companys': [{'companyCd': '20030116',\n",
              "     'companyNm': '(주)연필로명상하기'}],\n",
              "   'directors': [{'peopleNm': '안재훈'}],\n",
              "   'genreAlt': '애니메이션,드라마',\n",
              "   'movieCd': '20223827',\n",
              "   'movieNm': '살아오름: 천년의 동행',\n",
              "   'movieNmEn': 'A Thousand Years Together',\n",
              "   'nationAlt': '한국',\n",
              "   'openDt': '',\n",
              "   'prdtStatNm': '후반작업',\n",
              "   'prdtYear': '2022',\n",
              "   'repGenreNm': '애니메이션',\n",
              "   'repNationNm': '한국',\n",
              "   'typeNm': '장편'},\n",
              "  {'companys': [],\n",
              "   'directors': [{'peopleNm': '사이먼 킨버그'}],\n",
              "   'genreAlt': '액션',\n",
              "   'movieCd': '20212836',\n",
              "   'movieNm': '355',\n",
              "   'movieNmEn': 'The 355',\n",
              "   'nationAlt': '미국',\n",
              "   'openDt': '20220209',\n",
              "   'prdtStatNm': '개봉',\n",
              "   'prdtYear': '2021',\n",
              "   'repGenreNm': '액션',\n",
              "   'repNationNm': '미국',\n",
              "   'typeNm': '장편'},\n",
              "  {'companys': [{'companyCd': '20169190', 'companyNm': '(주)어뉴'},\n",
              "    {'companyCd': '20205861', 'companyNm': '오스카10스튜디오'}],\n",
              "   'directors': [{'peopleNm': '김정훈'}],\n",
              "   'genreAlt': '어드벤처,액션,코미디',\n",
              "   'movieCd': '20201965',\n",
              "   'movieNm': '해적: 도깨비 깃발',\n",
              "   'movieNmEn': 'The Pirates : The Last Royal Treasure',\n",
              "   'nationAlt': '한국',\n",
              "   'openDt': '20220126',\n",
              "   'prdtStatNm': '개봉',\n",
              "   'prdtYear': '2020',\n",
              "   'repGenreNm': '어드벤처',\n",
              "   'repNationNm': '한국',\n",
              "   'typeNm': '장편'},\n",
              "  {'companys': [],\n",
              "   'directors': [],\n",
              "   'genreAlt': '액션',\n",
              "   'movieCd': '20223793',\n",
              "   'movieNm': '서유기: 손오공 홍해아 대전',\n",
              "   'movieNmEn': 'The Journey to the West: Red Boy',\n",
              "   'nationAlt': '중국',\n",
              "   'openDt': '',\n",
              "   'prdtStatNm': '개봉예정',\n",
              "   'prdtYear': '2021',\n",
              "   'repGenreNm': '액션',\n",
              "   'repNationNm': '중국',\n",
              "   'typeNm': '장편'},\n",
              "  {'companys': [],\n",
              "   'directors': [{'peopleNm': '정량'}],\n",
              "   'genreAlt': '애니메이션,판타지,어드벤처',\n",
              "   'movieCd': '20223266',\n",
              "   'movieNm': '애니멀 체인지',\n",
              "   'movieNmEn': 'The Wild Life',\n",
              "   'nationAlt': '중국',\n",
              "   'openDt': '20220209',\n",
              "   'prdtStatNm': '개봉',\n",
              "   'prdtYear': '2020',\n",
              "   'repGenreNm': '애니메이션',\n",
              "   'repNationNm': '중국',\n",
              "   'typeNm': '장편'},\n",
              "  {'companys': [],\n",
              "   'directors': [{'peopleNm': '구파도'}],\n",
              "   'genreAlt': '멜로/로맨스,액션,공포(호러),코미디,판타지',\n",
              "   'movieCd': '20219245',\n",
              "   'movieNm': '만년이 지나도 변하지 않는 게 있어',\n",
              "   'movieNmEn': 'Till We Meet Again',\n",
              "   'nationAlt': '대만',\n",
              "   'openDt': '20220209',\n",
              "   'prdtStatNm': '개봉',\n",
              "   'prdtYear': '2021',\n",
              "   'repGenreNm': '멜로/로맨스',\n",
              "   'repNationNm': '대만',\n",
              "   'typeNm': '장편'},\n",
              "  {'companys': [],\n",
              "   'directors': [{'peopleNm': '케네스 브래너'}],\n",
              "   'genreAlt': '범죄,드라마,미스터리',\n",
              "   'movieCd': '20205443',\n",
              "   'movieNm': '나일 강의 죽음',\n",
              "   'movieNmEn': 'Death on the Nile',\n",
              "   'nationAlt': '미국',\n",
              "   'openDt': '20220209',\n",
              "   'prdtStatNm': '개봉',\n",
              "   'prdtYear': '2021',\n",
              "   'repGenreNm': '범죄',\n",
              "   'repNationNm': '미국',\n",
              "   'typeNm': '장편'},\n",
              "  {'companys': [],\n",
              "   'directors': [],\n",
              "   'genreAlt': '멜로/로맨스',\n",
              "   'movieCd': '20212871',\n",
              "   'movieNm': '가슴이 떨리는 건 너 때문',\n",
              "   'movieNmEn': '',\n",
              "   'nationAlt': '일본',\n",
              "   'openDt': '20220209',\n",
              "   'prdtStatNm': '개봉',\n",
              "   'prdtYear': '2021',\n",
              "   'repGenreNm': '멜로/로맨스',\n",
              "   'repNationNm': '일본',\n",
              "   'typeNm': '장편'},\n",
              "  {'companys': [{'companyCd': '20217881', 'companyNm': '(주)샤이커뮤니케이션즈'}],\n",
              "   'directors': [{'peopleNm': '강현성'}],\n",
              "   'genreAlt': '성인물(에로)',\n",
              "   'movieCd': '20223691',\n",
              "   'movieNm': '퇴폐의 온상 은밀한 만남',\n",
              "   'movieNmEn': '',\n",
              "   'nationAlt': '한국',\n",
              "   'openDt': '20220208',\n",
              "   'prdtStatNm': '개봉',\n",
              "   'prdtYear': '2021',\n",
              "   'repGenreNm': '성인물(에로)',\n",
              "   'repNationNm': '한국',\n",
              "   'typeNm': '장편'},\n",
              "  {'companys': [{'companyCd': '20141911', 'companyNm': '(주)뮤직엔닷컴'}],\n",
              "   'directors': [{'peopleNm': '제너럴리스트'}],\n",
              "   'genreAlt': '성인물(에로)',\n",
              "   'movieCd': '20223724',\n",
              "   'movieNm': '몸으로 대출 갚는 유부녀',\n",
              "   'movieNmEn': '',\n",
              "   'nationAlt': '한국',\n",
              "   'openDt': '20220208',\n",
              "   'prdtStatNm': '개봉',\n",
              "   'prdtYear': '2021',\n",
              "   'repGenreNm': '성인물(에로)',\n",
              "   'repNationNm': '한국',\n",
              "   'typeNm': '장편'},\n",
              "  {'companys': [{'companyCd': '20157008', 'companyNm': '(주)픽쳐레스크'}],\n",
              "   'directors': [{'peopleNm': '김기환'}],\n",
              "   'genreAlt': '멜로/로맨스,성인물(에로),드라마',\n",
              "   'movieCd': '20223808',\n",
              "   'movieNm': '레트로 6969',\n",
              "   'movieNmEn': '',\n",
              "   'nationAlt': '한국',\n",
              "   'openDt': '20220208',\n",
              "   'prdtStatNm': '개봉',\n",
              "   'prdtYear': '2021',\n",
              "   'repGenreNm': '멜로/로맨스',\n",
              "   'repNationNm': '한국',\n",
              "   'typeNm': '장편'},\n",
              "  {'companys': [],\n",
              "   'directors': [],\n",
              "   'genreAlt': '성인물(에로)',\n",
              "   'movieCd': '20223725',\n",
              "   'movieNm': '남편이 데려온 나를 괴롭히는 남자',\n",
              "   'movieNmEn': '',\n",
              "   'nationAlt': '일본',\n",
              "   'openDt': '',\n",
              "   'prdtStatNm': '기타',\n",
              "   'prdtYear': '2021',\n",
              "   'repGenreNm': '성인물(에로)',\n",
              "   'repNationNm': '일본',\n",
              "   'typeNm': '장편'},\n",
              "  {'companys': [{'companyCd': '20217881', 'companyNm': '(주)샤이커뮤니케이션즈'}],\n",
              "   'directors': [{'peopleNm': '강현성'}],\n",
              "   'genreAlt': '성인물(에로)',\n",
              "   'movieCd': '20223674',\n",
              "   'movieNm': '그녀의 육체 앞에 무너진 이성',\n",
              "   'movieNmEn': '',\n",
              "   'nationAlt': '한국',\n",
              "   'openDt': '20220208',\n",
              "   'prdtStatNm': '개봉',\n",
              "   'prdtYear': '2021',\n",
              "   'repGenreNm': '성인물(에로)',\n",
              "   'repNationNm': '한국',\n",
              "   'typeNm': '장편'},\n",
              "  {'companys': [],\n",
              "   'directors': [{'peopleNm': '한선희'}],\n",
              "   'genreAlt': '기타',\n",
              "   'movieCd': '20212569',\n",
              "   'movieNm': '거북이와 여자들',\n",
              "   'movieNmEn': 'Transmigration: the Turtle and the Women',\n",
              "   'nationAlt': '한국',\n",
              "   'openDt': '',\n",
              "   'prdtStatNm': '기타',\n",
              "   'prdtYear': '2021',\n",
              "   'repGenreNm': '기타',\n",
              "   'repNationNm': '한국',\n",
              "   'typeNm': '단편'},\n",
              "  {'companys': [],\n",
              "   'directors': [{'peopleNm': '김양희'}],\n",
              "   'genreAlt': '기타',\n",
              "   'movieCd': '20212570',\n",
              "   'movieNm': '내일의 연인들',\n",
              "   'movieNmEn': 'tomorrow’s lovers',\n",
              "   'nationAlt': '한국',\n",
              "   'openDt': '',\n",
              "   'prdtStatNm': '기타',\n",
              "   'prdtYear': '2021',\n",
              "   'repGenreNm': '기타',\n",
              "   'repNationNm': '한국',\n",
              "   'typeNm': '단편'},\n",
              "  {'companys': [],\n",
              "   'directors': [{'peopleNm': '장승욱'}],\n",
              "   'genreAlt': '애니메이션',\n",
              "   'movieCd': '20212572',\n",
              "   'movieNm': '바다 위의 별',\n",
              "   'movieNmEn': 'Stars on the Sea',\n",
              "   'nationAlt': '한국',\n",
              "   'openDt': '',\n",
              "   'prdtStatNm': '기타',\n",
              "   'prdtYear': '2021',\n",
              "   'repGenreNm': '애니메이션',\n",
              "   'repNationNm': '한국',\n",
              "   'typeNm': '단편'},\n",
              "  {'companys': [],\n",
              "   'directors': [{'peopleNm': '함유선'}],\n",
              "   'genreAlt': '다큐멘터리',\n",
              "   'movieCd': '20212585',\n",
              "   'movieNm': '평화가 사람 속을 걸어다니네',\n",
              "   'movieNmEn': 'Peace is Walking through The People',\n",
              "   'nationAlt': '한국',\n",
              "   'openDt': '',\n",
              "   'prdtStatNm': '기타',\n",
              "   'prdtYear': '2021',\n",
              "   'repGenreNm': '다큐멘터리',\n",
              "   'repNationNm': '한국',\n",
              "   'typeNm': '단편'},\n",
              "  {'companys': [],\n",
              "   'directors': [{'peopleNm': '구소정'}],\n",
              "   'genreAlt': '기타',\n",
              "   'movieCd': '20223826',\n",
              "   'movieNm': '애완거미',\n",
              "   'movieNmEn': 'Pet Spider',\n",
              "   'nationAlt': '한국',\n",
              "   'openDt': '',\n",
              "   'prdtStatNm': '기타',\n",
              "   'prdtYear': '2020',\n",
              "   'repGenreNm': '기타',\n",
              "   'repNationNm': '한국',\n",
              "   'typeNm': '단편'},\n",
              "  {'companys': [],\n",
              "   'directors': [{'peopleNm': '최윤호'}],\n",
              "   'genreAlt': '기타',\n",
              "   'movieCd': '20223832',\n",
              "   'movieNm': '소녀,안녕',\n",
              "   'movieNmEn': 'Farewell, Girl',\n",
              "   'nationAlt': '한국',\n",
              "   'openDt': '',\n",
              "   'prdtStatNm': '기타',\n",
              "   'prdtYear': '2021',\n",
              "   'repGenreNm': '기타',\n",
              "   'repNationNm': '한국',\n",
              "   'typeNm': '단편'},\n",
              "  {'companys': [],\n",
              "   'directors': [{'peopleNm': '김지곤'}],\n",
              "   'genreAlt': '다큐멘터리',\n",
              "   'movieCd': '20212064',\n",
              "   'movieNm': '여기, 나의 정원',\n",
              "   'movieNmEn': 'Here, My Garden',\n",
              "   'nationAlt': '한국',\n",
              "   'openDt': '',\n",
              "   'prdtStatNm': '기타',\n",
              "   'prdtYear': '2021',\n",
              "   'repGenreNm': '다큐멘터리',\n",
              "   'repNationNm': '한국',\n",
              "   'typeNm': '단편'}],\n",
              " 'source': '영화진흥위원회',\n",
              " 'totCnt': 86448}"
            ]
          },
          "metadata": {},
          "execution_count": 33
        }
      ]
    },
    {
      "cell_type": "code",
      "source": [
        "movie_page.read().decode(\"utf-8\")\n",
        "temp[\"movieListResult\"]"
      ],
      "metadata": {
        "colab": {
          "base_uri": "https://localhost:8080/",
          "height": 193
        },
        "id": "dDFdZLb8brT8",
        "outputId": "cf17fb6a-c089-4bb9-b3d0-9ebce0cea6db"
      },
      "execution_count": null,
      "outputs": [
        {
          "output_type": "error",
          "ename": "NameError",
          "evalue": "ignored",
          "traceback": [
            "\u001b[0;31m---------------------------------------------------------------------------\u001b[0m",
            "\u001b[0;31mNameError\u001b[0m                                 Traceback (most recent call last)",
            "\u001b[0;32m<ipython-input-32-3b0f64a1d514>\u001b[0m in \u001b[0;36m<module>\u001b[0;34m()\u001b[0m\n\u001b[1;32m      1\u001b[0m \u001b[0mmovie_page\u001b[0m\u001b[0;34m.\u001b[0m\u001b[0mread\u001b[0m\u001b[0;34m(\u001b[0m\u001b[0;34m)\u001b[0m\u001b[0;34m.\u001b[0m\u001b[0mdecode\u001b[0m\u001b[0;34m(\u001b[0m\u001b[0;34m\"utf-8\"\u001b[0m\u001b[0;34m)\u001b[0m\u001b[0;34m\u001b[0m\u001b[0;34m\u001b[0m\u001b[0m\n\u001b[0;32m----> 2\u001b[0;31m \u001b[0mtemp\u001b[0m\u001b[0;34m[\u001b[0m\u001b[0;34m\"movieListResult\"\u001b[0m\u001b[0;34m]\u001b[0m\u001b[0;34m\u001b[0m\u001b[0;34m\u001b[0m\u001b[0m\n\u001b[0m",
            "\u001b[0;31mNameError\u001b[0m: name 'temp' is not defined"
          ]
        }
      ]
    },
    {
      "cell_type": "code",
      "source": [
        "# 내가 20개의 영화를 요청을 했는데,\n",
        "# 정말 20개 보냈는지 체크~~~\n",
        "movie_data[\"movieListResult\"].keys()"
      ],
      "metadata": {
        "colab": {
          "base_uri": "https://localhost:8080/"
        },
        "id": "iutTq_QcbrWr",
        "outputId": "3509e711-49d8-4866-b795-7f590017ff59"
      },
      "execution_count": null,
      "outputs": [
        {
          "output_type": "execute_result",
          "data": {
            "text/plain": [
              "dict_keys(['totCnt', 'source', 'movieList'])"
            ]
          },
          "metadata": {},
          "execution_count": 90
        }
      ]
    },
    {
      "cell_type": "code",
      "source": [
        "len(movie_data[\"movieListResult\"][\"movieList\"])"
      ],
      "metadata": {
        "colab": {
          "base_uri": "https://localhost:8080/"
        },
        "id": "eEf2XerHwXxI",
        "outputId": "7633d012-8624-46d6-9042-c43bb21f4ed6"
      },
      "execution_count": null,
      "outputs": [
        {
          "output_type": "execute_result",
          "data": {
            "text/plain": [
              "20"
            ]
          },
          "metadata": {},
          "execution_count": 35
        }
      ]
    },
    {
      "cell_type": "code",
      "source": [
        "# 받은 데이터 중에서 제일 처음 영화에 접근\n",
        "movie_data[\"movieListResult\"][\"movieList\"][0]"
      ],
      "metadata": {
        "colab": {
          "base_uri": "https://localhost:8080/"
        },
        "id": "hbnMrxYLdwtb",
        "outputId": "cff66d47-488e-426b-e32d-acd806e9ad48"
      },
      "execution_count": null,
      "outputs": [
        {
          "output_type": "execute_result",
          "data": {
            "text/plain": [
              "{'companys': [{'companyCd': '20030116', 'companyNm': '(주)연필로명상하기'}],\n",
              " 'directors': [{'peopleNm': '안재훈'}],\n",
              " 'genreAlt': '애니메이션,드라마',\n",
              " 'movieCd': '20223827',\n",
              " 'movieNm': '살아오름: 천년의 동행',\n",
              " 'movieNmEn': 'A Thousand Years Together',\n",
              " 'nationAlt': '한국',\n",
              " 'openDt': '',\n",
              " 'prdtStatNm': '후반작업',\n",
              " 'prdtYear': '2022',\n",
              " 'repGenreNm': '애니메이션',\n",
              " 'repNationNm': '한국',\n",
              " 'typeNm': '장편'}"
            ]
          },
          "metadata": {},
          "execution_count": 37
        }
      ]
    },
    {
      "cell_type": "code",
      "source": [
        "#영화 이름은?\n",
        "movie_data[\"movieListResult\"][\"movieList\"][0][\"movieNm\"]"
      ],
      "metadata": {
        "colab": {
          "base_uri": "https://localhost:8080/",
          "height": 35
        },
        "id": "1VWpjvAKdwv4",
        "outputId": "9d5d6dda-f880-4b0b-a16e-f6a22f1a368f"
      },
      "execution_count": null,
      "outputs": [
        {
          "output_type": "execute_result",
          "data": {
            "application/vnd.google.colaboratory.intrinsic+json": {
              "type": "string"
            },
            "text/plain": [
              "'살아오름: 천년의 동행'"
            ]
          },
          "metadata": {},
          "execution_count": 40
        }
      ]
    },
    {
      "cell_type": "code",
      "source": [
        "#영화 영문 이름은?\n",
        "movie_data[\"movieListResult\"][\"movieList\"][0][\"movieNmEn\"]"
      ],
      "metadata": {
        "colab": {
          "base_uri": "https://localhost:8080/",
          "height": 35
        },
        "id": "FlVIfa78dwyN",
        "outputId": "7f1ea359-2e02-4da8-c9a9-9462a74b909d"
      },
      "execution_count": null,
      "outputs": [
        {
          "output_type": "execute_result",
          "data": {
            "application/vnd.google.colaboratory.intrinsic+json": {
              "type": "string"
            },
            "text/plain": [
              "'A Thousand Years Together'"
            ]
          },
          "metadata": {},
          "execution_count": 41
        }
      ]
    },
    {
      "cell_type": "code",
      "source": [
        "#1번 영화에서\n",
        "#감독이 여러명이면 1번 감독에 대한 이름 출력"
      ],
      "metadata": {
        "id": "lupeaikRdw2H"
      },
      "execution_count": null,
      "outputs": []
    },
    {
      "cell_type": "code",
      "source": [
        "movie_data[\"movieListResult\"]"
      ],
      "metadata": {
        "id": "ctLdlw0Vdw4s"
      },
      "execution_count": null,
      "outputs": []
    },
    {
      "cell_type": "code",
      "source": [
        "movie_data[\"movieListResult\"][\"movieList\"][0][\"directors\"][0][\"peopleNm\"]"
      ],
      "metadata": {
        "colab": {
          "base_uri": "https://localhost:8080/",
          "height": 35
        },
        "id": "GTbxdvBodw7O",
        "outputId": "bd89e341-8f54-48d1-efef-f7931afcefea"
      },
      "execution_count": null,
      "outputs": [
        {
          "output_type": "execute_result",
          "data": {
            "application/vnd.google.colaboratory.intrinsic+json": {
              "type": "string"
            },
            "text/plain": [
              "'안재훈'"
            ]
          },
          "metadata": {},
          "execution_count": 43
        }
      ]
    },
    {
      "cell_type": "code",
      "source": [
        "# 아래의 정보들을 출력하세요.\n",
        "# 1) 5번째 영화의 코드값 : movieCd\n",
        "# 2) 5번쨰 영화의 국문명 : movieNm\n",
        "# 3) 5번째 영화의 영문명 : \n",
        "# 4) 5번째 영화의 개봉일 : \n",
        "# 5) "
      ],
      "metadata": {
        "id": "GpkHPrWMy3na"
      },
      "execution_count": null,
      "outputs": []
    },
    {
      "cell_type": "code",
      "source": [
        "# 1) 5번째 영화의 코드값 : movieCd\n",
        "movie_data[\"movieListResult\"][\"movieList\"][5][\"movieCd\"]"
      ],
      "metadata": {
        "colab": {
          "base_uri": "https://localhost:8080/",
          "height": 35
        },
        "id": "DqtBn_aiz7St",
        "outputId": "baa12d68-4853-406f-a3ca-2f107ffb87a9"
      },
      "execution_count": null,
      "outputs": [
        {
          "output_type": "execute_result",
          "data": {
            "application/vnd.google.colaboratory.intrinsic+json": {
              "type": "string"
            },
            "text/plain": [
              "'20219245'"
            ]
          },
          "metadata": {},
          "execution_count": 45
        }
      ]
    },
    {
      "cell_type": "code",
      "source": [
        "# 2) 5번쨰 영화의 국문명 : movieNm\n",
        "movie_data[\"movieListResult\"][\"movieList\"][5][\"movieNm\"]"
      ],
      "metadata": {
        "colab": {
          "base_uri": "https://localhost:8080/",
          "height": 35
        },
        "id": "awYbkUxZz7VC",
        "outputId": "b2a0c276-df31-4f97-c3c9-d26ee4a28acd"
      },
      "execution_count": null,
      "outputs": [
        {
          "output_type": "execute_result",
          "data": {
            "application/vnd.google.colaboratory.intrinsic+json": {
              "type": "string"
            },
            "text/plain": [
              "'만년이 지나도 변하지 않는 게 있어'"
            ]
          },
          "metadata": {},
          "execution_count": 46
        }
      ]
    },
    {
      "cell_type": "code",
      "source": [
        "# 3) 5번째 영화의 영문명 : movieNmEn\n",
        "movie_data[\"movieListResult\"][\"movieList\"][5][\"movieNmEn\"]"
      ],
      "metadata": {
        "colab": {
          "base_uri": "https://localhost:8080/",
          "height": 35
        },
        "id": "XyJ1jTPlz7Xh",
        "outputId": "fd0aae14-0636-4661-b779-c92bc4673424"
      },
      "execution_count": null,
      "outputs": [
        {
          "output_type": "execute_result",
          "data": {
            "application/vnd.google.colaboratory.intrinsic+json": {
              "type": "string"
            },
            "text/plain": [
              "'Till We Meet Again'"
            ]
          },
          "metadata": {},
          "execution_count": 47
        }
      ]
    },
    {
      "cell_type": "code",
      "source": [
        "# 4) 5번째 영화의 개봉일 : openDt\n",
        "movie_data[\"movieListResult\"][\"movieList\"][5][\"openDt\"]"
      ],
      "metadata": {
        "colab": {
          "base_uri": "https://localhost:8080/",
          "height": 35
        },
        "id": "1KMbjXKCz7dH",
        "outputId": "f659260b-87a3-4d2d-cafe-41a25c1a9a5d"
      },
      "execution_count": null,
      "outputs": [
        {
          "output_type": "execute_result",
          "data": {
            "application/vnd.google.colaboratory.intrinsic+json": {
              "type": "string"
            },
            "text/plain": [
              "'20220209'"
            ]
          },
          "metadata": {},
          "execution_count": 48
        }
      ]
    },
    {
      "cell_type": "code",
      "source": [
        "temp = movie_data[\"movieListResult\"][\"movieList\"][4]\n",
        "temp"
      ],
      "metadata": {
        "colab": {
          "base_uri": "https://localhost:8080/"
        },
        "id": "DV3K01zS0V3P",
        "outputId": "265ff1b0-5ccd-4c50-c0ae-e0e84b907fa7"
      },
      "execution_count": null,
      "outputs": [
        {
          "output_type": "execute_result",
          "data": {
            "text/plain": [
              "{'companys': [],\n",
              " 'directors': [{'peopleNm': '정량'}],\n",
              " 'genreAlt': '애니메이션,판타지,어드벤처',\n",
              " 'movieCd': '20223266',\n",
              " 'movieNm': '애니멀 체인지',\n",
              " 'movieNmEn': 'The Wild Life',\n",
              " 'nationAlt': '중국',\n",
              " 'openDt': '20220209',\n",
              " 'prdtStatNm': '개봉',\n",
              " 'prdtYear': '2020',\n",
              " 'repGenreNm': '애니메이션',\n",
              " 'repNationNm': '중국',\n",
              " 'typeNm': '장편'}"
            ]
          },
          "metadata": {},
          "execution_count": 50
        }
      ]
    },
    {
      "cell_type": "code",
      "source": [
        "idx = 6\n",
        "temp = movie_data[\"movieListResult\"][\"movieList\"][idx]\n",
        "print(temp[\"movieCd\"])\n",
        "print(temp[\"movieNm\"])\n",
        "print(temp[\"movieNmEn\"])\n",
        "print(temp[\"openDt\"])\n",
        "print(temp[\"directors\"][0][\"peopleNm\"])\n",
        "\n",
        "#만약 감독 정보가 없을 경우 대처해야 할 방안\n",
        "if temp[\"directors\"] == []:\n",
        "    print(\"\")\n",
        "else:\n",
        "    print(temp[\"directors\"][0][\"peopleNm\"])"
      ],
      "metadata": {
        "colab": {
          "base_uri": "https://localhost:8080/"
        },
        "id": "iEey0ja21GX-",
        "outputId": "07a735e0-a957-4bfc-b5d7-7ce47bddc0f3"
      },
      "execution_count": null,
      "outputs": [
        {
          "output_type": "stream",
          "name": "stdout",
          "text": [
            "20205443\n",
            "나일 강의 죽음\n",
            "Death on the Nile\n",
            "20220209\n",
            "케네스 브래너\n"
          ]
        }
      ]
    },
    {
      "cell_type": "code",
      "source": [
        "# 데이터프레임으로 구현하고 싶을때 판다스는 딕셔너리 구조(키,밸류) 구조\n",
        "movie_df = pd.DataFrame()\n",
        "movie_df[\"movieCd\"] = \"\"\n",
        "movie_df[\"movieNm\"] = \"\"\n",
        "movie_df[\"movieNmEn\"] = \"\"\n",
        "movie_df[\"movieCd\"][0] = movie_data[\"movieListResult\"][\"movieList\"][0][\"movieCd\"]\n",
        "#오류가 남\n",
        "#빈 프레임을 만들고 그 안에 정보들을 한 줄씩 채워나가면서 쌓아나가야함"
      ],
      "metadata": {
        "id": "czDNnoAp1g6K"
      },
      "execution_count": null,
      "outputs": []
    },
    {
      "cell_type": "code",
      "source": [
        "# 일단 필요한 DF : 2개\n",
        "#             1개 영화의 정보를 담을 DF:Only 1st\n",
        "#             누적할 DF : 0층부터 ~~~~ ???층까지~\n",
        "movie_df = pd.DataFrame()\n",
        "movie_df_temp = pd.DataFrame()\n",
        "movie_df_temp = movie_df_temp.append({\"movieCd\":\"\", \"movieNm\":\"\",\"moveNmEn\":\"\",\"movieCd\":\"\",\n",
        "                                        \"openDt\":\"\",\"DirName\":\"\"},ignore_index=True)\n",
        "movie_df_temp"
      ],
      "metadata": {
        "colab": {
          "base_uri": "https://localhost:8080/",
          "height": 81
        },
        "id": "MdGtF6-c2DCk",
        "outputId": "9bec78f9-5b0b-4f83-b41f-2dfd29b9a0d8"
      },
      "execution_count": null,
      "outputs": [
        {
          "output_type": "execute_result",
          "data": {
            "text/html": [
              "\n",
              "  <div id=\"df-cef87dd1-8a05-4c49-91b1-80007af0075d\">\n",
              "    <div class=\"colab-df-container\">\n",
              "      <div>\n",
              "<style scoped>\n",
              "    .dataframe tbody tr th:only-of-type {\n",
              "        vertical-align: middle;\n",
              "    }\n",
              "\n",
              "    .dataframe tbody tr th {\n",
              "        vertical-align: top;\n",
              "    }\n",
              "\n",
              "    .dataframe thead th {\n",
              "        text-align: right;\n",
              "    }\n",
              "</style>\n",
              "<table border=\"1\" class=\"dataframe\">\n",
              "  <thead>\n",
              "    <tr style=\"text-align: right;\">\n",
              "      <th></th>\n",
              "      <th>movieCd</th>\n",
              "      <th>movieNm</th>\n",
              "      <th>moveNmEn</th>\n",
              "      <th>openDt</th>\n",
              "      <th>DirName</th>\n",
              "    </tr>\n",
              "  </thead>\n",
              "  <tbody>\n",
              "    <tr>\n",
              "      <th>0</th>\n",
              "      <td></td>\n",
              "      <td></td>\n",
              "      <td></td>\n",
              "      <td></td>\n",
              "      <td></td>\n",
              "    </tr>\n",
              "  </tbody>\n",
              "</table>\n",
              "</div>\n",
              "      <button class=\"colab-df-convert\" onclick=\"convertToInteractive('df-cef87dd1-8a05-4c49-91b1-80007af0075d')\"\n",
              "              title=\"Convert this dataframe to an interactive table.\"\n",
              "              style=\"display:none;\">\n",
              "        \n",
              "  <svg xmlns=\"http://www.w3.org/2000/svg\" height=\"24px\"viewBox=\"0 0 24 24\"\n",
              "       width=\"24px\">\n",
              "    <path d=\"M0 0h24v24H0V0z\" fill=\"none\"/>\n",
              "    <path d=\"M18.56 5.44l.94 2.06.94-2.06 2.06-.94-2.06-.94-.94-2.06-.94 2.06-2.06.94zm-11 1L8.5 8.5l.94-2.06 2.06-.94-2.06-.94L8.5 2.5l-.94 2.06-2.06.94zm10 10l.94 2.06.94-2.06 2.06-.94-2.06-.94-.94-2.06-.94 2.06-2.06.94z\"/><path d=\"M17.41 7.96l-1.37-1.37c-.4-.4-.92-.59-1.43-.59-.52 0-1.04.2-1.43.59L10.3 9.45l-7.72 7.72c-.78.78-.78 2.05 0 2.83L4 21.41c.39.39.9.59 1.41.59.51 0 1.02-.2 1.41-.59l7.78-7.78 2.81-2.81c.8-.78.8-2.07 0-2.86zM5.41 20L4 18.59l7.72-7.72 1.47 1.35L5.41 20z\"/>\n",
              "  </svg>\n",
              "      </button>\n",
              "      \n",
              "  <style>\n",
              "    .colab-df-container {\n",
              "      display:flex;\n",
              "      flex-wrap:wrap;\n",
              "      gap: 12px;\n",
              "    }\n",
              "\n",
              "    .colab-df-convert {\n",
              "      background-color: #E8F0FE;\n",
              "      border: none;\n",
              "      border-radius: 50%;\n",
              "      cursor: pointer;\n",
              "      display: none;\n",
              "      fill: #1967D2;\n",
              "      height: 32px;\n",
              "      padding: 0 0 0 0;\n",
              "      width: 32px;\n",
              "    }\n",
              "\n",
              "    .colab-df-convert:hover {\n",
              "      background-color: #E2EBFA;\n",
              "      box-shadow: 0px 1px 2px rgba(60, 64, 67, 0.3), 0px 1px 3px 1px rgba(60, 64, 67, 0.15);\n",
              "      fill: #174EA6;\n",
              "    }\n",
              "\n",
              "    [theme=dark] .colab-df-convert {\n",
              "      background-color: #3B4455;\n",
              "      fill: #D2E3FC;\n",
              "    }\n",
              "\n",
              "    [theme=dark] .colab-df-convert:hover {\n",
              "      background-color: #434B5C;\n",
              "      box-shadow: 0px 1px 3px 1px rgba(0, 0, 0, 0.15);\n",
              "      filter: drop-shadow(0px 1px 2px rgba(0, 0, 0, 0.3));\n",
              "      fill: #FFFFFF;\n",
              "    }\n",
              "  </style>\n",
              "\n",
              "      <script>\n",
              "        const buttonEl =\n",
              "          document.querySelector('#df-cef87dd1-8a05-4c49-91b1-80007af0075d button.colab-df-convert');\n",
              "        buttonEl.style.display =\n",
              "          google.colab.kernel.accessAllowed ? 'block' : 'none';\n",
              "\n",
              "        async function convertToInteractive(key) {\n",
              "          const element = document.querySelector('#df-cef87dd1-8a05-4c49-91b1-80007af0075d');\n",
              "          const dataTable =\n",
              "            await google.colab.kernel.invokeFunction('convertToInteractive',\n",
              "                                                     [key], {});\n",
              "          if (!dataTable) return;\n",
              "\n",
              "          const docLinkHtml = 'Like what you see? Visit the ' +\n",
              "            '<a target=\"_blank\" href=https://colab.research.google.com/notebooks/data_table.ipynb>data table notebook</a>'\n",
              "            + ' to learn more about interactive tables.';\n",
              "          element.innerHTML = '';\n",
              "          dataTable['output_type'] = 'display_data';\n",
              "          await google.colab.output.renderOutput(dataTable, element);\n",
              "          const docLink = document.createElement('div');\n",
              "          docLink.innerHTML = docLinkHtml;\n",
              "          element.appendChild(docLink);\n",
              "        }\n",
              "      </script>\n",
              "    </div>\n",
              "  </div>\n",
              "  "
            ],
            "text/plain": [
              "  movieCd movieNm moveNmEn openDt DirName\n",
              "0                                        "
            ]
          },
          "metadata": {},
          "execution_count": 67
        }
      ]
    },
    {
      "cell_type": "code",
      "source": [
        "movie_df = pd.DataFrame()\n",
        "movie_df_temp = pd.DataFrame()\n",
        "movie_df_temp = movie_df_temp.append({\"movieCd\":\"\",\n",
        "                                      \"movieNm\":\"\",\n",
        "                                      \"movieEn\":\"\",\n",
        "                                      \"openDt\":\"\", \n",
        "                                      \"DirName\":\"\"},\n",
        "                                 ignore_index=True)\n",
        "movie_df_temp"
      ],
      "metadata": {
        "colab": {
          "base_uri": "https://localhost:8080/",
          "height": 81
        },
        "id": "onW2Pzf82DJt",
        "outputId": "14159400-7bdf-4972-cb8d-23c407b5f4fb"
      },
      "execution_count": null,
      "outputs": [
        {
          "output_type": "execute_result",
          "data": {
            "text/html": [
              "\n",
              "  <div id=\"df-3404b783-0f80-473a-8e06-e55c3f24d213\">\n",
              "    <div class=\"colab-df-container\">\n",
              "      <div>\n",
              "<style scoped>\n",
              "    .dataframe tbody tr th:only-of-type {\n",
              "        vertical-align: middle;\n",
              "    }\n",
              "\n",
              "    .dataframe tbody tr th {\n",
              "        vertical-align: top;\n",
              "    }\n",
              "\n",
              "    .dataframe thead th {\n",
              "        text-align: right;\n",
              "    }\n",
              "</style>\n",
              "<table border=\"1\" class=\"dataframe\">\n",
              "  <thead>\n",
              "    <tr style=\"text-align: right;\">\n",
              "      <th></th>\n",
              "      <th>movieCd</th>\n",
              "      <th>movieNm</th>\n",
              "      <th>movieEn</th>\n",
              "      <th>openDt</th>\n",
              "      <th>DirName</th>\n",
              "    </tr>\n",
              "  </thead>\n",
              "  <tbody>\n",
              "    <tr>\n",
              "      <th>0</th>\n",
              "      <td></td>\n",
              "      <td></td>\n",
              "      <td></td>\n",
              "      <td></td>\n",
              "      <td></td>\n",
              "    </tr>\n",
              "  </tbody>\n",
              "</table>\n",
              "</div>\n",
              "      <button class=\"colab-df-convert\" onclick=\"convertToInteractive('df-3404b783-0f80-473a-8e06-e55c3f24d213')\"\n",
              "              title=\"Convert this dataframe to an interactive table.\"\n",
              "              style=\"display:none;\">\n",
              "        \n",
              "  <svg xmlns=\"http://www.w3.org/2000/svg\" height=\"24px\"viewBox=\"0 0 24 24\"\n",
              "       width=\"24px\">\n",
              "    <path d=\"M0 0h24v24H0V0z\" fill=\"none\"/>\n",
              "    <path d=\"M18.56 5.44l.94 2.06.94-2.06 2.06-.94-2.06-.94-.94-2.06-.94 2.06-2.06.94zm-11 1L8.5 8.5l.94-2.06 2.06-.94-2.06-.94L8.5 2.5l-.94 2.06-2.06.94zm10 10l.94 2.06.94-2.06 2.06-.94-2.06-.94-.94-2.06-.94 2.06-2.06.94z\"/><path d=\"M17.41 7.96l-1.37-1.37c-.4-.4-.92-.59-1.43-.59-.52 0-1.04.2-1.43.59L10.3 9.45l-7.72 7.72c-.78.78-.78 2.05 0 2.83L4 21.41c.39.39.9.59 1.41.59.51 0 1.02-.2 1.41-.59l7.78-7.78 2.81-2.81c.8-.78.8-2.07 0-2.86zM5.41 20L4 18.59l7.72-7.72 1.47 1.35L5.41 20z\"/>\n",
              "  </svg>\n",
              "      </button>\n",
              "      \n",
              "  <style>\n",
              "    .colab-df-container {\n",
              "      display:flex;\n",
              "      flex-wrap:wrap;\n",
              "      gap: 12px;\n",
              "    }\n",
              "\n",
              "    .colab-df-convert {\n",
              "      background-color: #E8F0FE;\n",
              "      border: none;\n",
              "      border-radius: 50%;\n",
              "      cursor: pointer;\n",
              "      display: none;\n",
              "      fill: #1967D2;\n",
              "      height: 32px;\n",
              "      padding: 0 0 0 0;\n",
              "      width: 32px;\n",
              "    }\n",
              "\n",
              "    .colab-df-convert:hover {\n",
              "      background-color: #E2EBFA;\n",
              "      box-shadow: 0px 1px 2px rgba(60, 64, 67, 0.3), 0px 1px 3px 1px rgba(60, 64, 67, 0.15);\n",
              "      fill: #174EA6;\n",
              "    }\n",
              "\n",
              "    [theme=dark] .colab-df-convert {\n",
              "      background-color: #3B4455;\n",
              "      fill: #D2E3FC;\n",
              "    }\n",
              "\n",
              "    [theme=dark] .colab-df-convert:hover {\n",
              "      background-color: #434B5C;\n",
              "      box-shadow: 0px 1px 3px 1px rgba(0, 0, 0, 0.15);\n",
              "      filter: drop-shadow(0px 1px 2px rgba(0, 0, 0, 0.3));\n",
              "      fill: #FFFFFF;\n",
              "    }\n",
              "  </style>\n",
              "\n",
              "      <script>\n",
              "        const buttonEl =\n",
              "          document.querySelector('#df-3404b783-0f80-473a-8e06-e55c3f24d213 button.colab-df-convert');\n",
              "        buttonEl.style.display =\n",
              "          google.colab.kernel.accessAllowed ? 'block' : 'none';\n",
              "\n",
              "        async function convertToInteractive(key) {\n",
              "          const element = document.querySelector('#df-3404b783-0f80-473a-8e06-e55c3f24d213');\n",
              "          const dataTable =\n",
              "            await google.colab.kernel.invokeFunction('convertToInteractive',\n",
              "                                                     [key], {});\n",
              "          if (!dataTable) return;\n",
              "\n",
              "          const docLinkHtml = 'Like what you see? Visit the ' +\n",
              "            '<a target=\"_blank\" href=https://colab.research.google.com/notebooks/data_table.ipynb>data table notebook</a>'\n",
              "            + ' to learn more about interactive tables.';\n",
              "          element.innerHTML = '';\n",
              "          dataTable['output_type'] = 'display_data';\n",
              "          await google.colab.output.renderOutput(dataTable, element);\n",
              "          const docLink = document.createElement('div');\n",
              "          docLink.innerHTML = docLinkHtml;\n",
              "          element.appendChild(docLink);\n",
              "        }\n",
              "      </script>\n",
              "    </div>\n",
              "  </div>\n",
              "  "
            ],
            "text/plain": [
              "  movieCd movieNm movieEn openDt DirName\n",
              "0                                       "
            ]
          },
          "metadata": {},
          "execution_count": 77
        }
      ]
    },
    {
      "cell_type": "code",
      "source": [
        "# i번째 영화 정보를 기록하는 방법\n",
        "# 내가 받은 영화의 수를 기반으로 해야하니\n",
        "num = len(movie_data[\"movieListResult\"][\"movieList\"])\n",
        "# 저는 i번째 영화에 대해서 정보를 추출..(정수)\n",
        "for i in range(0, num):\n",
        "    # i번째 영화에 대해서\n",
        "    i_movie = movie_data[\"movieListResult\"][\"movieList\"][i]\n",
        "    #       필요한 정보(코드,이름, 개봉일..)추출\n",
        "    movie_df_temp.iat[0,0] = i_movie[\"movieCd\"]\n",
        "    movie_df_temp.iat[0,1] = i_movie[\"movieNm\"]\n",
        "    movie_df_temp.iat[0,2] = i_movie[\"movieNmEn\"]\n",
        "    movie_df_temp.iat[0,3] = i_movie[\"openDt\"]\n",
        "    if i_movie[\"directors\"] !=[]: # 감독정보 있을 때.\n",
        "        movie_df_temp.iat[0,4] = i_movie[\"directors\"][0][\"peopleNm\"]\n",
        "\n",
        "    #       -> 단, 정보가 없을수도;;;예외처리!!!\n",
        "    #       temp에 기록!!!(가로:i번째, 세로:그 정보 컬럼 정수인덱스)\n",
        "\n",
        "    # temp것을 movie_df에 추가~~~\n",
        "    movie_df = movie_df.append(movie_df_temp,ignore_index=True)\n",
        "\n",
        "    # temp싹 방정리~~ -> 다음 영화 정보르..\n",
        "    for j in range(len(movie_df_temp.columns)):\n",
        "        movie_df_temp.iat[0, j] = \"\""
      ],
      "metadata": {
        "id": "p-H5W2OR2DPG"
      },
      "execution_count": null,
      "outputs": []
    },
    {
      "cell_type": "code",
      "source": [
        "len(movie_df_temp.columns)"
      ],
      "metadata": {
        "colab": {
          "base_uri": "https://localhost:8080/"
        },
        "id": "AlA6bzfhDvDS",
        "outputId": "ae71b866-c1d7-4216-e13d-6ea294da3af6"
      },
      "execution_count": null,
      "outputs": [
        {
          "output_type": "execute_result",
          "data": {
            "text/plain": [
              "5"
            ]
          },
          "metadata": {},
          "execution_count": 84
        }
      ]
    },
    {
      "cell_type": "code",
      "source": [
        "movie_df_temp"
      ],
      "metadata": {
        "colab": {
          "base_uri": "https://localhost:8080/",
          "height": 81
        },
        "id": "QlmhhXLkGi_T",
        "outputId": "4d1aa8fc-d86f-4508-c72f-261ed3c26fbc"
      },
      "execution_count": null,
      "outputs": [
        {
          "output_type": "execute_result",
          "data": {
            "text/html": [
              "\n",
              "  <div id=\"df-5886c7b8-4563-4c1d-8f81-75f27e06dfde\">\n",
              "    <div class=\"colab-df-container\">\n",
              "      <div>\n",
              "<style scoped>\n",
              "    .dataframe tbody tr th:only-of-type {\n",
              "        vertical-align: middle;\n",
              "    }\n",
              "\n",
              "    .dataframe tbody tr th {\n",
              "        vertical-align: top;\n",
              "    }\n",
              "\n",
              "    .dataframe thead th {\n",
              "        text-align: right;\n",
              "    }\n",
              "</style>\n",
              "<table border=\"1\" class=\"dataframe\">\n",
              "  <thead>\n",
              "    <tr style=\"text-align: right;\">\n",
              "      <th></th>\n",
              "      <th>movieCd</th>\n",
              "      <th>movieNm</th>\n",
              "      <th>movieEn</th>\n",
              "      <th>openDt</th>\n",
              "      <th>DirName</th>\n",
              "    </tr>\n",
              "  </thead>\n",
              "  <tbody>\n",
              "    <tr>\n",
              "      <th>0</th>\n",
              "      <td></td>\n",
              "      <td></td>\n",
              "      <td></td>\n",
              "      <td></td>\n",
              "      <td></td>\n",
              "    </tr>\n",
              "  </tbody>\n",
              "</table>\n",
              "</div>\n",
              "      <button class=\"colab-df-convert\" onclick=\"convertToInteractive('df-5886c7b8-4563-4c1d-8f81-75f27e06dfde')\"\n",
              "              title=\"Convert this dataframe to an interactive table.\"\n",
              "              style=\"display:none;\">\n",
              "        \n",
              "  <svg xmlns=\"http://www.w3.org/2000/svg\" height=\"24px\"viewBox=\"0 0 24 24\"\n",
              "       width=\"24px\">\n",
              "    <path d=\"M0 0h24v24H0V0z\" fill=\"none\"/>\n",
              "    <path d=\"M18.56 5.44l.94 2.06.94-2.06 2.06-.94-2.06-.94-.94-2.06-.94 2.06-2.06.94zm-11 1L8.5 8.5l.94-2.06 2.06-.94-2.06-.94L8.5 2.5l-.94 2.06-2.06.94zm10 10l.94 2.06.94-2.06 2.06-.94-2.06-.94-.94-2.06-.94 2.06-2.06.94z\"/><path d=\"M17.41 7.96l-1.37-1.37c-.4-.4-.92-.59-1.43-.59-.52 0-1.04.2-1.43.59L10.3 9.45l-7.72 7.72c-.78.78-.78 2.05 0 2.83L4 21.41c.39.39.9.59 1.41.59.51 0 1.02-.2 1.41-.59l7.78-7.78 2.81-2.81c.8-.78.8-2.07 0-2.86zM5.41 20L4 18.59l7.72-7.72 1.47 1.35L5.41 20z\"/>\n",
              "  </svg>\n",
              "      </button>\n",
              "      \n",
              "  <style>\n",
              "    .colab-df-container {\n",
              "      display:flex;\n",
              "      flex-wrap:wrap;\n",
              "      gap: 12px;\n",
              "    }\n",
              "\n",
              "    .colab-df-convert {\n",
              "      background-color: #E8F0FE;\n",
              "      border: none;\n",
              "      border-radius: 50%;\n",
              "      cursor: pointer;\n",
              "      display: none;\n",
              "      fill: #1967D2;\n",
              "      height: 32px;\n",
              "      padding: 0 0 0 0;\n",
              "      width: 32px;\n",
              "    }\n",
              "\n",
              "    .colab-df-convert:hover {\n",
              "      background-color: #E2EBFA;\n",
              "      box-shadow: 0px 1px 2px rgba(60, 64, 67, 0.3), 0px 1px 3px 1px rgba(60, 64, 67, 0.15);\n",
              "      fill: #174EA6;\n",
              "    }\n",
              "\n",
              "    [theme=dark] .colab-df-convert {\n",
              "      background-color: #3B4455;\n",
              "      fill: #D2E3FC;\n",
              "    }\n",
              "\n",
              "    [theme=dark] .colab-df-convert:hover {\n",
              "      background-color: #434B5C;\n",
              "      box-shadow: 0px 1px 3px 1px rgba(0, 0, 0, 0.15);\n",
              "      filter: drop-shadow(0px 1px 2px rgba(0, 0, 0, 0.3));\n",
              "      fill: #FFFFFF;\n",
              "    }\n",
              "  </style>\n",
              "\n",
              "      <script>\n",
              "        const buttonEl =\n",
              "          document.querySelector('#df-5886c7b8-4563-4c1d-8f81-75f27e06dfde button.colab-df-convert');\n",
              "        buttonEl.style.display =\n",
              "          google.colab.kernel.accessAllowed ? 'block' : 'none';\n",
              "\n",
              "        async function convertToInteractive(key) {\n",
              "          const element = document.querySelector('#df-5886c7b8-4563-4c1d-8f81-75f27e06dfde');\n",
              "          const dataTable =\n",
              "            await google.colab.kernel.invokeFunction('convertToInteractive',\n",
              "                                                     [key], {});\n",
              "          if (!dataTable) return;\n",
              "\n",
              "          const docLinkHtml = 'Like what you see? Visit the ' +\n",
              "            '<a target=\"_blank\" href=https://colab.research.google.com/notebooks/data_table.ipynb>data table notebook</a>'\n",
              "            + ' to learn more about interactive tables.';\n",
              "          element.innerHTML = '';\n",
              "          dataTable['output_type'] = 'display_data';\n",
              "          await google.colab.output.renderOutput(dataTable, element);\n",
              "          const docLink = document.createElement('div');\n",
              "          docLink.innerHTML = docLinkHtml;\n",
              "          element.appendChild(docLink);\n",
              "        }\n",
              "      </script>\n",
              "    </div>\n",
              "  </div>\n",
              "  "
            ],
            "text/plain": [
              "  movieCd movieNm movieEn openDt DirName\n",
              "0                                       "
            ]
          },
          "metadata": {},
          "execution_count": 85
        }
      ]
    },
    {
      "cell_type": "code",
      "source": [
        "### 코드 수정\n",
        "# 일단 필요한 DF : 2개\n",
        "#             1개 영화의 정보를 담을 DF:Only 1st\n",
        "#             누적할 DF : 0층부터 ~~~~ ???층까지~\n",
        "movie_df = pd.DataFrame()                                   #pd.DataFrame()를 변수 movie_df라 칭함\n",
        "movie_df_temp = pd.DataFrame()                              \n",
        "movie_df_temp = movie_df_temp.append({\"movieCd\":\"\",\"movieNm\":\"\", \"movieEn\":\"\",\"openDt\":\"\", \"DirName\":\"\"},ignore_index=True) #ignore_index=True 이걸 하지 않으면 인덱스가 0번으로 모두 합쳐짐, 번호를 매기는 과정\n",
        "#합치겠다 인덱스를 번호를 매기겠다 그게 아니면 멀티인덱스가 되어버림\n",
        "\n",
        "num = len(movie_data[\"movieListResult\"][\"movieList\"])       #몇개의 데이터가 들어왔는지 확인하는 작업\n",
        "\n",
        "temp_code_id = movie_df_temp.columns.get_loc(\"movieCd\")     #컬럼의 위치정보 반영시키겠다\n",
        "temp_name_id = movie_df_temp.columns.get_loc(\"movieNm\")\n",
        "temp_ename_id = movie_df_temp.columns.get_loc(\"movieEn\")\n",
        "temp_open_id = movie_df_temp.columns.get_loc(\"openDt\")\n",
        "temp_dir_id = movie_df_temp.columns.get_loc(\"DirName\")\n",
        "\n",
        "for i in range(0, num):                                     #num 받은정보만큼 받아서 데이터 처리를 하겠다.\n",
        "    i_movie = movie_data[\"movieListResult\"][\"movieList\"][i]\n",
        "    \n",
        "    movie_df_temp.iat[0,temp_code_id] = i_movie[\"movieCd\"]\n",
        "    movie_df_temp.iat[0,temp_name_id] = i_movie[\"movieNm\"]\n",
        "    movie_df_temp.iat[0,temp_ename_id] = i_movie[\"movieNmEn\"]\n",
        "    movie_df_temp.iat[0,temp_open_id] = i_movie[\"openDt\"]\n",
        "    if i_movie[\"directors\"] !=[]: # 감독정보 있을 때.\n",
        "        movie_df_temp.iat[0,temp_dir_id] = i_movie[\"directors\"][0][\"peopleNm\"]\n",
        "\n",
        "    movie_df = movie_df.append(movie_df_temp,ignore_index=True)\n",
        "\n",
        "    for j in range(len(movie_df_temp.columns)):\n",
        "        movie_df_temp.iat[0, j] = \"\"\n",
        "#데이터를 넘길 때 빈칸으로 만드는 이유:\n",
        "#A,B,C,D형식으로 입력해서 넘길때 다 비우지 않으면 이런식으로 말끔하게 정보가 채워지지 않음"
      ],
      "metadata": {
        "id": "C-N2ARInGjDo"
      },
      "execution_count": null,
      "outputs": []
    },
    {
      "cell_type": "code",
      "source": [
        "movie_df.head(6)"
      ],
      "metadata": {
        "colab": {
          "base_uri": "https://localhost:8080/",
          "height": 316
        },
        "id": "K33WMn9OIgDV",
        "outputId": "cba4afbc-4158-4a8e-8a5b-a7371d24c8d3"
      },
      "execution_count": null,
      "outputs": [
        {
          "output_type": "execute_result",
          "data": {
            "text/html": [
              "\n",
              "  <div id=\"df-99ca7aad-c2f5-4d6d-8469-36dacb5d70c5\">\n",
              "    <div class=\"colab-df-container\">\n",
              "      <div>\n",
              "<style scoped>\n",
              "    .dataframe tbody tr th:only-of-type {\n",
              "        vertical-align: middle;\n",
              "    }\n",
              "\n",
              "    .dataframe tbody tr th {\n",
              "        vertical-align: top;\n",
              "    }\n",
              "\n",
              "    .dataframe thead th {\n",
              "        text-align: right;\n",
              "    }\n",
              "</style>\n",
              "<table border=\"1\" class=\"dataframe\">\n",
              "  <thead>\n",
              "    <tr style=\"text-align: right;\">\n",
              "      <th></th>\n",
              "      <th>movieCd</th>\n",
              "      <th>movieNm</th>\n",
              "      <th>movieEn</th>\n",
              "      <th>openDt</th>\n",
              "      <th>DirName</th>\n",
              "    </tr>\n",
              "  </thead>\n",
              "  <tbody>\n",
              "    <tr>\n",
              "      <th>0</th>\n",
              "      <td>20203354</td>\n",
              "      <td>상규형이 하지 말랬어</td>\n",
              "      <td></td>\n",
              "      <td></td>\n",
              "      <td>김동하</td>\n",
              "    </tr>\n",
              "    <tr>\n",
              "      <th>1</th>\n",
              "      <td>20223829</td>\n",
              "      <td>베르그프루</td>\n",
              "      <td>Bergfrue</td>\n",
              "      <td></td>\n",
              "      <td></td>\n",
              "    </tr>\n",
              "    <tr>\n",
              "      <th>2</th>\n",
              "      <td>20201965</td>\n",
              "      <td>해적: 도깨비 깃발</td>\n",
              "      <td>The Pirates : The Last Royal Treasure</td>\n",
              "      <td>20220126</td>\n",
              "      <td>김정훈</td>\n",
              "    </tr>\n",
              "    <tr>\n",
              "      <th>3</th>\n",
              "      <td>20199500</td>\n",
              "      <td>뜨거운 피</td>\n",
              "      <td>Hot Blooded</td>\n",
              "      <td></td>\n",
              "      <td>천명관</td>\n",
              "    </tr>\n",
              "    <tr>\n",
              "      <th>4</th>\n",
              "      <td>20212704</td>\n",
              "      <td>뉴타운 생존자 수색작전</td>\n",
              "      <td>Search operation: The New Town Survivor</td>\n",
              "      <td></td>\n",
              "      <td>강민구</td>\n",
              "    </tr>\n",
              "    <tr>\n",
              "      <th>5</th>\n",
              "      <td>20223828</td>\n",
              "      <td>나의 히어로 아카데미아 더 무비: 월드 히어로즈 미션</td>\n",
              "      <td>My Hero Academia: World Heroes' Mission</td>\n",
              "      <td></td>\n",
              "      <td>나가사키 켄지</td>\n",
              "    </tr>\n",
              "  </tbody>\n",
              "</table>\n",
              "</div>\n",
              "      <button class=\"colab-df-convert\" onclick=\"convertToInteractive('df-99ca7aad-c2f5-4d6d-8469-36dacb5d70c5')\"\n",
              "              title=\"Convert this dataframe to an interactive table.\"\n",
              "              style=\"display:none;\">\n",
              "        \n",
              "  <svg xmlns=\"http://www.w3.org/2000/svg\" height=\"24px\"viewBox=\"0 0 24 24\"\n",
              "       width=\"24px\">\n",
              "    <path d=\"M0 0h24v24H0V0z\" fill=\"none\"/>\n",
              "    <path d=\"M18.56 5.44l.94 2.06.94-2.06 2.06-.94-2.06-.94-.94-2.06-.94 2.06-2.06.94zm-11 1L8.5 8.5l.94-2.06 2.06-.94-2.06-.94L8.5 2.5l-.94 2.06-2.06.94zm10 10l.94 2.06.94-2.06 2.06-.94-2.06-.94-.94-2.06-.94 2.06-2.06.94z\"/><path d=\"M17.41 7.96l-1.37-1.37c-.4-.4-.92-.59-1.43-.59-.52 0-1.04.2-1.43.59L10.3 9.45l-7.72 7.72c-.78.78-.78 2.05 0 2.83L4 21.41c.39.39.9.59 1.41.59.51 0 1.02-.2 1.41-.59l7.78-7.78 2.81-2.81c.8-.78.8-2.07 0-2.86zM5.41 20L4 18.59l7.72-7.72 1.47 1.35L5.41 20z\"/>\n",
              "  </svg>\n",
              "      </button>\n",
              "      \n",
              "  <style>\n",
              "    .colab-df-container {\n",
              "      display:flex;\n",
              "      flex-wrap:wrap;\n",
              "      gap: 12px;\n",
              "    }\n",
              "\n",
              "    .colab-df-convert {\n",
              "      background-color: #E8F0FE;\n",
              "      border: none;\n",
              "      border-radius: 50%;\n",
              "      cursor: pointer;\n",
              "      display: none;\n",
              "      fill: #1967D2;\n",
              "      height: 32px;\n",
              "      padding: 0 0 0 0;\n",
              "      width: 32px;\n",
              "    }\n",
              "\n",
              "    .colab-df-convert:hover {\n",
              "      background-color: #E2EBFA;\n",
              "      box-shadow: 0px 1px 2px rgba(60, 64, 67, 0.3), 0px 1px 3px 1px rgba(60, 64, 67, 0.15);\n",
              "      fill: #174EA6;\n",
              "    }\n",
              "\n",
              "    [theme=dark] .colab-df-convert {\n",
              "      background-color: #3B4455;\n",
              "      fill: #D2E3FC;\n",
              "    }\n",
              "\n",
              "    [theme=dark] .colab-df-convert:hover {\n",
              "      background-color: #434B5C;\n",
              "      box-shadow: 0px 1px 3px 1px rgba(0, 0, 0, 0.15);\n",
              "      filter: drop-shadow(0px 1px 2px rgba(0, 0, 0, 0.3));\n",
              "      fill: #FFFFFF;\n",
              "    }\n",
              "  </style>\n",
              "\n",
              "      <script>\n",
              "        const buttonEl =\n",
              "          document.querySelector('#df-99ca7aad-c2f5-4d6d-8469-36dacb5d70c5 button.colab-df-convert');\n",
              "        buttonEl.style.display =\n",
              "          google.colab.kernel.accessAllowed ? 'block' : 'none';\n",
              "\n",
              "        async function convertToInteractive(key) {\n",
              "          const element = document.querySelector('#df-99ca7aad-c2f5-4d6d-8469-36dacb5d70c5');\n",
              "          const dataTable =\n",
              "            await google.colab.kernel.invokeFunction('convertToInteractive',\n",
              "                                                     [key], {});\n",
              "          if (!dataTable) return;\n",
              "\n",
              "          const docLinkHtml = 'Like what you see? Visit the ' +\n",
              "            '<a target=\"_blank\" href=https://colab.research.google.com/notebooks/data_table.ipynb>data table notebook</a>'\n",
              "            + ' to learn more about interactive tables.';\n",
              "          element.innerHTML = '';\n",
              "          dataTable['output_type'] = 'display_data';\n",
              "          await google.colab.output.renderOutput(dataTable, element);\n",
              "          const docLink = document.createElement('div');\n",
              "          docLink.innerHTML = docLinkHtml;\n",
              "          element.appendChild(docLink);\n",
              "        }\n",
              "      </script>\n",
              "    </div>\n",
              "  </div>\n",
              "  "
            ],
            "text/plain": [
              "    movieCd                        movieNm  ...    openDt  DirName\n",
              "0  20203354                    상규형이 하지 말랬어  ...                김동하\n",
              "1  20223829                          베르그프루  ...                   \n",
              "2  20201965                     해적: 도깨비 깃발  ...  20220126      김정훈\n",
              "3  20199500                          뜨거운 피  ...                천명관\n",
              "4  20212704                   뉴타운 생존자 수색작전  ...                강민구\n",
              "5  20223828  나의 히어로 아카데미아 더 무비: 월드 히어로즈 미션  ...            나가사키 켄지\n",
              "\n",
              "[6 rows x 5 columns]"
            ]
          },
          "metadata": {},
          "execution_count": 89
        }
      ]
    },
    {
      "cell_type": "code",
      "source": [
        "#apply와 lambda함수 이용하여 openDt 정보 활용한 데이터 날짜별로 쪼기\n",
        "#데이터 분석 뿐만아니라 처리까지 할 줄 아는 스킬을 갖춰야 한다!!\n",
        "#슬라이싱을 이용 x[:4] 3개까지 당겨오고 apply로 끌어와 lambda로 한줄 표현\n",
        "movie_df[\"year\"] = movie_df.loc[:,\"openDt\"].apply(lambda x: str(x)[:4])\n",
        "movie_df[\"month\"] = movie_df.loc[:,\"openDt\"].apply(lambda x: str(x)[4:6])\n",
        "movie_df[\"year\"] = movie_df.loc[:,\"openDt\"].apply(lambda x: str(x)[6:])"
      ],
      "metadata": {
        "id": "zTwgJ3OrQJ9W"
      },
      "execution_count": null,
      "outputs": []
    },
    {
      "cell_type": "code",
      "source": [
        "movie_df.head(6)"
      ],
      "metadata": {
        "colab": {
          "base_uri": "https://localhost:8080/",
          "height": 334
        },
        "id": "uhNZUEGvQJ_m",
        "outputId": "5a81ca38-a859-427b-df29-db9ecbe36585"
      },
      "execution_count": null,
      "outputs": [
        {
          "output_type": "execute_result",
          "data": {
            "text/html": [
              "\n",
              "  <div id=\"df-7a93a075-fade-4be2-b560-aad1e724d899\">\n",
              "    <div class=\"colab-df-container\">\n",
              "      <div>\n",
              "<style scoped>\n",
              "    .dataframe tbody tr th:only-of-type {\n",
              "        vertical-align: middle;\n",
              "    }\n",
              "\n",
              "    .dataframe tbody tr th {\n",
              "        vertical-align: top;\n",
              "    }\n",
              "\n",
              "    .dataframe thead th {\n",
              "        text-align: right;\n",
              "    }\n",
              "</style>\n",
              "<table border=\"1\" class=\"dataframe\">\n",
              "  <thead>\n",
              "    <tr style=\"text-align: right;\">\n",
              "      <th></th>\n",
              "      <th>movieCd</th>\n",
              "      <th>movieNm</th>\n",
              "      <th>movieEn</th>\n",
              "      <th>openDt</th>\n",
              "      <th>DirName</th>\n",
              "      <th>year</th>\n",
              "      <th>month</th>\n",
              "    </tr>\n",
              "  </thead>\n",
              "  <tbody>\n",
              "    <tr>\n",
              "      <th>0</th>\n",
              "      <td>20203354</td>\n",
              "      <td>상규형이 하지 말랬어</td>\n",
              "      <td></td>\n",
              "      <td></td>\n",
              "      <td>김동하</td>\n",
              "      <td></td>\n",
              "      <td></td>\n",
              "    </tr>\n",
              "    <tr>\n",
              "      <th>1</th>\n",
              "      <td>20223829</td>\n",
              "      <td>베르그프루</td>\n",
              "      <td>Bergfrue</td>\n",
              "      <td></td>\n",
              "      <td></td>\n",
              "      <td></td>\n",
              "      <td></td>\n",
              "    </tr>\n",
              "    <tr>\n",
              "      <th>2</th>\n",
              "      <td>20201965</td>\n",
              "      <td>해적: 도깨비 깃발</td>\n",
              "      <td>The Pirates : The Last Royal Treasure</td>\n",
              "      <td>20220126</td>\n",
              "      <td>김정훈</td>\n",
              "      <td>26</td>\n",
              "      <td>01</td>\n",
              "    </tr>\n",
              "    <tr>\n",
              "      <th>3</th>\n",
              "      <td>20199500</td>\n",
              "      <td>뜨거운 피</td>\n",
              "      <td>Hot Blooded</td>\n",
              "      <td></td>\n",
              "      <td>천명관</td>\n",
              "      <td></td>\n",
              "      <td></td>\n",
              "    </tr>\n",
              "    <tr>\n",
              "      <th>4</th>\n",
              "      <td>20212704</td>\n",
              "      <td>뉴타운 생존자 수색작전</td>\n",
              "      <td>Search operation: The New Town Survivor</td>\n",
              "      <td></td>\n",
              "      <td>강민구</td>\n",
              "      <td></td>\n",
              "      <td></td>\n",
              "    </tr>\n",
              "    <tr>\n",
              "      <th>5</th>\n",
              "      <td>20223828</td>\n",
              "      <td>나의 히어로 아카데미아 더 무비: 월드 히어로즈 미션</td>\n",
              "      <td>My Hero Academia: World Heroes' Mission</td>\n",
              "      <td></td>\n",
              "      <td>나가사키 켄지</td>\n",
              "      <td></td>\n",
              "      <td></td>\n",
              "    </tr>\n",
              "  </tbody>\n",
              "</table>\n",
              "</div>\n",
              "      <button class=\"colab-df-convert\" onclick=\"convertToInteractive('df-7a93a075-fade-4be2-b560-aad1e724d899')\"\n",
              "              title=\"Convert this dataframe to an interactive table.\"\n",
              "              style=\"display:none;\">\n",
              "        \n",
              "  <svg xmlns=\"http://www.w3.org/2000/svg\" height=\"24px\"viewBox=\"0 0 24 24\"\n",
              "       width=\"24px\">\n",
              "    <path d=\"M0 0h24v24H0V0z\" fill=\"none\"/>\n",
              "    <path d=\"M18.56 5.44l.94 2.06.94-2.06 2.06-.94-2.06-.94-.94-2.06-.94 2.06-2.06.94zm-11 1L8.5 8.5l.94-2.06 2.06-.94-2.06-.94L8.5 2.5l-.94 2.06-2.06.94zm10 10l.94 2.06.94-2.06 2.06-.94-2.06-.94-.94-2.06-.94 2.06-2.06.94z\"/><path d=\"M17.41 7.96l-1.37-1.37c-.4-.4-.92-.59-1.43-.59-.52 0-1.04.2-1.43.59L10.3 9.45l-7.72 7.72c-.78.78-.78 2.05 0 2.83L4 21.41c.39.39.9.59 1.41.59.51 0 1.02-.2 1.41-.59l7.78-7.78 2.81-2.81c.8-.78.8-2.07 0-2.86zM5.41 20L4 18.59l7.72-7.72 1.47 1.35L5.41 20z\"/>\n",
              "  </svg>\n",
              "      </button>\n",
              "      \n",
              "  <style>\n",
              "    .colab-df-container {\n",
              "      display:flex;\n",
              "      flex-wrap:wrap;\n",
              "      gap: 12px;\n",
              "    }\n",
              "\n",
              "    .colab-df-convert {\n",
              "      background-color: #E8F0FE;\n",
              "      border: none;\n",
              "      border-radius: 50%;\n",
              "      cursor: pointer;\n",
              "      display: none;\n",
              "      fill: #1967D2;\n",
              "      height: 32px;\n",
              "      padding: 0 0 0 0;\n",
              "      width: 32px;\n",
              "    }\n",
              "\n",
              "    .colab-df-convert:hover {\n",
              "      background-color: #E2EBFA;\n",
              "      box-shadow: 0px 1px 2px rgba(60, 64, 67, 0.3), 0px 1px 3px 1px rgba(60, 64, 67, 0.15);\n",
              "      fill: #174EA6;\n",
              "    }\n",
              "\n",
              "    [theme=dark] .colab-df-convert {\n",
              "      background-color: #3B4455;\n",
              "      fill: #D2E3FC;\n",
              "    }\n",
              "\n",
              "    [theme=dark] .colab-df-convert:hover {\n",
              "      background-color: #434B5C;\n",
              "      box-shadow: 0px 1px 3px 1px rgba(0, 0, 0, 0.15);\n",
              "      filter: drop-shadow(0px 1px 2px rgba(0, 0, 0, 0.3));\n",
              "      fill: #FFFFFF;\n",
              "    }\n",
              "  </style>\n",
              "\n",
              "      <script>\n",
              "        const buttonEl =\n",
              "          document.querySelector('#df-7a93a075-fade-4be2-b560-aad1e724d899 button.colab-df-convert');\n",
              "        buttonEl.style.display =\n",
              "          google.colab.kernel.accessAllowed ? 'block' : 'none';\n",
              "\n",
              "        async function convertToInteractive(key) {\n",
              "          const element = document.querySelector('#df-7a93a075-fade-4be2-b560-aad1e724d899');\n",
              "          const dataTable =\n",
              "            await google.colab.kernel.invokeFunction('convertToInteractive',\n",
              "                                                     [key], {});\n",
              "          if (!dataTable) return;\n",
              "\n",
              "          const docLinkHtml = 'Like what you see? Visit the ' +\n",
              "            '<a target=\"_blank\" href=https://colab.research.google.com/notebooks/data_table.ipynb>data table notebook</a>'\n",
              "            + ' to learn more about interactive tables.';\n",
              "          element.innerHTML = '';\n",
              "          dataTable['output_type'] = 'display_data';\n",
              "          await google.colab.output.renderOutput(dataTable, element);\n",
              "          const docLink = document.createElement('div');\n",
              "          docLink.innerHTML = docLinkHtml;\n",
              "          element.appendChild(docLink);\n",
              "        }\n",
              "      </script>\n",
              "    </div>\n",
              "  </div>\n",
              "  "
            ],
            "text/plain": [
              "    movieCd                        movieNm  ... year month\n",
              "0  20203354                    상규형이 하지 말랬어  ...           \n",
              "1  20223829                          베르그프루  ...           \n",
              "2  20201965                     해적: 도깨비 깃발  ...   26    01\n",
              "3  20199500                          뜨거운 피  ...           \n",
              "4  20212704                   뉴타운 생존자 수색작전  ...           \n",
              "5  20223828  나의 히어로 아카데미아 더 무비: 월드 히어로즈 미션  ...           \n",
              "\n",
              "[6 rows x 7 columns]"
            ]
          },
          "metadata": {},
          "execution_count": 96
        }
      ]
    },
    {
      "cell_type": "code",
      "source": [
        "#목적: 컬럼을 가로줄에 대한 내가 만든 인덱스로\n",
        "#       일단 하기 전에 openDt순서대로 먼저 정렬하고 그 순서대로 가로줄 인덱스로\n",
        "#       그 순서대로 가로줄 인덱스로~\n",
        "movie_df.sort_values(by=\"openDt\")"
      ],
      "metadata": {
        "id": "E9iT4SoBQKEy"
      },
      "execution_count": null,
      "outputs": []
    },
    {
      "cell_type": "code",
      "source": [
        "#최근날짜 기준으로\n",
        "movie_df.sort_values(by=\"openDt\", ascending=False)"
      ],
      "metadata": {
        "id": "rBlCYdaoSJlV",
        "colab": {
          "base_uri": "https://localhost:8080/",
          "height": 677
        },
        "outputId": "ce3d3b02-467e-400f-f82d-66619e68af60"
      },
      "execution_count": 100,
      "outputs": [
        {
          "output_type": "execute_result",
          "data": {
            "text/html": [
              "\n",
              "  <div id=\"df-52d27ec8-2dee-4e28-a109-ebb12508c2b6\">\n",
              "    <div class=\"colab-df-container\">\n",
              "      <div>\n",
              "<style scoped>\n",
              "    .dataframe tbody tr th:only-of-type {\n",
              "        vertical-align: middle;\n",
              "    }\n",
              "\n",
              "    .dataframe tbody tr th {\n",
              "        vertical-align: top;\n",
              "    }\n",
              "\n",
              "    .dataframe thead th {\n",
              "        text-align: right;\n",
              "    }\n",
              "</style>\n",
              "<table border=\"1\" class=\"dataframe\">\n",
              "  <thead>\n",
              "    <tr style=\"text-align: right;\">\n",
              "      <th></th>\n",
              "      <th>movieCd</th>\n",
              "      <th>movieNm</th>\n",
              "      <th>movieEn</th>\n",
              "      <th>openDt</th>\n",
              "      <th>DirName</th>\n",
              "      <th>year</th>\n",
              "      <th>month</th>\n",
              "    </tr>\n",
              "  </thead>\n",
              "  <tbody>\n",
              "    <tr>\n",
              "      <th>9</th>\n",
              "      <td>20211200</td>\n",
              "      <td>언차티드</td>\n",
              "      <td>Uncharted</td>\n",
              "      <td>20220216</td>\n",
              "      <td>루벤 플레셔</td>\n",
              "      <td>16</td>\n",
              "      <td>02</td>\n",
              "    </tr>\n",
              "    <tr>\n",
              "      <th>17</th>\n",
              "      <td>20212871</td>\n",
              "      <td>가슴이 떨리는 건 너 때문</td>\n",
              "      <td></td>\n",
              "      <td>20220209</td>\n",
              "      <td></td>\n",
              "      <td>09</td>\n",
              "      <td>02</td>\n",
              "    </tr>\n",
              "    <tr>\n",
              "      <th>16</th>\n",
              "      <td>20205443</td>\n",
              "      <td>나일 강의 죽음</td>\n",
              "      <td>Death on the Nile</td>\n",
              "      <td>20220209</td>\n",
              "      <td>케네스 브래너</td>\n",
              "      <td>09</td>\n",
              "      <td>02</td>\n",
              "    </tr>\n",
              "    <tr>\n",
              "      <th>15</th>\n",
              "      <td>20219245</td>\n",
              "      <td>만년이 지나도 변하지 않는 게 있어</td>\n",
              "      <td>Till We Meet Again</td>\n",
              "      <td>20220209</td>\n",
              "      <td>구파도</td>\n",
              "      <td>09</td>\n",
              "      <td>02</td>\n",
              "    </tr>\n",
              "    <tr>\n",
              "      <th>14</th>\n",
              "      <td>20223266</td>\n",
              "      <td>애니멀 체인지</td>\n",
              "      <td>The Wild Life</td>\n",
              "      <td>20220209</td>\n",
              "      <td>정량</td>\n",
              "      <td>09</td>\n",
              "      <td>02</td>\n",
              "    </tr>\n",
              "    <tr>\n",
              "      <th>12</th>\n",
              "      <td>20212836</td>\n",
              "      <td>355</td>\n",
              "      <td>The 355</td>\n",
              "      <td>20220209</td>\n",
              "      <td>사이먼 킨버그</td>\n",
              "      <td>09</td>\n",
              "      <td>02</td>\n",
              "    </tr>\n",
              "    <tr>\n",
              "      <th>19</th>\n",
              "      <td>20223724</td>\n",
              "      <td>몸으로 대출 갚는 유부녀</td>\n",
              "      <td></td>\n",
              "      <td>20220208</td>\n",
              "      <td>제너럴리스트</td>\n",
              "      <td>08</td>\n",
              "      <td>02</td>\n",
              "    </tr>\n",
              "    <tr>\n",
              "      <th>18</th>\n",
              "      <td>20223691</td>\n",
              "      <td>퇴폐의 온상 은밀한 만남</td>\n",
              "      <td></td>\n",
              "      <td>20220208</td>\n",
              "      <td>강현성</td>\n",
              "      <td>08</td>\n",
              "      <td>02</td>\n",
              "    </tr>\n",
              "    <tr>\n",
              "      <th>2</th>\n",
              "      <td>20201965</td>\n",
              "      <td>해적: 도깨비 깃발</td>\n",
              "      <td>The Pirates : The Last Royal Treasure</td>\n",
              "      <td>20220126</td>\n",
              "      <td>김정훈</td>\n",
              "      <td>26</td>\n",
              "      <td>01</td>\n",
              "    </tr>\n",
              "    <tr>\n",
              "      <th>11</th>\n",
              "      <td>20223827</td>\n",
              "      <td>살아오름: 천년의 동행</td>\n",
              "      <td>A Thousand Years Together</td>\n",
              "      <td></td>\n",
              "      <td>안재훈</td>\n",
              "      <td></td>\n",
              "      <td></td>\n",
              "    </tr>\n",
              "    <tr>\n",
              "      <th>13</th>\n",
              "      <td>20223793</td>\n",
              "      <td>서유기: 손오공 홍해아 대전</td>\n",
              "      <td>The Journey to the West: Red Boy</td>\n",
              "      <td></td>\n",
              "      <td></td>\n",
              "      <td></td>\n",
              "      <td></td>\n",
              "    </tr>\n",
              "    <tr>\n",
              "      <th>0</th>\n",
              "      <td>20203354</td>\n",
              "      <td>상규형이 하지 말랬어</td>\n",
              "      <td></td>\n",
              "      <td></td>\n",
              "      <td>김동하</td>\n",
              "      <td></td>\n",
              "      <td></td>\n",
              "    </tr>\n",
              "    <tr>\n",
              "      <th>1</th>\n",
              "      <td>20223829</td>\n",
              "      <td>베르그프루</td>\n",
              "      <td>Bergfrue</td>\n",
              "      <td></td>\n",
              "      <td></td>\n",
              "      <td></td>\n",
              "      <td></td>\n",
              "    </tr>\n",
              "    <tr>\n",
              "      <th>8</th>\n",
              "      <td>20223288</td>\n",
              "      <td>셰터드</td>\n",
              "      <td>Shattered</td>\n",
              "      <td></td>\n",
              "      <td>루이스 프리에토</td>\n",
              "      <td></td>\n",
              "      <td></td>\n",
              "    </tr>\n",
              "    <tr>\n",
              "      <th>7</th>\n",
              "      <td>20219345</td>\n",
              "      <td>놉</td>\n",
              "      <td>NOPE</td>\n",
              "      <td></td>\n",
              "      <td>조던 필</td>\n",
              "      <td></td>\n",
              "      <td></td>\n",
              "    </tr>\n",
              "    <tr>\n",
              "      <th>6</th>\n",
              "      <td>20211542</td>\n",
              "      <td>낮에는 덥고 밤에는 춥고</td>\n",
              "      <td>Hot in Day, Cold at Night</td>\n",
              "      <td></td>\n",
              "      <td>박송열</td>\n",
              "      <td></td>\n",
              "      <td></td>\n",
              "    </tr>\n",
              "    <tr>\n",
              "      <th>5</th>\n",
              "      <td>20223828</td>\n",
              "      <td>나의 히어로 아카데미아 더 무비: 월드 히어로즈 미션</td>\n",
              "      <td>My Hero Academia: World Heroes' Mission</td>\n",
              "      <td></td>\n",
              "      <td>나가사키 켄지</td>\n",
              "      <td></td>\n",
              "      <td></td>\n",
              "    </tr>\n",
              "    <tr>\n",
              "      <th>4</th>\n",
              "      <td>20212704</td>\n",
              "      <td>뉴타운 생존자 수색작전</td>\n",
              "      <td>Search operation: The New Town Survivor</td>\n",
              "      <td></td>\n",
              "      <td>강민구</td>\n",
              "      <td></td>\n",
              "      <td></td>\n",
              "    </tr>\n",
              "    <tr>\n",
              "      <th>3</th>\n",
              "      <td>20199500</td>\n",
              "      <td>뜨거운 피</td>\n",
              "      <td>Hot Blooded</td>\n",
              "      <td></td>\n",
              "      <td>천명관</td>\n",
              "      <td></td>\n",
              "      <td></td>\n",
              "    </tr>\n",
              "    <tr>\n",
              "      <th>10</th>\n",
              "      <td>20223402</td>\n",
              "      <td>나이트 레이더스</td>\n",
              "      <td>Night Raiders</td>\n",
              "      <td></td>\n",
              "      <td>다니스 고렛</td>\n",
              "      <td></td>\n",
              "      <td></td>\n",
              "    </tr>\n",
              "  </tbody>\n",
              "</table>\n",
              "</div>\n",
              "      <button class=\"colab-df-convert\" onclick=\"convertToInteractive('df-52d27ec8-2dee-4e28-a109-ebb12508c2b6')\"\n",
              "              title=\"Convert this dataframe to an interactive table.\"\n",
              "              style=\"display:none;\">\n",
              "        \n",
              "  <svg xmlns=\"http://www.w3.org/2000/svg\" height=\"24px\"viewBox=\"0 0 24 24\"\n",
              "       width=\"24px\">\n",
              "    <path d=\"M0 0h24v24H0V0z\" fill=\"none\"/>\n",
              "    <path d=\"M18.56 5.44l.94 2.06.94-2.06 2.06-.94-2.06-.94-.94-2.06-.94 2.06-2.06.94zm-11 1L8.5 8.5l.94-2.06 2.06-.94-2.06-.94L8.5 2.5l-.94 2.06-2.06.94zm10 10l.94 2.06.94-2.06 2.06-.94-2.06-.94-.94-2.06-.94 2.06-2.06.94z\"/><path d=\"M17.41 7.96l-1.37-1.37c-.4-.4-.92-.59-1.43-.59-.52 0-1.04.2-1.43.59L10.3 9.45l-7.72 7.72c-.78.78-.78 2.05 0 2.83L4 21.41c.39.39.9.59 1.41.59.51 0 1.02-.2 1.41-.59l7.78-7.78 2.81-2.81c.8-.78.8-2.07 0-2.86zM5.41 20L4 18.59l7.72-7.72 1.47 1.35L5.41 20z\"/>\n",
              "  </svg>\n",
              "      </button>\n",
              "      \n",
              "  <style>\n",
              "    .colab-df-container {\n",
              "      display:flex;\n",
              "      flex-wrap:wrap;\n",
              "      gap: 12px;\n",
              "    }\n",
              "\n",
              "    .colab-df-convert {\n",
              "      background-color: #E8F0FE;\n",
              "      border: none;\n",
              "      border-radius: 50%;\n",
              "      cursor: pointer;\n",
              "      display: none;\n",
              "      fill: #1967D2;\n",
              "      height: 32px;\n",
              "      padding: 0 0 0 0;\n",
              "      width: 32px;\n",
              "    }\n",
              "\n",
              "    .colab-df-convert:hover {\n",
              "      background-color: #E2EBFA;\n",
              "      box-shadow: 0px 1px 2px rgba(60, 64, 67, 0.3), 0px 1px 3px 1px rgba(60, 64, 67, 0.15);\n",
              "      fill: #174EA6;\n",
              "    }\n",
              "\n",
              "    [theme=dark] .colab-df-convert {\n",
              "      background-color: #3B4455;\n",
              "      fill: #D2E3FC;\n",
              "    }\n",
              "\n",
              "    [theme=dark] .colab-df-convert:hover {\n",
              "      background-color: #434B5C;\n",
              "      box-shadow: 0px 1px 3px 1px rgba(0, 0, 0, 0.15);\n",
              "      filter: drop-shadow(0px 1px 2px rgba(0, 0, 0, 0.3));\n",
              "      fill: #FFFFFF;\n",
              "    }\n",
              "  </style>\n",
              "\n",
              "      <script>\n",
              "        const buttonEl =\n",
              "          document.querySelector('#df-52d27ec8-2dee-4e28-a109-ebb12508c2b6 button.colab-df-convert');\n",
              "        buttonEl.style.display =\n",
              "          google.colab.kernel.accessAllowed ? 'block' : 'none';\n",
              "\n",
              "        async function convertToInteractive(key) {\n",
              "          const element = document.querySelector('#df-52d27ec8-2dee-4e28-a109-ebb12508c2b6');\n",
              "          const dataTable =\n",
              "            await google.colab.kernel.invokeFunction('convertToInteractive',\n",
              "                                                     [key], {});\n",
              "          if (!dataTable) return;\n",
              "\n",
              "          const docLinkHtml = 'Like what you see? Visit the ' +\n",
              "            '<a target=\"_blank\" href=https://colab.research.google.com/notebooks/data_table.ipynb>data table notebook</a>'\n",
              "            + ' to learn more about interactive tables.';\n",
              "          element.innerHTML = '';\n",
              "          dataTable['output_type'] = 'display_data';\n",
              "          await google.colab.output.renderOutput(dataTable, element);\n",
              "          const docLink = document.createElement('div');\n",
              "          docLink.innerHTML = docLinkHtml;\n",
              "          element.appendChild(docLink);\n",
              "        }\n",
              "      </script>\n",
              "    </div>\n",
              "  </div>\n",
              "  "
            ],
            "text/plain": [
              "     movieCd                        movieNm  ... year month\n",
              "9   20211200                           언차티드  ...   16    02\n",
              "17  20212871                 가슴이 떨리는 건 너 때문  ...   09    02\n",
              "16  20205443                       나일 강의 죽음  ...   09    02\n",
              "15  20219245            만년이 지나도 변하지 않는 게 있어  ...   09    02\n",
              "14  20223266                        애니멀 체인지  ...   09    02\n",
              "12  20212836                            355  ...   09    02\n",
              "19  20223724                  몸으로 대출 갚는 유부녀  ...   08    02\n",
              "18  20223691                  퇴폐의 온상 은밀한 만남  ...   08    02\n",
              "2   20201965                     해적: 도깨비 깃발  ...   26    01\n",
              "11  20223827                   살아오름: 천년의 동행  ...           \n",
              "13  20223793                서유기: 손오공 홍해아 대전  ...           \n",
              "0   20203354                    상규형이 하지 말랬어  ...           \n",
              "1   20223829                          베르그프루  ...           \n",
              "8   20223288                            셰터드  ...           \n",
              "7   20219345                              놉  ...           \n",
              "6   20211542                  낮에는 덥고 밤에는 춥고  ...           \n",
              "5   20223828  나의 히어로 아카데미아 더 무비: 월드 히어로즈 미션  ...           \n",
              "4   20212704                   뉴타운 생존자 수색작전  ...           \n",
              "3   20199500                          뜨거운 피  ...           \n",
              "10  20223402                       나이트 레이더스  ...           \n",
              "\n",
              "[20 rows x 7 columns]"
            ]
          },
          "metadata": {},
          "execution_count": 100
        }
      ]
    },
    {
      "cell_type": "code",
      "source": [
        "movie_df.sort_values(by=\"openDt\", ascending=False, inplace=True)"
      ],
      "metadata": {
        "id": "woLwdiflSJnr"
      },
      "execution_count": 103,
      "outputs": []
    },
    {
      "cell_type": "code",
      "source": [
        "# 컬럼을 주고, 그 컬럼을 가로줄 인덱스로 지정...\n",
        "# 주의) 그 컬럼이 ㅇ\n",
        "movie_df.set_index(\"movieCd\", inplace=True)\n",
        "movie_df.head()"
      ],
      "metadata": {
        "id": "pmHKlpOGSJqM",
        "colab": {
          "base_uri": "https://localhost:8080/",
          "height": 238
        },
        "outputId": "2182d1c6-28e8-4a75-9aad-ccc5c4ee9f78"
      },
      "execution_count": 104,
      "outputs": [
        {
          "output_type": "execute_result",
          "data": {
            "text/html": [
              "\n",
              "  <div id=\"df-ed27ecb2-a32a-4a01-b2ab-8b4ece028d48\">\n",
              "    <div class=\"colab-df-container\">\n",
              "      <div>\n",
              "<style scoped>\n",
              "    .dataframe tbody tr th:only-of-type {\n",
              "        vertical-align: middle;\n",
              "    }\n",
              "\n",
              "    .dataframe tbody tr th {\n",
              "        vertical-align: top;\n",
              "    }\n",
              "\n",
              "    .dataframe thead th {\n",
              "        text-align: right;\n",
              "    }\n",
              "</style>\n",
              "<table border=\"1\" class=\"dataframe\">\n",
              "  <thead>\n",
              "    <tr style=\"text-align: right;\">\n",
              "      <th></th>\n",
              "      <th>movieNm</th>\n",
              "      <th>movieEn</th>\n",
              "      <th>openDt</th>\n",
              "      <th>DirName</th>\n",
              "      <th>year</th>\n",
              "      <th>month</th>\n",
              "    </tr>\n",
              "    <tr>\n",
              "      <th>movieCd</th>\n",
              "      <th></th>\n",
              "      <th></th>\n",
              "      <th></th>\n",
              "      <th></th>\n",
              "      <th></th>\n",
              "      <th></th>\n",
              "    </tr>\n",
              "  </thead>\n",
              "  <tbody>\n",
              "    <tr>\n",
              "      <th>20211200</th>\n",
              "      <td>언차티드</td>\n",
              "      <td>Uncharted</td>\n",
              "      <td>20220216</td>\n",
              "      <td>루벤 플레셔</td>\n",
              "      <td>16</td>\n",
              "      <td>02</td>\n",
              "    </tr>\n",
              "    <tr>\n",
              "      <th>20219245</th>\n",
              "      <td>만년이 지나도 변하지 않는 게 있어</td>\n",
              "      <td>Till We Meet Again</td>\n",
              "      <td>20220209</td>\n",
              "      <td>구파도</td>\n",
              "      <td>09</td>\n",
              "      <td>02</td>\n",
              "    </tr>\n",
              "    <tr>\n",
              "      <th>20223266</th>\n",
              "      <td>애니멀 체인지</td>\n",
              "      <td>The Wild Life</td>\n",
              "      <td>20220209</td>\n",
              "      <td>정량</td>\n",
              "      <td>09</td>\n",
              "      <td>02</td>\n",
              "    </tr>\n",
              "    <tr>\n",
              "      <th>20212836</th>\n",
              "      <td>355</td>\n",
              "      <td>The 355</td>\n",
              "      <td>20220209</td>\n",
              "      <td>사이먼 킨버그</td>\n",
              "      <td>09</td>\n",
              "      <td>02</td>\n",
              "    </tr>\n",
              "    <tr>\n",
              "      <th>20212871</th>\n",
              "      <td>가슴이 떨리는 건 너 때문</td>\n",
              "      <td></td>\n",
              "      <td>20220209</td>\n",
              "      <td></td>\n",
              "      <td>09</td>\n",
              "      <td>02</td>\n",
              "    </tr>\n",
              "  </tbody>\n",
              "</table>\n",
              "</div>\n",
              "      <button class=\"colab-df-convert\" onclick=\"convertToInteractive('df-ed27ecb2-a32a-4a01-b2ab-8b4ece028d48')\"\n",
              "              title=\"Convert this dataframe to an interactive table.\"\n",
              "              style=\"display:none;\">\n",
              "        \n",
              "  <svg xmlns=\"http://www.w3.org/2000/svg\" height=\"24px\"viewBox=\"0 0 24 24\"\n",
              "       width=\"24px\">\n",
              "    <path d=\"M0 0h24v24H0V0z\" fill=\"none\"/>\n",
              "    <path d=\"M18.56 5.44l.94 2.06.94-2.06 2.06-.94-2.06-.94-.94-2.06-.94 2.06-2.06.94zm-11 1L8.5 8.5l.94-2.06 2.06-.94-2.06-.94L8.5 2.5l-.94 2.06-2.06.94zm10 10l.94 2.06.94-2.06 2.06-.94-2.06-.94-.94-2.06-.94 2.06-2.06.94z\"/><path d=\"M17.41 7.96l-1.37-1.37c-.4-.4-.92-.59-1.43-.59-.52 0-1.04.2-1.43.59L10.3 9.45l-7.72 7.72c-.78.78-.78 2.05 0 2.83L4 21.41c.39.39.9.59 1.41.59.51 0 1.02-.2 1.41-.59l7.78-7.78 2.81-2.81c.8-.78.8-2.07 0-2.86zM5.41 20L4 18.59l7.72-7.72 1.47 1.35L5.41 20z\"/>\n",
              "  </svg>\n",
              "      </button>\n",
              "      \n",
              "  <style>\n",
              "    .colab-df-container {\n",
              "      display:flex;\n",
              "      flex-wrap:wrap;\n",
              "      gap: 12px;\n",
              "    }\n",
              "\n",
              "    .colab-df-convert {\n",
              "      background-color: #E8F0FE;\n",
              "      border: none;\n",
              "      border-radius: 50%;\n",
              "      cursor: pointer;\n",
              "      display: none;\n",
              "      fill: #1967D2;\n",
              "      height: 32px;\n",
              "      padding: 0 0 0 0;\n",
              "      width: 32px;\n",
              "    }\n",
              "\n",
              "    .colab-df-convert:hover {\n",
              "      background-color: #E2EBFA;\n",
              "      box-shadow: 0px 1px 2px rgba(60, 64, 67, 0.3), 0px 1px 3px 1px rgba(60, 64, 67, 0.15);\n",
              "      fill: #174EA6;\n",
              "    }\n",
              "\n",
              "    [theme=dark] .colab-df-convert {\n",
              "      background-color: #3B4455;\n",
              "      fill: #D2E3FC;\n",
              "    }\n",
              "\n",
              "    [theme=dark] .colab-df-convert:hover {\n",
              "      background-color: #434B5C;\n",
              "      box-shadow: 0px 1px 3px 1px rgba(0, 0, 0, 0.15);\n",
              "      filter: drop-shadow(0px 1px 2px rgba(0, 0, 0, 0.3));\n",
              "      fill: #FFFFFF;\n",
              "    }\n",
              "  </style>\n",
              "\n",
              "      <script>\n",
              "        const buttonEl =\n",
              "          document.querySelector('#df-ed27ecb2-a32a-4a01-b2ab-8b4ece028d48 button.colab-df-convert');\n",
              "        buttonEl.style.display =\n",
              "          google.colab.kernel.accessAllowed ? 'block' : 'none';\n",
              "\n",
              "        async function convertToInteractive(key) {\n",
              "          const element = document.querySelector('#df-ed27ecb2-a32a-4a01-b2ab-8b4ece028d48');\n",
              "          const dataTable =\n",
              "            await google.colab.kernel.invokeFunction('convertToInteractive',\n",
              "                                                     [key], {});\n",
              "          if (!dataTable) return;\n",
              "\n",
              "          const docLinkHtml = 'Like what you see? Visit the ' +\n",
              "            '<a target=\"_blank\" href=https://colab.research.google.com/notebooks/data_table.ipynb>data table notebook</a>'\n",
              "            + ' to learn more about interactive tables.';\n",
              "          element.innerHTML = '';\n",
              "          dataTable['output_type'] = 'display_data';\n",
              "          await google.colab.output.renderOutput(dataTable, element);\n",
              "          const docLink = document.createElement('div');\n",
              "          docLink.innerHTML = docLinkHtml;\n",
              "          element.appendChild(docLink);\n",
              "        }\n",
              "      </script>\n",
              "    </div>\n",
              "  </div>\n",
              "  "
            ],
            "text/plain": [
              "                      movieNm             movieEn    openDt  DirName year month\n",
              "movieCd                                                                        \n",
              "20211200                 언차티드           Uncharted  20220216   루벤 플레셔   16    02\n",
              "20219245  만년이 지나도 변하지 않는 게 있어  Till We Meet Again  20220209      구파도   09    02\n",
              "20223266              애니멀 체인지       The Wild Life  20220209       정량   09    02\n",
              "20212836                  355             The 355  20220209  사이먼 킨버그   09    02\n",
              "20212871       가슴이 떨리는 건 너 때문                      20220209            09    02"
            ]
          },
          "metadata": {},
          "execution_count": 104
        }
      ]
    },
    {
      "cell_type": "code",
      "source": [
        "#보고자 하는 컬럼 순서 변경\n",
        "movie_df = movie_df.loc[:, [\"openDt\",\"year\",\"month\",\"day\",\"movieNm\",\"movieEn\",\"DirName\"] ]\n",
        "movie_df.head()"
      ],
      "metadata": {
        "id": "mruWMrtGSJva",
        "colab": {
          "base_uri": "https://localhost:8080/",
          "height": 363
        },
        "outputId": "98e842af-75a1-491f-8ae4-263d96d547f7"
      },
      "execution_count": 127,
      "outputs": [
        {
          "output_type": "error",
          "ename": "KeyError",
          "evalue": "ignored",
          "traceback": [
            "\u001b[0;31m---------------------------------------------------------------------------\u001b[0m",
            "\u001b[0;31mKeyError\u001b[0m                                  Traceback (most recent call last)",
            "\u001b[0;32m<ipython-input-127-dcbb163dc060>\u001b[0m in \u001b[0;36m<module>\u001b[0;34m()\u001b[0m\n\u001b[1;32m      1\u001b[0m \u001b[0;31m#보고자 하는 컬럼 순서 변경\u001b[0m\u001b[0;34m\u001b[0m\u001b[0;34m\u001b[0m\u001b[0;34m\u001b[0m\u001b[0m\n\u001b[0;32m----> 2\u001b[0;31m \u001b[0mmovie_df\u001b[0m \u001b[0;34m=\u001b[0m \u001b[0mmovie_df\u001b[0m\u001b[0;34m.\u001b[0m\u001b[0mloc\u001b[0m\u001b[0;34m[\u001b[0m\u001b[0;34m:\u001b[0m\u001b[0;34m,\u001b[0m \u001b[0;34m[\u001b[0m\u001b[0;34m\"openDt\"\u001b[0m\u001b[0;34m,\u001b[0m\u001b[0;34m\"year\"\u001b[0m\u001b[0;34m,\u001b[0m\u001b[0;34m\"month\"\u001b[0m\u001b[0;34m,\u001b[0m\u001b[0;34m\"day\"\u001b[0m\u001b[0;34m,\u001b[0m\u001b[0;34m\"movieNm\"\u001b[0m\u001b[0;34m,\u001b[0m\u001b[0;34m\"movieEn\"\u001b[0m\u001b[0;34m,\u001b[0m\u001b[0;34m\"DirName\"\u001b[0m\u001b[0;34m]\u001b[0m \u001b[0;34m]\u001b[0m\u001b[0;34m\u001b[0m\u001b[0;34m\u001b[0m\u001b[0m\n\u001b[0m\u001b[1;32m      3\u001b[0m \u001b[0mmovie_df\u001b[0m\u001b[0;34m.\u001b[0m\u001b[0mhead\u001b[0m\u001b[0;34m(\u001b[0m\u001b[0;34m)\u001b[0m\u001b[0;34m\u001b[0m\u001b[0;34m\u001b[0m\u001b[0m\n",
            "\u001b[0;32m/usr/local/lib/python3.7/dist-packages/pandas/core/indexing.py\u001b[0m in \u001b[0;36m__getitem__\u001b[0;34m(self, key)\u001b[0m\n\u001b[1;32m    923\u001b[0m                 \u001b[0;32mwith\u001b[0m \u001b[0msuppress\u001b[0m\u001b[0;34m(\u001b[0m\u001b[0mKeyError\u001b[0m\u001b[0;34m,\u001b[0m \u001b[0mIndexError\u001b[0m\u001b[0;34m)\u001b[0m\u001b[0;34m:\u001b[0m\u001b[0;34m\u001b[0m\u001b[0;34m\u001b[0m\u001b[0m\n\u001b[1;32m    924\u001b[0m                     \u001b[0;32mreturn\u001b[0m \u001b[0mself\u001b[0m\u001b[0;34m.\u001b[0m\u001b[0mobj\u001b[0m\u001b[0;34m.\u001b[0m\u001b[0m_get_value\u001b[0m\u001b[0;34m(\u001b[0m\u001b[0;34m*\u001b[0m\u001b[0mkey\u001b[0m\u001b[0;34m,\u001b[0m \u001b[0mtakeable\u001b[0m\u001b[0;34m=\u001b[0m\u001b[0mself\u001b[0m\u001b[0;34m.\u001b[0m\u001b[0m_takeable\u001b[0m\u001b[0;34m)\u001b[0m\u001b[0;34m\u001b[0m\u001b[0;34m\u001b[0m\u001b[0m\n\u001b[0;32m--> 925\u001b[0;31m             \u001b[0;32mreturn\u001b[0m \u001b[0mself\u001b[0m\u001b[0;34m.\u001b[0m\u001b[0m_getitem_tuple\u001b[0m\u001b[0;34m(\u001b[0m\u001b[0mkey\u001b[0m\u001b[0;34m)\u001b[0m\u001b[0;34m\u001b[0m\u001b[0;34m\u001b[0m\u001b[0m\n\u001b[0m\u001b[1;32m    926\u001b[0m         \u001b[0;32melse\u001b[0m\u001b[0;34m:\u001b[0m\u001b[0;34m\u001b[0m\u001b[0;34m\u001b[0m\u001b[0m\n\u001b[1;32m    927\u001b[0m             \u001b[0;31m# we by definition only have the 0th axis\u001b[0m\u001b[0;34m\u001b[0m\u001b[0;34m\u001b[0m\u001b[0;34m\u001b[0m\u001b[0m\n",
            "\u001b[0;32m/usr/local/lib/python3.7/dist-packages/pandas/core/indexing.py\u001b[0m in \u001b[0;36m_getitem_tuple\u001b[0;34m(self, tup)\u001b[0m\n\u001b[1;32m   1107\u001b[0m             \u001b[0;32mreturn\u001b[0m \u001b[0mself\u001b[0m\u001b[0;34m.\u001b[0m\u001b[0m_multi_take\u001b[0m\u001b[0;34m(\u001b[0m\u001b[0mtup\u001b[0m\u001b[0;34m)\u001b[0m\u001b[0;34m\u001b[0m\u001b[0;34m\u001b[0m\u001b[0m\n\u001b[1;32m   1108\u001b[0m \u001b[0;34m\u001b[0m\u001b[0m\n\u001b[0;32m-> 1109\u001b[0;31m         \u001b[0;32mreturn\u001b[0m \u001b[0mself\u001b[0m\u001b[0;34m.\u001b[0m\u001b[0m_getitem_tuple_same_dim\u001b[0m\u001b[0;34m(\u001b[0m\u001b[0mtup\u001b[0m\u001b[0;34m)\u001b[0m\u001b[0;34m\u001b[0m\u001b[0;34m\u001b[0m\u001b[0m\n\u001b[0m\u001b[1;32m   1110\u001b[0m \u001b[0;34m\u001b[0m\u001b[0m\n\u001b[1;32m   1111\u001b[0m     \u001b[0;32mdef\u001b[0m \u001b[0m_get_label\u001b[0m\u001b[0;34m(\u001b[0m\u001b[0mself\u001b[0m\u001b[0;34m,\u001b[0m \u001b[0mlabel\u001b[0m\u001b[0;34m,\u001b[0m \u001b[0maxis\u001b[0m\u001b[0;34m:\u001b[0m \u001b[0mint\u001b[0m\u001b[0;34m)\u001b[0m\u001b[0;34m:\u001b[0m\u001b[0;34m\u001b[0m\u001b[0;34m\u001b[0m\u001b[0m\n",
            "\u001b[0;32m/usr/local/lib/python3.7/dist-packages/pandas/core/indexing.py\u001b[0m in \u001b[0;36m_getitem_tuple_same_dim\u001b[0;34m(self, tup)\u001b[0m\n\u001b[1;32m    804\u001b[0m                 \u001b[0;32mcontinue\u001b[0m\u001b[0;34m\u001b[0m\u001b[0;34m\u001b[0m\u001b[0m\n\u001b[1;32m    805\u001b[0m \u001b[0;34m\u001b[0m\u001b[0m\n\u001b[0;32m--> 806\u001b[0;31m             \u001b[0mretval\u001b[0m \u001b[0;34m=\u001b[0m \u001b[0mgetattr\u001b[0m\u001b[0;34m(\u001b[0m\u001b[0mretval\u001b[0m\u001b[0;34m,\u001b[0m \u001b[0mself\u001b[0m\u001b[0;34m.\u001b[0m\u001b[0mname\u001b[0m\u001b[0;34m)\u001b[0m\u001b[0;34m.\u001b[0m\u001b[0m_getitem_axis\u001b[0m\u001b[0;34m(\u001b[0m\u001b[0mkey\u001b[0m\u001b[0;34m,\u001b[0m \u001b[0maxis\u001b[0m\u001b[0;34m=\u001b[0m\u001b[0mi\u001b[0m\u001b[0;34m)\u001b[0m\u001b[0;34m\u001b[0m\u001b[0;34m\u001b[0m\u001b[0m\n\u001b[0m\u001b[1;32m    807\u001b[0m             \u001b[0;31m# We should never have retval.ndim < self.ndim, as that should\u001b[0m\u001b[0;34m\u001b[0m\u001b[0;34m\u001b[0m\u001b[0;34m\u001b[0m\u001b[0m\n\u001b[1;32m    808\u001b[0m             \u001b[0;31m#  be handled by the _getitem_lowerdim call above.\u001b[0m\u001b[0;34m\u001b[0m\u001b[0;34m\u001b[0m\u001b[0;34m\u001b[0m\u001b[0m\n",
            "\u001b[0;32m/usr/local/lib/python3.7/dist-packages/pandas/core/indexing.py\u001b[0m in \u001b[0;36m_getitem_axis\u001b[0;34m(self, key, axis)\u001b[0m\n\u001b[1;32m   1151\u001b[0m                     \u001b[0;32mraise\u001b[0m \u001b[0mValueError\u001b[0m\u001b[0;34m(\u001b[0m\u001b[0;34m\"Cannot index with multidimensional key\"\u001b[0m\u001b[0;34m)\u001b[0m\u001b[0;34m\u001b[0m\u001b[0;34m\u001b[0m\u001b[0m\n\u001b[1;32m   1152\u001b[0m \u001b[0;34m\u001b[0m\u001b[0m\n\u001b[0;32m-> 1153\u001b[0;31m                 \u001b[0;32mreturn\u001b[0m \u001b[0mself\u001b[0m\u001b[0;34m.\u001b[0m\u001b[0m_getitem_iterable\u001b[0m\u001b[0;34m(\u001b[0m\u001b[0mkey\u001b[0m\u001b[0;34m,\u001b[0m \u001b[0maxis\u001b[0m\u001b[0;34m=\u001b[0m\u001b[0maxis\u001b[0m\u001b[0;34m)\u001b[0m\u001b[0;34m\u001b[0m\u001b[0;34m\u001b[0m\u001b[0m\n\u001b[0m\u001b[1;32m   1154\u001b[0m \u001b[0;34m\u001b[0m\u001b[0m\n\u001b[1;32m   1155\u001b[0m             \u001b[0;31m# nested tuple slicing\u001b[0m\u001b[0;34m\u001b[0m\u001b[0;34m\u001b[0m\u001b[0;34m\u001b[0m\u001b[0m\n",
            "\u001b[0;32m/usr/local/lib/python3.7/dist-packages/pandas/core/indexing.py\u001b[0m in \u001b[0;36m_getitem_iterable\u001b[0;34m(self, key, axis)\u001b[0m\n\u001b[1;32m   1091\u001b[0m \u001b[0;34m\u001b[0m\u001b[0m\n\u001b[1;32m   1092\u001b[0m         \u001b[0;31m# A collection of keys\u001b[0m\u001b[0;34m\u001b[0m\u001b[0;34m\u001b[0m\u001b[0;34m\u001b[0m\u001b[0m\n\u001b[0;32m-> 1093\u001b[0;31m         \u001b[0mkeyarr\u001b[0m\u001b[0;34m,\u001b[0m \u001b[0mindexer\u001b[0m \u001b[0;34m=\u001b[0m \u001b[0mself\u001b[0m\u001b[0;34m.\u001b[0m\u001b[0m_get_listlike_indexer\u001b[0m\u001b[0;34m(\u001b[0m\u001b[0mkey\u001b[0m\u001b[0;34m,\u001b[0m \u001b[0maxis\u001b[0m\u001b[0;34m)\u001b[0m\u001b[0;34m\u001b[0m\u001b[0;34m\u001b[0m\u001b[0m\n\u001b[0m\u001b[1;32m   1094\u001b[0m         return self.obj._reindex_with_indexers(\n\u001b[1;32m   1095\u001b[0m             \u001b[0;34m{\u001b[0m\u001b[0maxis\u001b[0m\u001b[0;34m:\u001b[0m \u001b[0;34m[\u001b[0m\u001b[0mkeyarr\u001b[0m\u001b[0;34m,\u001b[0m \u001b[0mindexer\u001b[0m\u001b[0;34m]\u001b[0m\u001b[0;34m}\u001b[0m\u001b[0;34m,\u001b[0m \u001b[0mcopy\u001b[0m\u001b[0;34m=\u001b[0m\u001b[0;32mTrue\u001b[0m\u001b[0;34m,\u001b[0m \u001b[0mallow_dups\u001b[0m\u001b[0;34m=\u001b[0m\u001b[0;32mTrue\u001b[0m\u001b[0;34m\u001b[0m\u001b[0;34m\u001b[0m\u001b[0m\n",
            "\u001b[0;32m/usr/local/lib/python3.7/dist-packages/pandas/core/indexing.py\u001b[0m in \u001b[0;36m_get_listlike_indexer\u001b[0;34m(self, key, axis)\u001b[0m\n\u001b[1;32m   1312\u001b[0m             \u001b[0mkeyarr\u001b[0m\u001b[0;34m,\u001b[0m \u001b[0mindexer\u001b[0m\u001b[0;34m,\u001b[0m \u001b[0mnew_indexer\u001b[0m \u001b[0;34m=\u001b[0m \u001b[0max\u001b[0m\u001b[0;34m.\u001b[0m\u001b[0m_reindex_non_unique\u001b[0m\u001b[0;34m(\u001b[0m\u001b[0mkeyarr\u001b[0m\u001b[0;34m)\u001b[0m\u001b[0;34m\u001b[0m\u001b[0;34m\u001b[0m\u001b[0m\n\u001b[1;32m   1313\u001b[0m \u001b[0;34m\u001b[0m\u001b[0m\n\u001b[0;32m-> 1314\u001b[0;31m         \u001b[0mself\u001b[0m\u001b[0;34m.\u001b[0m\u001b[0m_validate_read_indexer\u001b[0m\u001b[0;34m(\u001b[0m\u001b[0mkeyarr\u001b[0m\u001b[0;34m,\u001b[0m \u001b[0mindexer\u001b[0m\u001b[0;34m,\u001b[0m \u001b[0maxis\u001b[0m\u001b[0;34m)\u001b[0m\u001b[0;34m\u001b[0m\u001b[0;34m\u001b[0m\u001b[0m\n\u001b[0m\u001b[1;32m   1315\u001b[0m \u001b[0;34m\u001b[0m\u001b[0m\n\u001b[1;32m   1316\u001b[0m         if needs_i8_conversion(ax.dtype) or isinstance(\n",
            "\u001b[0;32m/usr/local/lib/python3.7/dist-packages/pandas/core/indexing.py\u001b[0m in \u001b[0;36m_validate_read_indexer\u001b[0;34m(self, key, indexer, axis)\u001b[0m\n\u001b[1;32m   1375\u001b[0m \u001b[0;34m\u001b[0m\u001b[0m\n\u001b[1;32m   1376\u001b[0m             \u001b[0mnot_found\u001b[0m \u001b[0;34m=\u001b[0m \u001b[0mlist\u001b[0m\u001b[0;34m(\u001b[0m\u001b[0mensure_index\u001b[0m\u001b[0;34m(\u001b[0m\u001b[0mkey\u001b[0m\u001b[0;34m)\u001b[0m\u001b[0;34m[\u001b[0m\u001b[0mmissing_mask\u001b[0m\u001b[0;34m.\u001b[0m\u001b[0mnonzero\u001b[0m\u001b[0;34m(\u001b[0m\u001b[0;34m)\u001b[0m\u001b[0;34m[\u001b[0m\u001b[0;36m0\u001b[0m\u001b[0;34m]\u001b[0m\u001b[0;34m]\u001b[0m\u001b[0;34m.\u001b[0m\u001b[0munique\u001b[0m\u001b[0;34m(\u001b[0m\u001b[0;34m)\u001b[0m\u001b[0;34m)\u001b[0m\u001b[0;34m\u001b[0m\u001b[0;34m\u001b[0m\u001b[0m\n\u001b[0;32m-> 1377\u001b[0;31m             \u001b[0;32mraise\u001b[0m \u001b[0mKeyError\u001b[0m\u001b[0;34m(\u001b[0m\u001b[0;34mf\"{not_found} not in index\"\u001b[0m\u001b[0;34m)\u001b[0m\u001b[0;34m\u001b[0m\u001b[0;34m\u001b[0m\u001b[0m\n\u001b[0m\u001b[1;32m   1378\u001b[0m \u001b[0;34m\u001b[0m\u001b[0m\n\u001b[1;32m   1379\u001b[0m \u001b[0;34m\u001b[0m\u001b[0m\n",
            "\u001b[0;31mKeyError\u001b[0m: \"['day'] not in index\""
          ]
        }
      ]
    },
    {
      "cell_type": "code",
      "source": [
        "#밑으로 혹은 옆으로 쌓아나가는 방식으로 데이터 수를 늘리는 방식"
      ],
      "metadata": {
        "id": "Wzo8M4C2DvFl"
      },
      "execution_count": null,
      "outputs": []
    },
    {
      "cell_type": "code",
      "source": [
        ""
      ],
      "metadata": {
        "id": "0Dq84XmwDvJJ"
      },
      "execution_count": null,
      "outputs": []
    },
    {
      "cell_type": "code",
      "source": [
        ""
      ],
      "metadata": {
        "id": "siF57KUODvMu"
      },
      "execution_count": null,
      "outputs": []
    },
    {
      "cell_type": "code",
      "source": [
        ""
      ],
      "metadata": {
        "id": "JhlTs4K_DvQ5"
      },
      "execution_count": null,
      "outputs": []
    },
    {
      "cell_type": "code",
      "source": [
        "if temp[\"directors\"] = movie_data[\"movieListResult\"][\"movieList\"][i]\n",
        "    print(\"\")\n",
        "else:\n",
        "    print(temp[\"directors\"][0][\"peopleNm\"])\n",
        "\n",
        "    #       필요한 정보(코드,이름, 개봉일..)추출\n",
        "    movie_df_temp = movie_df_temp.append({\"movieCd\":\"\", \"movieNm\":\"\",\"moveNmEn\":\"\",\"movieCd\":\"\",\n",
        "                                        \"openDt\":\"\",\"DirName\":\"\"},ignore_index=True)\n",
        "    #       temp에 기록!!! temp에 기록!!!(가로:i번째, 세로:그 정보 컬럼 정수이)\n",
        "    temp = movie_data[\"movieListResult\"][\"movieList\"][idx]\n",
        "    # temp것을 movie_df에 추가 0으로 인덱스가 추가\n",
        "\n",
        "    # temp싹 방정리~~ -> 다음 영화 정보를 기입하기 위해 비움\n",
        "movie_df_temp()"
      ],
      "metadata": {
        "id": "4kITBRq92DXm",
        "colab": {
          "base_uri": "https://localhost:8080/",
          "height": 137
        },
        "outputId": "7a911dc4-88fe-489d-d58f-7c34e61ac54e"
      },
      "execution_count": 108,
      "outputs": [
        {
          "output_type": "error",
          "ename": "SyntaxError",
          "evalue": "ignored",
          "traceback": [
            "\u001b[0;36m  File \u001b[0;32m\"<ipython-input-108-3e9fddce92e4>\"\u001b[0;36m, line \u001b[0;32m1\u001b[0m\n\u001b[0;31m    if temp[\"directors\"] = movie_data[\"movieListResult\"][\"movieList\"][i]\u001b[0m\n\u001b[0m                         ^\u001b[0m\n\u001b[0;31mSyntaxError\u001b[0m\u001b[0;31m:\u001b[0m invalid syntax\n"
          ]
        }
      ]
    },
    {
      "cell_type": "code",
      "source": [
        "#구글드라이브에 CSV파일 추출하기\n",
        "out_path =\"/content/drive/MyDrive/2022 코딩/02_영화정보/02_영화정보.csv\"\n",
        "movie_df.to_csv(out_path)\n"
      ],
      "metadata": {
        "id": "ApDh0HFRDuQu"
      },
      "execution_count": 115,
      "outputs": []
    },
    {
      "cell_type": "code",
      "source": [
        "#영화사 상세정보 API추출하여 열 추가하기\n",
        "#개별 영화의 속성 추가\n",
        "# 형태적으로 옆으로 늘어나는 모양!\n",
        "# 잠시 상세 정보 요청하고, 처리하는 기능 체크"
      ],
      "metadata": {
        "id": "9SOiBh0EVVbq"
      },
      "execution_count": null,
      "outputs": []
    },
    {
      "cell_type": "code",
      "source": [
        "# 1) 광해에 대한 상세 정보 요청 url :(본인 키값으로)\n",
        "# 2) 그 주소에 대해서 통신(urllib.request,urlopen)\n",
        "# 3) 파이썬에서 접근이 용이하게 json 패키지써서\n",
        "#    문자열 데이터를 파이썬dict, list처럼 변형!"
      ],
      "metadata": {
        "id": "iPgdNMzScRt6"
      },
      "execution_count": null,
      "outputs": []
    },
    {
      "cell_type": "code",
      "source": [
        "url_p1 = \"http://www.kobis.or.kr/kobisopenapi/webservice/rest/movie/searchMovieInfo.json?key=\"\n",
        "key = \"16017155671c20ec5a59a6a52b651447\"\n",
        "url_p2 = \"&movieCd=\"\n",
        "movie_code = \"20124079\"\n",
        "url = url_p1 + key + url_p2 + movie_code\n",
        "print(url)\n",
        "\n",
        "temp_page = urllib.request.urlopen(url)\n",
        "temp_data = json.loads(temp_page.read().decode(\"utf-8\"))\n",
        "temp_data"
      ],
      "metadata": {
        "id": "Y6DLYFzLcRwT"
      },
      "execution_count": null,
      "outputs": []
    },
    {
      "cell_type": "code",
      "source": [
        "# Q) 광해 영화의 장르는?\n",
        "# Q) 광해 영화의 출연한 배우의 수?\n",
        "# Q) 광해 영화의 배우 정보가 있다면, 1번 배우에 대한 이름\n",
        "# Q)                                 1번 배우의 배역이름\n",
        "# ---> 이 정보들을 추출해보세요!"
      ],
      "metadata": {
        "id": "Jl7nezXfcRy0"
      },
      "execution_count": null,
      "outputs": []
    },
    {
      "cell_type": "code",
      "source": [
        "temp_data[\"movieInfoResult\"][\"movieInfo\"][\"genres\"]"
      ],
      "metadata": {
        "colab": {
          "base_uri": "https://localhost:8080/"
        },
        "id": "hrrhOjXFcR3o",
        "outputId": "1cab7dcb-c519-4712-c7cb-ebcfc4ef5e47"
      },
      "execution_count": 122,
      "outputs": [
        {
          "output_type": "execute_result",
          "data": {
            "text/plain": [
              "[{'genreNm': '사극'}, {'genreNm': '드라마'}]"
            ]
          },
          "metadata": {},
          "execution_count": 122
        }
      ]
    },
    {
      "cell_type": "code",
      "source": [
        "#장르에 대한 정보\n",
        "temp_data[\"movieInfoResult\"][\"movieInfo\"][\"genres\"][0][\"genreNm\"]"
      ],
      "metadata": {
        "colab": {
          "base_uri": "https://localhost:8080/",
          "height": 35
        },
        "id": "5nAP-6qAgQ18",
        "outputId": "f504155d-04e8-4f38-b3bb-3174518bad5c"
      },
      "execution_count": 123,
      "outputs": [
        {
          "output_type": "execute_result",
          "data": {
            "application/vnd.google.colaboratory.intrinsic+json": {
              "type": "string"
            },
            "text/plain": [
              "'사극'"
            ]
          },
          "metadata": {},
          "execution_count": 123
        }
      ]
    },
    {
      "cell_type": "code",
      "source": [
        "#출연자 수\n",
        "len(temp_data[\"movieInfoResult\"][\"movieInfo\"][\"actors\"])"
      ],
      "metadata": {
        "colab": {
          "base_uri": "https://localhost:8080/"
        },
        "id": "Nxw9FelihWBx",
        "outputId": "a61411fb-37a6-42e9-e1aa-5bb834e9f100"
      },
      "execution_count": 124,
      "outputs": [
        {
          "output_type": "execute_result",
          "data": {
            "text/plain": [
              "36"
            ]
          },
          "metadata": {},
          "execution_count": 124
        }
      ]
    },
    {
      "cell_type": "code",
      "source": [
        "#배역에 대한 정보\n",
        "temp_data[\"movieInfoResult\"][\"movieInfo\"][\"actors\"][0][\"peopleNm\"]"
      ],
      "metadata": {
        "colab": {
          "base_uri": "https://localhost:8080/",
          "height": 35
        },
        "id": "uUrgn9oChWIY",
        "outputId": "e86b1681-7d05-4fdf-8e85-fb42bca4b74f"
      },
      "execution_count": 125,
      "outputs": [
        {
          "output_type": "execute_result",
          "data": {
            "application/vnd.google.colaboratory.intrinsic+json": {
              "type": "string"
            },
            "text/plain": [
              "'이병헌'"
            ]
          },
          "metadata": {},
          "execution_count": 125
        }
      ]
    },
    {
      "cell_type": "code",
      "source": [
        "movie_df[\"Genre\"] = \"\"      #장르 정보\n",
        "movie_df[\"ActNum\"] = \"\"     #출연배우수 컬럼추가\n",
        "movie_df[\"ActName\"] = \"\"    #배우이름 컬럼추가\n",
        "movie_df[\"ActCast\"] = \"\"    #배역이름 컬럼추가"
      ],
      "metadata": {
        "id": "sLv3sPnEhWPb"
      },
      "execution_count": 128,
      "outputs": []
    },
    {
      "cell_type": "code",
      "source": [
        "#시도\n",
        "movie_df.loc[:,\"movieCd\"].apply(lambda x: str(x)[:4])\n",
        "# 컬럼을 주고, 그 컬럼을 가로줄 인덱스로 지정...\n",
        "# 주의) 그 컬럼이 ㅇ\n",
        "movie_df.set_index(\"movieCd\", inplace=True)\n",
        "movie_df.head()\n",
        "\n",
        "temp_code_id = movie_df_temp.columns.get_loc(\"movieCd\")     #컬럼의 위치정보 반영시키겠다\n",
        "\n",
        "for i in range(0, num):                                     #num 받은정보만큼 받아서 데이터 처리를 하겠다.\n",
        "    i_movie = movie_data[\"movieListResult\"][\"movieList\"][i]\n",
        "    \n",
        "    movie_df_temp.iat[0,temp_code_id] = i_movie[\"movieCd\"]"
      ],
      "metadata": {
        "id": "0U_VFa8FhWRu"
      },
      "execution_count": null,
      "outputs": []
    },
    {
      "cell_type": "code",
      "source": [
        "movie_df.index"
      ],
      "metadata": {
        "colab": {
          "base_uri": "https://localhost:8080/"
        },
        "id": "6LPJ_zSrlYy1",
        "outputId": "aeaf7499-d932-404a-f6a3-a6eded074b37"
      },
      "execution_count": 129,
      "outputs": [
        {
          "output_type": "execute_result",
          "data": {
            "text/plain": [
              "Index(['20211200', '20219245', '20223266', '20212836', '20212871', '20205443',\n",
              "       '20223724', '20223691', '20201965', '20223793', '20223827', '20203354',\n",
              "       '20223829', '20223288', '20199500', '20211542', '20223828', '20212704',\n",
              "       '20219345', '20223402'],\n",
              "      dtype='object', name='movieCd')"
            ]
          },
          "metadata": {},
          "execution_count": 129
        }
      ]
    },
    {
      "cell_type": "code",
      "source": [
        "for i_code in movie_df.index:\n",
        "    print(i_code)"
      ],
      "metadata": {
        "colab": {
          "base_uri": "https://localhost:8080/"
        },
        "id": "gGEJs6Q8lY1G",
        "outputId": "fdcfc6ed-7de3-4fbd-9b2e-53843ce03fa4"
      },
      "execution_count": 133,
      "outputs": [
        {
          "output_type": "stream",
          "name": "stdout",
          "text": [
            "20211200\n",
            "20219245\n",
            "20223266\n",
            "20212836\n",
            "20212871\n",
            "20205443\n",
            "20223724\n",
            "20223691\n",
            "20201965\n",
            "20223793\n",
            "20223827\n",
            "20203354\n",
            "20223829\n",
            "20223288\n",
            "20199500\n",
            "20211542\n",
            "20223828\n",
            "20212704\n",
            "20219345\n",
            "20223402\n"
          ]
        }
      ]
    },
    {
      "cell_type": "code",
      "source": [
        "# 접근1을 정수대신 제가 만든 인덱스 중심으로\n",
        "for i_code in movie_df.index:\n",
        "    print(i_code)\n",
        "    # i_code에 대한 상세정보를 요청하는 url만들기`~\n",
        "    url_p1 = \"http://www.kobis.or.kr/kobisopenapi/webservice/rest/movie/searchMovieInfo.json?key=\"\n",
        "    key = \"16017155671c20ec5a59a6a52b651447\"\n",
        "    url_p2 = \"&movieCd=\"\n",
        "    url = url_p1 + key + url_p2 + str(i_code)\n",
        "    print(url)\n",
        "    "
      ],
      "metadata": {
        "colab": {
          "base_uri": "https://localhost:8080/"
        },
        "id": "g8gCEhXWnApc",
        "outputId": "66e80be7-ae13-40c8-b4f6-cce2e936ca2f"
      },
      "execution_count": 132,
      "outputs": [
        {
          "output_type": "stream",
          "name": "stdout",
          "text": [
            "20211200\n",
            "http://www.kobis.or.kr/kobisopenapi/webservice/rest/movie/searchMovieInfo.json?key=16017155671c20ec5a59a6a52b651447&movieCd=20211200\n",
            "20219245\n",
            "http://www.kobis.or.kr/kobisopenapi/webservice/rest/movie/searchMovieInfo.json?key=16017155671c20ec5a59a6a52b651447&movieCd=20219245\n",
            "20223266\n",
            "http://www.kobis.or.kr/kobisopenapi/webservice/rest/movie/searchMovieInfo.json?key=16017155671c20ec5a59a6a52b651447&movieCd=20223266\n",
            "20212836\n",
            "http://www.kobis.or.kr/kobisopenapi/webservice/rest/movie/searchMovieInfo.json?key=16017155671c20ec5a59a6a52b651447&movieCd=20212836\n",
            "20212871\n",
            "http://www.kobis.or.kr/kobisopenapi/webservice/rest/movie/searchMovieInfo.json?key=16017155671c20ec5a59a6a52b651447&movieCd=20212871\n",
            "20205443\n",
            "http://www.kobis.or.kr/kobisopenapi/webservice/rest/movie/searchMovieInfo.json?key=16017155671c20ec5a59a6a52b651447&movieCd=20205443\n",
            "20223724\n",
            "http://www.kobis.or.kr/kobisopenapi/webservice/rest/movie/searchMovieInfo.json?key=16017155671c20ec5a59a6a52b651447&movieCd=20223724\n",
            "20223691\n",
            "http://www.kobis.or.kr/kobisopenapi/webservice/rest/movie/searchMovieInfo.json?key=16017155671c20ec5a59a6a52b651447&movieCd=20223691\n",
            "20201965\n",
            "http://www.kobis.or.kr/kobisopenapi/webservice/rest/movie/searchMovieInfo.json?key=16017155671c20ec5a59a6a52b651447&movieCd=20201965\n",
            "20223793\n",
            "http://www.kobis.or.kr/kobisopenapi/webservice/rest/movie/searchMovieInfo.json?key=16017155671c20ec5a59a6a52b651447&movieCd=20223793\n",
            "20223827\n",
            "http://www.kobis.or.kr/kobisopenapi/webservice/rest/movie/searchMovieInfo.json?key=16017155671c20ec5a59a6a52b651447&movieCd=20223827\n",
            "20203354\n",
            "http://www.kobis.or.kr/kobisopenapi/webservice/rest/movie/searchMovieInfo.json?key=16017155671c20ec5a59a6a52b651447&movieCd=20203354\n",
            "20223829\n",
            "http://www.kobis.or.kr/kobisopenapi/webservice/rest/movie/searchMovieInfo.json?key=16017155671c20ec5a59a6a52b651447&movieCd=20223829\n",
            "20223288\n",
            "http://www.kobis.or.kr/kobisopenapi/webservice/rest/movie/searchMovieInfo.json?key=16017155671c20ec5a59a6a52b651447&movieCd=20223288\n",
            "20199500\n",
            "http://www.kobis.or.kr/kobisopenapi/webservice/rest/movie/searchMovieInfo.json?key=16017155671c20ec5a59a6a52b651447&movieCd=20199500\n",
            "20211542\n",
            "http://www.kobis.or.kr/kobisopenapi/webservice/rest/movie/searchMovieInfo.json?key=16017155671c20ec5a59a6a52b651447&movieCd=20211542\n",
            "20223828\n",
            "http://www.kobis.or.kr/kobisopenapi/webservice/rest/movie/searchMovieInfo.json?key=16017155671c20ec5a59a6a52b651447&movieCd=20223828\n",
            "20212704\n",
            "http://www.kobis.or.kr/kobisopenapi/webservice/rest/movie/searchMovieInfo.json?key=16017155671c20ec5a59a6a52b651447&movieCd=20212704\n",
            "20219345\n",
            "http://www.kobis.or.kr/kobisopenapi/webservice/rest/movie/searchMovieInfo.json?key=16017155671c20ec5a59a6a52b651447&movieCd=20219345\n",
            "20223402\n",
            "http://www.kobis.or.kr/kobisopenapi/webservice/rest/movie/searchMovieInfo.json?key=16017155671c20ec5a59a6a52b651447&movieCd=20223402\n"
          ]
        }
      ]
    },
    {
      "cell_type": "code",
      "source": [
        "#HTTP \n",
        "#UTF-8로 처리하겠다\n",
        "# 접근1을 정수대신 제가 만든 인덱스 중심으로\n",
        "for i_code in movie_df.index:\n",
        "    print(i_code)\n",
        "    # i_code에 대한 상세정보를 요청하는 url만들기`~\n",
        "    url_p1 = \"http://www.kobis.or.kr/kobisopenapi/webservice/rest/movie/searchMovieInfo.json?key=\"\n",
        "    key = \"16017155671c20ec5a59a6a52b651447\"\n",
        "    url_p2 = \"&movieCd=\"\n",
        "    url = url_p1 + key + url_p2 + str(i_code)\n",
        "    print(url)\n",
        "    temp_page = urllib.request.urlopen(url)\n",
        "    temp_data = json.loads(temp_page.read().decode(\"utf-8\"))\n",
        "    print((temp_data))\n",
        "    ### i_code에 대한 상세정보 url을 직접 요청\n",
        "    ###                                    받아서\n",
        "    ###                                  처리하기 편하게 json\n",
        "\n",
        "    ### 필요정보 추출 -> DF에 특정 위치에 맞게 업데이트~~"
      ],
      "metadata": {
        "id": "FPc-GxKcnArx"
      },
      "execution_count": null,
      "outputs": []
    },
    {
      "cell_type": "code",
      "source": [
        "#이제 내가 원하는 위치에 장르,출연배우수, 배우이름, 배역이름 넣겠다 \"Genre\" \"ActNum\" ActName ActCast"
      ],
      "metadata": {
        "id": "MP8olk29pz6P"
      },
      "execution_count": null,
      "outputs": []
    },
    {
      "cell_type": "code",
      "source": [
        ""
      ],
      "metadata": {
        "id": "iVBi55BHpz8x"
      },
      "execution_count": null,
      "outputs": []
    },
    {
      "cell_type": "code",
      "source": [
        ""
      ],
      "metadata": {
        "id": "aglIFBj7p0B0"
      },
      "execution_count": null,
      "outputs": []
    },
    {
      "cell_type": "code",
      "source": [
        "out_path =\"/content/drive/MyDrive/2022 코딩/02_영화정보/02_영화정보배역수 추가.csv\"\n",
        "movie_df.to_csv(out_path)"
      ],
      "metadata": {
        "id": "swyQfwJEjDMy"
      },
      "execution_count": null,
      "outputs": []
    }
  ]
}