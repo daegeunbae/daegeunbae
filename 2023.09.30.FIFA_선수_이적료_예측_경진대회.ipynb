{
 "cells": [
  {
   "cell_type": "code",
   "execution_count": 3,
   "metadata": {
    "id": "Vx2xLb45jbg5"
   },
   "outputs": [],
   "source": [
    "#https://www.kaggle.com/code/pritamguha31/fifa-19-players-analysis\n",
    "#https://www.youtube.com/watch?v=WZJoONIvG7M\n",
    "import pandas as pd\n",
    "import numpy as np\n",
    "import seaborn as sns\n",
    "import matplotlib.pyplot as plt\n",
    "from sklearn.preprocessing import LabelEncoder\n",
    "from sklearn.preprocessing import MinMaxScaler\n",
    "from sklearn.metrics import accuracy_score\n",
    "from sklearn.model_selection import train_test_split\n",
    "from sklearn.linear_model import LinearRegression\n",
    "from sklearn.linear_model import LogisticRegression\n",
    "from sklearn.ensemble import RandomForestRegressor\n",
    "\n",
    "#한글 폰트 설치\n",
    "#!sudo apt-get install -y fonts-nanum\n",
    "#!sudo fc-cache -fv]\n",
    "#!rm ~/.cache/matplotlib -rf\n",
    "plt.rc('font', family='NanumBarunGothic')"
   ]
  },
  {
   "cell_type": "markdown",
   "metadata": {
    "id": "G_BOmNDb-E0v"
   },
   "source": [
    "## 데이터 확인"
   ]
  },
  {
   "cell_type": "code",
   "execution_count": 4,
   "metadata": {
    "colab": {
     "base_uri": "https://localhost:8080/"
    },
    "id": "Pp20Ry8ojyxG",
    "outputId": "ea7cef2f-52e9-4f5e-cf3e-4f1d8c8a5bfd"
   },
   "outputs": [
    {
     "name": "stdout",
     "output_type": "stream",
     "text": [
      "(8932, 12)\n",
      "(8932, 12)\n"
     ]
    }
   ],
   "source": [
    "train=pd.read_csv('/content/FIFA_train.csv')\n",
    "test =pd.read_csv('/content/FIFA_train.csv')\n",
    "print(train.shape)\n",
    "print(test.shape)"
   ]
  },
  {
   "cell_type": "code",
   "execution_count": 5,
   "metadata": {
    "colab": {
     "base_uri": "https://localhost:8080/"
    },
    "id": "fPa0XYsk5aEK",
    "outputId": "40877501-50f0-4ffd-83c6-4a91d6c46616"
   },
   "outputs": [
    {
     "data": {
      "text/plain": [
       "array([[0, 'L. Messi', 31, ..., 94, 4.0, 110500000.0],\n",
       "       [3, 'De Gea', 27, ..., 93, 1.0, 72000000.0],\n",
       "       [7, 'L. Suárez', 31, ..., 91, 3.0, 80000000.0],\n",
       "       ...,\n",
       "       [16941, 'N. Fuentes', 18, ..., 64, 2.0, 50000.0],\n",
       "       [16942, 'J. Milli', 18, ..., 65, 1.0, 50000.0],\n",
       "       [16948, 'N. Christoffersson', 19, ..., 63, 2.0, 60000.0]],\n",
       "      dtype=object)"
      ]
     },
     "execution_count": 5,
     "metadata": {},
     "output_type": "execute_result"
    }
   ],
   "source": [
    "# predict 및 제출할 컬럼 미리 생성\n",
    "test_id = test['name']\n",
    "\n",
    "# y_test 값은 id 삭제 후 array형태로 변형\n",
    "# y_test = y_test.drop('StudentID', axis=1)\n",
    "y_test= test.to_numpy()\n",
    "y_test"
   ]
  },
  {
   "cell_type": "code",
   "execution_count": 6,
   "metadata": {
    "colab": {
     "base_uri": "https://localhost:8080/",
     "height": 206
    },
    "id": "Ww7WzywinNZM",
    "outputId": "ea7c0b34-1715-4e4d-bd52-e6549d5e11ac"
   },
   "outputs": [
    {
     "data": {
      "text/html": [
       "\n",
       "  <div id=\"df-a75cccef-1734-477b-b3fa-5649df3f47e9\">\n",
       "    <div class=\"colab-df-container\">\n",
       "      <div>\n",
       "<style scoped>\n",
       "    .dataframe tbody tr th:only-of-type {\n",
       "        vertical-align: middle;\n",
       "    }\n",
       "\n",
       "    .dataframe tbody tr th {\n",
       "        vertical-align: top;\n",
       "    }\n",
       "\n",
       "    .dataframe thead th {\n",
       "        text-align: right;\n",
       "    }\n",
       "</style>\n",
       "<table border=\"1\" class=\"dataframe\">\n",
       "  <thead>\n",
       "    <tr style=\"text-align: right;\">\n",
       "      <th></th>\n",
       "      <th>id</th>\n",
       "      <th>name</th>\n",
       "      <th>age</th>\n",
       "      <th>continent</th>\n",
       "      <th>contract_until</th>\n",
       "      <th>position</th>\n",
       "      <th>prefer_foot</th>\n",
       "      <th>reputation</th>\n",
       "      <th>stat_overall</th>\n",
       "      <th>stat_potential</th>\n",
       "      <th>stat_skill_moves</th>\n",
       "      <th>value</th>\n",
       "    </tr>\n",
       "  </thead>\n",
       "  <tbody>\n",
       "    <tr>\n",
       "      <th>0</th>\n",
       "      <td>0</td>\n",
       "      <td>L. Messi</td>\n",
       "      <td>31</td>\n",
       "      <td>south america</td>\n",
       "      <td>2021</td>\n",
       "      <td>ST</td>\n",
       "      <td>left</td>\n",
       "      <td>5.0</td>\n",
       "      <td>94</td>\n",
       "      <td>94</td>\n",
       "      <td>4.0</td>\n",
       "      <td>110500000.0</td>\n",
       "    </tr>\n",
       "    <tr>\n",
       "      <th>1</th>\n",
       "      <td>3</td>\n",
       "      <td>De Gea</td>\n",
       "      <td>27</td>\n",
       "      <td>europe</td>\n",
       "      <td>2020</td>\n",
       "      <td>GK</td>\n",
       "      <td>right</td>\n",
       "      <td>4.0</td>\n",
       "      <td>91</td>\n",
       "      <td>93</td>\n",
       "      <td>1.0</td>\n",
       "      <td>72000000.0</td>\n",
       "    </tr>\n",
       "    <tr>\n",
       "      <th>2</th>\n",
       "      <td>7</td>\n",
       "      <td>L. Suárez</td>\n",
       "      <td>31</td>\n",
       "      <td>south america</td>\n",
       "      <td>2021</td>\n",
       "      <td>ST</td>\n",
       "      <td>right</td>\n",
       "      <td>5.0</td>\n",
       "      <td>91</td>\n",
       "      <td>91</td>\n",
       "      <td>3.0</td>\n",
       "      <td>80000000.0</td>\n",
       "    </tr>\n",
       "    <tr>\n",
       "      <th>3</th>\n",
       "      <td>8</td>\n",
       "      <td>Sergio Ramos</td>\n",
       "      <td>32</td>\n",
       "      <td>europe</td>\n",
       "      <td>2020</td>\n",
       "      <td>DF</td>\n",
       "      <td>right</td>\n",
       "      <td>4.0</td>\n",
       "      <td>91</td>\n",
       "      <td>91</td>\n",
       "      <td>3.0</td>\n",
       "      <td>51000000.0</td>\n",
       "    </tr>\n",
       "    <tr>\n",
       "      <th>4</th>\n",
       "      <td>9</td>\n",
       "      <td>J. Oblak</td>\n",
       "      <td>25</td>\n",
       "      <td>europe</td>\n",
       "      <td>2021</td>\n",
       "      <td>GK</td>\n",
       "      <td>right</td>\n",
       "      <td>3.0</td>\n",
       "      <td>90</td>\n",
       "      <td>93</td>\n",
       "      <td>1.0</td>\n",
       "      <td>68000000.0</td>\n",
       "    </tr>\n",
       "  </tbody>\n",
       "</table>\n",
       "</div>\n",
       "      <button class=\"colab-df-convert\" onclick=\"convertToInteractive('df-a75cccef-1734-477b-b3fa-5649df3f47e9')\"\n",
       "              title=\"Convert this dataframe to an interactive table.\"\n",
       "              style=\"display:none;\">\n",
       "        \n",
       "  <svg xmlns=\"http://www.w3.org/2000/svg\" height=\"24px\"viewBox=\"0 0 24 24\"\n",
       "       width=\"24px\">\n",
       "    <path d=\"M0 0h24v24H0V0z\" fill=\"none\"/>\n",
       "    <path d=\"M18.56 5.44l.94 2.06.94-2.06 2.06-.94-2.06-.94-.94-2.06-.94 2.06-2.06.94zm-11 1L8.5 8.5l.94-2.06 2.06-.94-2.06-.94L8.5 2.5l-.94 2.06-2.06.94zm10 10l.94 2.06.94-2.06 2.06-.94-2.06-.94-.94-2.06-.94 2.06-2.06.94z\"/><path d=\"M17.41 7.96l-1.37-1.37c-.4-.4-.92-.59-1.43-.59-.52 0-1.04.2-1.43.59L10.3 9.45l-7.72 7.72c-.78.78-.78 2.05 0 2.83L4 21.41c.39.39.9.59 1.41.59.51 0 1.02-.2 1.41-.59l7.78-7.78 2.81-2.81c.8-.78.8-2.07 0-2.86zM5.41 20L4 18.59l7.72-7.72 1.47 1.35L5.41 20z\"/>\n",
       "  </svg>\n",
       "      </button>\n",
       "      \n",
       "  <style>\n",
       "    .colab-df-container {\n",
       "      display:flex;\n",
       "      flex-wrap:wrap;\n",
       "      gap: 12px;\n",
       "    }\n",
       "\n",
       "    .colab-df-convert {\n",
       "      background-color: #E8F0FE;\n",
       "      border: none;\n",
       "      border-radius: 50%;\n",
       "      cursor: pointer;\n",
       "      display: none;\n",
       "      fill: #1967D2;\n",
       "      height: 32px;\n",
       "      padding: 0 0 0 0;\n",
       "      width: 32px;\n",
       "    }\n",
       "\n",
       "    .colab-df-convert:hover {\n",
       "      background-color: #E2EBFA;\n",
       "      box-shadow: 0px 1px 2px rgba(60, 64, 67, 0.3), 0px 1px 3px 1px rgba(60, 64, 67, 0.15);\n",
       "      fill: #174EA6;\n",
       "    }\n",
       "\n",
       "    [theme=dark] .colab-df-convert {\n",
       "      background-color: #3B4455;\n",
       "      fill: #D2E3FC;\n",
       "    }\n",
       "\n",
       "    [theme=dark] .colab-df-convert:hover {\n",
       "      background-color: #434B5C;\n",
       "      box-shadow: 0px 1px 3px 1px rgba(0, 0, 0, 0.15);\n",
       "      filter: drop-shadow(0px 1px 2px rgba(0, 0, 0, 0.3));\n",
       "      fill: #FFFFFF;\n",
       "    }\n",
       "  </style>\n",
       "\n",
       "      <script>\n",
       "        const buttonEl =\n",
       "          document.querySelector('#df-a75cccef-1734-477b-b3fa-5649df3f47e9 button.colab-df-convert');\n",
       "        buttonEl.style.display =\n",
       "          google.colab.kernel.accessAllowed ? 'block' : 'none';\n",
       "\n",
       "        async function convertToInteractive(key) {\n",
       "          const element = document.querySelector('#df-a75cccef-1734-477b-b3fa-5649df3f47e9');\n",
       "          const dataTable =\n",
       "            await google.colab.kernel.invokeFunction('convertToInteractive',\n",
       "                                                     [key], {});\n",
       "          if (!dataTable) return;\n",
       "\n",
       "          const docLinkHtml = 'Like what you see? Visit the ' +\n",
       "            '<a target=\"_blank\" href=https://colab.research.google.com/notebooks/data_table.ipynb>data table notebook</a>'\n",
       "            + ' to learn more about interactive tables.';\n",
       "          element.innerHTML = '';\n",
       "          dataTable['output_type'] = 'display_data';\n",
       "          await google.colab.output.renderOutput(dataTable, element);\n",
       "          const docLink = document.createElement('div');\n",
       "          docLink.innerHTML = docLinkHtml;\n",
       "          element.appendChild(docLink);\n",
       "        }\n",
       "      </script>\n",
       "    </div>\n",
       "  </div>\n",
       "  "
      ],
      "text/plain": [
       "   id          name  age      continent contract_until position prefer_foot  \\\n",
       "0   0      L. Messi   31  south america           2021       ST        left   \n",
       "1   3        De Gea   27         europe           2020       GK       right   \n",
       "2   7     L. Suárez   31  south america           2021       ST       right   \n",
       "3   8  Sergio Ramos   32         europe           2020       DF       right   \n",
       "4   9      J. Oblak   25         europe           2021       GK       right   \n",
       "\n",
       "   reputation  stat_overall  stat_potential  stat_skill_moves        value  \n",
       "0         5.0            94              94               4.0  110500000.0  \n",
       "1         4.0            91              93               1.0   72000000.0  \n",
       "2         5.0            91              91               3.0   80000000.0  \n",
       "3         4.0            91              91               3.0   51000000.0  \n",
       "4         3.0            90              93               1.0   68000000.0  "
      ]
     },
     "execution_count": 6,
     "metadata": {},
     "output_type": "execute_result"
    }
   ],
   "source": [
    "train.head()"
   ]
  },
  {
   "cell_type": "code",
   "execution_count": 7,
   "metadata": {
    "colab": {
     "base_uri": "https://localhost:8080/",
     "height": 206
    },
    "id": "re21pQLAxRdE",
    "outputId": "22740a38-3556-45fd-db12-e26061cd5f35"
   },
   "outputs": [
    {
     "data": {
      "text/html": [
       "\n",
       "  <div id=\"df-e572204e-6283-4601-9ed0-aca67aa59e8f\">\n",
       "    <div class=\"colab-df-container\">\n",
       "      <div>\n",
       "<style scoped>\n",
       "    .dataframe tbody tr th:only-of-type {\n",
       "        vertical-align: middle;\n",
       "    }\n",
       "\n",
       "    .dataframe tbody tr th {\n",
       "        vertical-align: top;\n",
       "    }\n",
       "\n",
       "    .dataframe thead th {\n",
       "        text-align: right;\n",
       "    }\n",
       "</style>\n",
       "<table border=\"1\" class=\"dataframe\">\n",
       "  <thead>\n",
       "    <tr style=\"text-align: right;\">\n",
       "      <th></th>\n",
       "      <th>id</th>\n",
       "      <th>name</th>\n",
       "      <th>age</th>\n",
       "      <th>continent</th>\n",
       "      <th>contract_until</th>\n",
       "      <th>position</th>\n",
       "      <th>prefer_foot</th>\n",
       "      <th>reputation</th>\n",
       "      <th>stat_overall</th>\n",
       "      <th>stat_potential</th>\n",
       "      <th>stat_skill_moves</th>\n",
       "      <th>value</th>\n",
       "    </tr>\n",
       "  </thead>\n",
       "  <tbody>\n",
       "    <tr>\n",
       "      <th>0</th>\n",
       "      <td>0</td>\n",
       "      <td>L. Messi</td>\n",
       "      <td>31</td>\n",
       "      <td>south america</td>\n",
       "      <td>2021</td>\n",
       "      <td>ST</td>\n",
       "      <td>left</td>\n",
       "      <td>5.0</td>\n",
       "      <td>94</td>\n",
       "      <td>94</td>\n",
       "      <td>4.0</td>\n",
       "      <td>110500000.0</td>\n",
       "    </tr>\n",
       "    <tr>\n",
       "      <th>1</th>\n",
       "      <td>3</td>\n",
       "      <td>De Gea</td>\n",
       "      <td>27</td>\n",
       "      <td>europe</td>\n",
       "      <td>2020</td>\n",
       "      <td>GK</td>\n",
       "      <td>right</td>\n",
       "      <td>4.0</td>\n",
       "      <td>91</td>\n",
       "      <td>93</td>\n",
       "      <td>1.0</td>\n",
       "      <td>72000000.0</td>\n",
       "    </tr>\n",
       "    <tr>\n",
       "      <th>2</th>\n",
       "      <td>7</td>\n",
       "      <td>L. Suárez</td>\n",
       "      <td>31</td>\n",
       "      <td>south america</td>\n",
       "      <td>2021</td>\n",
       "      <td>ST</td>\n",
       "      <td>right</td>\n",
       "      <td>5.0</td>\n",
       "      <td>91</td>\n",
       "      <td>91</td>\n",
       "      <td>3.0</td>\n",
       "      <td>80000000.0</td>\n",
       "    </tr>\n",
       "    <tr>\n",
       "      <th>3</th>\n",
       "      <td>8</td>\n",
       "      <td>Sergio Ramos</td>\n",
       "      <td>32</td>\n",
       "      <td>europe</td>\n",
       "      <td>2020</td>\n",
       "      <td>DF</td>\n",
       "      <td>right</td>\n",
       "      <td>4.0</td>\n",
       "      <td>91</td>\n",
       "      <td>91</td>\n",
       "      <td>3.0</td>\n",
       "      <td>51000000.0</td>\n",
       "    </tr>\n",
       "    <tr>\n",
       "      <th>4</th>\n",
       "      <td>9</td>\n",
       "      <td>J. Oblak</td>\n",
       "      <td>25</td>\n",
       "      <td>europe</td>\n",
       "      <td>2021</td>\n",
       "      <td>GK</td>\n",
       "      <td>right</td>\n",
       "      <td>3.0</td>\n",
       "      <td>90</td>\n",
       "      <td>93</td>\n",
       "      <td>1.0</td>\n",
       "      <td>68000000.0</td>\n",
       "    </tr>\n",
       "  </tbody>\n",
       "</table>\n",
       "</div>\n",
       "      <button class=\"colab-df-convert\" onclick=\"convertToInteractive('df-e572204e-6283-4601-9ed0-aca67aa59e8f')\"\n",
       "              title=\"Convert this dataframe to an interactive table.\"\n",
       "              style=\"display:none;\">\n",
       "        \n",
       "  <svg xmlns=\"http://www.w3.org/2000/svg\" height=\"24px\"viewBox=\"0 0 24 24\"\n",
       "       width=\"24px\">\n",
       "    <path d=\"M0 0h24v24H0V0z\" fill=\"none\"/>\n",
       "    <path d=\"M18.56 5.44l.94 2.06.94-2.06 2.06-.94-2.06-.94-.94-2.06-.94 2.06-2.06.94zm-11 1L8.5 8.5l.94-2.06 2.06-.94-2.06-.94L8.5 2.5l-.94 2.06-2.06.94zm10 10l.94 2.06.94-2.06 2.06-.94-2.06-.94-.94-2.06-.94 2.06-2.06.94z\"/><path d=\"M17.41 7.96l-1.37-1.37c-.4-.4-.92-.59-1.43-.59-.52 0-1.04.2-1.43.59L10.3 9.45l-7.72 7.72c-.78.78-.78 2.05 0 2.83L4 21.41c.39.39.9.59 1.41.59.51 0 1.02-.2 1.41-.59l7.78-7.78 2.81-2.81c.8-.78.8-2.07 0-2.86zM5.41 20L4 18.59l7.72-7.72 1.47 1.35L5.41 20z\"/>\n",
       "  </svg>\n",
       "      </button>\n",
       "      \n",
       "  <style>\n",
       "    .colab-df-container {\n",
       "      display:flex;\n",
       "      flex-wrap:wrap;\n",
       "      gap: 12px;\n",
       "    }\n",
       "\n",
       "    .colab-df-convert {\n",
       "      background-color: #E8F0FE;\n",
       "      border: none;\n",
       "      border-radius: 50%;\n",
       "      cursor: pointer;\n",
       "      display: none;\n",
       "      fill: #1967D2;\n",
       "      height: 32px;\n",
       "      padding: 0 0 0 0;\n",
       "      width: 32px;\n",
       "    }\n",
       "\n",
       "    .colab-df-convert:hover {\n",
       "      background-color: #E2EBFA;\n",
       "      box-shadow: 0px 1px 2px rgba(60, 64, 67, 0.3), 0px 1px 3px 1px rgba(60, 64, 67, 0.15);\n",
       "      fill: #174EA6;\n",
       "    }\n",
       "\n",
       "    [theme=dark] .colab-df-convert {\n",
       "      background-color: #3B4455;\n",
       "      fill: #D2E3FC;\n",
       "    }\n",
       "\n",
       "    [theme=dark] .colab-df-convert:hover {\n",
       "      background-color: #434B5C;\n",
       "      box-shadow: 0px 1px 3px 1px rgba(0, 0, 0, 0.15);\n",
       "      filter: drop-shadow(0px 1px 2px rgba(0, 0, 0, 0.3));\n",
       "      fill: #FFFFFF;\n",
       "    }\n",
       "  </style>\n",
       "\n",
       "      <script>\n",
       "        const buttonEl =\n",
       "          document.querySelector('#df-e572204e-6283-4601-9ed0-aca67aa59e8f button.colab-df-convert');\n",
       "        buttonEl.style.display =\n",
       "          google.colab.kernel.accessAllowed ? 'block' : 'none';\n",
       "\n",
       "        async function convertToInteractive(key) {\n",
       "          const element = document.querySelector('#df-e572204e-6283-4601-9ed0-aca67aa59e8f');\n",
       "          const dataTable =\n",
       "            await google.colab.kernel.invokeFunction('convertToInteractive',\n",
       "                                                     [key], {});\n",
       "          if (!dataTable) return;\n",
       "\n",
       "          const docLinkHtml = 'Like what you see? Visit the ' +\n",
       "            '<a target=\"_blank\" href=https://colab.research.google.com/notebooks/data_table.ipynb>data table notebook</a>'\n",
       "            + ' to learn more about interactive tables.';\n",
       "          element.innerHTML = '';\n",
       "          dataTable['output_type'] = 'display_data';\n",
       "          await google.colab.output.renderOutput(dataTable, element);\n",
       "          const docLink = document.createElement('div');\n",
       "          docLink.innerHTML = docLinkHtml;\n",
       "          element.appendChild(docLink);\n",
       "        }\n",
       "      </script>\n",
       "    </div>\n",
       "  </div>\n",
       "  "
      ],
      "text/plain": [
       "   id          name  age      continent contract_until position prefer_foot  \\\n",
       "0   0      L. Messi   31  south america           2021       ST        left   \n",
       "1   3        De Gea   27         europe           2020       GK       right   \n",
       "2   7     L. Suárez   31  south america           2021       ST       right   \n",
       "3   8  Sergio Ramos   32         europe           2020       DF       right   \n",
       "4   9      J. Oblak   25         europe           2021       GK       right   \n",
       "\n",
       "   reputation  stat_overall  stat_potential  stat_skill_moves        value  \n",
       "0         5.0            94              94               4.0  110500000.0  \n",
       "1         4.0            91              93               1.0   72000000.0  \n",
       "2         5.0            91              91               3.0   80000000.0  \n",
       "3         4.0            91              91               3.0   51000000.0  \n",
       "4         3.0            90              93               1.0   68000000.0  "
      ]
     },
     "execution_count": 7,
     "metadata": {},
     "output_type": "execute_result"
    }
   ],
   "source": [
    "test.head()"
   ]
  },
  {
   "cell_type": "code",
   "execution_count": 8,
   "metadata": {
    "colab": {
     "base_uri": "https://localhost:8080/"
    },
    "id": "keSKp4LAjyzV",
    "outputId": "6475661e-3fdf-4c8f-efda-7813db7ce62e"
   },
   "outputs": [
    {
     "data": {
      "text/plain": [
       "Index(['id', 'name', 'age', 'continent', 'contract_until', 'position',\n",
       "       'prefer_foot', 'reputation', 'stat_overall', 'stat_potential',\n",
       "       'stat_skill_moves', 'value'],\n",
       "      dtype='object')"
      ]
     },
     "execution_count": 8,
     "metadata": {},
     "output_type": "execute_result"
    }
   ],
   "source": [
    "train.columns"
   ]
  },
  {
   "cell_type": "code",
   "execution_count": 9,
   "metadata": {
    "colab": {
     "base_uri": "https://localhost:8080/"
    },
    "id": "VY4W6oyp6-TR",
    "outputId": "ff2ccdbf-2d28-4909-d369-021ed2e0fe38"
   },
   "outputs": [
    {
     "data": {
      "text/plain": [
       "id                  0\n",
       "name                0\n",
       "age                 0\n",
       "continent           0\n",
       "contract_until      0\n",
       "position            0\n",
       "prefer_foot         0\n",
       "reputation          0\n",
       "stat_overall        0\n",
       "stat_potential      0\n",
       "stat_skill_moves    0\n",
       "value               0\n",
       "dtype: int64"
      ]
     },
     "execution_count": 9,
     "metadata": {},
     "output_type": "execute_result"
    }
   ],
   "source": [
    "train.isna().sum()"
   ]
  },
  {
   "cell_type": "code",
   "execution_count": 10,
   "metadata": {
    "colab": {
     "base_uri": "https://localhost:8080/"
    },
    "id": "mzyTEeiibE84",
    "outputId": "622b5a01-d872-4be2-d8f3-b0cf058f3cfa"
   },
   "outputs": [
    {
     "name": "stdout",
     "output_type": "stream",
     "text": [
      "<class 'pandas.core.frame.DataFrame'>\n",
      "RangeIndex: 8932 entries, 0 to 8931\n",
      "Data columns (total 12 columns):\n",
      " #   Column            Non-Null Count  Dtype  \n",
      "---  ------            --------------  -----  \n",
      " 0   id                8932 non-null   int64  \n",
      " 1   name              8932 non-null   object \n",
      " 2   age               8932 non-null   int64  \n",
      " 3   continent         8932 non-null   object \n",
      " 4   contract_until    8932 non-null   object \n",
      " 5   position          8932 non-null   object \n",
      " 6   prefer_foot       8932 non-null   object \n",
      " 7   reputation        8932 non-null   float64\n",
      " 8   stat_overall      8932 non-null   int64  \n",
      " 9   stat_potential    8932 non-null   int64  \n",
      " 10  stat_skill_moves  8932 non-null   float64\n",
      " 11  value             8932 non-null   float64\n",
      "dtypes: float64(3), int64(4), object(5)\n",
      "memory usage: 837.5+ KB\n"
     ]
    }
   ],
   "source": [
    "train.info()"
   ]
  },
  {
   "cell_type": "code",
   "execution_count": 11,
   "metadata": {
    "colab": {
     "base_uri": "https://localhost:8080/"
    },
    "id": "_n_Hdib1zOOB",
    "outputId": "f4b89c45-70c2-409e-a6e9-daee51738308"
   },
   "outputs": [
    {
     "name": "stdout",
     "output_type": "stream",
     "text": [
      "수치형: Index(['id', 'age', 'reputation', 'stat_overall', 'stat_potential',\n",
      "       'stat_skill_moves', 'value'],\n",
      "      dtype='object')\n",
      "범주형: Index(['name', 'continent', 'contract_until', 'position', 'prefer_foot'], dtype='object')\n"
     ]
    }
   ],
   "source": [
    "# 범주형 수치형 구분하기\n",
    "print('수치형:',train.select_dtypes(exclude = object).columns)\n",
    "print('범주형:',train.select_dtypes(include = object).columns)"
   ]
  },
  {
   "cell_type": "code",
   "execution_count": 12,
   "metadata": {
    "colab": {
     "base_uri": "https://localhost:8080/"
    },
    "id": "nNKnIhZlbJdW",
    "outputId": "99a7b137-733c-47b6-8133-48ca853298d7"
   },
   "outputs": [
    {
     "data": {
      "text/plain": [
       "2019            2366\n",
       "2021            2308\n",
       "2020            2041\n",
       "2022             761\n",
       "2023             506\n",
       "Jun 30, 2019     501\n",
       "2018             327\n",
       "Dec 31, 2018      64\n",
       "May 31, 2019      19\n",
       "2024              12\n",
       "Jan 31, 2019      10\n",
       "Jun 30, 2020       9\n",
       "2025               3\n",
       "Jan 1, 2019        2\n",
       "2026               1\n",
       "May 31, 2020       1\n",
       "Jan 12, 2019       1\n",
       "Name: contract_until, dtype: int64"
      ]
     },
     "execution_count": 12,
     "metadata": {},
     "output_type": "execute_result"
    }
   ],
   "source": [
    "train['contract_until'].value_counts()"
   ]
  },
  {
   "cell_type": "code",
   "execution_count": 13,
   "metadata": {
    "colab": {
     "base_uri": "https://localhost:8080/",
     "height": 269
    },
    "id": "AYfWa50AYElz",
    "outputId": "11252e6e-aa77-4d42-f1cf-08439cfc5a62"
   },
   "outputs": [
    {
     "data": {
      "text/html": [
       "\n",
       "  <div id=\"df-5dd1d843-2ecc-42c7-80e9-109aad453daa\">\n",
       "    <div class=\"colab-df-container\">\n",
       "      <div>\n",
       "<style scoped>\n",
       "    .dataframe tbody tr th:only-of-type {\n",
       "        vertical-align: middle;\n",
       "    }\n",
       "\n",
       "    .dataframe tbody tr th {\n",
       "        vertical-align: top;\n",
       "    }\n",
       "\n",
       "    .dataframe thead th {\n",
       "        text-align: right;\n",
       "    }\n",
       "</style>\n",
       "<table border=\"1\" class=\"dataframe\">\n",
       "  <thead>\n",
       "    <tr style=\"text-align: right;\">\n",
       "      <th></th>\n",
       "      <th>id</th>\n",
       "      <th>age</th>\n",
       "      <th>reputation</th>\n",
       "      <th>stat_overall</th>\n",
       "      <th>stat_potential</th>\n",
       "      <th>stat_skill_moves</th>\n",
       "      <th>value</th>\n",
       "    </tr>\n",
       "  </thead>\n",
       "  <tbody>\n",
       "    <tr>\n",
       "      <th>id</th>\n",
       "      <td>1.000000</td>\n",
       "      <td>-0.475785</td>\n",
       "      <td>-0.423739</td>\n",
       "      <td>-0.972374</td>\n",
       "      <td>-0.630199</td>\n",
       "      <td>-0.402455</td>\n",
       "      <td>-0.544280</td>\n",
       "    </tr>\n",
       "    <tr>\n",
       "      <th>age</th>\n",
       "      <td>-0.475785</td>\n",
       "      <td>1.000000</td>\n",
       "      <td>0.263468</td>\n",
       "      <td>0.467345</td>\n",
       "      <td>-0.231303</td>\n",
       "      <td>0.039362</td>\n",
       "      <td>0.087319</td>\n",
       "    </tr>\n",
       "    <tr>\n",
       "      <th>reputation</th>\n",
       "      <td>-0.423739</td>\n",
       "      <td>0.263468</td>\n",
       "      <td>1.000000</td>\n",
       "      <td>0.521389</td>\n",
       "      <td>0.399183</td>\n",
       "      <td>0.196582</td>\n",
       "      <td>0.665982</td>\n",
       "    </tr>\n",
       "    <tr>\n",
       "      <th>stat_overall</th>\n",
       "      <td>-0.972374</td>\n",
       "      <td>0.467345</td>\n",
       "      <td>0.521389</td>\n",
       "      <td>1.000000</td>\n",
       "      <td>0.665453</td>\n",
       "      <td>0.400164</td>\n",
       "      <td>0.658444</td>\n",
       "    </tr>\n",
       "    <tr>\n",
       "      <th>stat_potential</th>\n",
       "      <td>-0.630199</td>\n",
       "      <td>-0.231303</td>\n",
       "      <td>0.399183</td>\n",
       "      <td>0.665453</td>\n",
       "      <td>1.000000</td>\n",
       "      <td>0.332578</td>\n",
       "      <td>0.611907</td>\n",
       "    </tr>\n",
       "    <tr>\n",
       "      <th>stat_skill_moves</th>\n",
       "      <td>-0.402455</td>\n",
       "      <td>0.039362</td>\n",
       "      <td>0.196582</td>\n",
       "      <td>0.400164</td>\n",
       "      <td>0.332578</td>\n",
       "      <td>1.000000</td>\n",
       "      <td>0.298500</td>\n",
       "    </tr>\n",
       "    <tr>\n",
       "      <th>value</th>\n",
       "      <td>-0.544280</td>\n",
       "      <td>0.087319</td>\n",
       "      <td>0.665982</td>\n",
       "      <td>0.658444</td>\n",
       "      <td>0.611907</td>\n",
       "      <td>0.298500</td>\n",
       "      <td>1.000000</td>\n",
       "    </tr>\n",
       "  </tbody>\n",
       "</table>\n",
       "</div>\n",
       "      <button class=\"colab-df-convert\" onclick=\"convertToInteractive('df-5dd1d843-2ecc-42c7-80e9-109aad453daa')\"\n",
       "              title=\"Convert this dataframe to an interactive table.\"\n",
       "              style=\"display:none;\">\n",
       "        \n",
       "  <svg xmlns=\"http://www.w3.org/2000/svg\" height=\"24px\"viewBox=\"0 0 24 24\"\n",
       "       width=\"24px\">\n",
       "    <path d=\"M0 0h24v24H0V0z\" fill=\"none\"/>\n",
       "    <path d=\"M18.56 5.44l.94 2.06.94-2.06 2.06-.94-2.06-.94-.94-2.06-.94 2.06-2.06.94zm-11 1L8.5 8.5l.94-2.06 2.06-.94-2.06-.94L8.5 2.5l-.94 2.06-2.06.94zm10 10l.94 2.06.94-2.06 2.06-.94-2.06-.94-.94-2.06-.94 2.06-2.06.94z\"/><path d=\"M17.41 7.96l-1.37-1.37c-.4-.4-.92-.59-1.43-.59-.52 0-1.04.2-1.43.59L10.3 9.45l-7.72 7.72c-.78.78-.78 2.05 0 2.83L4 21.41c.39.39.9.59 1.41.59.51 0 1.02-.2 1.41-.59l7.78-7.78 2.81-2.81c.8-.78.8-2.07 0-2.86zM5.41 20L4 18.59l7.72-7.72 1.47 1.35L5.41 20z\"/>\n",
       "  </svg>\n",
       "      </button>\n",
       "      \n",
       "  <style>\n",
       "    .colab-df-container {\n",
       "      display:flex;\n",
       "      flex-wrap:wrap;\n",
       "      gap: 12px;\n",
       "    }\n",
       "\n",
       "    .colab-df-convert {\n",
       "      background-color: #E8F0FE;\n",
       "      border: none;\n",
       "      border-radius: 50%;\n",
       "      cursor: pointer;\n",
       "      display: none;\n",
       "      fill: #1967D2;\n",
       "      height: 32px;\n",
       "      padding: 0 0 0 0;\n",
       "      width: 32px;\n",
       "    }\n",
       "\n",
       "    .colab-df-convert:hover {\n",
       "      background-color: #E2EBFA;\n",
       "      box-shadow: 0px 1px 2px rgba(60, 64, 67, 0.3), 0px 1px 3px 1px rgba(60, 64, 67, 0.15);\n",
       "      fill: #174EA6;\n",
       "    }\n",
       "\n",
       "    [theme=dark] .colab-df-convert {\n",
       "      background-color: #3B4455;\n",
       "      fill: #D2E3FC;\n",
       "    }\n",
       "\n",
       "    [theme=dark] .colab-df-convert:hover {\n",
       "      background-color: #434B5C;\n",
       "      box-shadow: 0px 1px 3px 1px rgba(0, 0, 0, 0.15);\n",
       "      filter: drop-shadow(0px 1px 2px rgba(0, 0, 0, 0.3));\n",
       "      fill: #FFFFFF;\n",
       "    }\n",
       "  </style>\n",
       "\n",
       "      <script>\n",
       "        const buttonEl =\n",
       "          document.querySelector('#df-5dd1d843-2ecc-42c7-80e9-109aad453daa button.colab-df-convert');\n",
       "        buttonEl.style.display =\n",
       "          google.colab.kernel.accessAllowed ? 'block' : 'none';\n",
       "\n",
       "        async function convertToInteractive(key) {\n",
       "          const element = document.querySelector('#df-5dd1d843-2ecc-42c7-80e9-109aad453daa');\n",
       "          const dataTable =\n",
       "            await google.colab.kernel.invokeFunction('convertToInteractive',\n",
       "                                                     [key], {});\n",
       "          if (!dataTable) return;\n",
       "\n",
       "          const docLinkHtml = 'Like what you see? Visit the ' +\n",
       "            '<a target=\"_blank\" href=https://colab.research.google.com/notebooks/data_table.ipynb>data table notebook</a>'\n",
       "            + ' to learn more about interactive tables.';\n",
       "          element.innerHTML = '';\n",
       "          dataTable['output_type'] = 'display_data';\n",
       "          await google.colab.output.renderOutput(dataTable, element);\n",
       "          const docLink = document.createElement('div');\n",
       "          docLink.innerHTML = docLinkHtml;\n",
       "          element.appendChild(docLink);\n",
       "        }\n",
       "      </script>\n",
       "    </div>\n",
       "  </div>\n",
       "  "
      ],
      "text/plain": [
       "                        id       age  reputation  stat_overall  \\\n",
       "id                1.000000 -0.475785   -0.423739     -0.972374   \n",
       "age              -0.475785  1.000000    0.263468      0.467345   \n",
       "reputation       -0.423739  0.263468    1.000000      0.521389   \n",
       "stat_overall     -0.972374  0.467345    0.521389      1.000000   \n",
       "stat_potential   -0.630199 -0.231303    0.399183      0.665453   \n",
       "stat_skill_moves -0.402455  0.039362    0.196582      0.400164   \n",
       "value            -0.544280  0.087319    0.665982      0.658444   \n",
       "\n",
       "                  stat_potential  stat_skill_moves     value  \n",
       "id                     -0.630199         -0.402455 -0.544280  \n",
       "age                    -0.231303          0.039362  0.087319  \n",
       "reputation              0.399183          0.196582  0.665982  \n",
       "stat_overall            0.665453          0.400164  0.658444  \n",
       "stat_potential          1.000000          0.332578  0.611907  \n",
       "stat_skill_moves        0.332578          1.000000  0.298500  \n",
       "value                   0.611907          0.298500  1.000000  "
      ]
     },
     "execution_count": 13,
     "metadata": {},
     "output_type": "execute_result"
    }
   ],
   "source": [
    "train.corr()"
   ]
  },
  {
   "cell_type": "markdown",
   "metadata": {
    "id": "yQ7hEWfesSzt"
   },
   "source": [
    "## 전처리"
   ]
  },
  {
   "cell_type": "markdown",
   "metadata": {
    "id": "QzlgDd1KY0UP"
   },
   "source": [
    "### 불필요한 컬럼 제거\n"
   ]
  },
  {
   "cell_type": "code",
   "execution_count": 14,
   "metadata": {
    "id": "_e9WL56urjQD"
   },
   "outputs": [],
   "source": [
    "# 불필요한 컬럼 제거\n",
    "train.drop(['id','name'], axis = 1, inplace = True)\n",
    "test.drop(['id','name'], axis = 1, inplace = True)"
   ]
  },
  {
   "cell_type": "code",
   "execution_count": 15,
   "metadata": {
    "colab": {
     "base_uri": "https://localhost:8080/"
    },
    "id": "fOLRZmrNr1Ne",
    "outputId": "2c8cdf9c-02a5-40d5-ddf8-a3f60b10d580"
   },
   "outputs": [
    {
     "data": {
      "text/plain": [
       "2019    2899\n",
       "2021    2308\n",
       "2020    2051\n",
       "2022     761\n",
       "2023     506\n",
       "2018     391\n",
       "2024      12\n",
       "2025       3\n",
       "2026       1\n",
       "Name: contract_until, dtype: int64"
      ]
     },
     "execution_count": 15,
     "metadata": {},
     "output_type": "execute_result"
    }
   ],
   "source": [
    "#contract_until 변수 int 형으로 변환\n",
    "# 계약 연도만 추출\n",
    "def func(string:object) -> int:\n",
    "    \"\"\"계약 연도만 추출하여 int로 반환\"\"\"\n",
    "    string = string[-4:]\n",
    "    return int(string)\n",
    "\n",
    "\n",
    "train['contract_until'] = train['contract_until'].apply(func)\n",
    "test['contract_until'] = test['contract_until'].apply(func)\n",
    "train['contract_until'].value_counts()"
   ]
  },
  {
   "cell_type": "markdown",
   "metadata": {
    "id": "QXwuAk0ubJ-e"
   },
   "source": [
    "### 이상치 제거"
   ]
  },
  {
   "cell_type": "code",
   "execution_count": 16,
   "metadata": {
    "colab": {
     "base_uri": "https://localhost:8080/",
     "height": 295
    },
    "id": "8Dy3orSyMTLY",
    "outputId": "edd6a33e-dd95-42b0-c3ca-41a6308bb31a"
   },
   "outputs": [
    {
     "data": {
      "text/plain": [
       "<matplotlib.axes._subplots.AxesSubplot at 0x7faa48c92ee0>"
      ]
     },
     "execution_count": 16,
     "metadata": {},
     "output_type": "execute_result"
    },
    {
     "name": "stderr",
     "output_type": "stream",
     "text": [
      "WARNING:matplotlib.font_manager:findfont: Font family ['NanumBarunGothic'] not found. Falling back to DejaVu Sans.\n"
     ]
    },
    {
     "data": {
      "image/png": "[encoded data removed]",
      "text/plain": [
       "<Figure size 432x288 with 1 Axes>"
      ]
     },
     "metadata": {
      "needs_background": "light"
     },
     "output_type": "display_data"
    }
   ],
   "source": [
    "# IQR\n",
    "train.boxplot(column=['value'])"
   ]
  },
  {
   "cell_type": "markdown",
   "metadata": {
    "id": "4Gj60PERkO6P"
   },
   "source": [
    "### 회귀분석에 사용할 피쳐 탐색"
   ]
  },
  {
   "cell_type": "code",
   "execution_count": 17,
   "metadata": {
    "colab": {
     "base_uri": "https://localhost:8080/",
     "height": 423
    },
    "id": "eCy0CiHebJnG",
    "outputId": "2a3347d4-a9c5-41a8-db49-f596a8c67d4c"
   },
   "outputs": [
    {
     "data": {
      "text/html": [
       "\n",
       "  <div id=\"df-ab1d0e39-289d-46d6-aa37-6857d69927da\">\n",
       "    <div class=\"colab-df-container\">\n",
       "      <div>\n",
       "<style scoped>\n",
       "    .dataframe tbody tr th:only-of-type {\n",
       "        vertical-align: middle;\n",
       "    }\n",
       "\n",
       "    .dataframe tbody tr th {\n",
       "        vertical-align: top;\n",
       "    }\n",
       "\n",
       "    .dataframe thead th {\n",
       "        text-align: right;\n",
       "    }\n",
       "</style>\n",
       "<table border=\"1\" class=\"dataframe\">\n",
       "  <thead>\n",
       "    <tr style=\"text-align: right;\">\n",
       "      <th></th>\n",
       "      <th>age</th>\n",
       "      <th>continent</th>\n",
       "      <th>contract_until</th>\n",
       "      <th>position</th>\n",
       "      <th>prefer_foot</th>\n",
       "      <th>reputation</th>\n",
       "      <th>stat_overall</th>\n",
       "      <th>stat_potential</th>\n",
       "      <th>stat_skill_moves</th>\n",
       "      <th>value</th>\n",
       "    </tr>\n",
       "  </thead>\n",
       "  <tbody>\n",
       "    <tr>\n",
       "      <th>0</th>\n",
       "      <td>31</td>\n",
       "      <td>south america</td>\n",
       "      <td>2021</td>\n",
       "      <td>ST</td>\n",
       "      <td>left</td>\n",
       "      <td>5.0</td>\n",
       "      <td>94</td>\n",
       "      <td>94</td>\n",
       "      <td>4.0</td>\n",
       "      <td>110500000.0</td>\n",
       "    </tr>\n",
       "    <tr>\n",
       "      <th>1</th>\n",
       "      <td>27</td>\n",
       "      <td>europe</td>\n",
       "      <td>2020</td>\n",
       "      <td>GK</td>\n",
       "      <td>right</td>\n",
       "      <td>4.0</td>\n",
       "      <td>91</td>\n",
       "      <td>93</td>\n",
       "      <td>1.0</td>\n",
       "      <td>72000000.0</td>\n",
       "    </tr>\n",
       "    <tr>\n",
       "      <th>2</th>\n",
       "      <td>31</td>\n",
       "      <td>south america</td>\n",
       "      <td>2021</td>\n",
       "      <td>ST</td>\n",
       "      <td>right</td>\n",
       "      <td>5.0</td>\n",
       "      <td>91</td>\n",
       "      <td>91</td>\n",
       "      <td>3.0</td>\n",
       "      <td>80000000.0</td>\n",
       "    </tr>\n",
       "    <tr>\n",
       "      <th>3</th>\n",
       "      <td>32</td>\n",
       "      <td>europe</td>\n",
       "      <td>2020</td>\n",
       "      <td>DF</td>\n",
       "      <td>right</td>\n",
       "      <td>4.0</td>\n",
       "      <td>91</td>\n",
       "      <td>91</td>\n",
       "      <td>3.0</td>\n",
       "      <td>51000000.0</td>\n",
       "    </tr>\n",
       "    <tr>\n",
       "      <th>4</th>\n",
       "      <td>25</td>\n",
       "      <td>europe</td>\n",
       "      <td>2021</td>\n",
       "      <td>GK</td>\n",
       "      <td>right</td>\n",
       "      <td>3.0</td>\n",
       "      <td>90</td>\n",
       "      <td>93</td>\n",
       "      <td>1.0</td>\n",
       "      <td>68000000.0</td>\n",
       "    </tr>\n",
       "    <tr>\n",
       "      <th>...</th>\n",
       "      <td>...</td>\n",
       "      <td>...</td>\n",
       "      <td>...</td>\n",
       "      <td>...</td>\n",
       "      <td>...</td>\n",
       "      <td>...</td>\n",
       "      <td>...</td>\n",
       "      <td>...</td>\n",
       "      <td>...</td>\n",
       "      <td>...</td>\n",
       "    </tr>\n",
       "    <tr>\n",
       "      <th>8927</th>\n",
       "      <td>18</td>\n",
       "      <td>africa</td>\n",
       "      <td>2019</td>\n",
       "      <td>MF</td>\n",
       "      <td>right</td>\n",
       "      <td>1.0</td>\n",
       "      <td>48</td>\n",
       "      <td>63</td>\n",
       "      <td>3.0</td>\n",
       "      <td>60000.0</td>\n",
       "    </tr>\n",
       "    <tr>\n",
       "      <th>8928</th>\n",
       "      <td>19</td>\n",
       "      <td>europe</td>\n",
       "      <td>2020</td>\n",
       "      <td>DF</td>\n",
       "      <td>right</td>\n",
       "      <td>1.0</td>\n",
       "      <td>47</td>\n",
       "      <td>59</td>\n",
       "      <td>2.0</td>\n",
       "      <td>40000.0</td>\n",
       "    </tr>\n",
       "    <tr>\n",
       "      <th>8929</th>\n",
       "      <td>18</td>\n",
       "      <td>south america</td>\n",
       "      <td>2021</td>\n",
       "      <td>DF</td>\n",
       "      <td>right</td>\n",
       "      <td>1.0</td>\n",
       "      <td>47</td>\n",
       "      <td>64</td>\n",
       "      <td>2.0</td>\n",
       "      <td>50000.0</td>\n",
       "    </tr>\n",
       "    <tr>\n",
       "      <th>8930</th>\n",
       "      <td>18</td>\n",
       "      <td>europe</td>\n",
       "      <td>2021</td>\n",
       "      <td>GK</td>\n",
       "      <td>right</td>\n",
       "      <td>1.0</td>\n",
       "      <td>47</td>\n",
       "      <td>65</td>\n",
       "      <td>1.0</td>\n",
       "      <td>50000.0</td>\n",
       "    </tr>\n",
       "    <tr>\n",
       "      <th>8931</th>\n",
       "      <td>19</td>\n",
       "      <td>europe</td>\n",
       "      <td>2020</td>\n",
       "      <td>ST</td>\n",
       "      <td>right</td>\n",
       "      <td>1.0</td>\n",
       "      <td>47</td>\n",
       "      <td>63</td>\n",
       "      <td>2.0</td>\n",
       "      <td>60000.0</td>\n",
       "    </tr>\n",
       "  </tbody>\n",
       "</table>\n",
       "<p>8932 rows × 10 columns</p>\n",
       "</div>\n",
       "      <button class=\"colab-df-convert\" onclick=\"convertToInteractive('df-ab1d0e39-289d-46d6-aa37-6857d69927da')\"\n",
       "              title=\"Convert this dataframe to an interactive table.\"\n",
       "              style=\"display:none;\">\n",
       "        \n",
       "  <svg xmlns=\"http://www.w3.org/2000/svg\" height=\"24px\"viewBox=\"0 0 24 24\"\n",
       "       width=\"24px\">\n",
       "    <path d=\"M0 0h24v24H0V0z\" fill=\"none\"/>\n",
       "    <path d=\"M18.56 5.44l.94 2.06.94-2.06 2.06-.94-2.06-.94-.94-2.06-.94 2.06-2.06.94zm-11 1L8.5 8.5l.94-2.06 2.06-.94-2.06-.94L8.5 2.5l-.94 2.06-2.06.94zm10 10l.94 2.06.94-2.06 2.06-.94-2.06-.94-.94-2.06-.94 2.06-2.06.94z\"/><path d=\"M17.41 7.96l-1.37-1.37c-.4-.4-.92-.59-1.43-.59-.52 0-1.04.2-1.43.59L10.3 9.45l-7.72 7.72c-.78.78-.78 2.05 0 2.83L4 21.41c.39.39.9.59 1.41.59.51 0 1.02-.2 1.41-.59l7.78-7.78 2.81-2.81c.8-.78.8-2.07 0-2.86zM5.41 20L4 18.59l7.72-7.72 1.47 1.35L5.41 20z\"/>\n",
       "  </svg>\n",
       "      </button>\n",
       "      \n",
       "  <style>\n",
       "    .colab-df-container {\n",
       "      display:flex;\n",
       "      flex-wrap:wrap;\n",
       "      gap: 12px;\n",
       "    }\n",
       "\n",
       "    .colab-df-convert {\n",
       "      background-color: #E8F0FE;\n",
       "      border: none;\n",
       "      border-radius: 50%;\n",
       "      cursor: pointer;\n",
       "      display: none;\n",
       "      fill: #1967D2;\n",
       "      height: 32px;\n",
       "      padding: 0 0 0 0;\n",
       "      width: 32px;\n",
       "    }\n",
       "\n",
       "    .colab-df-convert:hover {\n",
       "      background-color: #E2EBFA;\n",
       "      box-shadow: 0px 1px 2px rgba(60, 64, 67, 0.3), 0px 1px 3px 1px rgba(60, 64, 67, 0.15);\n",
       "      fill: #174EA6;\n",
       "    }\n",
       "\n",
       "    [theme=dark] .colab-df-convert {\n",
       "      background-color: #3B4455;\n",
       "      fill: #D2E3FC;\n",
       "    }\n",
       "\n",
       "    [theme=dark] .colab-df-convert:hover {\n",
       "      background-color: #434B5C;\n",
       "      box-shadow: 0px 1px 3px 1px rgba(0, 0, 0, 0.15);\n",
       "      filter: drop-shadow(0px 1px 2px rgba(0, 0, 0, 0.3));\n",
       "      fill: #FFFFFF;\n",
       "    }\n",
       "  </style>\n",
       "\n",
       "      <script>\n",
       "        const buttonEl =\n",
       "          document.querySelector('#df-ab1d0e39-289d-46d6-aa37-6857d69927da button.colab-df-convert');\n",
       "        buttonEl.style.display =\n",
       "          google.colab.kernel.accessAllowed ? 'block' : 'none';\n",
       "\n",
       "        async function convertToInteractive(key) {\n",
       "          const element = document.querySelector('#df-ab1d0e39-289d-46d6-aa37-6857d69927da');\n",
       "          const dataTable =\n",
       "            await google.colab.kernel.invokeFunction('convertToInteractive',\n",
       "                                                     [key], {});\n",
       "          if (!dataTable) return;\n",
       "\n",
       "          const docLinkHtml = 'Like what you see? Visit the ' +\n",
       "            '<a target=\"_blank\" href=https://colab.research.google.com/notebooks/data_table.ipynb>data table notebook</a>'\n",
       "            + ' to learn more about interactive tables.';\n",
       "          element.innerHTML = '';\n",
       "          dataTable['output_type'] = 'display_data';\n",
       "          await google.colab.output.renderOutput(dataTable, element);\n",
       "          const docLink = document.createElement('div');\n",
       "          docLink.innerHTML = docLinkHtml;\n",
       "          element.appendChild(docLink);\n",
       "        }\n",
       "      </script>\n",
       "    </div>\n",
       "  </div>\n",
       "  "
      ],
      "text/plain": [
       "      age      continent  contract_until position prefer_foot  reputation  \\\n",
       "0      31  south america            2021       ST        left         5.0   \n",
       "1      27         europe            2020       GK       right         4.0   \n",
       "2      31  south america            2021       ST       right         5.0   \n",
       "3      32         europe            2020       DF       right         4.0   \n",
       "4      25         europe            2021       GK       right         3.0   \n",
       "...   ...            ...             ...      ...         ...         ...   \n",
       "8927   18         africa            2019       MF       right         1.0   \n",
       "8928   19         europe            2020       DF       right         1.0   \n",
       "8929   18  south america            2021       DF       right         1.0   \n",
       "8930   18         europe            2021       GK       right         1.0   \n",
       "8931   19         europe            2020       ST       right         1.0   \n",
       "\n",
       "      stat_overall  stat_potential  stat_skill_moves        value  \n",
       "0               94              94               4.0  110500000.0  \n",
       "1               91              93               1.0   72000000.0  \n",
       "2               91              91               3.0   80000000.0  \n",
       "3               91              91               3.0   51000000.0  \n",
       "4               90              93               1.0   68000000.0  \n",
       "...            ...             ...               ...          ...  \n",
       "8927            48              63               3.0      60000.0  \n",
       "8928            47              59               2.0      40000.0  \n",
       "8929            47              64               2.0      50000.0  \n",
       "8930            47              65               1.0      50000.0  \n",
       "8931            47              63               2.0      60000.0  \n",
       "\n",
       "[8932 rows x 10 columns]"
      ]
     },
     "execution_count": 17,
     "metadata": {},
     "output_type": "execute_result"
    }
   ],
   "source": [
    "train"
   ]
  },
  {
   "cell_type": "code",
   "execution_count": 18,
   "metadata": {
    "colab": {
     "base_uri": "https://localhost:8080/"
    },
    "id": "nM0QjudjbJia",
    "outputId": "a394414d-fff1-426d-cb68-e139f8f368ac"
   },
   "outputs": [
    {
     "name": "stdout",
     "output_type": "stream",
     "text": [
      "Index(['age', 'contract_until', 'reputation', 'stat_overall', 'stat_potential',\n",
      "       'stat_skill_moves', 'value'],\n",
      "      dtype='object')\n",
      "Index(['age', 'contract_until', 'reputation', 'stat_overall', 'stat_potential',\n",
      "       'stat_skill_moves', 'value'],\n",
      "      dtype='object')\n"
     ]
    }
   ],
   "source": [
    "print(train.select_dtypes(exclude = object).columns)\n",
    "print(test.select_dtypes(exclude = object).columns)"
   ]
  },
  {
   "cell_type": "code",
   "execution_count": 19,
   "metadata": {
    "colab": {
     "base_uri": "https://localhost:8080/",
     "height": 269
    },
    "id": "soGlS0weyO4E",
    "outputId": "b754dd76-dbf4-4410-e542-b444d6eb0be1"
   },
   "outputs": [
    {
     "data": {
      "text/html": [
       "\n",
       "  <div id=\"df-431b634a-2f60-4e04-9931-046b59653ee7\">\n",
       "    <div class=\"colab-df-container\">\n",
       "      <div>\n",
       "<style scoped>\n",
       "    .dataframe tbody tr th:only-of-type {\n",
       "        vertical-align: middle;\n",
       "    }\n",
       "\n",
       "    .dataframe tbody tr th {\n",
       "        vertical-align: top;\n",
       "    }\n",
       "\n",
       "    .dataframe thead th {\n",
       "        text-align: right;\n",
       "    }\n",
       "</style>\n",
       "<table border=\"1\" class=\"dataframe\">\n",
       "  <thead>\n",
       "    <tr style=\"text-align: right;\">\n",
       "      <th></th>\n",
       "      <th>age</th>\n",
       "      <th>contract_until</th>\n",
       "      <th>reputation</th>\n",
       "      <th>stat_overall</th>\n",
       "      <th>stat_potential</th>\n",
       "      <th>stat_skill_moves</th>\n",
       "      <th>value</th>\n",
       "    </tr>\n",
       "  </thead>\n",
       "  <tbody>\n",
       "    <tr>\n",
       "      <th>age</th>\n",
       "      <td>1.000000</td>\n",
       "      <td>-0.132052</td>\n",
       "      <td>0.263468</td>\n",
       "      <td>0.467345</td>\n",
       "      <td>-0.231303</td>\n",
       "      <td>0.039362</td>\n",
       "      <td>0.087319</td>\n",
       "    </tr>\n",
       "    <tr>\n",
       "      <th>contract_until</th>\n",
       "      <td>-0.132052</td>\n",
       "      <td>1.000000</td>\n",
       "      <td>0.070446</td>\n",
       "      <td>0.156983</td>\n",
       "      <td>0.258477</td>\n",
       "      <td>0.082641</td>\n",
       "      <td>0.228638</td>\n",
       "    </tr>\n",
       "    <tr>\n",
       "      <th>reputation</th>\n",
       "      <td>0.263468</td>\n",
       "      <td>0.070446</td>\n",
       "      <td>1.000000</td>\n",
       "      <td>0.521389</td>\n",
       "      <td>0.399183</td>\n",
       "      <td>0.196582</td>\n",
       "      <td>0.665982</td>\n",
       "    </tr>\n",
       "    <tr>\n",
       "      <th>stat_overall</th>\n",
       "      <td>0.467345</td>\n",
       "      <td>0.156983</td>\n",
       "      <td>0.521389</td>\n",
       "      <td>1.000000</td>\n",
       "      <td>0.665453</td>\n",
       "      <td>0.400164</td>\n",
       "      <td>0.658444</td>\n",
       "    </tr>\n",
       "    <tr>\n",
       "      <th>stat_potential</th>\n",
       "      <td>-0.231303</td>\n",
       "      <td>0.258477</td>\n",
       "      <td>0.399183</td>\n",
       "      <td>0.665453</td>\n",
       "      <td>1.000000</td>\n",
       "      <td>0.332578</td>\n",
       "      <td>0.611907</td>\n",
       "    </tr>\n",
       "    <tr>\n",
       "      <th>stat_skill_moves</th>\n",
       "      <td>0.039362</td>\n",
       "      <td>0.082641</td>\n",
       "      <td>0.196582</td>\n",
       "      <td>0.400164</td>\n",
       "      <td>0.332578</td>\n",
       "      <td>1.000000</td>\n",
       "      <td>0.298500</td>\n",
       "    </tr>\n",
       "    <tr>\n",
       "      <th>value</th>\n",
       "      <td>0.087319</td>\n",
       "      <td>0.228638</td>\n",
       "      <td>0.665982</td>\n",
       "      <td>0.658444</td>\n",
       "      <td>0.611907</td>\n",
       "      <td>0.298500</td>\n",
       "      <td>1.000000</td>\n",
       "    </tr>\n",
       "  </tbody>\n",
       "</table>\n",
       "</div>\n",
       "      <button class=\"colab-df-convert\" onclick=\"convertToInteractive('df-431b634a-2f60-4e04-9931-046b59653ee7')\"\n",
       "              title=\"Convert this dataframe to an interactive table.\"\n",
       "              style=\"display:none;\">\n",
       "        \n",
       "  <svg xmlns=\"http://www.w3.org/2000/svg\" height=\"24px\"viewBox=\"0 0 24 24\"\n",
       "       width=\"24px\">\n",
       "    <path d=\"M0 0h24v24H0V0z\" fill=\"none\"/>\n",
       "    <path d=\"M18.56 5.44l.94 2.06.94-2.06 2.06-.94-2.06-.94-.94-2.06-.94 2.06-2.06.94zm-11 1L8.5 8.5l.94-2.06 2.06-.94-2.06-.94L8.5 2.5l-.94 2.06-2.06.94zm10 10l.94 2.06.94-2.06 2.06-.94-2.06-.94-.94-2.06-.94 2.06-2.06.94z\"/><path d=\"M17.41 7.96l-1.37-1.37c-.4-.4-.92-.59-1.43-.59-.52 0-1.04.2-1.43.59L10.3 9.45l-7.72 7.72c-.78.78-.78 2.05 0 2.83L4 21.41c.39.39.9.59 1.41.59.51 0 1.02-.2 1.41-.59l7.78-7.78 2.81-2.81c.8-.78.8-2.07 0-2.86zM5.41 20L4 18.59l7.72-7.72 1.47 1.35L5.41 20z\"/>\n",
       "  </svg>\n",
       "      </button>\n",
       "      \n",
       "  <style>\n",
       "    .colab-df-container {\n",
       "      display:flex;\n",
       "      flex-wrap:wrap;\n",
       "      gap: 12px;\n",
       "    }\n",
       "\n",
       "    .colab-df-convert {\n",
       "      background-color: #E8F0FE;\n",
       "      border: none;\n",
       "      border-radius: 50%;\n",
       "      cursor: pointer;\n",
       "      display: none;\n",
       "      fill: #1967D2;\n",
       "      height: 32px;\n",
       "      padding: 0 0 0 0;\n",
       "      width: 32px;\n",
       "    }\n",
       "\n",
       "    .colab-df-convert:hover {\n",
       "      background-color: #E2EBFA;\n",
       "      box-shadow: 0px 1px 2px rgba(60, 64, 67, 0.3), 0px 1px 3px 1px rgba(60, 64, 67, 0.15);\n",
       "      fill: #174EA6;\n",
       "    }\n",
       "\n",
       "    [theme=dark] .colab-df-convert {\n",
       "      background-color: #3B4455;\n",
       "      fill: #D2E3FC;\n",
       "    }\n",
       "\n",
       "    [theme=dark] .colab-df-convert:hover {\n",
       "      background-color: #434B5C;\n",
       "      box-shadow: 0px 1px 3px 1px rgba(0, 0, 0, 0.15);\n",
       "      filter: drop-shadow(0px 1px 2px rgba(0, 0, 0, 0.3));\n",
       "      fill: #FFFFFF;\n",
       "    }\n",
       "  </style>\n",
       "\n",
       "      <script>\n",
       "        const buttonEl =\n",
       "          document.querySelector('#df-431b634a-2f60-4e04-9931-046b59653ee7 button.colab-df-convert');\n",
       "        buttonEl.style.display =\n",
       "          google.colab.kernel.accessAllowed ? 'block' : 'none';\n",
       "\n",
       "        async function convertToInteractive(key) {\n",
       "          const element = document.querySelector('#df-431b634a-2f60-4e04-9931-046b59653ee7');\n",
       "          const dataTable =\n",
       "            await google.colab.kernel.invokeFunction('convertToInteractive',\n",
       "                                                     [key], {});\n",
       "          if (!dataTable) return;\n",
       "\n",
       "          const docLinkHtml = 'Like what you see? Visit the ' +\n",
       "            '<a target=\"_blank\" href=https://colab.research.google.com/notebooks/data_table.ipynb>data table notebook</a>'\n",
       "            + ' to learn more about interactive tables.';\n",
       "          element.innerHTML = '';\n",
       "          dataTable['output_type'] = 'display_data';\n",
       "          await google.colab.output.renderOutput(dataTable, element);\n",
       "          const docLink = document.createElement('div');\n",
       "          docLink.innerHTML = docLinkHtml;\n",
       "          element.appendChild(docLink);\n",
       "        }\n",
       "      </script>\n",
       "    </div>\n",
       "  </div>\n",
       "  "
      ],
      "text/plain": [
       "                       age  contract_until  reputation  stat_overall  \\\n",
       "age               1.000000       -0.132052    0.263468      0.467345   \n",
       "contract_until   -0.132052        1.000000    0.070446      0.156983   \n",
       "reputation        0.263468        0.070446    1.000000      0.521389   \n",
       "stat_overall      0.467345        0.156983    0.521389      1.000000   \n",
       "stat_potential   -0.231303        0.258477    0.399183      0.665453   \n",
       "stat_skill_moves  0.039362        0.082641    0.196582      0.400164   \n",
       "value             0.087319        0.228638    0.665982      0.658444   \n",
       "\n",
       "                  stat_potential  stat_skill_moves     value  \n",
       "age                    -0.231303          0.039362  0.087319  \n",
       "contract_until          0.258477          0.082641  0.228638  \n",
       "reputation              0.399183          0.196582  0.665982  \n",
       "stat_overall            0.665453          0.400164  0.658444  \n",
       "stat_potential          1.000000          0.332578  0.611907  \n",
       "stat_skill_moves        0.332578          1.000000  0.298500  \n",
       "value                   0.611907          0.298500  1.000000  "
      ]
     },
     "execution_count": 19,
     "metadata": {},
     "output_type": "execute_result"
    }
   ],
   "source": [
    "train.corr()"
   ]
  },
  {
   "cell_type": "markdown",
   "metadata": {
    "id": "YYYfYCw3MToI"
   },
   "source": [
    "##EDA"
   ]
  },
  {
   "cell_type": "markdown",
   "metadata": {
    "id": "hLpZavIaH7Nn"
   },
   "source": [
    "### 계약기간별 연봉"
   ]
  },
  {
   "cell_type": "code",
   "execution_count": 20,
   "metadata": {
    "colab": {
     "base_uri": "https://localhost:8080/",
     "height": 613
    },
    "id": "VgKM99fGZBwp",
    "outputId": "85f446c3-a066-4eaa-9ecf-3f7af4c4650c"
   },
   "outputs": [
    {
     "name": "stderr",
     "output_type": "stream",
     "text": [
      "WARNING:matplotlib.font_manager:findfont: Font family ['NanumBarunGothic'] not found. Falling back to DejaVu Sans.\n"
     ]
    },
    {
     "data": {
      "image/png": "[encoded data removed]",
      "text/plain": [
       "<Figure size 900x600 with 1 Axes>"
      ]
     },
     "metadata": {
      "needs_background": "light"
     },
     "output_type": "display_data"
    }
   ],
   "source": [
    "x = train.groupby('contract_until').mean()['value'].index\n",
    "y = train.groupby('contract_until').mean()['value'].values\n",
    "\n",
    "plt.figure(dpi=150)\n",
    "\n",
    "plt.title('value')\n",
    "plt.xlabel('contract')\n",
    "plt.ylabel('value')\n",
    "\n",
    "plt.bar(x, y)\n",
    "plt.show()"
   ]
  },
  {
   "cell_type": "markdown",
   "metadata": {
    "id": "p2mpuLKfIC7u"
   },
   "source": [
    "### position 별 연봉"
   ]
  },
  {
   "cell_type": "code",
   "execution_count": 21,
   "metadata": {
    "colab": {
     "base_uri": "https://localhost:8080/",
     "height": 594
    },
    "id": "7IKT6u9Zgm6T",
    "outputId": "9bf48f9e-2fb4-469b-8cba-eabb7aabf6af"
   },
   "outputs": [
    {
     "data": {
      "image/png": "[encoded data removed]",
      "text/plain": [
       "<Figure size 900x600 with 1 Axes>"
      ]
     },
     "metadata": {
      "needs_background": "light"
     },
     "output_type": "display_data"
    }
   ],
   "source": [
    "# position 에 따른 선수들의평균 몸값\n",
    "x = train.groupby('position').mean()['value'].index\n",
    "y = train.groupby('position').mean()['value'].values\n",
    "\n",
    "plt.figure(dpi=150)\n",
    "\n",
    "plt.title('value')\n",
    "plt.xlabel('position')\n",
    "plt.ylabel('value')\n",
    "\n",
    "plt.bar(x, y)\n",
    "plt.show()"
   ]
  },
  {
   "cell_type": "markdown",
   "metadata": {
    "id": "UGKKFyQ7IHxj"
   },
   "source": [
    "### reputation별 연봉"
   ]
  },
  {
   "cell_type": "code",
   "execution_count": 22,
   "metadata": {
    "colab": {
     "base_uri": "https://localhost:8080/",
     "height": 594
    },
    "id": "dU6R8WkPMTJB",
    "outputId": "b55699a3-842d-41e8-8755-4a7428f2a31f"
   },
   "outputs": [
    {
     "data": {
      "image/png": "[encoded data removed]",
      "text/plain": [
       "<Figure size 900x600 with 1 Axes>"
      ]
     },
     "metadata": {
      "needs_background": "light"
     },
     "output_type": "display_data"
    }
   ],
   "source": [
    "#reputation 에 따른 선수들의평균 몸값\n",
    "x = train.groupby('reputation').mean()['value'].index\n",
    "y = train.groupby('reputation').mean()['value'].values\n",
    "\n",
    "plt.figure(dpi=150)\n",
    "\n",
    "plt.title('value')\n",
    "plt.xlabel('reputation')\n",
    "plt.ylabel('value')\n",
    "\n",
    "plt.bar(x, y)\n",
    "plt.show()\n",
    "#reputation에 비례한다"
   ]
  },
  {
   "cell_type": "markdown",
   "metadata": {
    "id": "0BP88u7KIw0g"
   },
   "source": [
    "### 능력치별 연봉"
   ]
  },
  {
   "cell_type": "code",
   "execution_count": 23,
   "metadata": {
    "colab": {
     "base_uri": "https://localhost:8080/",
     "height": 614
    },
    "id": "FBeP-EqShFPu",
    "outputId": "410db989-42b9-4b7a-9cf9-855213656ad1"
   },
   "outputs": [
    {
     "data": {
      "text/plain": [
       "<BarContainer object of 46 artists>"
      ]
     },
     "execution_count": 23,
     "metadata": {},
     "output_type": "execute_result"
    },
    {
     "data": {
      "image/png": "[encoded data removed]",
      "text/plain": [
       "<Figure size 900x600 with 1 Axes>"
      ]
     },
     "metadata": {
      "needs_background": "light"
     },
     "output_type": "display_data"
    }
   ],
   "source": [
    "#stat_overall에 따른 선수가치\n",
    "x = train.groupby('stat_overall').mean()['value'].index\n",
    "y = train.groupby('stat_overall').mean()['value'].values\n",
    "\n",
    "plt.figure(dpi=150)\n",
    "\n",
    "plt.title('value')\n",
    "plt.xlabel('stat_overall')\n",
    "plt.ylabel('value')\n",
    "\n",
    "plt.bar(x, y)\n",
    "#비례함"
   ]
  },
  {
   "cell_type": "markdown",
   "metadata": {
    "id": "hWAd1hehI8-U"
   },
   "source": [
    "### stat_potential 별 연봉"
   ]
  },
  {
   "cell_type": "code",
   "execution_count": 24,
   "metadata": {
    "colab": {
     "base_uri": "https://localhost:8080/",
     "height": 614
    },
    "id": "7QWhb4YzhFSM",
    "outputId": "f141254f-7e96-4d9a-fa70-8c82bcf1305f"
   },
   "outputs": [
    {
     "data": {
      "text/plain": [
       "<BarContainer object of 45 artists>"
      ]
     },
     "execution_count": 24,
     "metadata": {},
     "output_type": "execute_result"
    },
    {
     "data": {
      "image/png": "[encoded data removed]",
      "text/plain": [
       "<Figure size 900x600 with 1 Axes>"
      ]
     },
     "metadata": {
      "needs_background": "light"
     },
     "output_type": "display_data"
    }
   ],
   "source": [
    "# stat_potential 따른 선수가치\n",
    "x = train.groupby('stat_potential').mean()['value'].index\n",
    "y = train.groupby('stat_potential').mean()['value'].values\n",
    "\n",
    "plt.figure(dpi=150)\n",
    "\n",
    "plt.title('value')\n",
    "plt.xlabel('stat_potential')\n",
    "plt.ylabel('value')\n",
    "\n",
    "plt.bar(x, y)\n",
    "#비례함"
   ]
  },
  {
   "cell_type": "markdown",
   "metadata": {
    "id": "H2jlnqkeLI31"
   },
   "source": [
    "### continent 따른 선수가치\n"
   ]
  },
  {
   "cell_type": "code",
   "execution_count": 25,
   "metadata": {
    "colab": {
     "base_uri": "https://localhost:8080/",
     "height": 613
    },
    "id": "RzpRSY3wMLRw",
    "outputId": "0fe0870d-a23c-4816-d859-5d0051d4c796"
   },
   "outputs": [
    {
     "data": {
      "text/plain": [
       "<BarContainer object of 5 artists>"
      ]
     },
     "execution_count": 25,
     "metadata": {},
     "output_type": "execute_result"
    },
    {
     "data": {
      "image/png": "[encoded data removed]",
      "text/plain": [
       "<Figure size 900x600 with 1 Axes>"
      ]
     },
     "metadata": {
      "needs_background": "light"
     },
     "output_type": "display_data"
    }
   ],
   "source": [
    "# continent 따른 선수가치\n",
    "x = train.groupby('continent').mean()['value'].index\n",
    "y = train.groupby('continent').mean()['value'].values\n",
    "\n",
    "plt.figure(dpi=150)\n",
    "\n",
    "plt.title('value')\n",
    "plt.xlabel('continent')\n",
    "plt.ylabel('value')\n",
    "\n",
    "plt.bar(x, y)\n",
    "#비례함"
   ]
  },
  {
   "cell_type": "markdown",
   "metadata": {
    "id": "ht6p0figf77j"
   },
   "source": [
    "### boxplot"
   ]
  },
  {
   "cell_type": "code",
   "execution_count": 26,
   "metadata": {
    "colab": {
     "base_uri": "https://localhost:8080/",
     "height": 335
    },
    "id": "jHSLPaHLf7UD",
    "outputId": "d0f9d92e-c8e2-465e-962d-43288e3ed86c"
   },
   "outputs": [
    {
     "data": {
      "image/png": "[encoded data removed]",
      "text/plain": [
       "<Figure size 1728x360 with 3 Axes>"
      ]
     },
     "metadata": {
      "needs_background": "light"
     },
     "output_type": "display_data"
    }
   ],
   "source": [
    "nums = ['age', 'stat_overall', 'stat_potential'] # 연속형 (continuous)\n",
    "f, axes = plt.subplots(1,len(nums), figsize=(24,5))\n",
    "axes = axes.flatten()                         \n",
    "for col, ax in zip(nums, axes):\n",
    "  sns.boxplot(data = train, x=col, ax=ax)\n",
    "plt.show()"
   ]
  },
  {
   "cell_type": "markdown",
   "metadata": {
    "id": "tD78xQczf_av"
   },
   "source": [
    "### corr"
   ]
  },
  {
   "cell_type": "code",
   "execution_count": 27,
   "metadata": {
    "colab": {
     "base_uri": "https://localhost:8080/",
     "height": 269
    },
    "id": "FkXCt7U0LLrk",
    "outputId": "1ae41062-a082-42ce-8058-c522791c3dd9"
   },
   "outputs": [
    {
     "data": {
      "text/html": [
       "<style type=\"text/css\">\n",
       "#T_a657e_row0_col0, #T_a657e_row1_col1, #T_a657e_row2_col2, #T_a657e_row3_col3, #T_a657e_row4_col4, #T_a657e_row5_col5, #T_a657e_row6_col6 {\n",
       "  background-color: #08306b;\n",
       "  color: #f1f1f1;\n",
       "}\n",
       "#T_a657e_row0_col1, #T_a657e_row0_col4, #T_a657e_row0_col5, #T_a657e_row0_col6, #T_a657e_row1_col2, #T_a657e_row1_col3, #T_a657e_row4_col0 {\n",
       "  background-color: #f7fbff;\n",
       "  color: #000000;\n",
       "}\n",
       "#T_a657e_row0_col2 {\n",
       "  background-color: #cee0f2;\n",
       "  color: #000000;\n",
       "}\n",
       "#T_a657e_row0_col3 {\n",
       "  background-color: #a0cbe2;\n",
       "  color: #000000;\n",
       "}\n",
       "#T_a657e_row1_col0 {\n",
       "  background-color: #e7f1fa;\n",
       "  color: #000000;\n",
       "}\n",
       "#T_a657e_row1_col4 {\n",
       "  background-color: #95c5df;\n",
       "  color: #000000;\n",
       "}\n",
       "#T_a657e_row1_col5 {\n",
       "  background-color: #eef5fc;\n",
       "  color: #000000;\n",
       "}\n",
       "#T_a657e_row1_col6 {\n",
       "  background-color: #d9e7f5;\n",
       "  color: #000000;\n",
       "}\n",
       "#T_a657e_row2_col0 {\n",
       "  background-color: #94c4df;\n",
       "  color: #000000;\n",
       "}\n",
       "#T_a657e_row2_col1 {\n",
       "  background-color: #d4e4f4;\n",
       "  color: #000000;\n",
       "}\n",
       "#T_a657e_row2_col3 {\n",
       "  background-color: #87bddc;\n",
       "  color: #000000;\n",
       "}\n",
       "#T_a657e_row2_col4 {\n",
       "  background-color: #66abd4;\n",
       "  color: #f1f1f1;\n",
       "}\n",
       "#T_a657e_row2_col5 {\n",
       "  background-color: #d7e6f5;\n",
       "  color: #000000;\n",
       "}\n",
       "#T_a657e_row2_col6 {\n",
       "  background-color: #3f8fc5;\n",
       "  color: #f1f1f1;\n",
       "}\n",
       "#T_a657e_row3_col0 {\n",
       "  background-color: #549fcd;\n",
       "  color: #f1f1f1;\n",
       "}\n",
       "#T_a657e_row3_col1 {\n",
       "  background-color: #c4daee;\n",
       "  color: #000000;\n",
       "}\n",
       "#T_a657e_row3_col2 {\n",
       "  background-color: #71b1d7;\n",
       "  color: #f1f1f1;\n",
       "}\n",
       "#T_a657e_row3_col4 {\n",
       "  background-color: #2676b8;\n",
       "  color: #f1f1f1;\n",
       "}\n",
       "#T_a657e_row3_col5 {\n",
       "  background-color: #9dcae1;\n",
       "  color: #000000;\n",
       "}\n",
       "#T_a657e_row3_col6 {\n",
       "  background-color: #4191c6;\n",
       "  color: #f1f1f1;\n",
       "}\n",
       "#T_a657e_row4_col1 {\n",
       "  background-color: #a8cee4;\n",
       "  color: #000000;\n",
       "}\n",
       "#T_a657e_row4_col2 {\n",
       "  background-color: #a5cde3;\n",
       "  color: #000000;\n",
       "}\n",
       "#T_a657e_row4_col3 {\n",
       "  background-color: #4997c9;\n",
       "  color: #f1f1f1;\n",
       "}\n",
       "#T_a657e_row4_col5 {\n",
       "  background-color: #b4d3e9;\n",
       "  color: #000000;\n",
       "}\n",
       "#T_a657e_row4_col6 {\n",
       "  background-color: #529dcc;\n",
       "  color: #f1f1f1;\n",
       "}\n",
       "#T_a657e_row5_col0 {\n",
       "  background-color: #ccdff1;\n",
       "  color: #000000;\n",
       "}\n",
       "#T_a657e_row5_col1 {\n",
       "  background-color: #d2e3f3;\n",
       "  color: #000000;\n",
       "}\n",
       "#T_a657e_row5_col2 {\n",
       "  background-color: #dceaf6;\n",
       "  color: #000000;\n",
       "}\n",
       "#T_a657e_row5_col3 {\n",
       "  background-color: #bad6eb;\n",
       "  color: #000000;\n",
       "}\n",
       "#T_a657e_row5_col4 {\n",
       "  background-color: #7cb7da;\n",
       "  color: #000000;\n",
       "}\n",
       "#T_a657e_row5_col6 {\n",
       "  background-color: #caddf0;\n",
       "  color: #000000;\n",
       "}\n",
       "#T_a657e_row6_col0 {\n",
       "  background-color: #c3daee;\n",
       "  color: #000000;\n",
       "}\n",
       "#T_a657e_row6_col1 {\n",
       "  background-color: #b0d2e7;\n",
       "  color: #000000;\n",
       "}\n",
       "#T_a657e_row6_col2 {\n",
       "  background-color: #3d8dc4;\n",
       "  color: #f1f1f1;\n",
       "}\n",
       "#T_a657e_row6_col3 {\n",
       "  background-color: #4b98ca;\n",
       "  color: #f1f1f1;\n",
       "}\n",
       "#T_a657e_row6_col4 {\n",
       "  background-color: #3282be;\n",
       "  color: #f1f1f1;\n",
       "}\n",
       "#T_a657e_row6_col5 {\n",
       "  background-color: #bfd8ed;\n",
       "  color: #000000;\n",
       "}\n",
       "</style>\n",
       "<table id=\"T_a657e_\" class=\"dataframe\">\n",
       "  <thead>\n",
       "    <tr>\n",
       "      <th class=\"blank level0\" >&nbsp;</th>\n",
       "      <th class=\"col_heading level0 col0\" >age</th>\n",
       "      <th class=\"col_heading level0 col1\" >contract_until</th>\n",
       "      <th class=\"col_heading level0 col2\" >reputation</th>\n",
       "      <th class=\"col_heading level0 col3\" >stat_overall</th>\n",
       "      <th class=\"col_heading level0 col4\" >stat_potential</th>\n",
       "      <th class=\"col_heading level0 col5\" >stat_skill_moves</th>\n",
       "      <th class=\"col_heading level0 col6\" >value</th>\n",
       "    </tr>\n",
       "  </thead>\n",
       "  <tbody>\n",
       "    <tr>\n",
       "      <th id=\"T_a657e_level0_row0\" class=\"row_heading level0 row0\" >age</th>\n",
       "      <td id=\"T_a657e_row0_col0\" class=\"data row0 col0\" >1.000000</td>\n",
       "      <td id=\"T_a657e_row0_col1\" class=\"data row0 col1\" >-0.132052</td>\n",
       "      <td id=\"T_a657e_row0_col2\" class=\"data row0 col2\" >0.263468</td>\n",
       "      <td id=\"T_a657e_row0_col3\" class=\"data row0 col3\" >0.467345</td>\n",
       "      <td id=\"T_a657e_row0_col4\" class=\"data row0 col4\" >-0.231303</td>\n",
       "      <td id=\"T_a657e_row0_col5\" class=\"data row0 col5\" >0.039362</td>\n",
       "      <td id=\"T_a657e_row0_col6\" class=\"data row0 col6\" >0.087319</td>\n",
       "    </tr>\n",
       "    <tr>\n",
       "      <th id=\"T_a657e_level0_row1\" class=\"row_heading level0 row1\" >contract_until</th>\n",
       "      <td id=\"T_a657e_row1_col0\" class=\"data row1 col0\" >-0.132052</td>\n",
       "      <td id=\"T_a657e_row1_col1\" class=\"data row1 col1\" >1.000000</td>\n",
       "      <td id=\"T_a657e_row1_col2\" class=\"data row1 col2\" >0.070446</td>\n",
       "      <td id=\"T_a657e_row1_col3\" class=\"data row1 col3\" >0.156983</td>\n",
       "      <td id=\"T_a657e_row1_col4\" class=\"data row1 col4\" >0.258477</td>\n",
       "      <td id=\"T_a657e_row1_col5\" class=\"data row1 col5\" >0.082641</td>\n",
       "      <td id=\"T_a657e_row1_col6\" class=\"data row1 col6\" >0.228638</td>\n",
       "    </tr>\n",
       "    <tr>\n",
       "      <th id=\"T_a657e_level0_row2\" class=\"row_heading level0 row2\" >reputation</th>\n",
       "      <td id=\"T_a657e_row2_col0\" class=\"data row2 col0\" >0.263468</td>\n",
       "      <td id=\"T_a657e_row2_col1\" class=\"data row2 col1\" >0.070446</td>\n",
       "      <td id=\"T_a657e_row2_col2\" class=\"data row2 col2\" >1.000000</td>\n",
       "      <td id=\"T_a657e_row2_col3\" class=\"data row2 col3\" >0.521389</td>\n",
       "      <td id=\"T_a657e_row2_col4\" class=\"data row2 col4\" >0.399183</td>\n",
       "      <td id=\"T_a657e_row2_col5\" class=\"data row2 col5\" >0.196582</td>\n",
       "      <td id=\"T_a657e_row2_col6\" class=\"data row2 col6\" >0.665982</td>\n",
       "    </tr>\n",
       "    <tr>\n",
       "      <th id=\"T_a657e_level0_row3\" class=\"row_heading level0 row3\" >stat_overall</th>\n",
       "      <td id=\"T_a657e_row3_col0\" class=\"data row3 col0\" >0.467345</td>\n",
       "      <td id=\"T_a657e_row3_col1\" class=\"data row3 col1\" >0.156983</td>\n",
       "      <td id=\"T_a657e_row3_col2\" class=\"data row3 col2\" >0.521389</td>\n",
       "      <td id=\"T_a657e_row3_col3\" class=\"data row3 col3\" >1.000000</td>\n",
       "      <td id=\"T_a657e_row3_col4\" class=\"data row3 col4\" >0.665453</td>\n",
       "      <td id=\"T_a657e_row3_col5\" class=\"data row3 col5\" >0.400164</td>\n",
       "      <td id=\"T_a657e_row3_col6\" class=\"data row3 col6\" >0.658444</td>\n",
       "    </tr>\n",
       "    <tr>\n",
       "      <th id=\"T_a657e_level0_row4\" class=\"row_heading level0 row4\" >stat_potential</th>\n",
       "      <td id=\"T_a657e_row4_col0\" class=\"data row4 col0\" >-0.231303</td>\n",
       "      <td id=\"T_a657e_row4_col1\" class=\"data row4 col1\" >0.258477</td>\n",
       "      <td id=\"T_a657e_row4_col2\" class=\"data row4 col2\" >0.399183</td>\n",
       "      <td id=\"T_a657e_row4_col3\" class=\"data row4 col3\" >0.665453</td>\n",
       "      <td id=\"T_a657e_row4_col4\" class=\"data row4 col4\" >1.000000</td>\n",
       "      <td id=\"T_a657e_row4_col5\" class=\"data row4 col5\" >0.332578</td>\n",
       "      <td id=\"T_a657e_row4_col6\" class=\"data row4 col6\" >0.611907</td>\n",
       "    </tr>\n",
       "    <tr>\n",
       "      <th id=\"T_a657e_level0_row5\" class=\"row_heading level0 row5\" >stat_skill_moves</th>\n",
       "      <td id=\"T_a657e_row5_col0\" class=\"data row5 col0\" >0.039362</td>\n",
       "      <td id=\"T_a657e_row5_col1\" class=\"data row5 col1\" >0.082641</td>\n",
       "      <td id=\"T_a657e_row5_col2\" class=\"data row5 col2\" >0.196582</td>\n",
       "      <td id=\"T_a657e_row5_col3\" class=\"data row5 col3\" >0.400164</td>\n",
       "      <td id=\"T_a657e_row5_col4\" class=\"data row5 col4\" >0.332578</td>\n",
       "      <td id=\"T_a657e_row5_col5\" class=\"data row5 col5\" >1.000000</td>\n",
       "      <td id=\"T_a657e_row5_col6\" class=\"data row5 col6\" >0.298500</td>\n",
       "    </tr>\n",
       "    <tr>\n",
       "      <th id=\"T_a657e_level0_row6\" class=\"row_heading level0 row6\" >value</th>\n",
       "      <td id=\"T_a657e_row6_col0\" class=\"data row6 col0\" >0.087319</td>\n",
       "      <td id=\"T_a657e_row6_col1\" class=\"data row6 col1\" >0.228638</td>\n",
       "      <td id=\"T_a657e_row6_col2\" class=\"data row6 col2\" >0.665982</td>\n",
       "      <td id=\"T_a657e_row6_col3\" class=\"data row6 col3\" >0.658444</td>\n",
       "      <td id=\"T_a657e_row6_col4\" class=\"data row6 col4\" >0.611907</td>\n",
       "      <td id=\"T_a657e_row6_col5\" class=\"data row6 col5\" >0.298500</td>\n",
       "      <td id=\"T_a657e_row6_col6\" class=\"data row6 col6\" >1.000000</td>\n",
       "    </tr>\n",
       "  </tbody>\n",
       "</table>\n"
      ],
      "text/plain": [
       "<pandas.io.formats.style.Styler at 0x7faa48364b20>"
      ]
     },
     "execution_count": 27,
     "metadata": {},
     "output_type": "execute_result"
    }
   ],
   "source": [
    "train.corr().style.background_gradient(cmap='Blues')\n",
    "#reputation stat_overall stat_potential이 상관관계를 가짐"
   ]
  },
  {
   "cell_type": "markdown",
   "metadata": {
    "id": "20miuU2IzqEY"
   },
   "source": [
    "## LabelEncoder "
   ]
  },
  {
   "cell_type": "code",
   "execution_count": 28,
   "metadata": {
    "id": "YH4-IcbUjy1n"
   },
   "outputs": [],
   "source": [
    "# from sklearn.preprocessing import LabelEncoder\n",
    "# label = ['school','sex','address','famsize','Pstatus','Mjob','Fjob','reason','romantic']\n",
    "# X_train[label] = X_train[label].apply(LabelEncoder().fit_transform)\n",
    "# X_test[label] = X_test[label].apply(LabelEncoder().fit_transform)\n",
    "# X_train"
   ]
  },
  {
   "cell_type": "code",
   "execution_count": 29,
   "metadata": {
    "colab": {
     "base_uri": "https://localhost:8080/",
     "height": 206
    },
    "id": "i2X8Xx9rRmSR",
    "outputId": "a647bc33-6562-4e25-d00f-5f68153ae4ed"
   },
   "outputs": [
    {
     "data": {
      "text/html": [
       "\n",
       "  <div id=\"df-7908042d-c0d2-460b-b300-5582c86d5350\">\n",
       "    <div class=\"colab-df-container\">\n",
       "      <div>\n",
       "<style scoped>\n",
       "    .dataframe tbody tr th:only-of-type {\n",
       "        vertical-align: middle;\n",
       "    }\n",
       "\n",
       "    .dataframe tbody tr th {\n",
       "        vertical-align: top;\n",
       "    }\n",
       "\n",
       "    .dataframe thead th {\n",
       "        text-align: right;\n",
       "    }\n",
       "</style>\n",
       "<table border=\"1\" class=\"dataframe\">\n",
       "  <thead>\n",
       "    <tr style=\"text-align: right;\">\n",
       "      <th></th>\n",
       "      <th>age</th>\n",
       "      <th>continent</th>\n",
       "      <th>contract_until</th>\n",
       "      <th>position</th>\n",
       "      <th>prefer_foot</th>\n",
       "      <th>reputation</th>\n",
       "      <th>stat_overall</th>\n",
       "      <th>stat_potential</th>\n",
       "      <th>stat_skill_moves</th>\n",
       "      <th>value</th>\n",
       "    </tr>\n",
       "  </thead>\n",
       "  <tbody>\n",
       "    <tr>\n",
       "      <th>0</th>\n",
       "      <td>31</td>\n",
       "      <td>south america</td>\n",
       "      <td>2021</td>\n",
       "      <td>ST</td>\n",
       "      <td>left</td>\n",
       "      <td>5.0</td>\n",
       "      <td>94</td>\n",
       "      <td>94</td>\n",
       "      <td>4.0</td>\n",
       "      <td>110500000.0</td>\n",
       "    </tr>\n",
       "    <tr>\n",
       "      <th>1</th>\n",
       "      <td>27</td>\n",
       "      <td>europe</td>\n",
       "      <td>2020</td>\n",
       "      <td>GK</td>\n",
       "      <td>right</td>\n",
       "      <td>4.0</td>\n",
       "      <td>91</td>\n",
       "      <td>93</td>\n",
       "      <td>1.0</td>\n",
       "      <td>72000000.0</td>\n",
       "    </tr>\n",
       "    <tr>\n",
       "      <th>2</th>\n",
       "      <td>31</td>\n",
       "      <td>south america</td>\n",
       "      <td>2021</td>\n",
       "      <td>ST</td>\n",
       "      <td>right</td>\n",
       "      <td>5.0</td>\n",
       "      <td>91</td>\n",
       "      <td>91</td>\n",
       "      <td>3.0</td>\n",
       "      <td>80000000.0</td>\n",
       "    </tr>\n",
       "    <tr>\n",
       "      <th>3</th>\n",
       "      <td>32</td>\n",
       "      <td>europe</td>\n",
       "      <td>2020</td>\n",
       "      <td>DF</td>\n",
       "      <td>right</td>\n",
       "      <td>4.0</td>\n",
       "      <td>91</td>\n",
       "      <td>91</td>\n",
       "      <td>3.0</td>\n",
       "      <td>51000000.0</td>\n",
       "    </tr>\n",
       "    <tr>\n",
       "      <th>4</th>\n",
       "      <td>25</td>\n",
       "      <td>europe</td>\n",
       "      <td>2021</td>\n",
       "      <td>GK</td>\n",
       "      <td>right</td>\n",
       "      <td>3.0</td>\n",
       "      <td>90</td>\n",
       "      <td>93</td>\n",
       "      <td>1.0</td>\n",
       "      <td>68000000.0</td>\n",
       "    </tr>\n",
       "  </tbody>\n",
       "</table>\n",
       "</div>\n",
       "      <button class=\"colab-df-convert\" onclick=\"convertToInteractive('df-7908042d-c0d2-460b-b300-5582c86d5350')\"\n",
       "              title=\"Convert this dataframe to an interactive table.\"\n",
       "              style=\"display:none;\">\n",
       "        \n",
       "  <svg xmlns=\"http://www.w3.org/2000/svg\" height=\"24px\"viewBox=\"0 0 24 24\"\n",
       "       width=\"24px\">\n",
       "    <path d=\"M0 0h24v24H0V0z\" fill=\"none\"/>\n",
       "    <path d=\"M18.56 5.44l.94 2.06.94-2.06 2.06-.94-2.06-.94-.94-2.06-.94 2.06-2.06.94zm-11 1L8.5 8.5l.94-2.06 2.06-.94-2.06-.94L8.5 2.5l-.94 2.06-2.06.94zm10 10l.94 2.06.94-2.06 2.06-.94-2.06-.94-.94-2.06-.94 2.06-2.06.94z\"/><path d=\"M17.41 7.96l-1.37-1.37c-.4-.4-.92-.59-1.43-.59-.52 0-1.04.2-1.43.59L10.3 9.45l-7.72 7.72c-.78.78-.78 2.05 0 2.83L4 21.41c.39.39.9.59 1.41.59.51 0 1.02-.2 1.41-.59l7.78-7.78 2.81-2.81c.8-.78.8-2.07 0-2.86zM5.41 20L4 18.59l7.72-7.72 1.47 1.35L5.41 20z\"/>\n",
       "  </svg>\n",
       "      </button>\n",
       "      \n",
       "  <style>\n",
       "    .colab-df-container {\n",
       "      display:flex;\n",
       "      flex-wrap:wrap;\n",
       "      gap: 12px;\n",
       "    }\n",
       "\n",
       "    .colab-df-convert {\n",
       "      background-color: #E8F0FE;\n",
       "      border: none;\n",
       "      border-radius: 50%;\n",
       "      cursor: pointer;\n",
       "      display: none;\n",
       "      fill: #1967D2;\n",
       "      height: 32px;\n",
       "      padding: 0 0 0 0;\n",
       "      width: 32px;\n",
       "    }\n",
       "\n",
       "    .colab-df-convert:hover {\n",
       "      background-color: #E2EBFA;\n",
       "      box-shadow: 0px 1px 2px rgba(60, 64, 67, 0.3), 0px 1px 3px 1px rgba(60, 64, 67, 0.15);\n",
       "      fill: #174EA6;\n",
       "    }\n",
       "\n",
       "    [theme=dark] .colab-df-convert {\n",
       "      background-color: #3B4455;\n",
       "      fill: #D2E3FC;\n",
       "    }\n",
       "\n",
       "    [theme=dark] .colab-df-convert:hover {\n",
       "      background-color: #434B5C;\n",
       "      box-shadow: 0px 1px 3px 1px rgba(0, 0, 0, 0.15);\n",
       "      filter: drop-shadow(0px 1px 2px rgba(0, 0, 0, 0.3));\n",
       "      fill: #FFFFFF;\n",
       "    }\n",
       "  </style>\n",
       "\n",
       "      <script>\n",
       "        const buttonEl =\n",
       "          document.querySelector('#df-7908042d-c0d2-460b-b300-5582c86d5350 button.colab-df-convert');\n",
       "        buttonEl.style.display =\n",
       "          google.colab.kernel.accessAllowed ? 'block' : 'none';\n",
       "\n",
       "        async function convertToInteractive(key) {\n",
       "          const element = document.querySelector('#df-7908042d-c0d2-460b-b300-5582c86d5350');\n",
       "          const dataTable =\n",
       "            await google.colab.kernel.invokeFunction('convertToInteractive',\n",
       "                                                     [key], {});\n",
       "          if (!dataTable) return;\n",
       "\n",
       "          const docLinkHtml = 'Like what you see? Visit the ' +\n",
       "            '<a target=\"_blank\" href=https://colab.research.google.com/notebooks/data_table.ipynb>data table notebook</a>'\n",
       "            + ' to learn more about interactive tables.';\n",
       "          element.innerHTML = '';\n",
       "          dataTable['output_type'] = 'display_data';\n",
       "          await google.colab.output.renderOutput(dataTable, element);\n",
       "          const docLink = document.createElement('div');\n",
       "          docLink.innerHTML = docLinkHtml;\n",
       "          element.appendChild(docLink);\n",
       "        }\n",
       "      </script>\n",
       "    </div>\n",
       "  </div>\n",
       "  "
      ],
      "text/plain": [
       "   age      continent  contract_until position prefer_foot  reputation  \\\n",
       "0   31  south america            2021       ST        left         5.0   \n",
       "1   27         europe            2020       GK       right         4.0   \n",
       "2   31  south america            2021       ST       right         5.0   \n",
       "3   32         europe            2020       DF       right         4.0   \n",
       "4   25         europe            2021       GK       right         3.0   \n",
       "\n",
       "   stat_overall  stat_potential  stat_skill_moves        value  \n",
       "0            94              94               4.0  110500000.0  \n",
       "1            91              93               1.0   72000000.0  \n",
       "2            91              91               3.0   80000000.0  \n",
       "3            91              91               3.0   51000000.0  \n",
       "4            90              93               1.0   68000000.0  "
      ]
     },
     "execution_count": 29,
     "metadata": {},
     "output_type": "execute_result"
    }
   ],
   "source": [
    "train.head()"
   ]
  },
  {
   "cell_type": "code",
   "execution_count": 30,
   "metadata": {
    "colab": {
     "base_uri": "https://localhost:8080/",
     "height": 206
    },
    "id": "jT2cZB5KRdvZ",
    "outputId": "25de898f-60c4-4573-c0e5-5fd196b0657a"
   },
   "outputs": [
    {
     "data": {
      "text/html": [
       "\n",
       "  <div id=\"df-aafa46a5-4b46-46c3-8f6c-a0fd1cd85459\">\n",
       "    <div class=\"colab-df-container\">\n",
       "      <div>\n",
       "<style scoped>\n",
       "    .dataframe tbody tr th:only-of-type {\n",
       "        vertical-align: middle;\n",
       "    }\n",
       "\n",
       "    .dataframe tbody tr th {\n",
       "        vertical-align: top;\n",
       "    }\n",
       "\n",
       "    .dataframe thead th {\n",
       "        text-align: right;\n",
       "    }\n",
       "</style>\n",
       "<table border=\"1\" class=\"dataframe\">\n",
       "  <thead>\n",
       "    <tr style=\"text-align: right;\">\n",
       "      <th></th>\n",
       "      <th>age</th>\n",
       "      <th>continent</th>\n",
       "      <th>contract_until</th>\n",
       "      <th>position</th>\n",
       "      <th>prefer_foot</th>\n",
       "      <th>reputation</th>\n",
       "      <th>stat_overall</th>\n",
       "      <th>stat_potential</th>\n",
       "      <th>stat_skill_moves</th>\n",
       "      <th>value</th>\n",
       "    </tr>\n",
       "  </thead>\n",
       "  <tbody>\n",
       "    <tr>\n",
       "      <th>0</th>\n",
       "      <td>31</td>\n",
       "      <td>4</td>\n",
       "      <td>2021</td>\n",
       "      <td>3</td>\n",
       "      <td>0</td>\n",
       "      <td>5.0</td>\n",
       "      <td>94</td>\n",
       "      <td>94</td>\n",
       "      <td>4.0</td>\n",
       "      <td>110500000.0</td>\n",
       "    </tr>\n",
       "    <tr>\n",
       "      <th>1</th>\n",
       "      <td>27</td>\n",
       "      <td>2</td>\n",
       "      <td>2020</td>\n",
       "      <td>1</td>\n",
       "      <td>1</td>\n",
       "      <td>4.0</td>\n",
       "      <td>91</td>\n",
       "      <td>93</td>\n",
       "      <td>1.0</td>\n",
       "      <td>72000000.0</td>\n",
       "    </tr>\n",
       "    <tr>\n",
       "      <th>2</th>\n",
       "      <td>31</td>\n",
       "      <td>4</td>\n",
       "      <td>2021</td>\n",
       "      <td>3</td>\n",
       "      <td>1</td>\n",
       "      <td>5.0</td>\n",
       "      <td>91</td>\n",
       "      <td>91</td>\n",
       "      <td>3.0</td>\n",
       "      <td>80000000.0</td>\n",
       "    </tr>\n",
       "    <tr>\n",
       "      <th>3</th>\n",
       "      <td>32</td>\n",
       "      <td>2</td>\n",
       "      <td>2020</td>\n",
       "      <td>0</td>\n",
       "      <td>1</td>\n",
       "      <td>4.0</td>\n",
       "      <td>91</td>\n",
       "      <td>91</td>\n",
       "      <td>3.0</td>\n",
       "      <td>51000000.0</td>\n",
       "    </tr>\n",
       "    <tr>\n",
       "      <th>4</th>\n",
       "      <td>25</td>\n",
       "      <td>2</td>\n",
       "      <td>2021</td>\n",
       "      <td>1</td>\n",
       "      <td>1</td>\n",
       "      <td>3.0</td>\n",
       "      <td>90</td>\n",
       "      <td>93</td>\n",
       "      <td>1.0</td>\n",
       "      <td>68000000.0</td>\n",
       "    </tr>\n",
       "  </tbody>\n",
       "</table>\n",
       "</div>\n",
       "      <button class=\"colab-df-convert\" onclick=\"convertToInteractive('df-aafa46a5-4b46-46c3-8f6c-a0fd1cd85459')\"\n",
       "              title=\"Convert this dataframe to an interactive table.\"\n",
       "              style=\"display:none;\">\n",
       "        \n",
       "  <svg xmlns=\"http://www.w3.org/2000/svg\" height=\"24px\"viewBox=\"0 0 24 24\"\n",
       "       width=\"24px\">\n",
       "    <path d=\"M0 0h24v24H0V0z\" fill=\"none\"/>\n",
       "    <path d=\"M18.56 5.44l.94 2.06.94-2.06 2.06-.94-2.06-.94-.94-2.06-.94 2.06-2.06.94zm-11 1L8.5 8.5l.94-2.06 2.06-.94-2.06-.94L8.5 2.5l-.94 2.06-2.06.94zm10 10l.94 2.06.94-2.06 2.06-.94-2.06-.94-.94-2.06-.94 2.06-2.06.94z\"/><path d=\"M17.41 7.96l-1.37-1.37c-.4-.4-.92-.59-1.43-.59-.52 0-1.04.2-1.43.59L10.3 9.45l-7.72 7.72c-.78.78-.78 2.05 0 2.83L4 21.41c.39.39.9.59 1.41.59.51 0 1.02-.2 1.41-.59l7.78-7.78 2.81-2.81c.8-.78.8-2.07 0-2.86zM5.41 20L4 18.59l7.72-7.72 1.47 1.35L5.41 20z\"/>\n",
       "  </svg>\n",
       "      </button>\n",
       "      \n",
       "  <style>\n",
       "    .colab-df-container {\n",
       "      display:flex;\n",
       "      flex-wrap:wrap;\n",
       "      gap: 12px;\n",
       "    }\n",
       "\n",
       "    .colab-df-convert {\n",
       "      background-color: #E8F0FE;\n",
       "      border: none;\n",
       "      border-radius: 50%;\n",
       "      cursor: pointer;\n",
       "      display: none;\n",
       "      fill: #1967D2;\n",
       "      height: 32px;\n",
       "      padding: 0 0 0 0;\n",
       "      width: 32px;\n",
       "    }\n",
       "\n",
       "    .colab-df-convert:hover {\n",
       "      background-color: #E2EBFA;\n",
       "      box-shadow: 0px 1px 2px rgba(60, 64, 67, 0.3), 0px 1px 3px 1px rgba(60, 64, 67, 0.15);\n",
       "      fill: #174EA6;\n",
       "    }\n",
       "\n",
       "    [theme=dark] .colab-df-convert {\n",
       "      background-color: #3B4455;\n",
       "      fill: #D2E3FC;\n",
       "    }\n",
       "\n",
       "    [theme=dark] .colab-df-convert:hover {\n",
       "      background-color: #434B5C;\n",
       "      box-shadow: 0px 1px 3px 1px rgba(0, 0, 0, 0.15);\n",
       "      filter: drop-shadow(0px 1px 2px rgba(0, 0, 0, 0.3));\n",
       "      fill: #FFFFFF;\n",
       "    }\n",
       "  </style>\n",
       "\n",
       "      <script>\n",
       "        const buttonEl =\n",
       "          document.querySelector('#df-aafa46a5-4b46-46c3-8f6c-a0fd1cd85459 button.colab-df-convert');\n",
       "        buttonEl.style.display =\n",
       "          google.colab.kernel.accessAllowed ? 'block' : 'none';\n",
       "\n",
       "        async function convertToInteractive(key) {\n",
       "          const element = document.querySelector('#df-aafa46a5-4b46-46c3-8f6c-a0fd1cd85459');\n",
       "          const dataTable =\n",
       "            await google.colab.kernel.invokeFunction('convertToInteractive',\n",
       "                                                     [key], {});\n",
       "          if (!dataTable) return;\n",
       "\n",
       "          const docLinkHtml = 'Like what you see? Visit the ' +\n",
       "            '<a target=\"_blank\" href=https://colab.research.google.com/notebooks/data_table.ipynb>data table notebook</a>'\n",
       "            + ' to learn more about interactive tables.';\n",
       "          element.innerHTML = '';\n",
       "          dataTable['output_type'] = 'display_data';\n",
       "          await google.colab.output.renderOutput(dataTable, element);\n",
       "          const docLink = document.createElement('div');\n",
       "          docLink.innerHTML = docLinkHtml;\n",
       "          element.appendChild(docLink);\n",
       "        }\n",
       "      </script>\n",
       "    </div>\n",
       "  </div>\n",
       "  "
      ],
      "text/plain": [
       "   age  continent  contract_until  position  prefer_foot  reputation  \\\n",
       "0   31          4            2021         3            0         5.0   \n",
       "1   27          2            2020         1            1         4.0   \n",
       "2   31          4            2021         3            1         5.0   \n",
       "3   32          2            2020         0            1         4.0   \n",
       "4   25          2            2021         1            1         3.0   \n",
       "\n",
       "   stat_overall  stat_potential  stat_skill_moves        value  \n",
       "0            94              94               4.0  110500000.0  \n",
       "1            91              93               1.0   72000000.0  \n",
       "2            91              91               3.0   80000000.0  \n",
       "3            91              91               3.0   51000000.0  \n",
       "4            90              93               1.0   68000000.0  "
      ]
     },
     "execution_count": 30,
     "metadata": {},
     "output_type": "execute_result"
    }
   ],
   "source": [
    "# 문자형 변수 label 인코딩 진행\n",
    "train['continent']=train['continent'].astype('category').cat.codes\n",
    "test['continent'] = test['continent'].astype('category').cat.codes\n",
    "\n",
    "train['position'] = train['position'].astype('category').cat.codes\n",
    "test['position'] = test['position'].astype('category').cat.codes\n",
    "\n",
    "train['prefer_foot'] = train['prefer_foot'].astype('category').cat.codes\n",
    "test['prefer_foot'] = test['prefer_foot'].astype('category').cat.codes\n",
    "train.head()"
   ]
  },
  {
   "cell_type": "code",
   "execution_count": 30,
   "metadata": {
    "id": "3gUCFQxrRdx3"
   },
   "outputs": [],
   "source": []
  },
  {
   "cell_type": "markdown",
   "metadata": {
    "id": "Zi07Z4O8x8Nx"
   },
   "source": [
    "## MinMaxScaler"
   ]
  },
  {
   "cell_type": "code",
   "execution_count": 31,
   "metadata": {
    "colab": {
     "base_uri": "https://localhost:8080/"
    },
    "id": "0msdK7i0yl6x",
    "outputId": "efb77e0c-913a-42da-c00d-dd9904213620"
   },
   "outputs": [
    {
     "name": "stdout",
     "output_type": "stream",
     "text": [
      "(8932, 10)\n",
      "(8932, 10)\n",
      "Index(['age', 'continent', 'contract_until', 'position', 'prefer_foot',\n",
      "       'reputation', 'stat_overall', 'stat_potential', 'stat_skill_moves',\n",
      "       'value'],\n",
      "      dtype='object')\n",
      "Index(['age', 'continent', 'contract_until', 'position', 'prefer_foot',\n",
      "       'reputation', 'stat_overall', 'stat_potential', 'stat_skill_moves',\n",
      "       'value'],\n",
      "      dtype='object')\n"
     ]
    }
   ],
   "source": [
    "print(train.shape)\n",
    "print(test.shape)\n",
    "print(train.select_dtypes(exclude = object).columns)\n",
    "print(test.select_dtypes(exclude = object).columns)"
   ]
  },
  {
   "cell_type": "code",
   "execution_count": 32,
   "metadata": {
    "colab": {
     "base_uri": "https://localhost:8080/"
    },
    "id": "BPQKc_BZjy3y",
    "outputId": "28239881-8d41-43a2-e5d6-97490d966cb8"
   },
   "outputs": [
    {
     "data": {
      "text/plain": [
       "(8932, 10)"
      ]
     },
     "execution_count": 32,
     "metadata": {},
     "output_type": "execute_result"
    }
   ],
   "source": [
    "from sklearn.preprocessing import MinMaxScaler\n",
    "scaler = ['age', 'contract_until', 'reputation', 'stat_overall', 'stat_potential',\n",
    "       'stat_skill_moves']\n",
    "mm = MinMaxScaler()\n",
    "mm.fit(train[scaler])\n",
    "train[scaler] = mm.transform(train[scaler])\n",
    "test[scaler] = mm.transform(test[scaler])\n",
    "train.shape"
   ]
  },
  {
   "cell_type": "code",
   "execution_count": 33,
   "metadata": {
    "colab": {
     "base_uri": "https://localhost:8080/"
    },
    "id": "tRdwzr_K0obo",
    "outputId": "84bd8eb9-c3fa-4ec4-92c9-a2e2b2d6e28a"
   },
   "outputs": [
    {
     "data": {
      "text/plain": [
       "(8932, 10)"
      ]
     },
     "execution_count": 33,
     "metadata": {},
     "output_type": "execute_result"
    }
   ],
   "source": [
    "test.shape"
   ]
  },
  {
   "cell_type": "code",
   "execution_count": 34,
   "metadata": {
    "colab": {
     "base_uri": "https://localhost:8080/",
     "height": 206
    },
    "id": "bAJBRIKK1ClB",
    "outputId": "1469fcb5-80ba-4caa-8ff1-81cfc8f65d96"
   },
   "outputs": [
    {
     "data": {
      "text/html": [
       "\n",
       "  <div id=\"df-745b420e-eff7-4746-a8f4-782f5f1ba821\">\n",
       "    <div class=\"colab-df-container\">\n",
       "      <div>\n",
       "<style scoped>\n",
       "    .dataframe tbody tr th:only-of-type {\n",
       "        vertical-align: middle;\n",
       "    }\n",
       "\n",
       "    .dataframe tbody tr th {\n",
       "        vertical-align: top;\n",
       "    }\n",
       "\n",
       "    .dataframe thead th {\n",
       "        text-align: right;\n",
       "    }\n",
       "</style>\n",
       "<table border=\"1\" class=\"dataframe\">\n",
       "  <thead>\n",
       "    <tr style=\"text-align: right;\">\n",
       "      <th></th>\n",
       "      <th>age</th>\n",
       "      <th>continent</th>\n",
       "      <th>contract_until</th>\n",
       "      <th>position</th>\n",
       "      <th>prefer_foot</th>\n",
       "      <th>reputation</th>\n",
       "      <th>stat_overall</th>\n",
       "      <th>stat_potential</th>\n",
       "      <th>stat_skill_moves</th>\n",
       "      <th>value</th>\n",
       "    </tr>\n",
       "  </thead>\n",
       "  <tbody>\n",
       "    <tr>\n",
       "      <th>0</th>\n",
       "      <td>0.625000</td>\n",
       "      <td>4</td>\n",
       "      <td>0.375</td>\n",
       "      <td>3</td>\n",
       "      <td>0</td>\n",
       "      <td>1.00</td>\n",
       "      <td>1.000000</td>\n",
       "      <td>1.000000</td>\n",
       "      <td>0.75</td>\n",
       "      <td>110500000.0</td>\n",
       "    </tr>\n",
       "    <tr>\n",
       "      <th>1</th>\n",
       "      <td>0.458333</td>\n",
       "      <td>2</td>\n",
       "      <td>0.250</td>\n",
       "      <td>1</td>\n",
       "      <td>1</td>\n",
       "      <td>0.75</td>\n",
       "      <td>0.936170</td>\n",
       "      <td>0.978261</td>\n",
       "      <td>0.00</td>\n",
       "      <td>72000000.0</td>\n",
       "    </tr>\n",
       "    <tr>\n",
       "      <th>2</th>\n",
       "      <td>0.625000</td>\n",
       "      <td>4</td>\n",
       "      <td>0.375</td>\n",
       "      <td>3</td>\n",
       "      <td>1</td>\n",
       "      <td>1.00</td>\n",
       "      <td>0.936170</td>\n",
       "      <td>0.934783</td>\n",
       "      <td>0.50</td>\n",
       "      <td>80000000.0</td>\n",
       "    </tr>\n",
       "    <tr>\n",
       "      <th>3</th>\n",
       "      <td>0.666667</td>\n",
       "      <td>2</td>\n",
       "      <td>0.250</td>\n",
       "      <td>0</td>\n",
       "      <td>1</td>\n",
       "      <td>0.75</td>\n",
       "      <td>0.936170</td>\n",
       "      <td>0.934783</td>\n",
       "      <td>0.50</td>\n",
       "      <td>51000000.0</td>\n",
       "    </tr>\n",
       "    <tr>\n",
       "      <th>4</th>\n",
       "      <td>0.375000</td>\n",
       "      <td>2</td>\n",
       "      <td>0.375</td>\n",
       "      <td>1</td>\n",
       "      <td>1</td>\n",
       "      <td>0.50</td>\n",
       "      <td>0.914894</td>\n",
       "      <td>0.978261</td>\n",
       "      <td>0.00</td>\n",
       "      <td>68000000.0</td>\n",
       "    </tr>\n",
       "  </tbody>\n",
       "</table>\n",
       "</div>\n",
       "      <button class=\"colab-df-convert\" onclick=\"convertToInteractive('df-745b420e-eff7-4746-a8f4-782f5f1ba821')\"\n",
       "              title=\"Convert this dataframe to an interactive table.\"\n",
       "              style=\"display:none;\">\n",
       "        \n",
       "  <svg xmlns=\"http://www.w3.org/2000/svg\" height=\"24px\"viewBox=\"0 0 24 24\"\n",
       "       width=\"24px\">\n",
       "    <path d=\"M0 0h24v24H0V0z\" fill=\"none\"/>\n",
       "    <path d=\"M18.56 5.44l.94 2.06.94-2.06 2.06-.94-2.06-.94-.94-2.06-.94 2.06-2.06.94zm-11 1L8.5 8.5l.94-2.06 2.06-.94-2.06-.94L8.5 2.5l-.94 2.06-2.06.94zm10 10l.94 2.06.94-2.06 2.06-.94-2.06-.94-.94-2.06-.94 2.06-2.06.94z\"/><path d=\"M17.41 7.96l-1.37-1.37c-.4-.4-.92-.59-1.43-.59-.52 0-1.04.2-1.43.59L10.3 9.45l-7.72 7.72c-.78.78-.78 2.05 0 2.83L4 21.41c.39.39.9.59 1.41.59.51 0 1.02-.2 1.41-.59l7.78-7.78 2.81-2.81c.8-.78.8-2.07 0-2.86zM5.41 20L4 18.59l7.72-7.72 1.47 1.35L5.41 20z\"/>\n",
       "  </svg>\n",
       "      </button>\n",
       "      \n",
       "  <style>\n",
       "    .colab-df-container {\n",
       "      display:flex;\n",
       "      flex-wrap:wrap;\n",
       "      gap: 12px;\n",
       "    }\n",
       "\n",
       "    .colab-df-convert {\n",
       "      background-color: #E8F0FE;\n",
       "      border: none;\n",
       "      border-radius: 50%;\n",
       "      cursor: pointer;\n",
       "      display: none;\n",
       "      fill: #1967D2;\n",
       "      height: 32px;\n",
       "      padding: 0 0 0 0;\n",
       "      width: 32px;\n",
       "    }\n",
       "\n",
       "    .colab-df-convert:hover {\n",
       "      background-color: #E2EBFA;\n",
       "      box-shadow: 0px 1px 2px rgba(60, 64, 67, 0.3), 0px 1px 3px 1px rgba(60, 64, 67, 0.15);\n",
       "      fill: #174EA6;\n",
       "    }\n",
       "\n",
       "    [theme=dark] .colab-df-convert {\n",
       "      background-color: #3B4455;\n",
       "      fill: #D2E3FC;\n",
       "    }\n",
       "\n",
       "    [theme=dark] .colab-df-convert:hover {\n",
       "      background-color: #434B5C;\n",
       "      box-shadow: 0px 1px 3px 1px rgba(0, 0, 0, 0.15);\n",
       "      filter: drop-shadow(0px 1px 2px rgba(0, 0, 0, 0.3));\n",
       "      fill: #FFFFFF;\n",
       "    }\n",
       "  </style>\n",
       "\n",
       "      <script>\n",
       "        const buttonEl =\n",
       "          document.querySelector('#df-745b420e-eff7-4746-a8f4-782f5f1ba821 button.colab-df-convert');\n",
       "        buttonEl.style.display =\n",
       "          google.colab.kernel.accessAllowed ? 'block' : 'none';\n",
       "\n",
       "        async function convertToInteractive(key) {\n",
       "          const element = document.querySelector('#df-745b420e-eff7-4746-a8f4-782f5f1ba821');\n",
       "          const dataTable =\n",
       "            await google.colab.kernel.invokeFunction('convertToInteractive',\n",
       "                                                     [key], {});\n",
       "          if (!dataTable) return;\n",
       "\n",
       "          const docLinkHtml = 'Like what you see? Visit the ' +\n",
       "            '<a target=\"_blank\" href=https://colab.research.google.com/notebooks/data_table.ipynb>data table notebook</a>'\n",
       "            + ' to learn more about interactive tables.';\n",
       "          element.innerHTML = '';\n",
       "          dataTable['output_type'] = 'display_data';\n",
       "          await google.colab.output.renderOutput(dataTable, element);\n",
       "          const docLink = document.createElement('div');\n",
       "          docLink.innerHTML = docLinkHtml;\n",
       "          element.appendChild(docLink);\n",
       "        }\n",
       "      </script>\n",
       "    </div>\n",
       "  </div>\n",
       "  "
      ],
      "text/plain": [
       "        age  continent  contract_until  position  prefer_foot  reputation  \\\n",
       "0  0.625000          4           0.375         3            0        1.00   \n",
       "1  0.458333          2           0.250         1            1        0.75   \n",
       "2  0.625000          4           0.375         3            1        1.00   \n",
       "3  0.666667          2           0.250         0            1        0.75   \n",
       "4  0.375000          2           0.375         1            1        0.50   \n",
       "\n",
       "   stat_overall  stat_potential  stat_skill_moves        value  \n",
       "0      1.000000        1.000000              0.75  110500000.0  \n",
       "1      0.936170        0.978261              0.00   72000000.0  \n",
       "2      0.936170        0.934783              0.50   80000000.0  \n",
       "3      0.936170        0.934783              0.50   51000000.0  \n",
       "4      0.914894        0.978261              0.00   68000000.0  "
      ]
     },
     "execution_count": 34,
     "metadata": {},
     "output_type": "execute_result"
    }
   ],
   "source": [
    "test.head()"
   ]
  },
  {
   "cell_type": "markdown",
   "metadata": {
    "id": "SMe9kMk9yYKB"
   },
   "source": [
    "## train_test_split"
   ]
  },
  {
   "cell_type": "code",
   "execution_count": 35,
   "metadata": {
    "colab": {
     "base_uri": "https://localhost:8080/",
     "height": 1000
    },
    "id": "xrAec-JVSPeW",
    "outputId": "ce7773a8-17e5-46b2-8d37-34b2c11f3134"
   },
   "outputs": [
    {
     "name": "stdout",
     "output_type": "stream",
     "text": [
      "<class 'pandas.core.frame.DataFrame'>\n",
      "RangeIndex: 8932 entries, 0 to 8931\n",
      "Data columns (total 10 columns):\n",
      " #   Column            Non-Null Count  Dtype  \n",
      "---  ------            --------------  -----  \n",
      " 0   age               8932 non-null   float64\n",
      " 1   continent         8932 non-null   int8   \n",
      " 2   contract_until    8932 non-null   float64\n",
      " 3   position          8932 non-null   int8   \n",
      " 4   prefer_foot       8932 non-null   int8   \n",
      " 5   reputation        8932 non-null   float64\n",
      " 6   stat_overall      8932 non-null   float64\n",
      " 7   stat_potential    8932 non-null   float64\n",
      " 8   stat_skill_moves  8932 non-null   float64\n",
      " 9   value             8932 non-null   float64\n",
      "dtypes: float64(7), int8(3)\n",
      "memory usage: 514.8 KB\n",
      "<class 'pandas.core.frame.DataFrame'>\n",
      "RangeIndex: 8932 entries, 0 to 8931\n",
      "Data columns (total 10 columns):\n",
      " #   Column            Non-Null Count  Dtype  \n",
      "---  ------            --------------  -----  \n",
      " 0   age               8932 non-null   float64\n",
      " 1   continent         8932 non-null   int8   \n",
      " 2   contract_until    8932 non-null   float64\n",
      " 3   position          8932 non-null   int8   \n",
      " 4   prefer_foot       8932 non-null   int8   \n",
      " 5   reputation        8932 non-null   float64\n",
      " 6   stat_overall      8932 non-null   float64\n",
      " 7   stat_potential    8932 non-null   float64\n",
      " 8   stat_skill_moves  8932 non-null   float64\n",
      " 9   value             8932 non-null   float64\n",
      "dtypes: float64(7), int8(3)\n",
      "memory usage: 514.8 KB\n"
     ]
    },
    {
     "data": {
      "text/html": [
       "\n",
       "  <div id=\"df-f580d5bd-0db2-4aba-9b78-b148e7f4e107\">\n",
       "    <div class=\"colab-df-container\">\n",
       "      <div>\n",
       "<style scoped>\n",
       "    .dataframe tbody tr th:only-of-type {\n",
       "        vertical-align: middle;\n",
       "    }\n",
       "\n",
       "    .dataframe tbody tr th {\n",
       "        vertical-align: top;\n",
       "    }\n",
       "\n",
       "    .dataframe thead th {\n",
       "        text-align: right;\n",
       "    }\n",
       "</style>\n",
       "<table border=\"1\" class=\"dataframe\">\n",
       "  <thead>\n",
       "    <tr style=\"text-align: right;\">\n",
       "      <th></th>\n",
       "      <th>age</th>\n",
       "      <th>continent</th>\n",
       "      <th>contract_until</th>\n",
       "      <th>position</th>\n",
       "      <th>prefer_foot</th>\n",
       "      <th>reputation</th>\n",
       "      <th>stat_overall</th>\n",
       "      <th>stat_potential</th>\n",
       "      <th>stat_skill_moves</th>\n",
       "    </tr>\n",
       "  </thead>\n",
       "  <tbody>\n",
       "    <tr>\n",
       "      <th>4464</th>\n",
       "      <td>0.625000</td>\n",
       "      <td>2</td>\n",
       "      <td>0.250</td>\n",
       "      <td>3</td>\n",
       "      <td>1</td>\n",
       "      <td>0.0</td>\n",
       "      <td>0.425532</td>\n",
       "      <td>0.413043</td>\n",
       "      <td>0.50</td>\n",
       "    </tr>\n",
       "    <tr>\n",
       "      <th>2041</th>\n",
       "      <td>0.500000</td>\n",
       "      <td>4</td>\n",
       "      <td>0.625</td>\n",
       "      <td>0</td>\n",
       "      <td>0</td>\n",
       "      <td>0.0</td>\n",
       "      <td>0.531915</td>\n",
       "      <td>0.521739</td>\n",
       "      <td>0.50</td>\n",
       "    </tr>\n",
       "    <tr>\n",
       "      <th>4961</th>\n",
       "      <td>0.333333</td>\n",
       "      <td>2</td>\n",
       "      <td>0.375</td>\n",
       "      <td>0</td>\n",
       "      <td>0</td>\n",
       "      <td>0.0</td>\n",
       "      <td>0.404255</td>\n",
       "      <td>0.478261</td>\n",
       "      <td>0.25</td>\n",
       "    </tr>\n",
       "    <tr>\n",
       "      <th>7040</th>\n",
       "      <td>0.250000</td>\n",
       "      <td>2</td>\n",
       "      <td>0.375</td>\n",
       "      <td>0</td>\n",
       "      <td>0</td>\n",
       "      <td>0.0</td>\n",
       "      <td>0.319149</td>\n",
       "      <td>0.478261</td>\n",
       "      <td>0.25</td>\n",
       "    </tr>\n",
       "    <tr>\n",
       "      <th>6074</th>\n",
       "      <td>0.208333</td>\n",
       "      <td>2</td>\n",
       "      <td>0.375</td>\n",
       "      <td>0</td>\n",
       "      <td>0</td>\n",
       "      <td>0.0</td>\n",
       "      <td>0.361702</td>\n",
       "      <td>0.478261</td>\n",
       "      <td>0.25</td>\n",
       "    </tr>\n",
       "    <tr>\n",
       "      <th>...</th>\n",
       "      <td>...</td>\n",
       "      <td>...</td>\n",
       "      <td>...</td>\n",
       "      <td>...</td>\n",
       "      <td>...</td>\n",
       "      <td>...</td>\n",
       "      <td>...</td>\n",
       "      <td>...</td>\n",
       "      <td>...</td>\n",
       "    </tr>\n",
       "    <tr>\n",
       "      <th>7688</th>\n",
       "      <td>0.250000</td>\n",
       "      <td>1</td>\n",
       "      <td>0.500</td>\n",
       "      <td>0</td>\n",
       "      <td>1</td>\n",
       "      <td>0.0</td>\n",
       "      <td>0.276596</td>\n",
       "      <td>0.543478</td>\n",
       "      <td>0.25</td>\n",
       "    </tr>\n",
       "    <tr>\n",
       "      <th>4531</th>\n",
       "      <td>0.500000</td>\n",
       "      <td>2</td>\n",
       "      <td>0.250</td>\n",
       "      <td>0</td>\n",
       "      <td>1</td>\n",
       "      <td>0.0</td>\n",
       "      <td>0.425532</td>\n",
       "      <td>0.413043</td>\n",
       "      <td>0.25</td>\n",
       "    </tr>\n",
       "    <tr>\n",
       "      <th>7588</th>\n",
       "      <td>0.166667</td>\n",
       "      <td>2</td>\n",
       "      <td>0.250</td>\n",
       "      <td>3</td>\n",
       "      <td>1</td>\n",
       "      <td>0.0</td>\n",
       "      <td>0.276596</td>\n",
       "      <td>0.478261</td>\n",
       "      <td>0.25</td>\n",
       "    </tr>\n",
       "    <tr>\n",
       "      <th>945</th>\n",
       "      <td>0.666667</td>\n",
       "      <td>2</td>\n",
       "      <td>0.125</td>\n",
       "      <td>2</td>\n",
       "      <td>1</td>\n",
       "      <td>0.0</td>\n",
       "      <td>0.595745</td>\n",
       "      <td>0.586957</td>\n",
       "      <td>0.50</td>\n",
       "    </tr>\n",
       "    <tr>\n",
       "      <th>462</th>\n",
       "      <td>0.416667</td>\n",
       "      <td>0</td>\n",
       "      <td>0.375</td>\n",
       "      <td>0</td>\n",
       "      <td>1</td>\n",
       "      <td>0.0</td>\n",
       "      <td>0.659574</td>\n",
       "      <td>0.673913</td>\n",
       "      <td>0.25</td>\n",
       "    </tr>\n",
       "  </tbody>\n",
       "</table>\n",
       "<p>7145 rows × 9 columns</p>\n",
       "</div>\n",
       "      <button class=\"colab-df-convert\" onclick=\"convertToInteractive('df-f580d5bd-0db2-4aba-9b78-b148e7f4e107')\"\n",
       "              title=\"Convert this dataframe to an interactive table.\"\n",
       "              style=\"display:none;\">\n",
       "        \n",
       "  <svg xmlns=\"http://www.w3.org/2000/svg\" height=\"24px\"viewBox=\"0 0 24 24\"\n",
       "       width=\"24px\">\n",
       "    <path d=\"M0 0h24v24H0V0z\" fill=\"none\"/>\n",
       "    <path d=\"M18.56 5.44l.94 2.06.94-2.06 2.06-.94-2.06-.94-.94-2.06-.94 2.06-2.06.94zm-11 1L8.5 8.5l.94-2.06 2.06-.94-2.06-.94L8.5 2.5l-.94 2.06-2.06.94zm10 10l.94 2.06.94-2.06 2.06-.94-2.06-.94-.94-2.06-.94 2.06-2.06.94z\"/><path d=\"M17.41 7.96l-1.37-1.37c-.4-.4-.92-.59-1.43-.59-.52 0-1.04.2-1.43.59L10.3 9.45l-7.72 7.72c-.78.78-.78 2.05 0 2.83L4 21.41c.39.39.9.59 1.41.59.51 0 1.02-.2 1.41-.59l7.78-7.78 2.81-2.81c.8-.78.8-2.07 0-2.86zM5.41 20L4 18.59l7.72-7.72 1.47 1.35L5.41 20z\"/>\n",
       "  </svg>\n",
       "      </button>\n",
       "      \n",
       "  <style>\n",
       "    .colab-df-container {\n",
       "      display:flex;\n",
       "      flex-wrap:wrap;\n",
       "      gap: 12px;\n",
       "    }\n",
       "\n",
       "    .colab-df-convert {\n",
       "      background-color: #E8F0FE;\n",
       "      border: none;\n",
       "      border-radius: 50%;\n",
       "      cursor: pointer;\n",
       "      display: none;\n",
       "      fill: #1967D2;\n",
       "      height: 32px;\n",
       "      padding: 0 0 0 0;\n",
       "      width: 32px;\n",
       "    }\n",
       "\n",
       "    .colab-df-convert:hover {\n",
       "      background-color: #E2EBFA;\n",
       "      box-shadow: 0px 1px 2px rgba(60, 64, 67, 0.3), 0px 1px 3px 1px rgba(60, 64, 67, 0.15);\n",
       "      fill: #174EA6;\n",
       "    }\n",
       "\n",
       "    [theme=dark] .colab-df-convert {\n",
       "      background-color: #3B4455;\n",
       "      fill: #D2E3FC;\n",
       "    }\n",
       "\n",
       "    [theme=dark] .colab-df-convert:hover {\n",
       "      background-color: #434B5C;\n",
       "      box-shadow: 0px 1px 3px 1px rgba(0, 0, 0, 0.15);\n",
       "      filter: drop-shadow(0px 1px 2px rgba(0, 0, 0, 0.3));\n",
       "      fill: #FFFFFF;\n",
       "    }\n",
       "  </style>\n",
       "\n",
       "      <script>\n",
       "        const buttonEl =\n",
       "          document.querySelector('#df-f580d5bd-0db2-4aba-9b78-b148e7f4e107 button.colab-df-convert');\n",
       "        buttonEl.style.display =\n",
       "          google.colab.kernel.accessAllowed ? 'block' : 'none';\n",
       "\n",
       "        async function convertToInteractive(key) {\n",
       "          const element = document.querySelector('#df-f580d5bd-0db2-4aba-9b78-b148e7f4e107');\n",
       "          const dataTable =\n",
       "            await google.colab.kernel.invokeFunction('convertToInteractive',\n",
       "                                                     [key], {});\n",
       "          if (!dataTable) return;\n",
       "\n",
       "          const docLinkHtml = 'Like what you see? Visit the ' +\n",
       "            '<a target=\"_blank\" href=https://colab.research.google.com/notebooks/data_table.ipynb>data table notebook</a>'\n",
       "            + ' to learn more about interactive tables.';\n",
       "          element.innerHTML = '';\n",
       "          dataTable['output_type'] = 'display_data';\n",
       "          await google.colab.output.renderOutput(dataTable, element);\n",
       "          const docLink = document.createElement('div');\n",
       "          docLink.innerHTML = docLinkHtml;\n",
       "          element.appendChild(docLink);\n",
       "        }\n",
       "      </script>\n",
       "    </div>\n",
       "  </div>\n",
       "  "
      ],
      "text/plain": [
       "           age  continent  contract_until  position  prefer_foot  reputation  \\\n",
       "4464  0.625000          2           0.250         3            1         0.0   \n",
       "2041  0.500000          4           0.625         0            0         0.0   \n",
       "4961  0.333333          2           0.375         0            0         0.0   \n",
       "7040  0.250000          2           0.375         0            0         0.0   \n",
       "6074  0.208333          2           0.375         0            0         0.0   \n",
       "...        ...        ...             ...       ...          ...         ...   \n",
       "7688  0.250000          1           0.500         0            1         0.0   \n",
       "4531  0.500000          2           0.250         0            1         0.0   \n",
       "7588  0.166667          2           0.250         3            1         0.0   \n",
       "945   0.666667          2           0.125         2            1         0.0   \n",
       "462   0.416667          0           0.375         0            1         0.0   \n",
       "\n",
       "      stat_overall  stat_potential  stat_skill_moves  \n",
       "4464      0.425532        0.413043              0.50  \n",
       "2041      0.531915        0.521739              0.50  \n",
       "4961      0.404255        0.478261              0.25  \n",
       "7040      0.319149        0.478261              0.25  \n",
       "6074      0.361702        0.478261              0.25  \n",
       "...            ...             ...               ...  \n",
       "7688      0.276596        0.543478              0.25  \n",
       "4531      0.425532        0.413043              0.25  \n",
       "7588      0.276596        0.478261              0.25  \n",
       "945       0.595745        0.586957              0.50  \n",
       "462       0.659574        0.673913              0.25  \n",
       "\n",
       "[7145 rows x 9 columns]"
      ]
     },
     "execution_count": 35,
     "metadata": {},
     "output_type": "execute_result"
    }
   ],
   "source": [
    "train.info(), test.info()\n",
    "\n",
    "from sklearn.model_selection import train_test_split\n",
    "X = train.drop(['value'],axis=1)\n",
    "y = train['value']\n",
    "\n",
    "# train_test_split\n",
    "X_train, X_test, y_train, y_test = train_test_split(X, y, test_size=0.2)\n",
    "X_train"
   ]
  },
  {
   "cell_type": "code",
   "execution_count": 36,
   "metadata": {
    "colab": {
     "base_uri": "https://localhost:8080/"
    },
    "id": "CGWOYNLaxhNq",
    "outputId": "ea7fc341-b5f9-4369-bc8a-781ab1a228c8"
   },
   "outputs": [
    {
     "name": "stdout",
     "output_type": "stream",
     "text": [
      "(7145, 9)\n",
      "(1787, 9)\n",
      "(7145,)\n",
      "(1787,)\n"
     ]
    }
   ],
   "source": [
    "print(X_train.shape)\n",
    "print(X_test.shape)\n",
    "print(y_train.shape)\n",
    "print(y_test.shape)"
   ]
  },
  {
   "cell_type": "code",
   "execution_count": 37,
   "metadata": {
    "colab": {
     "base_uri": "https://localhost:8080/"
    },
    "id": "TGkCMYieW9Zp",
    "outputId": "66150865-0d39-4537-f410-cea142c44da6"
   },
   "outputs": [
    {
     "data": {
      "text/plain": [
       "4270     975000.0\n",
       "2373    1800000.0\n",
       "5166     825000.0\n",
       "4925     650000.0\n",
       "7284     290000.0\n",
       "Name: value, dtype: float64"
      ]
     },
     "execution_count": 37,
     "metadata": {},
     "output_type": "execute_result"
    }
   ],
   "source": [
    "# y_test 값은 id 삭제 후 array형태로 변형\n",
    "# y_test = y_test.drop('StudentID', axis=1)\n",
    "# y_test= y_test.to_numpy()\n",
    "# y_test\n",
    "y_test.head()"
   ]
  },
  {
   "cell_type": "code",
   "execution_count": 38,
   "metadata": {
    "colab": {
     "base_uri": "https://localhost:8080/"
    },
    "id": "jLsOvm2qK_fN",
    "outputId": "f2753430-2149-46b4-b126-85546d53a8f6"
   },
   "outputs": [
    {
     "data": {
      "text/plain": [
       "array([  975000.,  1800000.,   825000., ...,   180000.,  1000000.,\n",
       "       16000000.])"
      ]
     },
     "execution_count": 38,
     "metadata": {},
     "output_type": "execute_result"
    }
   ],
   "source": [
    "y_test= y_test.to_numpy()\n",
    "y_test"
   ]
  },
  {
   "cell_type": "code",
   "execution_count": 39,
   "metadata": {
    "colab": {
     "base_uri": "https://localhost:8080/",
     "height": 206
    },
    "id": "PbRQMcXV4N5m",
    "outputId": "88f4060f-7dc2-4a68-a80e-bb12e49e8775"
   },
   "outputs": [
    {
     "data": {
      "text/html": [
       "\n",
       "  <div id=\"df-4415c598-a949-491a-a20d-98f295aa0474\">\n",
       "    <div class=\"colab-df-container\">\n",
       "      <div>\n",
       "<style scoped>\n",
       "    .dataframe tbody tr th:only-of-type {\n",
       "        vertical-align: middle;\n",
       "    }\n",
       "\n",
       "    .dataframe tbody tr th {\n",
       "        vertical-align: top;\n",
       "    }\n",
       "\n",
       "    .dataframe thead th {\n",
       "        text-align: right;\n",
       "    }\n",
       "</style>\n",
       "<table border=\"1\" class=\"dataframe\">\n",
       "  <thead>\n",
       "    <tr style=\"text-align: right;\">\n",
       "      <th></th>\n",
       "      <th>age</th>\n",
       "      <th>continent</th>\n",
       "      <th>contract_until</th>\n",
       "      <th>position</th>\n",
       "      <th>prefer_foot</th>\n",
       "      <th>reputation</th>\n",
       "      <th>stat_overall</th>\n",
       "      <th>stat_potential</th>\n",
       "      <th>stat_skill_moves</th>\n",
       "    </tr>\n",
       "  </thead>\n",
       "  <tbody>\n",
       "    <tr>\n",
       "      <th>4464</th>\n",
       "      <td>0.625000</td>\n",
       "      <td>2</td>\n",
       "      <td>0.250</td>\n",
       "      <td>3</td>\n",
       "      <td>1</td>\n",
       "      <td>0.0</td>\n",
       "      <td>0.425532</td>\n",
       "      <td>0.413043</td>\n",
       "      <td>0.50</td>\n",
       "    </tr>\n",
       "    <tr>\n",
       "      <th>2041</th>\n",
       "      <td>0.500000</td>\n",
       "      <td>4</td>\n",
       "      <td>0.625</td>\n",
       "      <td>0</td>\n",
       "      <td>0</td>\n",
       "      <td>0.0</td>\n",
       "      <td>0.531915</td>\n",
       "      <td>0.521739</td>\n",
       "      <td>0.50</td>\n",
       "    </tr>\n",
       "    <tr>\n",
       "      <th>4961</th>\n",
       "      <td>0.333333</td>\n",
       "      <td>2</td>\n",
       "      <td>0.375</td>\n",
       "      <td>0</td>\n",
       "      <td>0</td>\n",
       "      <td>0.0</td>\n",
       "      <td>0.404255</td>\n",
       "      <td>0.478261</td>\n",
       "      <td>0.25</td>\n",
       "    </tr>\n",
       "    <tr>\n",
       "      <th>7040</th>\n",
       "      <td>0.250000</td>\n",
       "      <td>2</td>\n",
       "      <td>0.375</td>\n",
       "      <td>0</td>\n",
       "      <td>0</td>\n",
       "      <td>0.0</td>\n",
       "      <td>0.319149</td>\n",
       "      <td>0.478261</td>\n",
       "      <td>0.25</td>\n",
       "    </tr>\n",
       "    <tr>\n",
       "      <th>6074</th>\n",
       "      <td>0.208333</td>\n",
       "      <td>2</td>\n",
       "      <td>0.375</td>\n",
       "      <td>0</td>\n",
       "      <td>0</td>\n",
       "      <td>0.0</td>\n",
       "      <td>0.361702</td>\n",
       "      <td>0.478261</td>\n",
       "      <td>0.25</td>\n",
       "    </tr>\n",
       "  </tbody>\n",
       "</table>\n",
       "</div>\n",
       "      <button class=\"colab-df-convert\" onclick=\"convertToInteractive('df-4415c598-a949-491a-a20d-98f295aa0474')\"\n",
       "              title=\"Convert this dataframe to an interactive table.\"\n",
       "              style=\"display:none;\">\n",
       "        \n",
       "  <svg xmlns=\"http://www.w3.org/2000/svg\" height=\"24px\"viewBox=\"0 0 24 24\"\n",
       "       width=\"24px\">\n",
       "    <path d=\"M0 0h24v24H0V0z\" fill=\"none\"/>\n",
       "    <path d=\"M18.56 5.44l.94 2.06.94-2.06 2.06-.94-2.06-.94-.94-2.06-.94 2.06-2.06.94zm-11 1L8.5 8.5l.94-2.06 2.06-.94-2.06-.94L8.5 2.5l-.94 2.06-2.06.94zm10 10l.94 2.06.94-2.06 2.06-.94-2.06-.94-.94-2.06-.94 2.06-2.06.94z\"/><path d=\"M17.41 7.96l-1.37-1.37c-.4-.4-.92-.59-1.43-.59-.52 0-1.04.2-1.43.59L10.3 9.45l-7.72 7.72c-.78.78-.78 2.05 0 2.83L4 21.41c.39.39.9.59 1.41.59.51 0 1.02-.2 1.41-.59l7.78-7.78 2.81-2.81c.8-.78.8-2.07 0-2.86zM5.41 20L4 18.59l7.72-7.72 1.47 1.35L5.41 20z\"/>\n",
       "  </svg>\n",
       "      </button>\n",
       "      \n",
       "  <style>\n",
       "    .colab-df-container {\n",
       "      display:flex;\n",
       "      flex-wrap:wrap;\n",
       "      gap: 12px;\n",
       "    }\n",
       "\n",
       "    .colab-df-convert {\n",
       "      background-color: #E8F0FE;\n",
       "      border: none;\n",
       "      border-radius: 50%;\n",
       "      cursor: pointer;\n",
       "      display: none;\n",
       "      fill: #1967D2;\n",
       "      height: 32px;\n",
       "      padding: 0 0 0 0;\n",
       "      width: 32px;\n",
       "    }\n",
       "\n",
       "    .colab-df-convert:hover {\n",
       "      background-color: #E2EBFA;\n",
       "      box-shadow: 0px 1px 2px rgba(60, 64, 67, 0.3), 0px 1px 3px 1px rgba(60, 64, 67, 0.15);\n",
       "      fill: #174EA6;\n",
       "    }\n",
       "\n",
       "    [theme=dark] .colab-df-convert {\n",
       "      background-color: #3B4455;\n",
       "      fill: #D2E3FC;\n",
       "    }\n",
       "\n",
       "    [theme=dark] .colab-df-convert:hover {\n",
       "      background-color: #434B5C;\n",
       "      box-shadow: 0px 1px 3px 1px rgba(0, 0, 0, 0.15);\n",
       "      filter: drop-shadow(0px 1px 2px rgba(0, 0, 0, 0.3));\n",
       "      fill: #FFFFFF;\n",
       "    }\n",
       "  </style>\n",
       "\n",
       "      <script>\n",
       "        const buttonEl =\n",
       "          document.querySelector('#df-4415c598-a949-491a-a20d-98f295aa0474 button.colab-df-convert');\n",
       "        buttonEl.style.display =\n",
       "          google.colab.kernel.accessAllowed ? 'block' : 'none';\n",
       "\n",
       "        async function convertToInteractive(key) {\n",
       "          const element = document.querySelector('#df-4415c598-a949-491a-a20d-98f295aa0474');\n",
       "          const dataTable =\n",
       "            await google.colab.kernel.invokeFunction('convertToInteractive',\n",
       "                                                     [key], {});\n",
       "          if (!dataTable) return;\n",
       "\n",
       "          const docLinkHtml = 'Like what you see? Visit the ' +\n",
       "            '<a target=\"_blank\" href=https://colab.research.google.com/notebooks/data_table.ipynb>data table notebook</a>'\n",
       "            + ' to learn more about interactive tables.';\n",
       "          element.innerHTML = '';\n",
       "          dataTable['output_type'] = 'display_data';\n",
       "          await google.colab.output.renderOutput(dataTable, element);\n",
       "          const docLink = document.createElement('div');\n",
       "          docLink.innerHTML = docLinkHtml;\n",
       "          element.appendChild(docLink);\n",
       "        }\n",
       "      </script>\n",
       "    </div>\n",
       "  </div>\n",
       "  "
      ],
      "text/plain": [
       "           age  continent  contract_until  position  prefer_foot  reputation  \\\n",
       "4464  0.625000          2           0.250         3            1         0.0   \n",
       "2041  0.500000          4           0.625         0            0         0.0   \n",
       "4961  0.333333          2           0.375         0            0         0.0   \n",
       "7040  0.250000          2           0.375         0            0         0.0   \n",
       "6074  0.208333          2           0.375         0            0         0.0   \n",
       "\n",
       "      stat_overall  stat_potential  stat_skill_moves  \n",
       "4464      0.425532        0.413043              0.50  \n",
       "2041      0.531915        0.521739              0.50  \n",
       "4961      0.404255        0.478261              0.25  \n",
       "7040      0.319149        0.478261              0.25  \n",
       "6074      0.361702        0.478261              0.25  "
      ]
     },
     "execution_count": 39,
     "metadata": {},
     "output_type": "execute_result"
    }
   ],
   "source": [
    "X_train.head()"
   ]
  },
  {
   "cell_type": "code",
   "execution_count": 40,
   "metadata": {
    "colab": {
     "base_uri": "https://localhost:8080/",
     "height": 206
    },
    "id": "I5njAzX2seGX",
    "outputId": "326c56d7-8a95-4f6d-fae5-be34e4f4d9e8"
   },
   "outputs": [
    {
     "data": {
      "text/html": [
       "\n",
       "  <div id=\"df-74e1ac19-60b1-4feb-97a5-f80f4dc29882\">\n",
       "    <div class=\"colab-df-container\">\n",
       "      <div>\n",
       "<style scoped>\n",
       "    .dataframe tbody tr th:only-of-type {\n",
       "        vertical-align: middle;\n",
       "    }\n",
       "\n",
       "    .dataframe tbody tr th {\n",
       "        vertical-align: top;\n",
       "    }\n",
       "\n",
       "    .dataframe thead th {\n",
       "        text-align: right;\n",
       "    }\n",
       "</style>\n",
       "<table border=\"1\" class=\"dataframe\">\n",
       "  <thead>\n",
       "    <tr style=\"text-align: right;\">\n",
       "      <th></th>\n",
       "      <th>age</th>\n",
       "      <th>continent</th>\n",
       "      <th>contract_until</th>\n",
       "      <th>position</th>\n",
       "      <th>prefer_foot</th>\n",
       "      <th>reputation</th>\n",
       "      <th>stat_overall</th>\n",
       "      <th>stat_potential</th>\n",
       "      <th>stat_skill_moves</th>\n",
       "    </tr>\n",
       "  </thead>\n",
       "  <tbody>\n",
       "    <tr>\n",
       "      <th>4270</th>\n",
       "      <td>0.375000</td>\n",
       "      <td>2</td>\n",
       "      <td>0.375</td>\n",
       "      <td>2</td>\n",
       "      <td>1</td>\n",
       "      <td>0.0</td>\n",
       "      <td>0.425532</td>\n",
       "      <td>0.500000</td>\n",
       "      <td>0.50</td>\n",
       "    </tr>\n",
       "    <tr>\n",
       "      <th>2373</th>\n",
       "      <td>0.666667</td>\n",
       "      <td>0</td>\n",
       "      <td>0.375</td>\n",
       "      <td>2</td>\n",
       "      <td>1</td>\n",
       "      <td>0.0</td>\n",
       "      <td>0.510638</td>\n",
       "      <td>0.500000</td>\n",
       "      <td>0.50</td>\n",
       "    </tr>\n",
       "    <tr>\n",
       "      <th>5166</th>\n",
       "      <td>0.375000</td>\n",
       "      <td>0</td>\n",
       "      <td>0.250</td>\n",
       "      <td>3</td>\n",
       "      <td>1</td>\n",
       "      <td>0.0</td>\n",
       "      <td>0.404255</td>\n",
       "      <td>0.456522</td>\n",
       "      <td>0.25</td>\n",
       "    </tr>\n",
       "    <tr>\n",
       "      <th>4925</th>\n",
       "      <td>0.375000</td>\n",
       "      <td>2</td>\n",
       "      <td>0.250</td>\n",
       "      <td>0</td>\n",
       "      <td>0</td>\n",
       "      <td>0.0</td>\n",
       "      <td>0.404255</td>\n",
       "      <td>0.434783</td>\n",
       "      <td>0.50</td>\n",
       "    </tr>\n",
       "    <tr>\n",
       "      <th>7284</th>\n",
       "      <td>0.250000</td>\n",
       "      <td>2</td>\n",
       "      <td>0.125</td>\n",
       "      <td>0</td>\n",
       "      <td>1</td>\n",
       "      <td>0.0</td>\n",
       "      <td>0.297872</td>\n",
       "      <td>0.391304</td>\n",
       "      <td>0.25</td>\n",
       "    </tr>\n",
       "  </tbody>\n",
       "</table>\n",
       "</div>\n",
       "      <button class=\"colab-df-convert\" onclick=\"convertToInteractive('df-74e1ac19-60b1-4feb-97a5-f80f4dc29882')\"\n",
       "              title=\"Convert this dataframe to an interactive table.\"\n",
       "              style=\"display:none;\">\n",
       "        \n",
       "  <svg xmlns=\"http://www.w3.org/2000/svg\" height=\"24px\"viewBox=\"0 0 24 24\"\n",
       "       width=\"24px\">\n",
       "    <path d=\"M0 0h24v24H0V0z\" fill=\"none\"/>\n",
       "    <path d=\"M18.56 5.44l.94 2.06.94-2.06 2.06-.94-2.06-.94-.94-2.06-.94 2.06-2.06.94zm-11 1L8.5 8.5l.94-2.06 2.06-.94-2.06-.94L8.5 2.5l-.94 2.06-2.06.94zm10 10l.94 2.06.94-2.06 2.06-.94-2.06-.94-.94-2.06-.94 2.06-2.06.94z\"/><path d=\"M17.41 7.96l-1.37-1.37c-.4-.4-.92-.59-1.43-.59-.52 0-1.04.2-1.43.59L10.3 9.45l-7.72 7.72c-.78.78-.78 2.05 0 2.83L4 21.41c.39.39.9.59 1.41.59.51 0 1.02-.2 1.41-.59l7.78-7.78 2.81-2.81c.8-.78.8-2.07 0-2.86zM5.41 20L4 18.59l7.72-7.72 1.47 1.35L5.41 20z\"/>\n",
       "  </svg>\n",
       "      </button>\n",
       "      \n",
       "  <style>\n",
       "    .colab-df-container {\n",
       "      display:flex;\n",
       "      flex-wrap:wrap;\n",
       "      gap: 12px;\n",
       "    }\n",
       "\n",
       "    .colab-df-convert {\n",
       "      background-color: #E8F0FE;\n",
       "      border: none;\n",
       "      border-radius: 50%;\n",
       "      cursor: pointer;\n",
       "      display: none;\n",
       "      fill: #1967D2;\n",
       "      height: 32px;\n",
       "      padding: 0 0 0 0;\n",
       "      width: 32px;\n",
       "    }\n",
       "\n",
       "    .colab-df-convert:hover {\n",
       "      background-color: #E2EBFA;\n",
       "      box-shadow: 0px 1px 2px rgba(60, 64, 67, 0.3), 0px 1px 3px 1px rgba(60, 64, 67, 0.15);\n",
       "      fill: #174EA6;\n",
       "    }\n",
       "\n",
       "    [theme=dark] .colab-df-convert {\n",
       "      background-color: #3B4455;\n",
       "      fill: #D2E3FC;\n",
       "    }\n",
       "\n",
       "    [theme=dark] .colab-df-convert:hover {\n",
       "      background-color: #434B5C;\n",
       "      box-shadow: 0px 1px 3px 1px rgba(0, 0, 0, 0.15);\n",
       "      filter: drop-shadow(0px 1px 2px rgba(0, 0, 0, 0.3));\n",
       "      fill: #FFFFFF;\n",
       "    }\n",
       "  </style>\n",
       "\n",
       "      <script>\n",
       "        const buttonEl =\n",
       "          document.querySelector('#df-74e1ac19-60b1-4feb-97a5-f80f4dc29882 button.colab-df-convert');\n",
       "        buttonEl.style.display =\n",
       "          google.colab.kernel.accessAllowed ? 'block' : 'none';\n",
       "\n",
       "        async function convertToInteractive(key) {\n",
       "          const element = document.querySelector('#df-74e1ac19-60b1-4feb-97a5-f80f4dc29882');\n",
       "          const dataTable =\n",
       "            await google.colab.kernel.invokeFunction('convertToInteractive',\n",
       "                                                     [key], {});\n",
       "          if (!dataTable) return;\n",
       "\n",
       "          const docLinkHtml = 'Like what you see? Visit the ' +\n",
       "            '<a target=\"_blank\" href=https://colab.research.google.com/notebooks/data_table.ipynb>data table notebook</a>'\n",
       "            + ' to learn more about interactive tables.';\n",
       "          element.innerHTML = '';\n",
       "          dataTable['output_type'] = 'display_data';\n",
       "          await google.colab.output.renderOutput(dataTable, element);\n",
       "          const docLink = document.createElement('div');\n",
       "          docLink.innerHTML = docLinkHtml;\n",
       "          element.appendChild(docLink);\n",
       "        }\n",
       "      </script>\n",
       "    </div>\n",
       "  </div>\n",
       "  "
      ],
      "text/plain": [
       "           age  continent  contract_until  position  prefer_foot  reputation  \\\n",
       "4270  0.375000          2           0.375         2            1         0.0   \n",
       "2373  0.666667          0           0.375         2            1         0.0   \n",
       "5166  0.375000          0           0.250         3            1         0.0   \n",
       "4925  0.375000          2           0.250         0            0         0.0   \n",
       "7284  0.250000          2           0.125         0            1         0.0   \n",
       "\n",
       "      stat_overall  stat_potential  stat_skill_moves  \n",
       "4270      0.425532        0.500000              0.50  \n",
       "2373      0.510638        0.500000              0.50  \n",
       "5166      0.404255        0.456522              0.25  \n",
       "4925      0.404255        0.434783              0.50  \n",
       "7284      0.297872        0.391304              0.25  "
      ]
     },
     "execution_count": 40,
     "metadata": {},
     "output_type": "execute_result"
    }
   ],
   "source": [
    "X_test.head()"
   ]
  },
  {
   "cell_type": "code",
   "execution_count": 41,
   "metadata": {
    "colab": {
     "base_uri": "https://localhost:8080/"
    },
    "id": "uTuugKRWrOj_",
    "outputId": "b93f488f-ba35-4bc4-9f5e-a26267f8c352"
   },
   "outputs": [
    {
     "data": {
      "text/plain": [
       "0        L. Messi\n",
       "1          De Gea\n",
       "2       L. Suárez\n",
       "3    Sergio Ramos\n",
       "4        J. Oblak\n",
       "Name: name, dtype: object"
      ]
     },
     "execution_count": 41,
     "metadata": {},
     "output_type": "execute_result"
    }
   ],
   "source": [
    "test_id.head()"
   ]
  },
  {
   "cell_type": "code",
   "execution_count": 42,
   "metadata": {
    "colab": {
     "base_uri": "https://localhost:8080/"
    },
    "id": "iZj6W94ksKaN",
    "outputId": "11466e55-47eb-4575-9592-0f2bedf5c807"
   },
   "outputs": [
    {
     "data": {
      "text/plain": [
       "4464     675000.0\n",
       "2041    2500000.0\n",
       "4961     700000.0\n",
       "7040     375000.0\n",
       "6074     525000.0\n",
       "Name: value, dtype: float64"
      ]
     },
     "execution_count": 42,
     "metadata": {},
     "output_type": "execute_result"
    }
   ],
   "source": [
    "y_train.head()"
   ]
  },
  {
   "cell_type": "markdown",
   "metadata": {
    "id": "L0fQhg-pulHE"
   },
   "source": [
    "## RandomForestRegressor"
   ]
  },
  {
   "cell_type": "code",
   "execution_count": 46,
   "metadata": {
    "colab": {
     "base_uri": "https://localhost:8080/"
    },
    "id": "jgLN8LzSLpgr",
    "outputId": "6b993328-8acf-4785-c17f-61a5e8f4cb4b"
   },
   "outputs": [
    {
     "data": {
      "text/plain": [
       "Index(['age', 'continent', 'contract_until', 'position', 'prefer_foot',\n",
       "       'reputation', 'stat_overall', 'stat_potential', 'stat_skill_moves'],\n",
       "      dtype='object')"
      ]
     },
     "execution_count": 46,
     "metadata": {},
     "output_type": "execute_result"
    }
   ],
   "source": [
    "X_train.columns"
   ]
  },
  {
   "cell_type": "code",
   "execution_count": 47,
   "metadata": {
    "colab": {
     "base_uri": "https://localhost:8080/",
     "height": 423
    },
    "id": "KZJq5O71LfTf",
    "outputId": "d3695e2b-696f-4d0d-afa3-6c9319be906d"
   },
   "outputs": [
    {
     "data": {
      "text/html": [
       "\n",
       "  <div id=\"df-76c5a307-4a96-4813-9a5f-706ab117d0ff\">\n",
       "    <div class=\"colab-df-container\">\n",
       "      <div>\n",
       "<style scoped>\n",
       "    .dataframe tbody tr th:only-of-type {\n",
       "        vertical-align: middle;\n",
       "    }\n",
       "\n",
       "    .dataframe tbody tr th {\n",
       "        vertical-align: top;\n",
       "    }\n",
       "\n",
       "    .dataframe thead th {\n",
       "        text-align: right;\n",
       "    }\n",
       "</style>\n",
       "<table border=\"1\" class=\"dataframe\">\n",
       "  <thead>\n",
       "    <tr style=\"text-align: right;\">\n",
       "      <th></th>\n",
       "      <th>age</th>\n",
       "      <th>continent</th>\n",
       "      <th>contract_until</th>\n",
       "      <th>position</th>\n",
       "      <th>prefer_foot</th>\n",
       "      <th>reputation</th>\n",
       "      <th>stat_overall</th>\n",
       "      <th>stat_potential</th>\n",
       "      <th>stat_skill_moves</th>\n",
       "    </tr>\n",
       "  </thead>\n",
       "  <tbody>\n",
       "    <tr>\n",
       "      <th>0</th>\n",
       "      <td>0.625000</td>\n",
       "      <td>4</td>\n",
       "      <td>0.375</td>\n",
       "      <td>3</td>\n",
       "      <td>0</td>\n",
       "      <td>1.00</td>\n",
       "      <td>1.000000</td>\n",
       "      <td>1.000000</td>\n",
       "      <td>0.75</td>\n",
       "    </tr>\n",
       "    <tr>\n",
       "      <th>1</th>\n",
       "      <td>0.458333</td>\n",
       "      <td>2</td>\n",
       "      <td>0.250</td>\n",
       "      <td>1</td>\n",
       "      <td>1</td>\n",
       "      <td>0.75</td>\n",
       "      <td>0.936170</td>\n",
       "      <td>0.978261</td>\n",
       "      <td>0.00</td>\n",
       "    </tr>\n",
       "    <tr>\n",
       "      <th>2</th>\n",
       "      <td>0.625000</td>\n",
       "      <td>4</td>\n",
       "      <td>0.375</td>\n",
       "      <td>3</td>\n",
       "      <td>1</td>\n",
       "      <td>1.00</td>\n",
       "      <td>0.936170</td>\n",
       "      <td>0.934783</td>\n",
       "      <td>0.50</td>\n",
       "    </tr>\n",
       "    <tr>\n",
       "      <th>3</th>\n",
       "      <td>0.666667</td>\n",
       "      <td>2</td>\n",
       "      <td>0.250</td>\n",
       "      <td>0</td>\n",
       "      <td>1</td>\n",
       "      <td>0.75</td>\n",
       "      <td>0.936170</td>\n",
       "      <td>0.934783</td>\n",
       "      <td>0.50</td>\n",
       "    </tr>\n",
       "    <tr>\n",
       "      <th>4</th>\n",
       "      <td>0.375000</td>\n",
       "      <td>2</td>\n",
       "      <td>0.375</td>\n",
       "      <td>1</td>\n",
       "      <td>1</td>\n",
       "      <td>0.50</td>\n",
       "      <td>0.914894</td>\n",
       "      <td>0.978261</td>\n",
       "      <td>0.00</td>\n",
       "    </tr>\n",
       "    <tr>\n",
       "      <th>...</th>\n",
       "      <td>...</td>\n",
       "      <td>...</td>\n",
       "      <td>...</td>\n",
       "      <td>...</td>\n",
       "      <td>...</td>\n",
       "      <td>...</td>\n",
       "      <td>...</td>\n",
       "      <td>...</td>\n",
       "      <td>...</td>\n",
       "    </tr>\n",
       "    <tr>\n",
       "      <th>8927</th>\n",
       "      <td>0.083333</td>\n",
       "      <td>0</td>\n",
       "      <td>0.125</td>\n",
       "      <td>2</td>\n",
       "      <td>1</td>\n",
       "      <td>0.00</td>\n",
       "      <td>0.021277</td>\n",
       "      <td>0.326087</td>\n",
       "      <td>0.50</td>\n",
       "    </tr>\n",
       "    <tr>\n",
       "      <th>8928</th>\n",
       "      <td>0.125000</td>\n",
       "      <td>2</td>\n",
       "      <td>0.250</td>\n",
       "      <td>0</td>\n",
       "      <td>1</td>\n",
       "      <td>0.00</td>\n",
       "      <td>0.000000</td>\n",
       "      <td>0.239130</td>\n",
       "      <td>0.25</td>\n",
       "    </tr>\n",
       "    <tr>\n",
       "      <th>8929</th>\n",
       "      <td>0.083333</td>\n",
       "      <td>4</td>\n",
       "      <td>0.375</td>\n",
       "      <td>0</td>\n",
       "      <td>1</td>\n",
       "      <td>0.00</td>\n",
       "      <td>0.000000</td>\n",
       "      <td>0.347826</td>\n",
       "      <td>0.25</td>\n",
       "    </tr>\n",
       "    <tr>\n",
       "      <th>8930</th>\n",
       "      <td>0.083333</td>\n",
       "      <td>2</td>\n",
       "      <td>0.375</td>\n",
       "      <td>1</td>\n",
       "      <td>1</td>\n",
       "      <td>0.00</td>\n",
       "      <td>0.000000</td>\n",
       "      <td>0.369565</td>\n",
       "      <td>0.00</td>\n",
       "    </tr>\n",
       "    <tr>\n",
       "      <th>8931</th>\n",
       "      <td>0.125000</td>\n",
       "      <td>2</td>\n",
       "      <td>0.250</td>\n",
       "      <td>3</td>\n",
       "      <td>1</td>\n",
       "      <td>0.00</td>\n",
       "      <td>0.000000</td>\n",
       "      <td>0.326087</td>\n",
       "      <td>0.25</td>\n",
       "    </tr>\n",
       "  </tbody>\n",
       "</table>\n",
       "<p>8932 rows × 9 columns</p>\n",
       "</div>\n",
       "      <button class=\"colab-df-convert\" onclick=\"convertToInteractive('df-76c5a307-4a96-4813-9a5f-706ab117d0ff')\"\n",
       "              title=\"Convert this dataframe to an interactive table.\"\n",
       "              style=\"display:none;\">\n",
       "        \n",
       "  <svg xmlns=\"http://www.w3.org/2000/svg\" height=\"24px\"viewBox=\"0 0 24 24\"\n",
       "       width=\"24px\">\n",
       "    <path d=\"M0 0h24v24H0V0z\" fill=\"none\"/>\n",
       "    <path d=\"M18.56 5.44l.94 2.06.94-2.06 2.06-.94-2.06-.94-.94-2.06-.94 2.06-2.06.94zm-11 1L8.5 8.5l.94-2.06 2.06-.94-2.06-.94L8.5 2.5l-.94 2.06-2.06.94zm10 10l.94 2.06.94-2.06 2.06-.94-2.06-.94-.94-2.06-.94 2.06-2.06.94z\"/><path d=\"M17.41 7.96l-1.37-1.37c-.4-.4-.92-.59-1.43-.59-.52 0-1.04.2-1.43.59L10.3 9.45l-7.72 7.72c-.78.78-.78 2.05 0 2.83L4 21.41c.39.39.9.59 1.41.59.51 0 1.02-.2 1.41-.59l7.78-7.78 2.81-2.81c.8-.78.8-2.07 0-2.86zM5.41 20L4 18.59l7.72-7.72 1.47 1.35L5.41 20z\"/>\n",
       "  </svg>\n",
       "      </button>\n",
       "      \n",
       "  <style>\n",
       "    .colab-df-container {\n",
       "      display:flex;\n",
       "      flex-wrap:wrap;\n",
       "      gap: 12px;\n",
       "    }\n",
       "\n",
       "    .colab-df-convert {\n",
       "      background-color: #E8F0FE;\n",
       "      border: none;\n",
       "      border-radius: 50%;\n",
       "      cursor: pointer;\n",
       "      display: none;\n",
       "      fill: #1967D2;\n",
       "      height: 32px;\n",
       "      padding: 0 0 0 0;\n",
       "      width: 32px;\n",
       "    }\n",
       "\n",
       "    .colab-df-convert:hover {\n",
       "      background-color: #E2EBFA;\n",
       "      box-shadow: 0px 1px 2px rgba(60, 64, 67, 0.3), 0px 1px 3px 1px rgba(60, 64, 67, 0.15);\n",
       "      fill: #174EA6;\n",
       "    }\n",
       "\n",
       "    [theme=dark] .colab-df-convert {\n",
       "      background-color: #3B4455;\n",
       "      fill: #D2E3FC;\n",
       "    }\n",
       "\n",
       "    [theme=dark] .colab-df-convert:hover {\n",
       "      background-color: #434B5C;\n",
       "      box-shadow: 0px 1px 3px 1px rgba(0, 0, 0, 0.15);\n",
       "      filter: drop-shadow(0px 1px 2px rgba(0, 0, 0, 0.3));\n",
       "      fill: #FFFFFF;\n",
       "    }\n",
       "  </style>\n",
       "\n",
       "      <script>\n",
       "        const buttonEl =\n",
       "          document.querySelector('#df-76c5a307-4a96-4813-9a5f-706ab117d0ff button.colab-df-convert');\n",
       "        buttonEl.style.display =\n",
       "          google.colab.kernel.accessAllowed ? 'block' : 'none';\n",
       "\n",
       "        async function convertToInteractive(key) {\n",
       "          const element = document.querySelector('#df-76c5a307-4a96-4813-9a5f-706ab117d0ff');\n",
       "          const dataTable =\n",
       "            await google.colab.kernel.invokeFunction('convertToInteractive',\n",
       "                                                     [key], {});\n",
       "          if (!dataTable) return;\n",
       "\n",
       "          const docLinkHtml = 'Like what you see? Visit the ' +\n",
       "            '<a target=\"_blank\" href=https://colab.research.google.com/notebooks/data_table.ipynb>data table notebook</a>'\n",
       "            + ' to learn more about interactive tables.';\n",
       "          element.innerHTML = '';\n",
       "          dataTable['output_type'] = 'display_data';\n",
       "          await google.colab.output.renderOutput(dataTable, element);\n",
       "          const docLink = document.createElement('div');\n",
       "          docLink.innerHTML = docLinkHtml;\n",
       "          element.appendChild(docLink);\n",
       "        }\n",
       "      </script>\n",
       "    </div>\n",
       "  </div>\n",
       "  "
      ],
      "text/plain": [
       "           age  continent  contract_until  position  prefer_foot  reputation  \\\n",
       "0     0.625000          4           0.375         3            0        1.00   \n",
       "1     0.458333          2           0.250         1            1        0.75   \n",
       "2     0.625000          4           0.375         3            1        1.00   \n",
       "3     0.666667          2           0.250         0            1        0.75   \n",
       "4     0.375000          2           0.375         1            1        0.50   \n",
       "...        ...        ...             ...       ...          ...         ...   \n",
       "8927  0.083333          0           0.125         2            1        0.00   \n",
       "8928  0.125000          2           0.250         0            1        0.00   \n",
       "8929  0.083333          4           0.375         0            1        0.00   \n",
       "8930  0.083333          2           0.375         1            1        0.00   \n",
       "8931  0.125000          2           0.250         3            1        0.00   \n",
       "\n",
       "      stat_overall  stat_potential  stat_skill_moves  \n",
       "0         1.000000        1.000000              0.75  \n",
       "1         0.936170        0.978261              0.00  \n",
       "2         0.936170        0.934783              0.50  \n",
       "3         0.936170        0.934783              0.50  \n",
       "4         0.914894        0.978261              0.00  \n",
       "...            ...             ...               ...  \n",
       "8927      0.021277        0.326087              0.50  \n",
       "8928      0.000000        0.239130              0.25  \n",
       "8929      0.000000        0.347826              0.25  \n",
       "8930      0.000000        0.369565              0.00  \n",
       "8931      0.000000        0.326087              0.25  \n",
       "\n",
       "[8932 rows x 9 columns]"
      ]
     },
     "execution_count": 47,
     "metadata": {},
     "output_type": "execute_result"
    }
   ],
   "source": [
    "test[['age', 'continent', 'contract_until', 'position', 'prefer_foot',\n",
    "       'reputation', 'stat_overall', 'stat_potential', 'stat_skill_moves']]"
   ]
  },
  {
   "cell_type": "code",
   "execution_count": 61,
   "metadata": {
    "colab": {
     "base_uri": "https://localhost:8080/"
    },
    "id": "akqH5sCLui58",
    "outputId": "af41de17-03bb-4b7d-f374-f2760abd395f"
   },
   "outputs": [
    {
     "data": {
      "text/plain": [
       "array([  921943.05555556,  1810000.        ,   771000.        , ...,\n",
       "         184600.        ,  1034666.66666667, 17208333.33333333])"
      ]
     },
     "execution_count": 61,
     "metadata": {},
     "output_type": "execute_result"
    }
   ],
   "source": [
    "from sklearn.ensemble import RandomForestRegressor\n",
    "rf = RandomForestRegressor(n_estimators=300)\n",
    "rf.fit(X_train,y_train)\n",
    "pred1=rf.predict(X_test)\n",
    "pred1"
   ]
  },
  {
   "cell_type": "code",
   "execution_count": 62,
   "metadata": {
    "colab": {
     "base_uri": "https://localhost:8080/"
    },
    "id": "MVFLqIHJfBBc",
    "outputId": "940ea709-e0af-4a64-d596-22ea3a39bec3"
   },
   "outputs": [
    {
     "data": {
      "text/plain": [
       "(1787,)"
      ]
     },
     "execution_count": 62,
     "metadata": {},
     "output_type": "execute_result"
    }
   ],
   "source": [
    "pred1.shape"
   ]
  },
  {
   "cell_type": "code",
   "execution_count": 63,
   "metadata": {
    "colab": {
     "base_uri": "https://localhost:8080/"
    },
    "id": "dGxkRQkffC5a",
    "outputId": "de1f9766-df1c-45ea-cbd0-6c8704c41457"
   },
   "outputs": [
    {
     "data": {
      "text/plain": [
       "(1787, 9)"
      ]
     },
     "execution_count": 63,
     "metadata": {},
     "output_type": "execute_result"
    }
   ],
   "source": [
    "X_test.shape"
   ]
  },
  {
   "cell_type": "code",
   "execution_count": 64,
   "metadata": {
    "colab": {
     "base_uri": "https://localhost:8080/"
    },
    "id": "EfT_NwYEfHKT",
    "outputId": "453ab814-2d22-41cb-f2a9-4279e9f7ea4b"
   },
   "outputs": [
    {
     "data": {
      "text/plain": [
       "(1787,)"
      ]
     },
     "execution_count": 64,
     "metadata": {},
     "output_type": "execute_result"
    }
   ],
   "source": [
    "y_test.shape"
   ]
  },
  {
   "cell_type": "code",
   "execution_count": 65,
   "metadata": {
    "colab": {
     "base_uri": "https://localhost:8080/"
    },
    "id": "8kDTxT0rfSQN",
    "outputId": "bfe778fe-c103-473d-d480-0e6478ba75d0"
   },
   "outputs": [
    {
     "data": {
      "text/plain": [
       "array([9.17416667e+07, 6.77450000e+07, 6.25583333e+07, ...,\n",
       "       5.37000000e+04, 5.12333333e+04, 5.99666667e+04])"
      ]
     },
     "execution_count": 65,
     "metadata": {},
     "output_type": "execute_result"
    }
   ],
   "source": [
    "from sklearn.ensemble import RandomForestRegressor\n",
    "rf = RandomForestRegressor(n_estimators=300)\n",
    "rf.fit(X_train,y_train)\n",
    "pred2=rf.predict(test[['age', 'continent', 'contract_until', 'position', 'prefer_foot',\n",
    "       'reputation', 'stat_overall', 'stat_potential', 'stat_skill_moves']])\n",
    "pred2"
   ]
  },
  {
   "cell_type": "code",
   "execution_count": 66,
   "metadata": {
    "colab": {
     "base_uri": "https://localhost:8080/"
    },
    "id": "T-2VKUIS_kb0",
    "outputId": "91b576a4-9a5a-4fd6-bcb1-e1aa9f2b55a0"
   },
   "outputs": [
    {
     "data": {
      "text/plain": [
       "(8932, 10)"
      ]
     },
     "execution_count": 66,
     "metadata": {},
     "output_type": "execute_result"
    }
   ],
   "source": [
    "test.shape"
   ]
  },
  {
   "cell_type": "code",
   "execution_count": 67,
   "metadata": {
    "colab": {
     "base_uri": "https://localhost:8080/"
    },
    "id": "K_BwimOy5I50",
    "outputId": "e95a5bbb-a71f-4859-c7de-ea14c9773e3c"
   },
   "outputs": [
    {
     "name": "stdout",
     "output_type": "stream",
     "text": [
      "0.9961789881465981\n"
     ]
    }
   ],
   "source": [
    "#accuracy_score는 분류모델\n",
    "#from sklearn.metrics import accuracy_score\n",
    "#print('rf:',accuracy_score(y_test,pred1))\n",
    "print(rf.score(X_train,y_train))"
   ]
  },
  {
   "cell_type": "code",
   "execution_count": 68,
   "metadata": {
    "colab": {
     "base_uri": "https://localhost:8080/"
    },
    "id": "aJAIjacf53zd",
    "outputId": "80edcf7f-03b7-4eca-f4e8-ca2cba579d58"
   },
   "outputs": [
    {
     "name": "stdout",
     "output_type": "stream",
     "text": [
      "0.9831343046470158\n"
     ]
    }
   ],
   "source": [
    "from sklearn.metrics import r2_score\n",
    "print(r2_score(y_test, pred1))\n",
    "\n",
    "# pred_test = rf.predict(X_test)\n",
    "# print(r2_score(y_test.G3, pred_test))"
   ]
  },
  {
   "cell_type": "markdown",
   "metadata": {
    "id": "xZU3SFSGYSEC"
   },
   "source": [
    "## 모델 성능 평가 함수 생성\n"
   ]
  },
  {
   "cell_type": "code",
   "execution_count": 69,
   "metadata": {
    "colab": {
     "base_uri": "https://localhost:8080/"
    },
    "id": "mYvkT0HHYRaQ",
    "outputId": "c46fb1c9-d563-480a-867c-7bc624a08d22"
   },
   "outputs": [
    {
     "data": {
      "text/plain": [
       "LGBMRegressor(max_depth=3, metric='mse', n_estimate=400, randomstate=1)"
      ]
     },
     "execution_count": 69,
     "metadata": {},
     "output_type": "execute_result"
    }
   ],
   "source": [
    "from lightgbm import LGBMRegressor\n",
    "lgbm = LGBMRegressor(max_depth = 3, n_estimate = 400, learning_rate = 0.1,\n",
    "                     metric = 'mse', randomstate=1)\n",
    "lgbm.fit(X_train, y_train)\n",
    "\n"
   ]
  },
  {
   "cell_type": "code",
   "execution_count": 70,
   "metadata": {
    "id": "jFz3LAv4b3Jt"
   },
   "outputs": [],
   "source": [
    "def regression_scores(y_true, y_pred) :\n",
    "  import numpy as np\n",
    "  from sklearn.metrics import mean_squared_error, r2_score, mean_absolute_error\n",
    "  \n",
    "  MSE = mean_squared_error(y_true, y_pred)\n",
    "  RMSE = np.sqrt(mean_squared_error(y_true,y_pred))\n",
    "  MAE = np.mean( np.abs((y_true - y_pred) / y_true) )\n",
    "  NMAE =mean_absolute_error(y_true, y_pred)/ np.mean( np.abs(y_true) )\n",
    "  MAPE = np.mean( np.abs((y_true - y_pred) / y_true) ) *100\n",
    "  R2 = r2_score(y_true, y_pred)\n",
    "  return {'MSE' : np.round(MSE, 3), \n",
    "          'RMSE' : np.round(RMSE, 3),\n",
    "          'MAE' : np.round(MAE, 3),\n",
    "          'NMAE' : np.round(NMAE, 3),\n",
    "          'MAPE' : np.round(MAPE, 3),\n",
    "          'R2' : np.round(R2, 3)}"
   ]
  },
  {
   "cell_type": "code",
   "execution_count": 71,
   "metadata": {
    "colab": {
     "base_uri": "https://localhost:8080/"
    },
    "id": "bpgbmqY3arKG",
    "outputId": "d1c31e35-0fd2-4227-8056-f8a51ba8d6bb"
   },
   "outputs": [
    {
     "data": {
      "text/plain": [
       "{'MSE': 528524499056.009,\n",
       " 'RMSE': 726996.904,\n",
       " 'MAE': 0.236,\n",
       " 'NMAE': 0.094,\n",
       " 'MAPE': 23.557,\n",
       " 'R2': 0.984}"
      ]
     },
     "execution_count": 71,
     "metadata": {},
     "output_type": "execute_result"
    }
   ],
   "source": [
    "# 모델 성능 평가\n",
    "y_pred = lgbm.predict(X_test)\n",
    "regression_scores(y_test, y_pred)\n",
    "#"
   ]
  },
  {
   "cell_type": "code",
   "execution_count": 72,
   "metadata": {
    "colab": {
     "base_uri": "https://localhost:8080/"
    },
    "id": "Va_OIWQiebLv",
    "outputId": "2a8a7270-4fbe-46b0-9089-15b665a6d26b"
   },
   "outputs": [
    {
     "data": {
      "text/plain": [
       "(8932,)"
      ]
     },
     "execution_count": 72,
     "metadata": {},
     "output_type": "execute_result"
    }
   ],
   "source": [
    "test_id.shape"
   ]
  },
  {
   "cell_type": "code",
   "execution_count": 73,
   "metadata": {
    "colab": {
     "base_uri": "https://localhost:8080/"
    },
    "id": "-zmBhOHHebNt",
    "outputId": "d90c7377-3f0e-448a-86c9-d4c7b29a956c"
   },
   "outputs": [
    {
     "data": {
      "text/plain": [
       "(1787,)"
      ]
     },
     "execution_count": 73,
     "metadata": {},
     "output_type": "execute_result"
    }
   ],
   "source": [
    "pred1.shape"
   ]
  },
  {
   "cell_type": "markdown",
   "metadata": {
    "id": "xtAr4YsiMLUy"
   },
   "source": [
    "## 새롭게 추가\n"
   ]
  },
  {
   "cell_type": "code",
   "execution_count": 74,
   "metadata": {
    "id": "-P6QKlGzMH8X"
   },
   "outputs": [],
   "source": [
    "# 전체 test 데이터에 대한 pred\n",
    "full_pred = lgbm.predict(test[['age', 'continent', 'contract_until', 'position', 'prefer_foot',\n",
    "       'reputation', 'stat_overall', 'stat_potential', 'stat_skill_moves']])"
   ]
  },
  {
   "cell_type": "code",
   "execution_count": 75,
   "metadata": {
    "colab": {
     "base_uri": "https://localhost:8080/"
    },
    "id": "h9Pitey7MUAN",
    "outputId": "e10186f1-36ef-4c44-abac-15f4ea4ada05"
   },
   "outputs": [
    {
     "data": {
      "text/plain": [
       "array([73112302.49070653, 59491520.19072849, 67154031.53845203, ...,\n",
       "         141654.47816796,   150720.49715824,   219429.96647784])"
      ]
     },
     "execution_count": 75,
     "metadata": {},
     "output_type": "execute_result"
    }
   ],
   "source": [
    "full_pred"
   ]
  },
  {
   "cell_type": "code",
   "execution_count": 76,
   "metadata": {
    "colab": {
     "base_uri": "https://localhost:8080/"
    },
    "id": "XQyP7u5bv086",
    "outputId": "33fc1143-6e57-47d3-edf5-a5cd06a5be2d"
   },
   "outputs": [
    {
     "name": "stdout",
     "output_type": "stream",
     "text": [
      "        ID            G3\n",
      "0        0  7.311230e+07\n",
      "1        1  5.949152e+07\n",
      "2        2  6.715403e+07\n",
      "3        3  5.226749e+07\n",
      "4        4  5.908754e+07\n",
      "...    ...           ...\n",
      "8927  8927  2.804758e+05\n",
      "8928  8928  1.606790e+05\n",
      "8929  8929  1.416545e+05\n",
      "8930  8930  1.507205e+05\n",
      "8931  8931  2.194300e+05\n",
      "\n",
      "[8932 rows x 2 columns]\n"
     ]
    }
   ],
   "source": [
    "pd.DataFrame({'ID' : test_id.index, 'G3' : full_pred}).to_csv('Fifa.csv', index =False)\n",
    "result = pd.read_csv('Fifa.csv')\n",
    "print(result)"
   ]
  },
  {
   "cell_type": "code",
   "execution_count": null,
   "metadata": {
    "id": "VpzIaEPT3Vqd"
   },
   "outputs": [],
   "source": [
    "import pandas as pd\n",
    "\n",
    "x_train =  pd.read_csv('data/X_train.csv')\n",
    "y_train =  pd.read_csv('data/y_train.csv')\n",
    "x_test = pd.read_csv('data/X_test.csv')\n",
    "\n",
    "x_test_id = x_test['StudentID']\n",
    "\n",
    "# x_train['G12'] = x_train['G1'] + x_train['G2'] \n",
    "# x_test['G12'] = x_test['G1'] + x_test['G2'] \n",
    "\n",
    "x_train = x_train.drop(columns=['StudentID','sex','age','freetime','famrel','Dalc','romantic'])\n",
    "x_test = x_test.drop(columns=['StudentID','sex','age','freetime','famrel','Dalc','romantic'])\n",
    "y_train = y_train.drop(columns='StudentID')\n",
    "\n",
    "x_train = pd.get_dummies(x_train)\n",
    "x_test = pd.get_dummies(x_test)\n",
    "\n",
    "\n",
    "from sklearn.model_selection import train_test_split\n",
    "X_TRAIN, X_TEST, Y_TRAIN, Y_TEST = train_test_split(x_train, y_train, test_size = 0.2, random_state = 10 )\n",
    "\n",
    "from sklearn.ensemble import RandomForestRegressor\n",
    "model = RandomForestRegressor(random_state = 10)\n",
    "model.fit(X_TRAIN, Y_TRAIN)\n",
    "Y_TEST_PREDICT = model.predict(X_TEST)\n",
    "Y_TEST_PREDICT = Y_TEST_PREDICT.astype('int64')\n",
    "y_test_predict = model.predict(x_test)\n",
    "y_test_predict = y_test_predict.astype('int64')\n",
    "y_test_predict = pd.DataFrame(y_test_predict)\n",
    "\n",
    "\n",
    "from sklearn.metrics import r2_score\n",
    "print(r2_score(Y_TEST_PREDICT, Y_TEST))\n",
    "\n",
    "result = pd.concat([x_test_id, y_test_predict], axis=1)\n",
    "result.columns = ['StudentID','G3']\n",
    "result.to_csv('data/12345.csv', index=False)\n",
    "result = pd.read_csv('data/12345.csv')\n",
    "\n",
    "print(result)"
   ]
  },
  {
   "cell_type": "code",
   "execution_count": null,
   "metadata": {
    "id": "2nEAkhs5_oOd"
   },
   "outputs": [],
   "source": []
  },
  {
   "cell_type": "code",
   "execution_count": null,
   "metadata": {
    "id": "s7TvdJCo_oQ6"
   },
   "outputs": [],
   "source": [
    "Dacon FIFA Player Values prediction\n",
    "Dacon 해외 축구 선수 이적료 예측 미션\n",
    "\n",
    "데이터 셋 기본 정보\n",
    "종속변수(y) : value(연속형변수)\n",
    "독립변수(x)\n",
    "- 연속형 변수\n",
    "  age, stat_overall, stat_potential\n",
    "- 비연속형 변수(범주형 변수)\n",
    "  contract_until, continent, position, prefer_foot, reputation, stat_skill_moves\n",
    "EDA(Exploratory Data Analysis, 탐색적 데이터 분석)\n",
    "- contract_until\n",
    "# 계약기간 변수는 숫자와 문자로 결합 되어 있는 변수이다. 이를 처리 하기위해 문자를 숫자 포함하고 있는 변수들로 아래와 같이 처리 하였다.\n",
    "comdata[\"contract_until\"] = comdata[\"contract_until\"].str.slice(-4,)\n",
    "comdata[\"contract_until\"]\n",
    "# 위와 같이 변수를 전처리 후에 계약기간 변수의 범주 마다 빈도를 확인하면 2024년 이후의 범주는 2023년 이전 범주보다\n",
    "# 빈도가 꽤 낮은 것을 확인 할 수 있다. 이와 같은 이유때문에 2024년 이후 범주는 모두 2024년으로 아래와 같이 통일 시켰다.\n",
    "comdata.loc[comdata[\"contract_until\"] == \"2025\", \"contract_until\"] = \"2024\"\n",
    "comdata.loc[comdata[\"contract_until\"] == \"2026\", \"contract_until\"] = \"2024\"\n",
    "\n",
    "- continent\n",
    "# 대륙 변수의 범주별 빈도를 확인 하면 오세아니아가 상대적으로 빈도가 작은 걸 확인 할 수 있지만\n",
    "# 다른 빈도와 합치는 것은 모델링을 통해 RMSE점수를 확인 하고 시도해 볼 필요가 있다.\n",
    "\n",
    "- position\n",
    "# 포지션 변수는 당연하게도 골키퍼 포지션의 빈도수가 가장 작다.\n",
    "# 선수들은 포지션별로 가지는 특성이 다르기 때문에 본래대로 분류해서 사용할 필요가 있다.\n",
    "\n",
    "- prefer_foot\n",
    "# 왼발잡이가 상대적으로 오른발잡이 보다 빈도가 작다.\n",
    "# ttest를 통해 왼발과 오른발의 선수가치 평균을 확인 해보면 차이가 없는 것을 확인해 볼수있다.\n",
    "# 범주형 변수를 분석에 사용하기 위해서는 더미변수를 사용해 전처리가 필요한데, 이진속성 변수는 변수를 0,1로 변환해주면 된다.\n",
    "# replace 여러개의 변수를 처리 할 때는 [](리스트)를 사용하면 된다.\n",
    "comdata[\"prefer_foot\"] = comdata[\"prefer_foot\"].replace([\"right\", \"left\"], [0, 1])\n",
    "\n",
    "- reputation\n",
    "# 선수명성 변수는 숫자로 되어 있지만 1 ~ 5사이의 범주로 설정이 되어 있어 있는 범주형 변수이다.\n",
    "# 5점 범주가 많이 작은 빈도를 보인다. 이는 연속형 변수로 보면 이상치가 될 수도 있다. 실제 \n",
    "# 모델링을 통해 예측력을 높이기 위한 전처리 과정 중 하나가 될 수 있다.\n",
    "\n",
    "- stat_skill_moves\n",
    "# 개인기 변수는 선수명성 변수와 같은 숫자로 되어 있지만 1 ~ 5사이 5점척도로 되어 있는 범주형변수이다.\n",
    "# 또한, 5점 범주가 많이 작은 빈도를 보인다. 선수명성과 같이 전처리 과정 중 하나가 될 수 있다.\n",
    "\n",
    "- age\n",
    "# distplot으로 분포를 확인해보면 정규성을 보이는 것을 볼 수 있고 boxplot을 통해 이상치를\n",
    "# 확인해 보면 이상치가 존재 하는걸 볼 수 있다. 이상치를 해결 하기위한 전처리 과정이 필요하다.\n",
    "\n",
    "- stat_overall, stat_potential\n",
    "# 오버롤, 포텐션 변수를 displot으로 분포를 확인해 보면 평균보다 중앙값, 최빈수가 큰 정적편포를 보인다.\n",
    "# 또한, boxplot을 사용해 이상치를 확인해 보면 이상치가 존재 하는걸 불 수 있다. 이는 이상치를 해결 하기 위해\n",
    "# 전처리 과정이 필요하다는 것을 나타낸다.\n",
    "데이터 전처리\n",
    "# age, stat_overall, stat_potential 변수는 RobustScaler를 사용해 표준화를 하였다.\n",
    "# RobustScaler : 특성들이 같은 스케일을 갖게 된다는 통계적 측면에서는 StandardScaler와 비슷하다.\n",
    "# 하지만 평균과 분산대신 중간값과 사분위값을 사용해 이상치에 영향을 받지 않는다.\n",
    "\n",
    "# One-Hot-encoding 더미변수 생성(범주형 변수)\n",
    "train_dummy = pd.get_dummies(train)\n",
    "real_test_dummy = pd.get_dummies(real_test)\n",
    "model 평가\n",
    "# Gridsearch로 확인 한 결과 xgboost 가장 좋은 예측력을 보였고 또한 특성공학을 통해\n",
    "# 최적의 파라미터를 찾았다.\n",
    "# rmse : 215126074267.982 정도의 점수가 나왔다. 좀 더 높은 점수를 얻기 위해 새로운 전처리 방법이 필요하다.\n",
    "# ex) 나이를 전성기에 접어든 나이와 그보다 어리고 많은 나이 그룹으로 나누기 등\n",
    "부족한 점 review\n",
    "# np.inf = 무한대를 표시\n",
    "pd.cut(df, [0, 1, np.inf], labels = [\"a\",\"b\"])\n",
    "# 0 <= a < 1, b >= 1\n",
    "\n",
    "# count() vs size() vs nunique()\n",
    "# count() : 결측치를 포함하지 않은 값 반환\n",
    "# size() : 결측치를 포함한 값의 길이 반환\n",
    "# nunique() : 결측치를 제외한 유일값 리턴\n",
    "\n",
    "# df.rename(columns = {\"기존 열 이름\" : \"새로운 열 이름\"})\n",
    "# df의 열이름을 변경할때 dict형을 이용하면 쉽게 바꿀수 있이다.\n",
    "\n",
    "# df.largest(n, columns, keep = \"first\")\n",
    "# 지정한 열의 n개 만큼 내림 차순으로 값을 반환 한다.\n",
    "# keep = \"first\" : 중복 값중 첫번째, \"last\" : 마지막 값, \"all\" : 모든 값 반환\n",
    "# df.sort_values(columns, ascending = False).head(n)가 같지만 좀 더 능률이 좋다.\n",
    "\n",
    "# df.reset_index\n",
    "# df의 기존 index를 열에 추가 시키고, 새로운 순차 수열 index 생성\n",
    "# df.reset_index(drop = True) : 기존 index 제거, 새로운 순차 수열 index 생성\n",
    "\n",
    "# pd.merge()\n",
    "# 두 객체에 중복된 컬럼 이름이 하나도 없다면 따로 지정해준다. 아래는 지정 방법이다.\n",
    "# pd.merge(left_on)  : 조인키로 사용할 left DataFrame의 컬럼\n",
    "# pd.merge(right_on) : 조인키로 사용할 right DataFrame의 컬럼"
   ]
  }
 ],
 "metadata": {
  "colab": {
   "provenance": []
  },
  "kernelspec": {
   "display_name": "Python 3 (ipykernel)",
   "language": "python",
   "name": "python3"
  },
  "language_info": {
   "codemirror_mode": {
    "name": "ipython",
    "version": 3
   },
   "file_extension": ".py",
   "mimetype": "text/x-python",
   "name": "python",
   "nbconvert_exporter": "python",
   "pygments_lexer": "ipython3",
   "version": "3.9.7"
  }
 },
 "nbformat": 4,
 "nbformat_minor": 1
}
