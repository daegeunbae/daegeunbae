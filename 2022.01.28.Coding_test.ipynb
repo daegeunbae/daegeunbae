{
  "nbformat": 4,
  "nbformat_minor": 0,
  "metadata": {
    "colab": {
      "name": "22.01.28배대근",
      "provenance": [],
      "authorship_tag": "ABX9TyOO/EoetkxHIgwME6s3Tpfm",
      "include_colab_link": true
    },
    "kernelspec": {
      "name": "python3",
      "display_name": "Python 3"
    },
    "language_info": {
      "name": "python"
    }
  },
  "cells": [
    {
      "cell_type": "markdown",
      "metadata": {
        "id": "view-in-github",
        "colab_type": "text"
      },
      "source": [
        "<a href=\"https://colab.research.google.com/github/daegeunbae/daegeunbae/blob/main/22_01_28%EB%B0%B0%EB%8C%80%EA%B7%BC.ipynb\" target=\"_parent\"><img src=\"https://colab.research.google.com/assets/colab-badge.svg\" alt=\"Open In Colab\"/></a>"
      ]
    },
    {
      "cell_type": "code",
      "execution_count": null,
      "metadata": {
        "id": "gLTV9tKvN50o"
      },
      "outputs": [],
      "source": [
        "##실패율 게임 stage 문제 딕셔너리로 풀 예정\n",
        "def solution(N, stages):\n",
        "    answer = []\n",
        "    # 1-1) 필요한 정보: stage 별 실패율 기록할 변수\n",
        "    fail_dict = {} #key: stage수, value : 실패율\n",
        "\n",
        "    # 1-2)  최초 참가자 수 = 1번 stage 참가자 수 : len~~~\n",
        "    num_people = len(stages)\n",
        "    # 2) 1번 stage~~~ N번 stage까지.. : stage 값을 기준 -> 파이썬 기준으로 잘 맞춰야 함\n",
        "    for stage in range(1, N+1):\n",
        "        fail_num = stages.count(stage)                  # i번째 stage의 실패자->count(stage)\n",
        "        if num_people >0:\n",
        "            fail_dict[stage] = fail_num / num_people     # i번째 stage의 실패율\n",
        "        else: # 0일때\n",
        "            fail_dict[stage] = 0                         #참가자 0인지, 0이 아닌지에 따라서...\n",
        "        num_people = nu\n",
        "        \n",
        "        m_people - fail_num              # i번째 stage의 통과자: i+1의 참가자\n",
        "\n",
        "#####################\n",
        "    # 3) stage 별로 실패율 정렬: 값을 앞의 스테이지부터\n",
        "    fail_ = sorted(fail_dict.items(),key = lambda x : x[1], reverse=True) #내림차순\n",
        "    #다른 변수를 한 이유: sorted하면 타입이 list로 변경되므로\n",
        "    # 4) 원하는 기준에 따른 stage만 리스트로 묶어서 출력\n",
        "    answer = [ info[0] for info in fail_list ]\n",
        "    ####################\n",
        "    return answer\n",
        "    \n"
      ]
    },
    {
      "cell_type": "code",
      "source": [
        "solution(5,[2, 1, 2, 6, 2, 4, 3, 3])"
      ],
      "metadata": {
        "colab": {
          "base_uri": "https://localhost:8080/"
        },
        "id": "6vkZe7BJYX7W",
        "outputId": "2d4e0085-ba8c-4942-a94d-8741717b40e6"
      },
      "execution_count": null,
      "outputs": [
        {
          "output_type": "execute_result",
          "data": {
            "text/plain": [
              "[3, 4, 2, 1, 5]"
            ]
          },
          "metadata": {},
          "execution_count": 21
        }
      ]
    },
    {
      "cell_type": "code",
      "source": [
        "solution(4,[4,4,4,4,4])"
      ],
      "metadata": {
        "colab": {
          "base_uri": "https://localhost:8080/"
        },
        "id": "eRfHESLbYhMW",
        "outputId": "2bf9de0a-8940-40dd-c28d-41ec5bb341cd"
      },
      "execution_count": null,
      "outputs": [
        {
          "output_type": "execute_result",
          "data": {
            "text/plain": [
              "[4, 1, 2, 3]"
            ]
          },
          "metadata": {},
          "execution_count": 23
        }
      ]
    },
    {
      "cell_type": "code",
      "source": [
        "a = {1:1/8, 2: 2/4, 3:0}\n",
        "a"
      ],
      "metadata": {
        "colab": {
          "base_uri": "https://localhost:8080/"
        },
        "id": "w8p81jHQWPIJ",
        "outputId": "d3a1a014-1dce-4284-a5ff-5cc1357bb602"
      },
      "execution_count": null,
      "outputs": [
        {
          "output_type": "execute_result",
          "data": {
            "text/plain": [
              "{1: 0.125, 2: 0.5, 3: 0}"
            ]
          },
          "metadata": {},
          "execution_count": 4
        }
      ]
    },
    {
      "cell_type": "code",
      "source": [
        "a.items()"
      ],
      "metadata": {
        "colab": {
          "base_uri": "https://localhost:8080/"
        },
        "id": "Xx1eR2nVWj7U",
        "outputId": "53f9bb08-6f8c-4194-a03b-04865a64ad69"
      },
      "execution_count": null,
      "outputs": [
        {
          "output_type": "execute_result",
          "data": {
            "text/plain": [
              "dict_items([(1, 0.125), (2, 0.5), (3, 0)])"
            ]
          },
          "metadata": {},
          "execution_count": 5
        }
      ]
    },
    {
      "cell_type": "code",
      "source": [
        "sorted(a.items(),key = lambda x : x[1], reverse=True) #내림차순"
      ],
      "metadata": {
        "colab": {
          "base_uri": "https://localhost:8080/"
        },
        "id": "qBkBEXhZWmar",
        "outputId": "a72cfffc-954b-4e1e-f69c-ba062f32c3e5"
      },
      "execution_count": null,
      "outputs": [
        {
          "output_type": "execute_result",
          "data": {
            "text/plain": [
              "[(2, 0.5), (1, 0.125), (3, 0)]"
            ]
          },
          "metadata": {},
          "execution_count": 7
        }
      ]
    },
    {
      "cell_type": "code",
      "source": [
        "for i in a:\n",
        "    print(i)"
      ],
      "metadata": {
        "colab": {
          "base_uri": "https://localhost:8080/"
        },
        "id": "-AjenYlXW5JP",
        "outputId": "a0857aed-03b3-436a-ec34-3c1e74e7d75e"
      },
      "execution_count": null,
      "outputs": [
        {
          "output_type": "stream",
          "name": "stdout",
          "text": [
            "1\n",
            "2\n",
            "3\n"
          ]
        }
      ]
    },
    {
      "cell_type": "code",
      "source": [
        "b = sorted(a.items(),key = lambda x : x[1], reverse=True) #내림차순\n",
        "b"
      ],
      "metadata": {
        "colab": {
          "base_uri": "https://localhost:8080/"
        },
        "id": "DGHml6ELXyJy",
        "outputId": "7e773fbc-8f85-4113-d2e6-4bd187b3374d"
      },
      "execution_count": null,
      "outputs": [
        {
          "output_type": "execute_result",
          "data": {
            "text/plain": [
              "[(2, 0.5), (1, 0.125), (3, 0)]"
            ]
          },
          "metadata": {},
          "execution_count": 9
        }
      ]
    },
    {
      "cell_type": "code",
      "source": [
        "#파일명 정렬 문제!!\n",
        "'asdsdfsdfSFGW01230ssdfdsdf.sfsfw'\n",
        "# head : asdsdfsdfSFGW ->\n",
        "# number : 01230 -> padding 제거 : 1230 숫자로만!!\n",
        "# tail : ssdfdsdf.sfsfw -> 사용안함!\n",
        "# -> head와 number를 분리!!\n",
        "#\n",
        "-> head와 number를 어떻게 분리?\n",
        "    앞에서 쑥 스캔하면서 숫자가 나타나면!\n",
        "    처음부터 그 숫자 앞까지 : head\n",
        "    그 숫자 뒤로 숫자들이 계속 나올 때 까지 : number\n",
        "#"
      ],
      "metadata": {
        "colab": {
          "base_uri": "https://localhost:8080/",
          "height": 35
        },
        "id": "RjaPYfo2jaKE",
        "outputId": "228b9806-6996-462e-9ecc-db9681399389"
      },
      "execution_count": null,
      "outputs": [
        {
          "output_type": "execute_result",
          "data": {
            "application/vnd.google.colaboratory.intrinsic+json": {
              "type": "string"
            },
            "text/plain": [
              "'asdsdfsdfSFGW01230ssdfdsdf.sfsfw'"
            ]
          },
          "metadata": {},
          "execution_count": 25
        }
      ]
    },
    {
      "cell_type": "code",
      "source": [
        "import re"
      ],
      "metadata": {
        "id": "-PUgIfe3nhZZ"
      },
      "execution_count": null,
      "outputs": []
    },
    {
      "cell_type": "code",
      "source": [
        "test_str = \"asdsdfsdfSFGW01230ssdfdsdf.sfsfw\"\n",
        "test_str"
      ],
      "metadata": {
        "colab": {
          "base_uri": "https://localhost:8080/",
          "height": 35
        },
        "id": "_XFjtDhfjyxc",
        "outputId": "9f4d737a-bdf8-4b11-86ce-b7dbd5e95822"
      },
      "execution_count": null,
      "outputs": [
        {
          "output_type": "execute_result",
          "data": {
            "application/vnd.google.colaboratory.intrinsic+json": {
              "type": "string"
            },
            "text/plain": [
              "'asdsdfsdfSFGW01230ssdfdsdf.sfsfw'"
            ]
          },
          "metadata": {},
          "execution_count": 27
        }
      ]
    },
    {
      "cell_type": "code",
      "source": [
        "re.findall(패턴[정규식으로 표현, 어디서) -> 만족하는거 다 찾기])"
      ],
      "metadata": {
        "id": "Ob_fR8Csjy1x"
      },
      "execution_count": null,
      "outputs": []
    },
    {
      "cell_type": "code",
      "source": [
        "re.findall(\"\\d{3}\", test_str) #숫자 판별"
      ],
      "metadata": {
        "colab": {
          "base_uri": "https://localhost:8080/"
        },
        "id": "0wJQ95IonG0S",
        "outputId": "cb6acde5-5bf3-4358-fcdc-2117e272dc11"
      },
      "execution_count": null,
      "outputs": [
        {
          "output_type": "execute_result",
          "data": {
            "text/plain": [
              "['012']"
            ]
          },
          "metadata": {},
          "execution_count": 34
        }
      ]
    },
    {
      "cell_type": "code",
      "source": [
        "re.findall(\"\\d+\", test_str) #숫자 판별"
      ],
      "metadata": {
        "colab": {
          "base_uri": "https://localhost:8080/"
        },
        "id": "SviHUDlao9Ew",
        "outputId": "5eeb7220-a214-4c3d-ab12-7688ef04206f"
      },
      "execution_count": null,
      "outputs": [
        {
          "output_type": "execute_result",
          "data": {
            "text/plain": [
              "['01230']"
            ]
          },
          "metadata": {},
          "execution_count": 36
        }
      ]
    },
    {
      "cell_type": "code",
      "source": [
        "#찾은 숫자들 중에서 처음 나타난 것이 number part\n",
        "re.findall(\"\\d+\", test_str)[0]"
      ],
      "metadata": {
        "colab": {
          "base_uri": "https://localhost:8080/",
          "height": 35
        },
        "id": "Y0dXurOqob9i",
        "outputId": "6402f2f6-41ef-4085-99d6-1737363ae047"
      },
      "execution_count": null,
      "outputs": [
        {
          "output_type": "execute_result",
          "data": {
            "application/vnd.google.colaboratory.intrinsic+json": {
              "type": "string"
            },
            "text/plain": [
              "'01230'"
            ]
          },
          "metadata": {},
          "execution_count": 35
        }
      ]
    },
    {
      "cell_type": "code",
      "source": [
        "#숫자0 앞까지 글자수만큼 index 시작점:끝점\n",
        "test_str.index(\"01230\")"
      ],
      "metadata": {
        "colab": {
          "base_uri": "https://localhost:8080/"
        },
        "id": "7KKQJltXoowm",
        "outputId": "bb0d08e8-2f67-4852-fd62-464832f81b21"
      },
      "execution_count": null,
      "outputs": [
        {
          "output_type": "execute_result",
          "data": {
            "text/plain": [
              "13"
            ]
          },
          "metadata": {},
          "execution_count": 38
        }
      ]
    },
    {
      "cell_type": "code",
      "source": [
        "test_str[:test_str.index(\"01230\")] #head 파트가 됨!"
      ],
      "metadata": {
        "colab": {
          "base_uri": "https://localhost:8080/",
          "height": 35
        },
        "id": "0qf75pq9pXoY",
        "outputId": "20bb5e9b-8b9b-4645-80bc-2c58eed9ab1f"
      },
      "execution_count": null,
      "outputs": [
        {
          "output_type": "execute_result",
          "data": {
            "application/vnd.google.colaboratory.intrinsic+json": {
              "type": "string"
            },
            "text/plain": [
              "'asdsdfsdfSFGW'"
            ]
          },
          "metadata": {},
          "execution_count": 39
        }
      ]
    },
    {
      "cell_type": "code",
      "source": [
        "\"ABCDefg\".lower() #대문자를 소문자로"
      ],
      "metadata": {
        "colab": {
          "base_uri": "https://localhost:8080/",
          "height": 35
        },
        "id": "uxhaIHwPprUy",
        "outputId": "322dea39-7f0e-499e-98f2-26862dbe391b"
      },
      "execution_count": null,
      "outputs": [
        {
          "output_type": "execute_result",
          "data": {
            "application/vnd.google.colaboratory.intrinsic+json": {
              "type": "string"
            },
            "text/plain": [
              "'abcdefg'"
            ]
          },
          "metadata": {},
          "execution_count": 40
        }
      ]
    },
    {
      "cell_type": "code",
      "source": [
        "\"ABCDefg\".upper()"
      ],
      "metadata": {
        "colab": {
          "base_uri": "https://localhost:8080/",
          "height": 35
        },
        "id": "70PZWpNpp0iI",
        "outputId": "b827b167-d294-4169-c95d-0342e7c6bf1f"
      },
      "execution_count": null,
      "outputs": [
        {
          "output_type": "execute_result",
          "data": {
            "application/vnd.google.colaboratory.intrinsic+json": {
              "type": "string"
            },
            "text/plain": [
              "'ABCDEFG'"
            ]
          },
          "metadata": {},
          "execution_count": 41
        }
      ]
    },
    {
      "cell_type": "code",
      "source": [
        "#head파트 대소문자 통일\n",
        "test_str[:test_str.index(\"01230\")].lower()"
      ],
      "metadata": {
        "colab": {
          "base_uri": "https://localhost:8080/",
          "height": 35
        },
        "id": "tAmrA1Rpp5i7",
        "outputId": "f78ce7c2-3c5c-4070-f207-51207da252b8"
      },
      "execution_count": null,
      "outputs": [
        {
          "output_type": "execute_result",
          "data": {
            "application/vnd.google.colaboratory.intrinsic+json": {
              "type": "string"
            },
            "text/plain": [
              "'asdsdfsdfsfgw'"
            ]
          },
          "metadata": {},
          "execution_count": 42
        }
      ]
    },
    {
      "cell_type": "code",
      "source": [
        "# number 파트에서 할일\n",
        "int(re.findall(\"\\d+\", test_str)[0])"
      ],
      "metadata": {
        "colab": {
          "base_uri": "https://localhost:8080/"
        },
        "id": "2ewRDo3yqZxV",
        "outputId": "49bd82e1-6a2b-4572-db5b-9f0351194339"
      },
      "execution_count": null,
      "outputs": [
        {
          "output_type": "execute_result",
          "data": {
            "text/plain": [
              "1230"
            ]
          },
          "metadata": {},
          "execution_count": 45
        }
      ]
    },
    {
      "cell_type": "code",
      "source": [
        "#필요 패키지 : 정규식 -> number/head 분리하려고..\n",
        "import return\n",
        "\n",
        "def solution(files):\n",
        "    #1) 내가 필요한 정보들을 담을 변수..\n",
        "        files = [\"img12.png\", \"img10.png\", \"img02.png\", \"img1.png\", \"IMG01.GIF\", \"img2.JPG\"]\n",
        "\n",
        "    #2) 입력 file에 대해서 1개씩 처리\n",
        "        # 2-1) 정규식으로 숫자파트 추출 -> 제로패딩 제거\n",
        "        re.findall(\"\\d+\", test_str)\n",
        "        # 2-2) 처음부터 숫자파트 직전까지 추출 -> head ->대소문자 통일\n",
        "        test_str.index(files)\n",
        "        test_str[:test_str.index(files)].lower()\n",
        "\n",
        "        # 2-3) 필요한 정보들 처리 & 저장\n",
        "        오리지날 몇번째였는지 찾아서 출력하기\n",
        "\n",
        "    #3) 문제에서 준 대로 정렬\n",
        "    fail_ = sorted(fail_dict.items(),key = lambda x : x[1], reverse=True) #내림차순\n",
        "    test_str[:test_str.index(\"01230\")].lower()              #head파트 대소문자 통일\n",
        "    int(re.findall(\"\\d+\", test_str)[0])                     # number 파트에서 할일\n",
        "\n",
        "    #4) 문제에서 출력하라는 대로 출력\n",
        "    print=(files)\n",
        "    \n",
        "\n",
        "    return answer):\n",
        "        #분리하려고"
      ],
      "metadata": {
        "id": "nXPig41QqdXe"
      },
      "execution_count": null,
      "outputs": []
    },
    {
      "cell_type": "code",
      "source": [
        ""
      ],
      "metadata": {
        "id": "cOpo-j_iofYv"
      },
      "execution_count": null,
      "outputs": []
    }
  ]
}
