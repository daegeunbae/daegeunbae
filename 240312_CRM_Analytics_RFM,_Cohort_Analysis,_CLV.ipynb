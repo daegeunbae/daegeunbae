{
  "nbformat": 4,
  "nbformat_minor": 0,
  "metadata": {
    "colab": {
      "provenance": [],
      "toc_visible": true,
      "mount_file_id": "1KSRaL1QcqeWPhkW2HqpbqlJubqoz3rKh",
      "authorship_tag": "ABX9TyOUerFd3BagUc4sbMBA2ljH",
      "include_colab_link": true
    },
    "kernelspec": {
      "name": "python3",
      "display_name": "Python 3"
    },
    "language_info": {
      "name": "python"
    }
  },
  "cells": [
    {
      "cell_type": "markdown",
      "metadata": {
        "id": "view-in-github",
        "colab_type": "text"
      },
      "source": [
        "<a href=\"https://colab.research.google.com/github/daegeunbae/daegeunbae/blob/main/240312_CRM_Analytics_RFM%2C_Cohort_Analysis%2C_CLV.ipynb\" target=\"_parent\"><img src=\"https://colab.research.google.com/assets/colab-badge.svg\" alt=\"Open In Colab\"/></a>"
      ]
    },
    {
      "cell_type": "code",
      "source": [
        "#pip install lifetimes"
      ],
      "metadata": {
        "id": "qlB_3w6oJjFH"
      },
      "execution_count": 1,
      "outputs": []
    },
    {
      "cell_type": "code",
      "source": [
        "#pip install squarify"
      ],
      "metadata": {
        "id": "Z7c3uJQHJqIO"
      },
      "execution_count": 2,
      "outputs": []
    },
    {
      "cell_type": "code",
      "execution_count": 3,
      "metadata": {
        "id": "XHhdUP62i5F8"
      },
      "outputs": [],
      "source": [
        "#https://www.kaggle.com/code/serdarsozturk/crm-analytics-rfm-cohort-analysis-clv\n",
        "import pandas as pd\n",
        "import numpy as np\n",
        "import warnings\n",
        "from datetime import datetime\n",
        "\n",
        "# Beklenti hesaplamak için kullanacağımız kütüphaneler.\n",
        "from lifetimes import BetaGeoFitter\n",
        "from lifetimes import GammaGammaFitter\n",
        "from sklearn.preprocessing import MinMaxScaler\n",
        "from sklearn.metrics import (silhouette_score,\n",
        "                             calinski_harabasz_score,\n",
        "                             davies_bouldin_score)\n",
        "# Görselleştirme için kullandığımız kütüphaneler.\n",
        "from lifetimes.plotting import plot_period_transactions\n",
        "import seaborn as sns\n",
        "import matplotlib.pyplot as plt\n",
        "import matplotlib.colors as mcolors\n",
        "import plotly.graph_objs as go\n",
        "from plotly.offline import iplot\n",
        "from operator import attrgetter\n",
        "import squarify\n",
        "sns.set_style('whitegrid')\n",
        "palette = 'Set2'\n",
        "\n",
        "# Birtakım ayarlar.\n",
        "warnings.filterwarnings('ignore')\n",
        "pd.set_option('display.max_columns', None)\n",
        "pd.set_option('display.max_rows', None)\n",
        "pd.set_option('display.width', 500)\n",
        "pd.set_option('display.float_format', lambda x: '%.3f' % x)"
      ]
    },
    {
      "cell_type": "code",
      "source": [
        "df2 = pd.read_csv('/content/drive/MyDrive/02.coding/10.Team_Project/08.고객이탈예측_CLV/churn2.csv')\n",
        "df2.head(4)"
      ],
      "metadata": {
        "colab": {
          "base_uri": "https://localhost:8080/",
          "height": 264
        },
        "id": "_IC3gB-1Hic_",
        "outputId": "412624de-931d-4a77-e42f-64370296143d"
      },
      "execution_count": 4,
      "outputs": [
        {
          "output_type": "execute_result",
          "data": {
            "text/plain": [
              "   customerID  gender  SeniorCitizen Partner Dependents  tenure PhoneService     MultipleLines InternetService OnlineSecurity OnlineBackup DeviceProtection TechSupport StreamingTV StreamingMovies        Contract PaperlessBilling              PaymentMethod  MonthlyCharges TotalCharges Churn\n",
              "0  7590-VHVEG  Female              0     Yes         No       1           No  No phone service             DSL             No          Yes               No          No          No              No  Month-to-month              Yes           Electronic check          29.850        29.85    No\n",
              "1  5575-GNVDE    Male              0      No         No      34          Yes                No             DSL            Yes           No              Yes          No          No              No        One year               No               Mailed check          56.950       1889.5    No\n",
              "2  3668-QPYBK    Male              0      No         No       2          Yes                No             DSL            Yes          Yes               No          No          No              No  Month-to-month              Yes               Mailed check          53.850       108.15   Yes\n",
              "3  7795-CFOCW    Male              0      No         No      45           No  No phone service             DSL            Yes           No              Yes         Yes          No              No        One year               No  Bank transfer (automatic)          42.300      1840.75    No"
            ],
            "text/html": [
              "\n",
              "  <div id=\"df-924927b7-b3e9-41f8-83bb-2bd454f3444d\" class=\"colab-df-container\">\n",
              "    <div>\n",
              "<style scoped>\n",
              "    .dataframe tbody tr th:only-of-type {\n",
              "        vertical-align: middle;\n",
              "    }\n",
              "\n",
              "    .dataframe tbody tr th {\n",
              "        vertical-align: top;\n",
              "    }\n",
              "\n",
              "    .dataframe thead th {\n",
              "        text-align: right;\n",
              "    }\n",
              "</style>\n",
              "<table border=\"1\" class=\"dataframe\">\n",
              "  <thead>\n",
              "    <tr style=\"text-align: right;\">\n",
              "      <th></th>\n",
              "      <th>customerID</th>\n",
              "      <th>gender</th>\n",
              "      <th>SeniorCitizen</th>\n",
              "      <th>Partner</th>\n",
              "      <th>Dependents</th>\n",
              "      <th>tenure</th>\n",
              "      <th>PhoneService</th>\n",
              "      <th>MultipleLines</th>\n",
              "      <th>InternetService</th>\n",
              "      <th>OnlineSecurity</th>\n",
              "      <th>OnlineBackup</th>\n",
              "      <th>DeviceProtection</th>\n",
              "      <th>TechSupport</th>\n",
              "      <th>StreamingTV</th>\n",
              "      <th>StreamingMovies</th>\n",
              "      <th>Contract</th>\n",
              "      <th>PaperlessBilling</th>\n",
              "      <th>PaymentMethod</th>\n",
              "      <th>MonthlyCharges</th>\n",
              "      <th>TotalCharges</th>\n",
              "      <th>Churn</th>\n",
              "    </tr>\n",
              "  </thead>\n",
              "  <tbody>\n",
              "    <tr>\n",
              "      <th>0</th>\n",
              "      <td>7590-VHVEG</td>\n",
              "      <td>Female</td>\n",
              "      <td>0</td>\n",
              "      <td>Yes</td>\n",
              "      <td>No</td>\n",
              "      <td>1</td>\n",
              "      <td>No</td>\n",
              "      <td>No phone service</td>\n",
              "      <td>DSL</td>\n",
              "      <td>No</td>\n",
              "      <td>Yes</td>\n",
              "      <td>No</td>\n",
              "      <td>No</td>\n",
              "      <td>No</td>\n",
              "      <td>No</td>\n",
              "      <td>Month-to-month</td>\n",
              "      <td>Yes</td>\n",
              "      <td>Electronic check</td>\n",
              "      <td>29.850</td>\n",
              "      <td>29.85</td>\n",
              "      <td>No</td>\n",
              "    </tr>\n",
              "    <tr>\n",
              "      <th>1</th>\n",
              "      <td>5575-GNVDE</td>\n",
              "      <td>Male</td>\n",
              "      <td>0</td>\n",
              "      <td>No</td>\n",
              "      <td>No</td>\n",
              "      <td>34</td>\n",
              "      <td>Yes</td>\n",
              "      <td>No</td>\n",
              "      <td>DSL</td>\n",
              "      <td>Yes</td>\n",
              "      <td>No</td>\n",
              "      <td>Yes</td>\n",
              "      <td>No</td>\n",
              "      <td>No</td>\n",
              "      <td>No</td>\n",
              "      <td>One year</td>\n",
              "      <td>No</td>\n",
              "      <td>Mailed check</td>\n",
              "      <td>56.950</td>\n",
              "      <td>1889.5</td>\n",
              "      <td>No</td>\n",
              "    </tr>\n",
              "    <tr>\n",
              "      <th>2</th>\n",
              "      <td>3668-QPYBK</td>\n",
              "      <td>Male</td>\n",
              "      <td>0</td>\n",
              "      <td>No</td>\n",
              "      <td>No</td>\n",
              "      <td>2</td>\n",
              "      <td>Yes</td>\n",
              "      <td>No</td>\n",
              "      <td>DSL</td>\n",
              "      <td>Yes</td>\n",
              "      <td>Yes</td>\n",
              "      <td>No</td>\n",
              "      <td>No</td>\n",
              "      <td>No</td>\n",
              "      <td>No</td>\n",
              "      <td>Month-to-month</td>\n",
              "      <td>Yes</td>\n",
              "      <td>Mailed check</td>\n",
              "      <td>53.850</td>\n",
              "      <td>108.15</td>\n",
              "      <td>Yes</td>\n",
              "    </tr>\n",
              "    <tr>\n",
              "      <th>3</th>\n",
              "      <td>7795-CFOCW</td>\n",
              "      <td>Male</td>\n",
              "      <td>0</td>\n",
              "      <td>No</td>\n",
              "      <td>No</td>\n",
              "      <td>45</td>\n",
              "      <td>No</td>\n",
              "      <td>No phone service</td>\n",
              "      <td>DSL</td>\n",
              "      <td>Yes</td>\n",
              "      <td>No</td>\n",
              "      <td>Yes</td>\n",
              "      <td>Yes</td>\n",
              "      <td>No</td>\n",
              "      <td>No</td>\n",
              "      <td>One year</td>\n",
              "      <td>No</td>\n",
              "      <td>Bank transfer (automatic)</td>\n",
              "      <td>42.300</td>\n",
              "      <td>1840.75</td>\n",
              "      <td>No</td>\n",
              "    </tr>\n",
              "  </tbody>\n",
              "</table>\n",
              "</div>\n",
              "    <div class=\"colab-df-buttons\">\n",
              "\n",
              "  <div class=\"colab-df-container\">\n",
              "    <button class=\"colab-df-convert\" onclick=\"convertToInteractive('df-924927b7-b3e9-41f8-83bb-2bd454f3444d')\"\n",
              "            title=\"Convert this dataframe to an interactive table.\"\n",
              "            style=\"display:none;\">\n",
              "\n",
              "  <svg xmlns=\"http://www.w3.org/2000/svg\" height=\"24px\" viewBox=\"0 -960 960 960\">\n",
              "    <path d=\"M120-120v-720h720v720H120Zm60-500h600v-160H180v160Zm220 220h160v-160H400v160Zm0 220h160v-160H400v160ZM180-400h160v-160H180v160Zm440 0h160v-160H620v160ZM180-180h160v-160H180v160Zm440 0h160v-160H620v160Z\"/>\n",
              "  </svg>\n",
              "    </button>\n",
              "\n",
              "  <style>\n",
              "    .colab-df-container {\n",
              "      display:flex;\n",
              "      gap: 12px;\n",
              "    }\n",
              "\n",
              "    .colab-df-convert {\n",
              "      background-color: #E8F0FE;\n",
              "      border: none;\n",
              "      border-radius: 50%;\n",
              "      cursor: pointer;\n",
              "      display: none;\n",
              "      fill: #1967D2;\n",
              "      height: 32px;\n",
              "      padding: 0 0 0 0;\n",
              "      width: 32px;\n",
              "    }\n",
              "\n",
              "    .colab-df-convert:hover {\n",
              "      background-color: #E2EBFA;\n",
              "      box-shadow: 0px 1px 2px rgba(60, 64, 67, 0.3), 0px 1px 3px 1px rgba(60, 64, 67, 0.15);\n",
              "      fill: #174EA6;\n",
              "    }\n",
              "\n",
              "    .colab-df-buttons div {\n",
              "      margin-bottom: 4px;\n",
              "    }\n",
              "\n",
              "    [theme=dark] .colab-df-convert {\n",
              "      background-color: #3B4455;\n",
              "      fill: #D2E3FC;\n",
              "    }\n",
              "\n",
              "    [theme=dark] .colab-df-convert:hover {\n",
              "      background-color: #434B5C;\n",
              "      box-shadow: 0px 1px 3px 1px rgba(0, 0, 0, 0.15);\n",
              "      filter: drop-shadow(0px 1px 2px rgba(0, 0, 0, 0.3));\n",
              "      fill: #FFFFFF;\n",
              "    }\n",
              "  </style>\n",
              "\n",
              "    <script>\n",
              "      const buttonEl =\n",
              "        document.querySelector('#df-924927b7-b3e9-41f8-83bb-2bd454f3444d button.colab-df-convert');\n",
              "      buttonEl.style.display =\n",
              "        google.colab.kernel.accessAllowed ? 'block' : 'none';\n",
              "\n",
              "      async function convertToInteractive(key) {\n",
              "        const element = document.querySelector('#df-924927b7-b3e9-41f8-83bb-2bd454f3444d');\n",
              "        const dataTable =\n",
              "          await google.colab.kernel.invokeFunction('convertToInteractive',\n",
              "                                                    [key], {});\n",
              "        if (!dataTable) return;\n",
              "\n",
              "        const docLinkHtml = 'Like what you see? Visit the ' +\n",
              "          '<a target=\"_blank\" href=https://colab.research.google.com/notebooks/data_table.ipynb>data table notebook</a>'\n",
              "          + ' to learn more about interactive tables.';\n",
              "        element.innerHTML = '';\n",
              "        dataTable['output_type'] = 'display_data';\n",
              "        await google.colab.output.renderOutput(dataTable, element);\n",
              "        const docLink = document.createElement('div');\n",
              "        docLink.innerHTML = docLinkHtml;\n",
              "        element.appendChild(docLink);\n",
              "      }\n",
              "    </script>\n",
              "  </div>\n",
              "\n",
              "\n",
              "<div id=\"df-ebc31700-48f4-4d7f-b76b-6811b4c498b6\">\n",
              "  <button class=\"colab-df-quickchart\" onclick=\"quickchart('df-ebc31700-48f4-4d7f-b76b-6811b4c498b6')\"\n",
              "            title=\"Suggest charts\"\n",
              "            style=\"display:none;\">\n",
              "\n",
              "<svg xmlns=\"http://www.w3.org/2000/svg\" height=\"24px\"viewBox=\"0 0 24 24\"\n",
              "     width=\"24px\">\n",
              "    <g>\n",
              "        <path d=\"M19 3H5c-1.1 0-2 .9-2 2v14c0 1.1.9 2 2 2h14c1.1 0 2-.9 2-2V5c0-1.1-.9-2-2-2zM9 17H7v-7h2v7zm4 0h-2V7h2v10zm4 0h-2v-4h2v4z\"/>\n",
              "    </g>\n",
              "</svg>\n",
              "  </button>\n",
              "\n",
              "<style>\n",
              "  .colab-df-quickchart {\n",
              "      --bg-color: #E8F0FE;\n",
              "      --fill-color: #1967D2;\n",
              "      --hover-bg-color: #E2EBFA;\n",
              "      --hover-fill-color: #174EA6;\n",
              "      --disabled-fill-color: #AAA;\n",
              "      --disabled-bg-color: #DDD;\n",
              "  }\n",
              "\n",
              "  [theme=dark] .colab-df-quickchart {\n",
              "      --bg-color: #3B4455;\n",
              "      --fill-color: #D2E3FC;\n",
              "      --hover-bg-color: #434B5C;\n",
              "      --hover-fill-color: #FFFFFF;\n",
              "      --disabled-bg-color: #3B4455;\n",
              "      --disabled-fill-color: #666;\n",
              "  }\n",
              "\n",
              "  .colab-df-quickchart {\n",
              "    background-color: var(--bg-color);\n",
              "    border: none;\n",
              "    border-radius: 50%;\n",
              "    cursor: pointer;\n",
              "    display: none;\n",
              "    fill: var(--fill-color);\n",
              "    height: 32px;\n",
              "    padding: 0;\n",
              "    width: 32px;\n",
              "  }\n",
              "\n",
              "  .colab-df-quickchart:hover {\n",
              "    background-color: var(--hover-bg-color);\n",
              "    box-shadow: 0 1px 2px rgba(60, 64, 67, 0.3), 0 1px 3px 1px rgba(60, 64, 67, 0.15);\n",
              "    fill: var(--button-hover-fill-color);\n",
              "  }\n",
              "\n",
              "  .colab-df-quickchart-complete:disabled,\n",
              "  .colab-df-quickchart-complete:disabled:hover {\n",
              "    background-color: var(--disabled-bg-color);\n",
              "    fill: var(--disabled-fill-color);\n",
              "    box-shadow: none;\n",
              "  }\n",
              "\n",
              "  .colab-df-spinner {\n",
              "    border: 2px solid var(--fill-color);\n",
              "    border-color: transparent;\n",
              "    border-bottom-color: var(--fill-color);\n",
              "    animation:\n",
              "      spin 1s steps(1) infinite;\n",
              "  }\n",
              "\n",
              "  @keyframes spin {\n",
              "    0% {\n",
              "      border-color: transparent;\n",
              "      border-bottom-color: var(--fill-color);\n",
              "      border-left-color: var(--fill-color);\n",
              "    }\n",
              "    20% {\n",
              "      border-color: transparent;\n",
              "      border-left-color: var(--fill-color);\n",
              "      border-top-color: var(--fill-color);\n",
              "    }\n",
              "    30% {\n",
              "      border-color: transparent;\n",
              "      border-left-color: var(--fill-color);\n",
              "      border-top-color: var(--fill-color);\n",
              "      border-right-color: var(--fill-color);\n",
              "    }\n",
              "    40% {\n",
              "      border-color: transparent;\n",
              "      border-right-color: var(--fill-color);\n",
              "      border-top-color: var(--fill-color);\n",
              "    }\n",
              "    60% {\n",
              "      border-color: transparent;\n",
              "      border-right-color: var(--fill-color);\n",
              "    }\n",
              "    80% {\n",
              "      border-color: transparent;\n",
              "      border-right-color: var(--fill-color);\n",
              "      border-bottom-color: var(--fill-color);\n",
              "    }\n",
              "    90% {\n",
              "      border-color: transparent;\n",
              "      border-bottom-color: var(--fill-color);\n",
              "    }\n",
              "  }\n",
              "</style>\n",
              "\n",
              "  <script>\n",
              "    async function quickchart(key) {\n",
              "      const quickchartButtonEl =\n",
              "        document.querySelector('#' + key + ' button');\n",
              "      quickchartButtonEl.disabled = true;  // To prevent multiple clicks.\n",
              "      quickchartButtonEl.classList.add('colab-df-spinner');\n",
              "      try {\n",
              "        const charts = await google.colab.kernel.invokeFunction(\n",
              "            'suggestCharts', [key], {});\n",
              "      } catch (error) {\n",
              "        console.error('Error during call to suggestCharts:', error);\n",
              "      }\n",
              "      quickchartButtonEl.classList.remove('colab-df-spinner');\n",
              "      quickchartButtonEl.classList.add('colab-df-quickchart-complete');\n",
              "    }\n",
              "    (() => {\n",
              "      let quickchartButtonEl =\n",
              "        document.querySelector('#df-ebc31700-48f4-4d7f-b76b-6811b4c498b6 button');\n",
              "      quickchartButtonEl.style.display =\n",
              "        google.colab.kernel.accessAllowed ? 'block' : 'none';\n",
              "    })();\n",
              "  </script>\n",
              "</div>\n",
              "\n",
              "    </div>\n",
              "  </div>\n"
            ],
            "application/vnd.google.colaboratory.intrinsic+json": {
              "type": "dataframe",
              "variable_name": "df2"
            }
          },
          "metadata": {},
          "execution_count": 4
        }
      ]
    },
    {
      "cell_type": "code",
      "source": [
        "df = pd.read_excel('/content/drive/MyDrive/02.coding/10.Team_Project/08.고객이탈예측_CLV/online_retail_II.xlsx', sheet_name='Year 2010-2011')\n",
        "df_ = df.copy()\n",
        "df.head(4)"
      ],
      "metadata": {
        "colab": {
          "base_uri": "https://localhost:8080/",
          "height": 175
        },
        "id": "EHqRQ3lIIUIW",
        "outputId": "010c14fc-dc37-482e-903f-a7d76696c309"
      },
      "execution_count": 5,
      "outputs": [
        {
          "output_type": "execute_result",
          "data": {
            "text/plain": [
              "  Invoice StockCode                          Description  Quantity         InvoiceDate  Price  Customer ID         Country\n",
              "0  536365    85123A   WHITE HANGING HEART T-LIGHT HOLDER         6 2010-12-01 08:26:00  2.550    17850.000  United Kingdom\n",
              "1  536365     71053                  WHITE METAL LANTERN         6 2010-12-01 08:26:00  3.390    17850.000  United Kingdom\n",
              "2  536365    84406B       CREAM CUPID HEARTS COAT HANGER         8 2010-12-01 08:26:00  2.750    17850.000  United Kingdom\n",
              "3  536365    84029G  KNITTED UNION FLAG HOT WATER BOTTLE         6 2010-12-01 08:26:00  3.390    17850.000  United Kingdom"
            ],
            "text/html": [
              "\n",
              "  <div id=\"df-e83965e1-3acc-40dc-89b0-402058f863b0\" class=\"colab-df-container\">\n",
              "    <div>\n",
              "<style scoped>\n",
              "    .dataframe tbody tr th:only-of-type {\n",
              "        vertical-align: middle;\n",
              "    }\n",
              "\n",
              "    .dataframe tbody tr th {\n",
              "        vertical-align: top;\n",
              "    }\n",
              "\n",
              "    .dataframe thead th {\n",
              "        text-align: right;\n",
              "    }\n",
              "</style>\n",
              "<table border=\"1\" class=\"dataframe\">\n",
              "  <thead>\n",
              "    <tr style=\"text-align: right;\">\n",
              "      <th></th>\n",
              "      <th>Invoice</th>\n",
              "      <th>StockCode</th>\n",
              "      <th>Description</th>\n",
              "      <th>Quantity</th>\n",
              "      <th>InvoiceDate</th>\n",
              "      <th>Price</th>\n",
              "      <th>Customer ID</th>\n",
              "      <th>Country</th>\n",
              "    </tr>\n",
              "  </thead>\n",
              "  <tbody>\n",
              "    <tr>\n",
              "      <th>0</th>\n",
              "      <td>536365</td>\n",
              "      <td>85123A</td>\n",
              "      <td>WHITE HANGING HEART T-LIGHT HOLDER</td>\n",
              "      <td>6</td>\n",
              "      <td>2010-12-01 08:26:00</td>\n",
              "      <td>2.550</td>\n",
              "      <td>17850.000</td>\n",
              "      <td>United Kingdom</td>\n",
              "    </tr>\n",
              "    <tr>\n",
              "      <th>1</th>\n",
              "      <td>536365</td>\n",
              "      <td>71053</td>\n",
              "      <td>WHITE METAL LANTERN</td>\n",
              "      <td>6</td>\n",
              "      <td>2010-12-01 08:26:00</td>\n",
              "      <td>3.390</td>\n",
              "      <td>17850.000</td>\n",
              "      <td>United Kingdom</td>\n",
              "    </tr>\n",
              "    <tr>\n",
              "      <th>2</th>\n",
              "      <td>536365</td>\n",
              "      <td>84406B</td>\n",
              "      <td>CREAM CUPID HEARTS COAT HANGER</td>\n",
              "      <td>8</td>\n",
              "      <td>2010-12-01 08:26:00</td>\n",
              "      <td>2.750</td>\n",
              "      <td>17850.000</td>\n",
              "      <td>United Kingdom</td>\n",
              "    </tr>\n",
              "    <tr>\n",
              "      <th>3</th>\n",
              "      <td>536365</td>\n",
              "      <td>84029G</td>\n",
              "      <td>KNITTED UNION FLAG HOT WATER BOTTLE</td>\n",
              "      <td>6</td>\n",
              "      <td>2010-12-01 08:26:00</td>\n",
              "      <td>3.390</td>\n",
              "      <td>17850.000</td>\n",
              "      <td>United Kingdom</td>\n",
              "    </tr>\n",
              "  </tbody>\n",
              "</table>\n",
              "</div>\n",
              "    <div class=\"colab-df-buttons\">\n",
              "\n",
              "  <div class=\"colab-df-container\">\n",
              "    <button class=\"colab-df-convert\" onclick=\"convertToInteractive('df-e83965e1-3acc-40dc-89b0-402058f863b0')\"\n",
              "            title=\"Convert this dataframe to an interactive table.\"\n",
              "            style=\"display:none;\">\n",
              "\n",
              "  <svg xmlns=\"http://www.w3.org/2000/svg\" height=\"24px\" viewBox=\"0 -960 960 960\">\n",
              "    <path d=\"M120-120v-720h720v720H120Zm60-500h600v-160H180v160Zm220 220h160v-160H400v160Zm0 220h160v-160H400v160ZM180-400h160v-160H180v160Zm440 0h160v-160H620v160ZM180-180h160v-160H180v160Zm440 0h160v-160H620v160Z\"/>\n",
              "  </svg>\n",
              "    </button>\n",
              "\n",
              "  <style>\n",
              "    .colab-df-container {\n",
              "      display:flex;\n",
              "      gap: 12px;\n",
              "    }\n",
              "\n",
              "    .colab-df-convert {\n",
              "      background-color: #E8F0FE;\n",
              "      border: none;\n",
              "      border-radius: 50%;\n",
              "      cursor: pointer;\n",
              "      display: none;\n",
              "      fill: #1967D2;\n",
              "      height: 32px;\n",
              "      padding: 0 0 0 0;\n",
              "      width: 32px;\n",
              "    }\n",
              "\n",
              "    .colab-df-convert:hover {\n",
              "      background-color: #E2EBFA;\n",
              "      box-shadow: 0px 1px 2px rgba(60, 64, 67, 0.3), 0px 1px 3px 1px rgba(60, 64, 67, 0.15);\n",
              "      fill: #174EA6;\n",
              "    }\n",
              "\n",
              "    .colab-df-buttons div {\n",
              "      margin-bottom: 4px;\n",
              "    }\n",
              "\n",
              "    [theme=dark] .colab-df-convert {\n",
              "      background-color: #3B4455;\n",
              "      fill: #D2E3FC;\n",
              "    }\n",
              "\n",
              "    [theme=dark] .colab-df-convert:hover {\n",
              "      background-color: #434B5C;\n",
              "      box-shadow: 0px 1px 3px 1px rgba(0, 0, 0, 0.15);\n",
              "      filter: drop-shadow(0px 1px 2px rgba(0, 0, 0, 0.3));\n",
              "      fill: #FFFFFF;\n",
              "    }\n",
              "  </style>\n",
              "\n",
              "    <script>\n",
              "      const buttonEl =\n",
              "        document.querySelector('#df-e83965e1-3acc-40dc-89b0-402058f863b0 button.colab-df-convert');\n",
              "      buttonEl.style.display =\n",
              "        google.colab.kernel.accessAllowed ? 'block' : 'none';\n",
              "\n",
              "      async function convertToInteractive(key) {\n",
              "        const element = document.querySelector('#df-e83965e1-3acc-40dc-89b0-402058f863b0');\n",
              "        const dataTable =\n",
              "          await google.colab.kernel.invokeFunction('convertToInteractive',\n",
              "                                                    [key], {});\n",
              "        if (!dataTable) return;\n",
              "\n",
              "        const docLinkHtml = 'Like what you see? Visit the ' +\n",
              "          '<a target=\"_blank\" href=https://colab.research.google.com/notebooks/data_table.ipynb>data table notebook</a>'\n",
              "          + ' to learn more about interactive tables.';\n",
              "        element.innerHTML = '';\n",
              "        dataTable['output_type'] = 'display_data';\n",
              "        await google.colab.output.renderOutput(dataTable, element);\n",
              "        const docLink = document.createElement('div');\n",
              "        docLink.innerHTML = docLinkHtml;\n",
              "        element.appendChild(docLink);\n",
              "      }\n",
              "    </script>\n",
              "  </div>\n",
              "\n",
              "\n",
              "<div id=\"df-3bb96ad6-5fba-4de3-9a49-6d7d12595178\">\n",
              "  <button class=\"colab-df-quickchart\" onclick=\"quickchart('df-3bb96ad6-5fba-4de3-9a49-6d7d12595178')\"\n",
              "            title=\"Suggest charts\"\n",
              "            style=\"display:none;\">\n",
              "\n",
              "<svg xmlns=\"http://www.w3.org/2000/svg\" height=\"24px\"viewBox=\"0 0 24 24\"\n",
              "     width=\"24px\">\n",
              "    <g>\n",
              "        <path d=\"M19 3H5c-1.1 0-2 .9-2 2v14c0 1.1.9 2 2 2h14c1.1 0 2-.9 2-2V5c0-1.1-.9-2-2-2zM9 17H7v-7h2v7zm4 0h-2V7h2v10zm4 0h-2v-4h2v4z\"/>\n",
              "    </g>\n",
              "</svg>\n",
              "  </button>\n",
              "\n",
              "<style>\n",
              "  .colab-df-quickchart {\n",
              "      --bg-color: #E8F0FE;\n",
              "      --fill-color: #1967D2;\n",
              "      --hover-bg-color: #E2EBFA;\n",
              "      --hover-fill-color: #174EA6;\n",
              "      --disabled-fill-color: #AAA;\n",
              "      --disabled-bg-color: #DDD;\n",
              "  }\n",
              "\n",
              "  [theme=dark] .colab-df-quickchart {\n",
              "      --bg-color: #3B4455;\n",
              "      --fill-color: #D2E3FC;\n",
              "      --hover-bg-color: #434B5C;\n",
              "      --hover-fill-color: #FFFFFF;\n",
              "      --disabled-bg-color: #3B4455;\n",
              "      --disabled-fill-color: #666;\n",
              "  }\n",
              "\n",
              "  .colab-df-quickchart {\n",
              "    background-color: var(--bg-color);\n",
              "    border: none;\n",
              "    border-radius: 50%;\n",
              "    cursor: pointer;\n",
              "    display: none;\n",
              "    fill: var(--fill-color);\n",
              "    height: 32px;\n",
              "    padding: 0;\n",
              "    width: 32px;\n",
              "  }\n",
              "\n",
              "  .colab-df-quickchart:hover {\n",
              "    background-color: var(--hover-bg-color);\n",
              "    box-shadow: 0 1px 2px rgba(60, 64, 67, 0.3), 0 1px 3px 1px rgba(60, 64, 67, 0.15);\n",
              "    fill: var(--button-hover-fill-color);\n",
              "  }\n",
              "\n",
              "  .colab-df-quickchart-complete:disabled,\n",
              "  .colab-df-quickchart-complete:disabled:hover {\n",
              "    background-color: var(--disabled-bg-color);\n",
              "    fill: var(--disabled-fill-color);\n",
              "    box-shadow: none;\n",
              "  }\n",
              "\n",
              "  .colab-df-spinner {\n",
              "    border: 2px solid var(--fill-color);\n",
              "    border-color: transparent;\n",
              "    border-bottom-color: var(--fill-color);\n",
              "    animation:\n",
              "      spin 1s steps(1) infinite;\n",
              "  }\n",
              "\n",
              "  @keyframes spin {\n",
              "    0% {\n",
              "      border-color: transparent;\n",
              "      border-bottom-color: var(--fill-color);\n",
              "      border-left-color: var(--fill-color);\n",
              "    }\n",
              "    20% {\n",
              "      border-color: transparent;\n",
              "      border-left-color: var(--fill-color);\n",
              "      border-top-color: var(--fill-color);\n",
              "    }\n",
              "    30% {\n",
              "      border-color: transparent;\n",
              "      border-left-color: var(--fill-color);\n",
              "      border-top-color: var(--fill-color);\n",
              "      border-right-color: var(--fill-color);\n",
              "    }\n",
              "    40% {\n",
              "      border-color: transparent;\n",
              "      border-right-color: var(--fill-color);\n",
              "      border-top-color: var(--fill-color);\n",
              "    }\n",
              "    60% {\n",
              "      border-color: transparent;\n",
              "      border-right-color: var(--fill-color);\n",
              "    }\n",
              "    80% {\n",
              "      border-color: transparent;\n",
              "      border-right-color: var(--fill-color);\n",
              "      border-bottom-color: var(--fill-color);\n",
              "    }\n",
              "    90% {\n",
              "      border-color: transparent;\n",
              "      border-bottom-color: var(--fill-color);\n",
              "    }\n",
              "  }\n",
              "</style>\n",
              "\n",
              "  <script>\n",
              "    async function quickchart(key) {\n",
              "      const quickchartButtonEl =\n",
              "        document.querySelector('#' + key + ' button');\n",
              "      quickchartButtonEl.disabled = true;  // To prevent multiple clicks.\n",
              "      quickchartButtonEl.classList.add('colab-df-spinner');\n",
              "      try {\n",
              "        const charts = await google.colab.kernel.invokeFunction(\n",
              "            'suggestCharts', [key], {});\n",
              "      } catch (error) {\n",
              "        console.error('Error during call to suggestCharts:', error);\n",
              "      }\n",
              "      quickchartButtonEl.classList.remove('colab-df-spinner');\n",
              "      quickchartButtonEl.classList.add('colab-df-quickchart-complete');\n",
              "    }\n",
              "    (() => {\n",
              "      let quickchartButtonEl =\n",
              "        document.querySelector('#df-3bb96ad6-5fba-4de3-9a49-6d7d12595178 button');\n",
              "      quickchartButtonEl.style.display =\n",
              "        google.colab.kernel.accessAllowed ? 'block' : 'none';\n",
              "    })();\n",
              "  </script>\n",
              "</div>\n",
              "\n",
              "    </div>\n",
              "  </div>\n"
            ],
            "application/vnd.google.colaboratory.intrinsic+json": {
              "type": "dataframe",
              "variable_name": "df"
            }
          },
          "metadata": {},
          "execution_count": 5
        }
      ]
    },
    {
      "cell_type": "markdown",
      "source": [
        "## InvoiceNo: 송장 번호. 명사 같은. 각 거래에 고유하게 할당된 6자리 정수\n",
        "이 코드가 문자 'c'로 시작하면 취소(파투라 누마라시)\n",
        "StockCode: 상품(품목) 코드\n",
        "\n",
        "명사 같은. 각 개별 제품에 고유하게 할당된 5자리 정수\n",
        "설명: 제품(항목) 이름\n",
        "\n",
        "수량: 거래당 각 제품(품목)의 수량\n",
        "\n",
        "InvoiceDate: 송장 날짜 및 시간\n",
        "\n",
        "숫자. 거래가 발생한 날짜와 시간\n",
        "\n",
        "단가: 숫자. 단위당 제품 가격(파운드)\n",
        "\n",
        "고객 ID: 고객 번호 명사 같은. 각 고객에게 고유하게 할당된 5자리 정수\n",
        "\n",
        "국가: 국가 이름. 명사 같은. 고객이 거주하는 국가의 이름"
      ],
      "metadata": {
        "id": "kO0tmqvcjlYq"
      }
    },
    {
      "cell_type": "markdown",
      "source": [
        "### DATA UNDERSTANDING"
      ],
      "metadata": {
        "id": "BIhoGp-iI23N"
      }
    },
    {
      "cell_type": "code",
      "source": [
        "df.info()"
      ],
      "metadata": {
        "colab": {
          "base_uri": "https://localhost:8080/"
        },
        "id": "yg19VaC8KFLP",
        "outputId": "ccb3db4c-cded-472f-c782-630df8fc3681"
      },
      "execution_count": 6,
      "outputs": [
        {
          "output_type": "stream",
          "name": "stdout",
          "text": [
            "<class 'pandas.core.frame.DataFrame'>\n",
            "RangeIndex: 541910 entries, 0 to 541909\n",
            "Data columns (total 8 columns):\n",
            " #   Column       Non-Null Count   Dtype         \n",
            "---  ------       --------------   -----         \n",
            " 0   Invoice      541910 non-null  object        \n",
            " 1   StockCode    541910 non-null  object        \n",
            " 2   Description  540456 non-null  object        \n",
            " 3   Quantity     541910 non-null  int64         \n",
            " 4   InvoiceDate  541910 non-null  datetime64[ns]\n",
            " 5   Price        541910 non-null  float64       \n",
            " 6   Customer ID  406830 non-null  float64       \n",
            " 7   Country      541910 non-null  object        \n",
            "dtypes: datetime64[ns](1), float64(2), int64(1), object(4)\n",
            "memory usage: 33.1+ MB\n"
          ]
        }
      ]
    },
    {
      "cell_type": "code",
      "source": [
        "def check_df(dataframe, head=5):\n",
        "    print(\" SHAPE \".center(70,'-'))\n",
        "    print('Rows: {}'.format(dataframe.shape[0]))\n",
        "    print('Columns: {}'.format(dataframe.shape[1]))\n",
        "    print(\" TYPES \".center(70,'-'))\n",
        "    print(dataframe.dtypes)\n",
        "    print(\" HEAD \".center(70,'-'))\n",
        "    print(dataframe.head(head))\n",
        "    print(\" TAIL \".center(70,'-'))\n",
        "    print(dataframe.tail(head))\n",
        "    print(\" MISSING VALUES \".center(70,'-'))\n",
        "    print(dataframe.isnull().sum())\n",
        "    print(\" DUPLICATED VALUES \".center(70,'-'))\n",
        "    print(dataframe.duplicated().sum())\n",
        "    print(\" DESCRIBE \".center(70,'-'))\n",
        "    print(dataframe.describe([0, 0.10, 0.20, 0.30, 0.40, 0.50, 0.60, 0.70, 0.80, 0.90, 1]).T)\n",
        "\n",
        "check_df(df)"
      ],
      "metadata": {
        "id": "vQesvLZHi64l",
        "colab": {
          "base_uri": "https://localhost:8080/"
        },
        "outputId": "269020d1-85c3-44c6-bb62-c426c0c294c0"
      },
      "execution_count": 7,
      "outputs": [
        {
          "output_type": "stream",
          "name": "stdout",
          "text": [
            "------------------------------- SHAPE --------------------------------\n",
            "Rows: 541910\n",
            "Columns: 8\n",
            "------------------------------- TYPES --------------------------------\n",
            "Invoice                object\n",
            "StockCode              object\n",
            "Description            object\n",
            "Quantity                int64\n",
            "InvoiceDate    datetime64[ns]\n",
            "Price                 float64\n",
            "Customer ID           float64\n",
            "Country                object\n",
            "dtype: object\n",
            "-------------------------------- HEAD --------------------------------\n",
            "  Invoice StockCode                          Description  Quantity         InvoiceDate  Price  Customer ID         Country\n",
            "0  536365    85123A   WHITE HANGING HEART T-LIGHT HOLDER         6 2010-12-01 08:26:00  2.550    17850.000  United Kingdom\n",
            "1  536365     71053                  WHITE METAL LANTERN         6 2010-12-01 08:26:00  3.390    17850.000  United Kingdom\n",
            "2  536365    84406B       CREAM CUPID HEARTS COAT HANGER         8 2010-12-01 08:26:00  2.750    17850.000  United Kingdom\n",
            "3  536365    84029G  KNITTED UNION FLAG HOT WATER BOTTLE         6 2010-12-01 08:26:00  3.390    17850.000  United Kingdom\n",
            "4  536365    84029E       RED WOOLLY HOTTIE WHITE HEART.         6 2010-12-01 08:26:00  3.390    17850.000  United Kingdom\n",
            "-------------------------------- TAIL --------------------------------\n",
            "       Invoice StockCode                      Description  Quantity         InvoiceDate  Price  Customer ID Country\n",
            "541905  581587     22899     CHILDREN'S APRON DOLLY GIRL          6 2011-12-09 12:50:00  2.100    12680.000  France\n",
            "541906  581587     23254    CHILDRENS CUTLERY DOLLY GIRL          4 2011-12-09 12:50:00  4.150    12680.000  France\n",
            "541907  581587     23255  CHILDRENS CUTLERY CIRCUS PARADE         4 2011-12-09 12:50:00  4.150    12680.000  France\n",
            "541908  581587     22138    BAKING SET 9 PIECE RETROSPOT          3 2011-12-09 12:50:00  4.950    12680.000  France\n",
            "541909  581587      POST                          POSTAGE         1 2011-12-09 12:50:00 18.000    12680.000  France\n",
            "--------------------------- MISSING VALUES ---------------------------\n",
            "Invoice             0\n",
            "StockCode           0\n",
            "Description      1454\n",
            "Quantity            0\n",
            "InvoiceDate         0\n",
            "Price               0\n",
            "Customer ID    135080\n",
            "Country             0\n",
            "dtype: int64\n",
            "------------------------- DUPLICATED VALUES --------------------------\n",
            "5268\n",
            "------------------------------ DESCRIBE ------------------------------\n",
            "                 count      mean      std        min         0%       10%       20%       30%       40%       50%       60%       70%       80%       90%      100%       max\n",
            "Quantity    541910.000     9.552  218.081 -80995.000 -80995.000     1.000     1.000     2.000     2.000     3.000     5.000     8.000    12.000    24.000 80995.000 80995.000\n",
            "Price       541910.000     4.611   96.760 -11062.060 -11062.060     0.630     0.850     1.250     1.650     2.080     2.550     3.750     4.950     7.950 38970.000 38970.000\n",
            "Customer ID 406830.000 15287.684 1713.603  12346.000  12346.000 12876.000 13536.000 14159.000 14659.000 15152.000 15805.000 16493.000 17095.000 17719.000 18287.000 18287.000\n"
          ]
        }
      ]
    },
    {
      "cell_type": "code",
      "source": [
        "df[\"Description\"].nunique()"
      ],
      "metadata": {
        "id": "T6Ki8GfCi660",
        "colab": {
          "base_uri": "https://localhost:8080/"
        },
        "outputId": "ec3f46aa-9e0e-40c3-c65d-6c46527470c1"
      },
      "execution_count": 8,
      "outputs": [
        {
          "output_type": "execute_result",
          "data": {
            "text/plain": [
              "4223"
            ]
          },
          "metadata": {},
          "execution_count": 8
        }
      ]
    },
    {
      "cell_type": "code",
      "source": [
        "df[\"Description\"].value_counts().head(10)"
      ],
      "metadata": {
        "id": "qvXfLksSi69c",
        "colab": {
          "base_uri": "https://localhost:8080/"
        },
        "outputId": "ac827524-eaa8-49cd-88e3-8043f4a64c14"
      },
      "execution_count": 9,
      "outputs": [
        {
          "output_type": "execute_result",
          "data": {
            "text/plain": [
              "WHITE HANGING HEART T-LIGHT HOLDER    2369\n",
              "REGENCY CAKESTAND 3 TIER              2200\n",
              "JUMBO BAG RED RETROSPOT               2159\n",
              "PARTY BUNTING                         1727\n",
              "LUNCH BAG RED RETROSPOT               1638\n",
              "ASSORTED COLOUR BIRD ORNAMENT         1501\n",
              "SET OF 3 CAKE TINS PANTRY DESIGN      1473\n",
              "PACK OF 72 RETROSPOT CAKE CASES       1385\n",
              "LUNCH BAG  BLACK SKULL.               1350\n",
              "NATURAL SLATE HEART CHALKBOARD        1280\n",
              "Name: Description, dtype: int64"
            ]
          },
          "metadata": {},
          "execution_count": 9
        }
      ]
    },
    {
      "cell_type": "code",
      "source": [
        "df[\"TotalPrice\"] = df[\"Quantity\"] * df[\"Price\"]\n",
        "df[\"TotalPrice\"].head()"
      ],
      "metadata": {
        "colab": {
          "base_uri": "https://localhost:8080/"
        },
        "id": "9ojZeS-KN_tZ",
        "outputId": "1b689834-aac5-4067-e497-01b1edc039f8"
      },
      "execution_count": 10,
      "outputs": [
        {
          "output_type": "execute_result",
          "data": {
            "text/plain": [
              "0   15.300\n",
              "1   20.340\n",
              "2   22.000\n",
              "3   20.340\n",
              "4   20.340\n",
              "Name: TotalPrice, dtype: float64"
            ]
          },
          "metadata": {},
          "execution_count": 10
        }
      ]
    },
    {
      "cell_type": "code",
      "source": [
        "df.groupby(\"Description\").agg({\"Quantity\": \"sum\"}).sort_values(\"Quantity\", ascending=False).head().style.set_properties(**{\"background-color\": \"#000000\",\"color\":\"#FFEA20\",\"border\": \"0.2px solid white\"})"
      ],
      "metadata": {
        "id": "N02Xa0Pbi6_k",
        "colab": {
          "base_uri": "https://localhost:8080/",
          "height": 243
        },
        "outputId": "2cacea37-f372-4140-d5db-61cd43137795"
      },
      "execution_count": 11,
      "outputs": [
        {
          "output_type": "execute_result",
          "data": {
            "text/plain": [
              "<pandas.io.formats.style.Styler at 0x796c98b1ecb0>"
            ],
            "text/html": [
              "<style type=\"text/css\">\n",
              "#T_2814f_row0_col0, #T_2814f_row1_col0, #T_2814f_row2_col0, #T_2814f_row3_col0, #T_2814f_row4_col0 {\n",
              "  background-color: #000000;\n",
              "  color: #FFEA20;\n",
              "  border: 0.2px solid white;\n",
              "}\n",
              "</style>\n",
              "<table id=\"T_2814f\" class=\"dataframe\">\n",
              "  <thead>\n",
              "    <tr>\n",
              "      <th class=\"blank level0\" >&nbsp;</th>\n",
              "      <th id=\"T_2814f_level0_col0\" class=\"col_heading level0 col0\" >Quantity</th>\n",
              "    </tr>\n",
              "    <tr>\n",
              "      <th class=\"index_name level0\" >Description</th>\n",
              "      <th class=\"blank col0\" >&nbsp;</th>\n",
              "    </tr>\n",
              "  </thead>\n",
              "  <tbody>\n",
              "    <tr>\n",
              "      <th id=\"T_2814f_level0_row0\" class=\"row_heading level0 row0\" >WORLD WAR 2 GLIDERS ASSTD DESIGNS</th>\n",
              "      <td id=\"T_2814f_row0_col0\" class=\"data row0 col0\" >53847</td>\n",
              "    </tr>\n",
              "    <tr>\n",
              "      <th id=\"T_2814f_level0_row1\" class=\"row_heading level0 row1\" >JUMBO BAG RED RETROSPOT</th>\n",
              "      <td id=\"T_2814f_row1_col0\" class=\"data row1 col0\" >47363</td>\n",
              "    </tr>\n",
              "    <tr>\n",
              "      <th id=\"T_2814f_level0_row2\" class=\"row_heading level0 row2\" >ASSORTED COLOUR BIRD ORNAMENT</th>\n",
              "      <td id=\"T_2814f_row2_col0\" class=\"data row2 col0\" >36381</td>\n",
              "    </tr>\n",
              "    <tr>\n",
              "      <th id=\"T_2814f_level0_row3\" class=\"row_heading level0 row3\" >POPCORN HOLDER</th>\n",
              "      <td id=\"T_2814f_row3_col0\" class=\"data row3 col0\" >36334</td>\n",
              "    </tr>\n",
              "    <tr>\n",
              "      <th id=\"T_2814f_level0_row4\" class=\"row_heading level0 row4\" >PACK OF 72 RETROSPOT CAKE CASES</th>\n",
              "      <td id=\"T_2814f_row4_col0\" class=\"data row4 col0\" >36039</td>\n",
              "    </tr>\n",
              "  </tbody>\n",
              "</table>\n"
            ]
          },
          "metadata": {},
          "execution_count": 11
        }
      ]
    },
    {
      "cell_type": "code",
      "source": [
        "df['Country'].value_counts()"
      ],
      "metadata": {
        "id": "gc5b4NG6i7B8",
        "colab": {
          "base_uri": "https://localhost:8080/"
        },
        "outputId": "d46bc504-6588-410b-bc88-e8fab971601d"
      },
      "execution_count": 12,
      "outputs": [
        {
          "output_type": "execute_result",
          "data": {
            "text/plain": [
              "United Kingdom          495478\n",
              "Germany                   9495\n",
              "France                    8558\n",
              "EIRE                      8196\n",
              "Spain                     2533\n",
              "Netherlands               2371\n",
              "Belgium                   2069\n",
              "Switzerland               2002\n",
              "Portugal                  1519\n",
              "Australia                 1259\n",
              "Norway                    1086\n",
              "Italy                      803\n",
              "Channel Islands            758\n",
              "Finland                    695\n",
              "Cyprus                     622\n",
              "Sweden                     462\n",
              "Unspecified                446\n",
              "Austria                    401\n",
              "Denmark                    389\n",
              "Japan                      358\n",
              "Poland                     341\n",
              "Israel                     297\n",
              "USA                        291\n",
              "Hong Kong                  288\n",
              "Singapore                  229\n",
              "Iceland                    182\n",
              "Canada                     151\n",
              "Greece                     146\n",
              "Malta                      127\n",
              "United Arab Emirates        68\n",
              "European Community          61\n",
              "RSA                         58\n",
              "Lebanon                     45\n",
              "Lithuania                   35\n",
              "Brazil                      32\n",
              "Czech Republic              30\n",
              "Bahrain                     19\n",
              "Saudi Arabia                10\n",
              "Name: Country, dtype: int64"
            ]
          },
          "metadata": {},
          "execution_count": 12
        }
      ]
    },
    {
      "cell_type": "code",
      "source": [
        "df.columns = df.columns.str.replace(' ', '')\n",
        "df.columns"
      ],
      "metadata": {
        "id": "w5M3KJJQi7Ec",
        "colab": {
          "base_uri": "https://localhost:8080/"
        },
        "outputId": "e1d40487-9f2f-448f-bf81-219d609ff106"
      },
      "execution_count": 13,
      "outputs": [
        {
          "output_type": "execute_result",
          "data": {
            "text/plain": [
              "Index(['Invoice', 'StockCode', 'Description', 'Quantity', 'InvoiceDate', 'Price', 'CustomerID', 'Country', 'TotalPrice'], dtype='object')"
            ]
          },
          "metadata": {},
          "execution_count": 13
        }
      ]
    },
    {
      "cell_type": "code",
      "source": [
        "world_map = df[['CustomerID', 'Invoice', 'Country']\n",
        "              ].groupby(['CustomerID', 'Invoice', 'Country']\n",
        "                       ).count().reset_index(drop = False)\n",
        "countries = world_map['Country'].value_counts()\n",
        "data = dict(type='choropleth',\n",
        "            locations = countries.index,\n",
        "            locationmode = 'country names',\n",
        "            z = countries,\n",
        "            text = countries.index,\n",
        "            colorbar = {'title':'Orders'},\n",
        "            colorscale='Viridis',\n",
        "            reversescale = False)\n",
        "\n",
        "layout = dict(title={'text': \"Number of Orders by Countries\",\n",
        "                     'y':0.9,\n",
        "                     'x':0.5,\n",
        "                     'xanchor': 'center',\n",
        "                     'yanchor': 'top'},\n",
        "              geo = dict(resolution = 50,\n",
        "                         showocean = True,\n",
        "                         oceancolor = \"LightBlue\",\n",
        "                         showland = True,\n",
        "                         landcolor = \"whitesmoke\",\n",
        "                         showframe = True),\n",
        "             template = 'plotly_white',\n",
        "             height = 600,\n",
        "             width = 1000)\n",
        "\n",
        "choromap = go.Figure(data = [data], layout = layout)\n",
        "iplot(choromap, validate = False)"
      ],
      "metadata": {
        "id": "GR_UMpNzi7Gk",
        "colab": {
          "base_uri": "https://localhost:8080/",
          "height": 617
        },
        "outputId": "08dde0ba-9d84-494d-bb97-3b324a1b0488"
      },
      "execution_count": 14,
      "outputs": [
        {
          "output_type": "display_data",
          "data": {
            "text/html": [
              "<html>\n",
              "<head><meta charset=\"utf-8\" /></head>\n",
              "<body>\n",
              "    <div>            <script src=\"https://cdnjs.cloudflare.com/ajax/libs/mathjax/2.7.5/MathJax.js?config=TeX-AMS-MML_SVG\"></script><script type=\"text/javascript\">if (window.MathJax && window.MathJax.Hub && window.MathJax.Hub.Config) {window.MathJax.Hub.Config({SVG: {font: \"STIX-Web\"}});}</script>                <script type=\"text/javascript\">window.PlotlyConfig = {MathJaxConfig: 'local'};</script>\n",
              "        <script charset=\"utf-8\" src=\"https://cdn.plot.ly/plotly-2.24.1.min.js\"></script>                <div id=\"4004d622-2545-4648-9c22-09915b73257b\" class=\"plotly-graph-div\" style=\"height:600px; width:1000px;\"></div>            <script type=\"text/javascript\">                                    window.PLOTLYENV=window.PLOTLYENV || {};                                    if (document.getElementById(\"4004d622-2545-4648-9c22-09915b73257b\")) {                    Plotly.newPlot(                        \"4004d622-2545-4648-9c22-09915b73257b\",                        [{\"colorbar\":{\"title\":{\"text\":\"Orders\"}},\"colorscale\":[[0.0,\"#440154\"],[0.1111111111111111,\"#482878\"],[0.2222222222222222,\"#3e4989\"],[0.3333333333333333,\"#31688e\"],[0.4444444444444444,\"#26828e\"],[0.5555555555555556,\"#1f9e89\"],[0.6666666666666666,\"#35b779\"],[0.7777777777777778,\"#6ece58\"],[0.8888888888888888,\"#b5de2b\"],[1.0,\"#fde725\"]],\"locationmode\":\"country names\",\"locations\":[\"United Kingdom\",\"Germany\",\"France\",\"EIRE\",\"Belgium\",\"Spain\",\"Netherlands\",\"Switzerland\",\"Portugal\",\"Australia\",\"Italy\",\"Finland\",\"Sweden\",\"Norway\",\"Channel Islands\",\"Japan\",\"Poland\",\"Denmark\",\"Cyprus\",\"Austria\",\"Singapore\",\"Malta\",\"Unspecified\",\"USA\",\"Iceland\",\"Israel\",\"Canada\",\"Greece\",\"Czech Republic\",\"European Community\",\"Lithuania\",\"United Arab Emirates\",\"Saudi Arabia\",\"Bahrain\",\"RSA\",\"Lebanon\",\"Brazil\"],\"reversescale\":false,\"text\":[\"United Kingdom\",\"Germany\",\"France\",\"EIRE\",\"Belgium\",\"Spain\",\"Netherlands\",\"Switzerland\",\"Portugal\",\"Australia\",\"Italy\",\"Finland\",\"Sweden\",\"Norway\",\"Channel Islands\",\"Japan\",\"Poland\",\"Denmark\",\"Cyprus\",\"Austria\",\"Singapore\",\"Malta\",\"Unspecified\",\"USA\",\"Iceland\",\"Israel\",\"Canada\",\"Greece\",\"Czech Republic\",\"European Community\",\"Lithuania\",\"United Arab Emirates\",\"Saudi Arabia\",\"Bahrain\",\"RSA\",\"Lebanon\",\"Brazil\"],\"z\":[19857,603,458,319,119,105,101,71,70,69,55,48,46,40,33,28,24,21,20,19,10,10,8,7,7,6,6,6,5,5,4,3,2,2,1,1,1],\"type\":\"choropleth\"}],                        {\"geo\":{\"landcolor\":\"whitesmoke\",\"oceancolor\":\"LightBlue\",\"resolution\":50,\"showframe\":true,\"showland\":true,\"showocean\":true},\"height\":600,\"template\":{\"data\":{\"barpolar\":[{\"marker\":{\"line\":{\"color\":\"white\",\"width\":0.5},\"pattern\":{\"fillmode\":\"overlay\",\"size\":10,\"solidity\":0.2}},\"type\":\"barpolar\"}],\"bar\":[{\"error_x\":{\"color\":\"#2a3f5f\"},\"error_y\":{\"color\":\"#2a3f5f\"},\"marker\":{\"line\":{\"color\":\"white\",\"width\":0.5},\"pattern\":{\"fillmode\":\"overlay\",\"size\":10,\"solidity\":0.2}},\"type\":\"bar\"}],\"carpet\":[{\"aaxis\":{\"endlinecolor\":\"#2a3f5f\",\"gridcolor\":\"#C8D4E3\",\"linecolor\":\"#C8D4E3\",\"minorgridcolor\":\"#C8D4E3\",\"startlinecolor\":\"#2a3f5f\"},\"baxis\":{\"endlinecolor\":\"#2a3f5f\",\"gridcolor\":\"#C8D4E3\",\"linecolor\":\"#C8D4E3\",\"minorgridcolor\":\"#C8D4E3\",\"startlinecolor\":\"#2a3f5f\"},\"type\":\"carpet\"}],\"choropleth\":[{\"colorbar\":{\"outlinewidth\":0,\"ticks\":\"\"},\"type\":\"choropleth\"}],\"contourcarpet\":[{\"colorbar\":{\"outlinewidth\":0,\"ticks\":\"\"},\"type\":\"contourcarpet\"}],\"contour\":[{\"colorbar\":{\"outlinewidth\":0,\"ticks\":\"\"},\"colorscale\":[[0.0,\"#0d0887\"],[0.1111111111111111,\"#46039f\"],[0.2222222222222222,\"#7201a8\"],[0.3333333333333333,\"#9c179e\"],[0.4444444444444444,\"#bd3786\"],[0.5555555555555556,\"#d8576b\"],[0.6666666666666666,\"#ed7953\"],[0.7777777777777778,\"#fb9f3a\"],[0.8888888888888888,\"#fdca26\"],[1.0,\"#f0f921\"]],\"type\":\"contour\"}],\"heatmapgl\":[{\"colorbar\":{\"outlinewidth\":0,\"ticks\":\"\"},\"colorscale\":[[0.0,\"#0d0887\"],[0.1111111111111111,\"#46039f\"],[0.2222222222222222,\"#7201a8\"],[0.3333333333333333,\"#9c179e\"],[0.4444444444444444,\"#bd3786\"],[0.5555555555555556,\"#d8576b\"],[0.6666666666666666,\"#ed7953\"],[0.7777777777777778,\"#fb9f3a\"],[0.8888888888888888,\"#fdca26\"],[1.0,\"#f0f921\"]],\"type\":\"heatmapgl\"}],\"heatmap\":[{\"colorbar\":{\"outlinewidth\":0,\"ticks\":\"\"},\"colorscale\":[[0.0,\"#0d0887\"],[0.1111111111111111,\"#46039f\"],[0.2222222222222222,\"#7201a8\"],[0.3333333333333333,\"#9c179e\"],[0.4444444444444444,\"#bd3786\"],[0.5555555555555556,\"#d8576b\"],[0.6666666666666666,\"#ed7953\"],[0.7777777777777778,\"#fb9f3a\"],[0.8888888888888888,\"#fdca26\"],[1.0,\"#f0f921\"]],\"type\":\"heatmap\"}],\"histogram2dcontour\":[{\"colorbar\":{\"outlinewidth\":0,\"ticks\":\"\"},\"colorscale\":[[0.0,\"#0d0887\"],[0.1111111111111111,\"#46039f\"],[0.2222222222222222,\"#7201a8\"],[0.3333333333333333,\"#9c179e\"],[0.4444444444444444,\"#bd3786\"],[0.5555555555555556,\"#d8576b\"],[0.6666666666666666,\"#ed7953\"],[0.7777777777777778,\"#fb9f3a\"],[0.8888888888888888,\"#fdca26\"],[1.0,\"#f0f921\"]],\"type\":\"histogram2dcontour\"}],\"histogram2d\":[{\"colorbar\":{\"outlinewidth\":0,\"ticks\":\"\"},\"colorscale\":[[0.0,\"#0d0887\"],[0.1111111111111111,\"#46039f\"],[0.2222222222222222,\"#7201a8\"],[0.3333333333333333,\"#9c179e\"],[0.4444444444444444,\"#bd3786\"],[0.5555555555555556,\"#d8576b\"],[0.6666666666666666,\"#ed7953\"],[0.7777777777777778,\"#fb9f3a\"],[0.8888888888888888,\"#fdca26\"],[1.0,\"#f0f921\"]],\"type\":\"histogram2d\"}],\"histogram\":[{\"marker\":{\"pattern\":{\"fillmode\":\"overlay\",\"size\":10,\"solidity\":0.2}},\"type\":\"histogram\"}],\"mesh3d\":[{\"colorbar\":{\"outlinewidth\":0,\"ticks\":\"\"},\"type\":\"mesh3d\"}],\"parcoords\":[{\"line\":{\"colorbar\":{\"outlinewidth\":0,\"ticks\":\"\"}},\"type\":\"parcoords\"}],\"pie\":[{\"automargin\":true,\"type\":\"pie\"}],\"scatter3d\":[{\"line\":{\"colorbar\":{\"outlinewidth\":0,\"ticks\":\"\"}},\"marker\":{\"colorbar\":{\"outlinewidth\":0,\"ticks\":\"\"}},\"type\":\"scatter3d\"}],\"scattercarpet\":[{\"marker\":{\"colorbar\":{\"outlinewidth\":0,\"ticks\":\"\"}},\"type\":\"scattercarpet\"}],\"scattergeo\":[{\"marker\":{\"colorbar\":{\"outlinewidth\":0,\"ticks\":\"\"}},\"type\":\"scattergeo\"}],\"scattergl\":[{\"marker\":{\"colorbar\":{\"outlinewidth\":0,\"ticks\":\"\"}},\"type\":\"scattergl\"}],\"scattermapbox\":[{\"marker\":{\"colorbar\":{\"outlinewidth\":0,\"ticks\":\"\"}},\"type\":\"scattermapbox\"}],\"scatterpolargl\":[{\"marker\":{\"colorbar\":{\"outlinewidth\":0,\"ticks\":\"\"}},\"type\":\"scatterpolargl\"}],\"scatterpolar\":[{\"marker\":{\"colorbar\":{\"outlinewidth\":0,\"ticks\":\"\"}},\"type\":\"scatterpolar\"}],\"scatter\":[{\"fillpattern\":{\"fillmode\":\"overlay\",\"size\":10,\"solidity\":0.2},\"type\":\"scatter\"}],\"scatterternary\":[{\"marker\":{\"colorbar\":{\"outlinewidth\":0,\"ticks\":\"\"}},\"type\":\"scatterternary\"}],\"surface\":[{\"colorbar\":{\"outlinewidth\":0,\"ticks\":\"\"},\"colorscale\":[[0.0,\"#0d0887\"],[0.1111111111111111,\"#46039f\"],[0.2222222222222222,\"#7201a8\"],[0.3333333333333333,\"#9c179e\"],[0.4444444444444444,\"#bd3786\"],[0.5555555555555556,\"#d8576b\"],[0.6666666666666666,\"#ed7953\"],[0.7777777777777778,\"#fb9f3a\"],[0.8888888888888888,\"#fdca26\"],[1.0,\"#f0f921\"]],\"type\":\"surface\"}],\"table\":[{\"cells\":{\"fill\":{\"color\":\"#EBF0F8\"},\"line\":{\"color\":\"white\"}},\"header\":{\"fill\":{\"color\":\"#C8D4E3\"},\"line\":{\"color\":\"white\"}},\"type\":\"table\"}]},\"layout\":{\"annotationdefaults\":{\"arrowcolor\":\"#2a3f5f\",\"arrowhead\":0,\"arrowwidth\":1},\"autotypenumbers\":\"strict\",\"coloraxis\":{\"colorbar\":{\"outlinewidth\":0,\"ticks\":\"\"}},\"colorscale\":{\"diverging\":[[0,\"#8e0152\"],[0.1,\"#c51b7d\"],[0.2,\"#de77ae\"],[0.3,\"#f1b6da\"],[0.4,\"#fde0ef\"],[0.5,\"#f7f7f7\"],[0.6,\"#e6f5d0\"],[0.7,\"#b8e186\"],[0.8,\"#7fbc41\"],[0.9,\"#4d9221\"],[1,\"#276419\"]],\"sequential\":[[0.0,\"#0d0887\"],[0.1111111111111111,\"#46039f\"],[0.2222222222222222,\"#7201a8\"],[0.3333333333333333,\"#9c179e\"],[0.4444444444444444,\"#bd3786\"],[0.5555555555555556,\"#d8576b\"],[0.6666666666666666,\"#ed7953\"],[0.7777777777777778,\"#fb9f3a\"],[0.8888888888888888,\"#fdca26\"],[1.0,\"#f0f921\"]],\"sequentialminus\":[[0.0,\"#0d0887\"],[0.1111111111111111,\"#46039f\"],[0.2222222222222222,\"#7201a8\"],[0.3333333333333333,\"#9c179e\"],[0.4444444444444444,\"#bd3786\"],[0.5555555555555556,\"#d8576b\"],[0.6666666666666666,\"#ed7953\"],[0.7777777777777778,\"#fb9f3a\"],[0.8888888888888888,\"#fdca26\"],[1.0,\"#f0f921\"]]},\"colorway\":[\"#636efa\",\"#EF553B\",\"#00cc96\",\"#ab63fa\",\"#FFA15A\",\"#19d3f3\",\"#FF6692\",\"#B6E880\",\"#FF97FF\",\"#FECB52\"],\"font\":{\"color\":\"#2a3f5f\"},\"geo\":{\"bgcolor\":\"white\",\"lakecolor\":\"white\",\"landcolor\":\"white\",\"showlakes\":true,\"showland\":true,\"subunitcolor\":\"#C8D4E3\"},\"hoverlabel\":{\"align\":\"left\"},\"hovermode\":\"closest\",\"mapbox\":{\"style\":\"light\"},\"paper_bgcolor\":\"white\",\"plot_bgcolor\":\"white\",\"polar\":{\"angularaxis\":{\"gridcolor\":\"#EBF0F8\",\"linecolor\":\"#EBF0F8\",\"ticks\":\"\"},\"bgcolor\":\"white\",\"radialaxis\":{\"gridcolor\":\"#EBF0F8\",\"linecolor\":\"#EBF0F8\",\"ticks\":\"\"}},\"scene\":{\"xaxis\":{\"backgroundcolor\":\"white\",\"gridcolor\":\"#DFE8F3\",\"gridwidth\":2,\"linecolor\":\"#EBF0F8\",\"showbackground\":true,\"ticks\":\"\",\"zerolinecolor\":\"#EBF0F8\"},\"yaxis\":{\"backgroundcolor\":\"white\",\"gridcolor\":\"#DFE8F3\",\"gridwidth\":2,\"linecolor\":\"#EBF0F8\",\"showbackground\":true,\"ticks\":\"\",\"zerolinecolor\":\"#EBF0F8\"},\"zaxis\":{\"backgroundcolor\":\"white\",\"gridcolor\":\"#DFE8F3\",\"gridwidth\":2,\"linecolor\":\"#EBF0F8\",\"showbackground\":true,\"ticks\":\"\",\"zerolinecolor\":\"#EBF0F8\"}},\"shapedefaults\":{\"line\":{\"color\":\"#2a3f5f\"}},\"ternary\":{\"aaxis\":{\"gridcolor\":\"#DFE8F3\",\"linecolor\":\"#A2B1C6\",\"ticks\":\"\"},\"baxis\":{\"gridcolor\":\"#DFE8F3\",\"linecolor\":\"#A2B1C6\",\"ticks\":\"\"},\"bgcolor\":\"white\",\"caxis\":{\"gridcolor\":\"#DFE8F3\",\"linecolor\":\"#A2B1C6\",\"ticks\":\"\"}},\"title\":{\"x\":0.05},\"xaxis\":{\"automargin\":true,\"gridcolor\":\"#EBF0F8\",\"linecolor\":\"#EBF0F8\",\"ticks\":\"\",\"title\":{\"standoff\":15},\"zerolinecolor\":\"#EBF0F8\",\"zerolinewidth\":2},\"yaxis\":{\"automargin\":true,\"gridcolor\":\"#EBF0F8\",\"linecolor\":\"#EBF0F8\",\"ticks\":\"\",\"title\":{\"standoff\":15},\"zerolinecolor\":\"#EBF0F8\",\"zerolinewidth\":2}}},\"title\":{\"text\":\"Number of Orders by Countries\",\"x\":0.5,\"xanchor\":\"center\",\"y\":0.9,\"yanchor\":\"top\"},\"width\":1000},                        {\"responsive\": true}                    ).then(function(){\n",
              "                            \n",
              "var gd = document.getElementById('4004d622-2545-4648-9c22-09915b73257b');\n",
              "var x = new MutationObserver(function (mutations, observer) {{\n",
              "        var display = window.getComputedStyle(gd).display;\n",
              "        if (!display || display === 'none') {{\n",
              "            console.log([gd, 'removed!']);\n",
              "            Plotly.purge(gd);\n",
              "            observer.disconnect();\n",
              "        }}\n",
              "}});\n",
              "\n",
              "// Listen for the removal of the full notebook cells\n",
              "var notebookContainer = gd.closest('#notebook-container');\n",
              "if (notebookContainer) {{\n",
              "    x.observe(notebookContainer, {childList: true});\n",
              "}}\n",
              "\n",
              "// Listen for the clearing of the current output cell\n",
              "var outputEl = gd.closest('.output');\n",
              "if (outputEl) {{\n",
              "    x.observe(outputEl, {childList: true});\n",
              "}}\n",
              "\n",
              "                        })                };                            </script>        </div>\n",
              "</body>\n",
              "</html>"
            ]
          },
          "metadata": {}
        }
      ]
    },
    {
      "cell_type": "markdown",
      "source": [
        "### DATA PREPARATION"
      ],
      "metadata": {
        "id": "G5C6i_JGJ0bW"
      }
    },
    {
      "cell_type": "code",
      "source": [
        "def outlier_thresholds(dataframe, variable):\n",
        "    quartile1 = dataframe[variable].quantile(0.01)\n",
        "    quartile3 = dataframe[variable].quantile(0.99)\n",
        "    interquantile_range = quartile3 - quartile1\n",
        "    up_limit = quartile3 + 1.5 * interquantile_range\n",
        "    low_limit = quartile1 - 1.5 * interquantile_range\n",
        "    return low_limit, up_limit\n",
        "\n",
        "def replace_with_thresholds(dataframe, variable):\n",
        "    low_limit, up_limit = outlier_thresholds(dataframe, variable)\n",
        "    dataframe.loc[(dataframe[variable] < low_limit), variable] = low_limit\n",
        "    dataframe.loc[(dataframe[variable] > up_limit), variable] = up_limit\n",
        "\n",
        "replace_with_thresholds(df, \"Quantity\")\n",
        "replace_with_thresholds(df, \"Price\")"
      ],
      "metadata": {
        "id": "uxT5Egpvi7JS"
      },
      "execution_count": 15,
      "outputs": []
    },
    {
      "cell_type": "code",
      "source": [
        "df.dropna(inplace=True)\n",
        "df.info()"
      ],
      "metadata": {
        "id": "6x_eycK9i7LU",
        "colab": {
          "base_uri": "https://localhost:8080/"
        },
        "outputId": "75d9274c-43ad-4b28-99ca-44e6127a9027"
      },
      "execution_count": 16,
      "outputs": [
        {
          "output_type": "stream",
          "name": "stdout",
          "text": [
            "<class 'pandas.core.frame.DataFrame'>\n",
            "Int64Index: 406830 entries, 0 to 541909\n",
            "Data columns (total 9 columns):\n",
            " #   Column       Non-Null Count   Dtype         \n",
            "---  ------       --------------   -----         \n",
            " 0   Invoice      406830 non-null  object        \n",
            " 1   StockCode    406830 non-null  object        \n",
            " 2   Description  406830 non-null  object        \n",
            " 3   Quantity     406830 non-null  int64         \n",
            " 4   InvoiceDate  406830 non-null  datetime64[ns]\n",
            " 5   Price        406830 non-null  float64       \n",
            " 6   CustomerID   406830 non-null  float64       \n",
            " 7   Country      406830 non-null  object        \n",
            " 8   TotalPrice   406830 non-null  float64       \n",
            "dtypes: datetime64[ns](1), float64(3), int64(1), object(4)\n",
            "memory usage: 31.0+ MB\n"
          ]
        }
      ]
    },
    {
      "cell_type": "code",
      "source": [
        "# 'Invoice' 열을 문자열로 변환한 후 'C'를 포함하지 않는 행들만 df에 담기\n",
        "df = df[~df['Invoice'].astype(str).str.contains('C', na=False)]\n",
        "df.info()"
      ],
      "metadata": {
        "colab": {
          "base_uri": "https://localhost:8080/"
        },
        "id": "ckhIMZgONB8B",
        "outputId": "5e98b7b4-62ae-4f67-86aa-187927aec8bc"
      },
      "execution_count": 17,
      "outputs": [
        {
          "output_type": "stream",
          "name": "stdout",
          "text": [
            "<class 'pandas.core.frame.DataFrame'>\n",
            "Int64Index: 397925 entries, 0 to 541909\n",
            "Data columns (total 9 columns):\n",
            " #   Column       Non-Null Count   Dtype         \n",
            "---  ------       --------------   -----         \n",
            " 0   Invoice      397925 non-null  object        \n",
            " 1   StockCode    397925 non-null  object        \n",
            " 2   Description  397925 non-null  object        \n",
            " 3   Quantity     397925 non-null  int64         \n",
            " 4   InvoiceDate  397925 non-null  datetime64[ns]\n",
            " 5   Price        397925 non-null  float64       \n",
            " 6   CustomerID   397925 non-null  float64       \n",
            " 7   Country      397925 non-null  object        \n",
            " 8   TotalPrice   397925 non-null  float64       \n",
            "dtypes: datetime64[ns](1), float64(3), int64(1), object(4)\n",
            "memory usage: 30.4+ MB\n"
          ]
        }
      ]
    },
    {
      "cell_type": "markdown",
      "source": [
        "### CALCULATING RFM METRICS"
      ],
      "metadata": {
        "id": "ir6h_x4VKQS-"
      }
    },
    {
      "cell_type": "code",
      "source": [
        "df[\"InvoiceDate\"].max()"
      ],
      "metadata": {
        "colab": {
          "base_uri": "https://localhost:8080/"
        },
        "id": "YaK9uqY_KAHe",
        "outputId": "a95b11ef-5a2e-4f81-9ec2-5e86ff7667e8"
      },
      "execution_count": 18,
      "outputs": [
        {
          "output_type": "execute_result",
          "data": {
            "text/plain": [
              "Timestamp('2011-12-09 12:50:00')"
            ]
          },
          "metadata": {},
          "execution_count": 18
        }
      ]
    },
    {
      "cell_type": "code",
      "source": [
        "today_date = datetime(2011, 12, 11)\n",
        "# RFM metriklerini hesaplayalım..\n",
        "# Recency : Müşterinin son alışverişinin üzerinden geçen zaman.\n",
        "# Frequency: Müşterinin toplam alışveriş sayısı\n",
        "# Monetary: Müşterinin tüm süreçte toplam bıraktığı para\n",
        "\n",
        "rfm = df.groupby('CustomerID').agg({'InvoiceDate': lambda x: (today_date - x.max()).days,\n",
        "                                     'Invoice': lambda x: x.nunique(),\n",
        "                                     'TotalPrice': lambda x: x.sum()})\n",
        "\n",
        "rfm.columns = ['recency', 'frequency', 'monetary']\n",
        "# İadelerden doğabilecek negatif değerleri ve 0 değerleri kaldıralım.\n",
        "rfm = rfm[rfm[\"monetary\"] > 0]\n",
        "\n",
        "rfm.head().style.set_properties(**{\"background-color\": \"#000000\",\"color\":\"#FFEA20\",\"border\": \"0.2px solid white\"})"
      ],
      "metadata": {
        "colab": {
          "base_uri": "https://localhost:8080/",
          "height": 243
        },
        "id": "tZ-wCjxPKPw4",
        "outputId": "a5a5e7a1-3635-4bed-81a6-e40f40facf48"
      },
      "execution_count": 19,
      "outputs": [
        {
          "output_type": "execute_result",
          "data": {
            "text/plain": [
              "<pandas.io.formats.style.Styler at 0x796c4c1d8190>"
            ],
            "text/html": [
              "<style type=\"text/css\">\n",
              "#T_356cb_row0_col0, #T_356cb_row0_col1, #T_356cb_row0_col2, #T_356cb_row1_col0, #T_356cb_row1_col1, #T_356cb_row1_col2, #T_356cb_row2_col0, #T_356cb_row2_col1, #T_356cb_row2_col2, #T_356cb_row3_col0, #T_356cb_row3_col1, #T_356cb_row3_col2, #T_356cb_row4_col0, #T_356cb_row4_col1, #T_356cb_row4_col2 {\n",
              "  background-color: #000000;\n",
              "  color: #FFEA20;\n",
              "  border: 0.2px solid white;\n",
              "}\n",
              "</style>\n",
              "<table id=\"T_356cb\" class=\"dataframe\">\n",
              "  <thead>\n",
              "    <tr>\n",
              "      <th class=\"blank level0\" >&nbsp;</th>\n",
              "      <th id=\"T_356cb_level0_col0\" class=\"col_heading level0 col0\" >recency</th>\n",
              "      <th id=\"T_356cb_level0_col1\" class=\"col_heading level0 col1\" >frequency</th>\n",
              "      <th id=\"T_356cb_level0_col2\" class=\"col_heading level0 col2\" >monetary</th>\n",
              "    </tr>\n",
              "    <tr>\n",
              "      <th class=\"index_name level0\" >CustomerID</th>\n",
              "      <th class=\"blank col0\" >&nbsp;</th>\n",
              "      <th class=\"blank col1\" >&nbsp;</th>\n",
              "      <th class=\"blank col2\" >&nbsp;</th>\n",
              "    </tr>\n",
              "  </thead>\n",
              "  <tbody>\n",
              "    <tr>\n",
              "      <th id=\"T_356cb_level0_row0\" class=\"row_heading level0 row0\" >12346.000000</th>\n",
              "      <td id=\"T_356cb_row0_col0\" class=\"data row0 col0\" >326</td>\n",
              "      <td id=\"T_356cb_row0_col1\" class=\"data row0 col1\" >1</td>\n",
              "      <td id=\"T_356cb_row0_col2\" class=\"data row0 col2\" >77183.600000</td>\n",
              "    </tr>\n",
              "    <tr>\n",
              "      <th id=\"T_356cb_level0_row1\" class=\"row_heading level0 row1\" >12347.000000</th>\n",
              "      <td id=\"T_356cb_row1_col0\" class=\"data row1 col0\" >3</td>\n",
              "      <td id=\"T_356cb_row1_col1\" class=\"data row1 col1\" >7</td>\n",
              "      <td id=\"T_356cb_row1_col2\" class=\"data row1 col2\" >4310.000000</td>\n",
              "    </tr>\n",
              "    <tr>\n",
              "      <th id=\"T_356cb_level0_row2\" class=\"row_heading level0 row2\" >12348.000000</th>\n",
              "      <td id=\"T_356cb_row2_col0\" class=\"data row2 col0\" >76</td>\n",
              "      <td id=\"T_356cb_row2_col1\" class=\"data row2 col1\" >4</td>\n",
              "      <td id=\"T_356cb_row2_col2\" class=\"data row2 col2\" >1797.240000</td>\n",
              "    </tr>\n",
              "    <tr>\n",
              "      <th id=\"T_356cb_level0_row3\" class=\"row_heading level0 row3\" >12349.000000</th>\n",
              "      <td id=\"T_356cb_row3_col0\" class=\"data row3 col0\" >19</td>\n",
              "      <td id=\"T_356cb_row3_col1\" class=\"data row3 col1\" >1</td>\n",
              "      <td id=\"T_356cb_row3_col2\" class=\"data row3 col2\" >1757.550000</td>\n",
              "    </tr>\n",
              "    <tr>\n",
              "      <th id=\"T_356cb_level0_row4\" class=\"row_heading level0 row4\" >12350.000000</th>\n",
              "      <td id=\"T_356cb_row4_col0\" class=\"data row4 col0\" >311</td>\n",
              "      <td id=\"T_356cb_row4_col1\" class=\"data row4 col1\" >1</td>\n",
              "      <td id=\"T_356cb_row4_col2\" class=\"data row4 col2\" >334.400000</td>\n",
              "    </tr>\n",
              "  </tbody>\n",
              "</table>\n"
            ]
          },
          "metadata": {},
          "execution_count": 19
        }
      ]
    },
    {
      "cell_type": "code",
      "source": [
        "rfm.dtypes"
      ],
      "metadata": {
        "colab": {
          "base_uri": "https://localhost:8080/"
        },
        "id": "K5zu2jywKPzH",
        "outputId": "e7f29b70-0ace-430d-e304-bf91a91c1e36"
      },
      "execution_count": 20,
      "outputs": [
        {
          "output_type": "execute_result",
          "data": {
            "text/plain": [
              "recency        int64\n",
              "frequency      int64\n",
              "monetary     float64\n",
              "dtype: object"
            ]
          },
          "metadata": {},
          "execution_count": 20
        }
      ]
    },
    {
      "cell_type": "code",
      "source": [
        "def get_rfm_scores(dataframe):\n",
        "\n",
        "    dataframe[\"recency_score\"] = pd.qcut(dataframe[\"recency\"], 5, labels=[5, 4, 3, 2, 1])\n",
        "    dataframe[\"frequency_score\"] = pd.qcut(dataframe[\"frequency\"].rank(method='first'), 5, labels=[1, 2, 3, 4, 5])\n",
        "    dataframe[\"monetary_score\"] = pd.qcut(dataframe[\"monetary\"], 5, labels=[1, 2, 3, 4, 5])\n",
        "    dataframe[\"RFM_SCORE\"] = dataframe[\"recency_score\"].astype(str) + dataframe[\"frequency_score\"].astype(str)\n",
        "\n",
        "    return dataframe\n",
        "\n",
        "get_rfm_scores(rfm)\n",
        "rfm = rfm.reset_index()\n",
        "rfm.head().style.set_properties(**{\"background-color\": \"#000000\",\"color\":\"#FFEA20\",\"border\": \"0.2px solid white\"})"
      ],
      "metadata": {
        "colab": {
          "base_uri": "https://localhost:8080/",
          "height": 211
        },
        "id": "JI_6D-YkKP1n",
        "outputId": "b340c0c6-9056-4f68-9804-54727b7f129d"
      },
      "execution_count": 21,
      "outputs": [
        {
          "output_type": "execute_result",
          "data": {
            "text/plain": [
              "<pandas.io.formats.style.Styler at 0x796c58673d90>"
            ],
            "text/html": [
              "<style type=\"text/css\">\n",
              "#T_cd829_row0_col0, #T_cd829_row0_col1, #T_cd829_row0_col2, #T_cd829_row0_col3, #T_cd829_row0_col4, #T_cd829_row0_col5, #T_cd829_row0_col6, #T_cd829_row0_col7, #T_cd829_row1_col0, #T_cd829_row1_col1, #T_cd829_row1_col2, #T_cd829_row1_col3, #T_cd829_row1_col4, #T_cd829_row1_col5, #T_cd829_row1_col6, #T_cd829_row1_col7, #T_cd829_row2_col0, #T_cd829_row2_col1, #T_cd829_row2_col2, #T_cd829_row2_col3, #T_cd829_row2_col4, #T_cd829_row2_col5, #T_cd829_row2_col6, #T_cd829_row2_col7, #T_cd829_row3_col0, #T_cd829_row3_col1, #T_cd829_row3_col2, #T_cd829_row3_col3, #T_cd829_row3_col4, #T_cd829_row3_col5, #T_cd829_row3_col6, #T_cd829_row3_col7, #T_cd829_row4_col0, #T_cd829_row4_col1, #T_cd829_row4_col2, #T_cd829_row4_col3, #T_cd829_row4_col4, #T_cd829_row4_col5, #T_cd829_row4_col6, #T_cd829_row4_col7 {\n",
              "  background-color: #000000;\n",
              "  color: #FFEA20;\n",
              "  border: 0.2px solid white;\n",
              "}\n",
              "</style>\n",
              "<table id=\"T_cd829\" class=\"dataframe\">\n",
              "  <thead>\n",
              "    <tr>\n",
              "      <th class=\"blank level0\" >&nbsp;</th>\n",
              "      <th id=\"T_cd829_level0_col0\" class=\"col_heading level0 col0\" >CustomerID</th>\n",
              "      <th id=\"T_cd829_level0_col1\" class=\"col_heading level0 col1\" >recency</th>\n",
              "      <th id=\"T_cd829_level0_col2\" class=\"col_heading level0 col2\" >frequency</th>\n",
              "      <th id=\"T_cd829_level0_col3\" class=\"col_heading level0 col3\" >monetary</th>\n",
              "      <th id=\"T_cd829_level0_col4\" class=\"col_heading level0 col4\" >recency_score</th>\n",
              "      <th id=\"T_cd829_level0_col5\" class=\"col_heading level0 col5\" >frequency_score</th>\n",
              "      <th id=\"T_cd829_level0_col6\" class=\"col_heading level0 col6\" >monetary_score</th>\n",
              "      <th id=\"T_cd829_level0_col7\" class=\"col_heading level0 col7\" >RFM_SCORE</th>\n",
              "    </tr>\n",
              "  </thead>\n",
              "  <tbody>\n",
              "    <tr>\n",
              "      <th id=\"T_cd829_level0_row0\" class=\"row_heading level0 row0\" >0</th>\n",
              "      <td id=\"T_cd829_row0_col0\" class=\"data row0 col0\" >12346.000000</td>\n",
              "      <td id=\"T_cd829_row0_col1\" class=\"data row0 col1\" >326</td>\n",
              "      <td id=\"T_cd829_row0_col2\" class=\"data row0 col2\" >1</td>\n",
              "      <td id=\"T_cd829_row0_col3\" class=\"data row0 col3\" >77183.600000</td>\n",
              "      <td id=\"T_cd829_row0_col4\" class=\"data row0 col4\" >1</td>\n",
              "      <td id=\"T_cd829_row0_col5\" class=\"data row0 col5\" >1</td>\n",
              "      <td id=\"T_cd829_row0_col6\" class=\"data row0 col6\" >5</td>\n",
              "      <td id=\"T_cd829_row0_col7\" class=\"data row0 col7\" >11</td>\n",
              "    </tr>\n",
              "    <tr>\n",
              "      <th id=\"T_cd829_level0_row1\" class=\"row_heading level0 row1\" >1</th>\n",
              "      <td id=\"T_cd829_row1_col0\" class=\"data row1 col0\" >12347.000000</td>\n",
              "      <td id=\"T_cd829_row1_col1\" class=\"data row1 col1\" >3</td>\n",
              "      <td id=\"T_cd829_row1_col2\" class=\"data row1 col2\" >7</td>\n",
              "      <td id=\"T_cd829_row1_col3\" class=\"data row1 col3\" >4310.000000</td>\n",
              "      <td id=\"T_cd829_row1_col4\" class=\"data row1 col4\" >5</td>\n",
              "      <td id=\"T_cd829_row1_col5\" class=\"data row1 col5\" >5</td>\n",
              "      <td id=\"T_cd829_row1_col6\" class=\"data row1 col6\" >5</td>\n",
              "      <td id=\"T_cd829_row1_col7\" class=\"data row1 col7\" >55</td>\n",
              "    </tr>\n",
              "    <tr>\n",
              "      <th id=\"T_cd829_level0_row2\" class=\"row_heading level0 row2\" >2</th>\n",
              "      <td id=\"T_cd829_row2_col0\" class=\"data row2 col0\" >12348.000000</td>\n",
              "      <td id=\"T_cd829_row2_col1\" class=\"data row2 col1\" >76</td>\n",
              "      <td id=\"T_cd829_row2_col2\" class=\"data row2 col2\" >4</td>\n",
              "      <td id=\"T_cd829_row2_col3\" class=\"data row2 col3\" >1797.240000</td>\n",
              "      <td id=\"T_cd829_row2_col4\" class=\"data row2 col4\" >2</td>\n",
              "      <td id=\"T_cd829_row2_col5\" class=\"data row2 col5\" >4</td>\n",
              "      <td id=\"T_cd829_row2_col6\" class=\"data row2 col6\" >4</td>\n",
              "      <td id=\"T_cd829_row2_col7\" class=\"data row2 col7\" >24</td>\n",
              "    </tr>\n",
              "    <tr>\n",
              "      <th id=\"T_cd829_level0_row3\" class=\"row_heading level0 row3\" >3</th>\n",
              "      <td id=\"T_cd829_row3_col0\" class=\"data row3 col0\" >12349.000000</td>\n",
              "      <td id=\"T_cd829_row3_col1\" class=\"data row3 col1\" >19</td>\n",
              "      <td id=\"T_cd829_row3_col2\" class=\"data row3 col2\" >1</td>\n",
              "      <td id=\"T_cd829_row3_col3\" class=\"data row3 col3\" >1757.550000</td>\n",
              "      <td id=\"T_cd829_row3_col4\" class=\"data row3 col4\" >4</td>\n",
              "      <td id=\"T_cd829_row3_col5\" class=\"data row3 col5\" >1</td>\n",
              "      <td id=\"T_cd829_row3_col6\" class=\"data row3 col6\" >4</td>\n",
              "      <td id=\"T_cd829_row3_col7\" class=\"data row3 col7\" >41</td>\n",
              "    </tr>\n",
              "    <tr>\n",
              "      <th id=\"T_cd829_level0_row4\" class=\"row_heading level0 row4\" >4</th>\n",
              "      <td id=\"T_cd829_row4_col0\" class=\"data row4 col0\" >12350.000000</td>\n",
              "      <td id=\"T_cd829_row4_col1\" class=\"data row4 col1\" >311</td>\n",
              "      <td id=\"T_cd829_row4_col2\" class=\"data row4 col2\" >1</td>\n",
              "      <td id=\"T_cd829_row4_col3\" class=\"data row4 col3\" >334.400000</td>\n",
              "      <td id=\"T_cd829_row4_col4\" class=\"data row4 col4\" >1</td>\n",
              "      <td id=\"T_cd829_row4_col5\" class=\"data row4 col5\" >1</td>\n",
              "      <td id=\"T_cd829_row4_col6\" class=\"data row4 col6\" >2</td>\n",
              "      <td id=\"T_cd829_row4_col7\" class=\"data row4 col7\" >11</td>\n",
              "    </tr>\n",
              "  </tbody>\n",
              "</table>\n"
            ]
          },
          "metadata": {},
          "execution_count": 21
        }
      ]
    },
    {
      "cell_type": "markdown",
      "source": [
        "### CREATING & ANALYISIN RFM SEGMENTS"
      ],
      "metadata": {
        "id": "XE-xCDEHNRDW"
      }
    },
    {
      "cell_type": "code",
      "source": [
        "seg_map = {\n",
        "    r'[1-2][1-2]': 'hibernating',\n",
        "    r'[1-2][3-4]': 'at_Risk',\n",
        "    r'[1-2]5': 'cant_loose',\n",
        "    r'3[1-2]': 'about_to_sleep',\n",
        "    r'33': 'need_attention',\n",
        "    r'[3-4][4-5]': 'loyal_customers',\n",
        "    r'41': 'promising',\n",
        "    r'51': 'new_customers',\n",
        "    r'[4-5][2-3]': 'potential_loyalists',\n",
        "    r'5[4-5]': 'champions'\n",
        "}\n",
        "\n",
        "rfm['segment'] = rfm['RFM_SCORE'].replace(seg_map, regex = True)\n",
        "\n",
        "rfm.head().style.set_properties(**{\"background-color\": \"#000000\",\"color\":\"#FFEA20\",\"border\": \"0.2px solid white\"})"
      ],
      "metadata": {
        "colab": {
          "base_uri": "https://localhost:8080/",
          "height": 211
        },
        "id": "bC2lCnZxNOV7",
        "outputId": "cd400f4d-a8ca-49c8-e2de-b71cbb3f8817"
      },
      "execution_count": 22,
      "outputs": [
        {
          "output_type": "execute_result",
          "data": {
            "text/plain": [
              "<pandas.io.formats.style.Styler at 0x796c58672bf0>"
            ],
            "text/html": [
              "<style type=\"text/css\">\n",
              "#T_ef9c6_row0_col0, #T_ef9c6_row0_col1, #T_ef9c6_row0_col2, #T_ef9c6_row0_col3, #T_ef9c6_row0_col4, #T_ef9c6_row0_col5, #T_ef9c6_row0_col6, #T_ef9c6_row0_col7, #T_ef9c6_row0_col8, #T_ef9c6_row1_col0, #T_ef9c6_row1_col1, #T_ef9c6_row1_col2, #T_ef9c6_row1_col3, #T_ef9c6_row1_col4, #T_ef9c6_row1_col5, #T_ef9c6_row1_col6, #T_ef9c6_row1_col7, #T_ef9c6_row1_col8, #T_ef9c6_row2_col0, #T_ef9c6_row2_col1, #T_ef9c6_row2_col2, #T_ef9c6_row2_col3, #T_ef9c6_row2_col4, #T_ef9c6_row2_col5, #T_ef9c6_row2_col6, #T_ef9c6_row2_col7, #T_ef9c6_row2_col8, #T_ef9c6_row3_col0, #T_ef9c6_row3_col1, #T_ef9c6_row3_col2, #T_ef9c6_row3_col3, #T_ef9c6_row3_col4, #T_ef9c6_row3_col5, #T_ef9c6_row3_col6, #T_ef9c6_row3_col7, #T_ef9c6_row3_col8, #T_ef9c6_row4_col0, #T_ef9c6_row4_col1, #T_ef9c6_row4_col2, #T_ef9c6_row4_col3, #T_ef9c6_row4_col4, #T_ef9c6_row4_col5, #T_ef9c6_row4_col6, #T_ef9c6_row4_col7, #T_ef9c6_row4_col8 {\n",
              "  background-color: #000000;\n",
              "  color: #FFEA20;\n",
              "  border: 0.2px solid white;\n",
              "}\n",
              "</style>\n",
              "<table id=\"T_ef9c6\" class=\"dataframe\">\n",
              "  <thead>\n",
              "    <tr>\n",
              "      <th class=\"blank level0\" >&nbsp;</th>\n",
              "      <th id=\"T_ef9c6_level0_col0\" class=\"col_heading level0 col0\" >CustomerID</th>\n",
              "      <th id=\"T_ef9c6_level0_col1\" class=\"col_heading level0 col1\" >recency</th>\n",
              "      <th id=\"T_ef9c6_level0_col2\" class=\"col_heading level0 col2\" >frequency</th>\n",
              "      <th id=\"T_ef9c6_level0_col3\" class=\"col_heading level0 col3\" >monetary</th>\n",
              "      <th id=\"T_ef9c6_level0_col4\" class=\"col_heading level0 col4\" >recency_score</th>\n",
              "      <th id=\"T_ef9c6_level0_col5\" class=\"col_heading level0 col5\" >frequency_score</th>\n",
              "      <th id=\"T_ef9c6_level0_col6\" class=\"col_heading level0 col6\" >monetary_score</th>\n",
              "      <th id=\"T_ef9c6_level0_col7\" class=\"col_heading level0 col7\" >RFM_SCORE</th>\n",
              "      <th id=\"T_ef9c6_level0_col8\" class=\"col_heading level0 col8\" >segment</th>\n",
              "    </tr>\n",
              "  </thead>\n",
              "  <tbody>\n",
              "    <tr>\n",
              "      <th id=\"T_ef9c6_level0_row0\" class=\"row_heading level0 row0\" >0</th>\n",
              "      <td id=\"T_ef9c6_row0_col0\" class=\"data row0 col0\" >12346.000000</td>\n",
              "      <td id=\"T_ef9c6_row0_col1\" class=\"data row0 col1\" >326</td>\n",
              "      <td id=\"T_ef9c6_row0_col2\" class=\"data row0 col2\" >1</td>\n",
              "      <td id=\"T_ef9c6_row0_col3\" class=\"data row0 col3\" >77183.600000</td>\n",
              "      <td id=\"T_ef9c6_row0_col4\" class=\"data row0 col4\" >1</td>\n",
              "      <td id=\"T_ef9c6_row0_col5\" class=\"data row0 col5\" >1</td>\n",
              "      <td id=\"T_ef9c6_row0_col6\" class=\"data row0 col6\" >5</td>\n",
              "      <td id=\"T_ef9c6_row0_col7\" class=\"data row0 col7\" >11</td>\n",
              "      <td id=\"T_ef9c6_row0_col8\" class=\"data row0 col8\" >hibernating</td>\n",
              "    </tr>\n",
              "    <tr>\n",
              "      <th id=\"T_ef9c6_level0_row1\" class=\"row_heading level0 row1\" >1</th>\n",
              "      <td id=\"T_ef9c6_row1_col0\" class=\"data row1 col0\" >12347.000000</td>\n",
              "      <td id=\"T_ef9c6_row1_col1\" class=\"data row1 col1\" >3</td>\n",
              "      <td id=\"T_ef9c6_row1_col2\" class=\"data row1 col2\" >7</td>\n",
              "      <td id=\"T_ef9c6_row1_col3\" class=\"data row1 col3\" >4310.000000</td>\n",
              "      <td id=\"T_ef9c6_row1_col4\" class=\"data row1 col4\" >5</td>\n",
              "      <td id=\"T_ef9c6_row1_col5\" class=\"data row1 col5\" >5</td>\n",
              "      <td id=\"T_ef9c6_row1_col6\" class=\"data row1 col6\" >5</td>\n",
              "      <td id=\"T_ef9c6_row1_col7\" class=\"data row1 col7\" >55</td>\n",
              "      <td id=\"T_ef9c6_row1_col8\" class=\"data row1 col8\" >champions</td>\n",
              "    </tr>\n",
              "    <tr>\n",
              "      <th id=\"T_ef9c6_level0_row2\" class=\"row_heading level0 row2\" >2</th>\n",
              "      <td id=\"T_ef9c6_row2_col0\" class=\"data row2 col0\" >12348.000000</td>\n",
              "      <td id=\"T_ef9c6_row2_col1\" class=\"data row2 col1\" >76</td>\n",
              "      <td id=\"T_ef9c6_row2_col2\" class=\"data row2 col2\" >4</td>\n",
              "      <td id=\"T_ef9c6_row2_col3\" class=\"data row2 col3\" >1797.240000</td>\n",
              "      <td id=\"T_ef9c6_row2_col4\" class=\"data row2 col4\" >2</td>\n",
              "      <td id=\"T_ef9c6_row2_col5\" class=\"data row2 col5\" >4</td>\n",
              "      <td id=\"T_ef9c6_row2_col6\" class=\"data row2 col6\" >4</td>\n",
              "      <td id=\"T_ef9c6_row2_col7\" class=\"data row2 col7\" >24</td>\n",
              "      <td id=\"T_ef9c6_row2_col8\" class=\"data row2 col8\" >at_Risk</td>\n",
              "    </tr>\n",
              "    <tr>\n",
              "      <th id=\"T_ef9c6_level0_row3\" class=\"row_heading level0 row3\" >3</th>\n",
              "      <td id=\"T_ef9c6_row3_col0\" class=\"data row3 col0\" >12349.000000</td>\n",
              "      <td id=\"T_ef9c6_row3_col1\" class=\"data row3 col1\" >19</td>\n",
              "      <td id=\"T_ef9c6_row3_col2\" class=\"data row3 col2\" >1</td>\n",
              "      <td id=\"T_ef9c6_row3_col3\" class=\"data row3 col3\" >1757.550000</td>\n",
              "      <td id=\"T_ef9c6_row3_col4\" class=\"data row3 col4\" >4</td>\n",
              "      <td id=\"T_ef9c6_row3_col5\" class=\"data row3 col5\" >1</td>\n",
              "      <td id=\"T_ef9c6_row3_col6\" class=\"data row3 col6\" >4</td>\n",
              "      <td id=\"T_ef9c6_row3_col7\" class=\"data row3 col7\" >41</td>\n",
              "      <td id=\"T_ef9c6_row3_col8\" class=\"data row3 col8\" >promising</td>\n",
              "    </tr>\n",
              "    <tr>\n",
              "      <th id=\"T_ef9c6_level0_row4\" class=\"row_heading level0 row4\" >4</th>\n",
              "      <td id=\"T_ef9c6_row4_col0\" class=\"data row4 col0\" >12350.000000</td>\n",
              "      <td id=\"T_ef9c6_row4_col1\" class=\"data row4 col1\" >311</td>\n",
              "      <td id=\"T_ef9c6_row4_col2\" class=\"data row4 col2\" >1</td>\n",
              "      <td id=\"T_ef9c6_row4_col3\" class=\"data row4 col3\" >334.400000</td>\n",
              "      <td id=\"T_ef9c6_row4_col4\" class=\"data row4 col4\" >1</td>\n",
              "      <td id=\"T_ef9c6_row4_col5\" class=\"data row4 col5\" >1</td>\n",
              "      <td id=\"T_ef9c6_row4_col6\" class=\"data row4 col6\" >2</td>\n",
              "      <td id=\"T_ef9c6_row4_col7\" class=\"data row4 col7\" >11</td>\n",
              "      <td id=\"T_ef9c6_row4_col8\" class=\"data row4 col8\" >hibernating</td>\n",
              "    </tr>\n",
              "  </tbody>\n",
              "</table>\n"
            ]
          },
          "metadata": {},
          "execution_count": 22
        }
      ]
    },
    {
      "cell_type": "code",
      "source": [
        "rfm[[\"segment\", \"recency\", \"frequency\", \"monetary\"]].groupby(\"segment\").agg([\"mean\", \"count\"]).style.set_properties(**{\"background-color\": \"#000000\",\"color\":\"#FFEA20\",\"border\": \"0.2px solid white\"})"
      ],
      "metadata": {
        "colab": {
          "base_uri": "https://localhost:8080/",
          "height": 436
        },
        "id": "yR5fyUUrNOYj",
        "outputId": "8a2d9746-1425-4651-a6f9-cd11564ee3d7"
      },
      "execution_count": 23,
      "outputs": [
        {
          "output_type": "execute_result",
          "data": {
            "text/plain": [
              "<pandas.io.formats.style.Styler at 0x796c586730a0>"
            ],
            "text/html": [
              "<style type=\"text/css\">\n",
              "#T_35f38_row0_col0, #T_35f38_row0_col1, #T_35f38_row0_col2, #T_35f38_row0_col3, #T_35f38_row0_col4, #T_35f38_row0_col5, #T_35f38_row1_col0, #T_35f38_row1_col1, #T_35f38_row1_col2, #T_35f38_row1_col3, #T_35f38_row1_col4, #T_35f38_row1_col5, #T_35f38_row2_col0, #T_35f38_row2_col1, #T_35f38_row2_col2, #T_35f38_row2_col3, #T_35f38_row2_col4, #T_35f38_row2_col5, #T_35f38_row3_col0, #T_35f38_row3_col1, #T_35f38_row3_col2, #T_35f38_row3_col3, #T_35f38_row3_col4, #T_35f38_row3_col5, #T_35f38_row4_col0, #T_35f38_row4_col1, #T_35f38_row4_col2, #T_35f38_row4_col3, #T_35f38_row4_col4, #T_35f38_row4_col5, #T_35f38_row5_col0, #T_35f38_row5_col1, #T_35f38_row5_col2, #T_35f38_row5_col3, #T_35f38_row5_col4, #T_35f38_row5_col5, #T_35f38_row6_col0, #T_35f38_row6_col1, #T_35f38_row6_col2, #T_35f38_row6_col3, #T_35f38_row6_col4, #T_35f38_row6_col5, #T_35f38_row7_col0, #T_35f38_row7_col1, #T_35f38_row7_col2, #T_35f38_row7_col3, #T_35f38_row7_col4, #T_35f38_row7_col5, #T_35f38_row8_col0, #T_35f38_row8_col1, #T_35f38_row8_col2, #T_35f38_row8_col3, #T_35f38_row8_col4, #T_35f38_row8_col5, #T_35f38_row9_col0, #T_35f38_row9_col1, #T_35f38_row9_col2, #T_35f38_row9_col3, #T_35f38_row9_col4, #T_35f38_row9_col5 {\n",
              "  background-color: #000000;\n",
              "  color: #FFEA20;\n",
              "  border: 0.2px solid white;\n",
              "}\n",
              "</style>\n",
              "<table id=\"T_35f38\" class=\"dataframe\">\n",
              "  <thead>\n",
              "    <tr>\n",
              "      <th class=\"blank level0\" >&nbsp;</th>\n",
              "      <th id=\"T_35f38_level0_col0\" class=\"col_heading level0 col0\" colspan=\"2\">recency</th>\n",
              "      <th id=\"T_35f38_level0_col2\" class=\"col_heading level0 col2\" colspan=\"2\">frequency</th>\n",
              "      <th id=\"T_35f38_level0_col4\" class=\"col_heading level0 col4\" colspan=\"2\">monetary</th>\n",
              "    </tr>\n",
              "    <tr>\n",
              "      <th class=\"blank level1\" >&nbsp;</th>\n",
              "      <th id=\"T_35f38_level1_col0\" class=\"col_heading level1 col0\" >mean</th>\n",
              "      <th id=\"T_35f38_level1_col1\" class=\"col_heading level1 col1\" >count</th>\n",
              "      <th id=\"T_35f38_level1_col2\" class=\"col_heading level1 col2\" >mean</th>\n",
              "      <th id=\"T_35f38_level1_col3\" class=\"col_heading level1 col3\" >count</th>\n",
              "      <th id=\"T_35f38_level1_col4\" class=\"col_heading level1 col4\" >mean</th>\n",
              "      <th id=\"T_35f38_level1_col5\" class=\"col_heading level1 col5\" >count</th>\n",
              "    </tr>\n",
              "    <tr>\n",
              "      <th class=\"index_name level0\" >segment</th>\n",
              "      <th class=\"blank col0\" >&nbsp;</th>\n",
              "      <th class=\"blank col1\" >&nbsp;</th>\n",
              "      <th class=\"blank col2\" >&nbsp;</th>\n",
              "      <th class=\"blank col3\" >&nbsp;</th>\n",
              "      <th class=\"blank col4\" >&nbsp;</th>\n",
              "      <th class=\"blank col5\" >&nbsp;</th>\n",
              "    </tr>\n",
              "  </thead>\n",
              "  <tbody>\n",
              "    <tr>\n",
              "      <th id=\"T_35f38_level0_row0\" class=\"row_heading level0 row0\" >about_to_sleep</th>\n",
              "      <td id=\"T_35f38_row0_col0\" class=\"data row0 col0\" >53.312500</td>\n",
              "      <td id=\"T_35f38_row0_col1\" class=\"data row0 col1\" >352</td>\n",
              "      <td id=\"T_35f38_row0_col2\" class=\"data row0 col2\" >1.161932</td>\n",
              "      <td id=\"T_35f38_row0_col3\" class=\"data row0 col3\" >352</td>\n",
              "      <td id=\"T_35f38_row0_col4\" class=\"data row0 col4\" >471.994375</td>\n",
              "      <td id=\"T_35f38_row0_col5\" class=\"data row0 col5\" >352</td>\n",
              "    </tr>\n",
              "    <tr>\n",
              "      <th id=\"T_35f38_level0_row1\" class=\"row_heading level0 row1\" >at_Risk</th>\n",
              "      <td id=\"T_35f38_row1_col0\" class=\"data row1 col0\" >153.785835</td>\n",
              "      <td id=\"T_35f38_row1_col1\" class=\"data row1 col1\" >593</td>\n",
              "      <td id=\"T_35f38_row1_col2\" class=\"data row1 col2\" >2.878583</td>\n",
              "      <td id=\"T_35f38_row1_col3\" class=\"data row1 col3\" >593</td>\n",
              "      <td id=\"T_35f38_row1_col4\" class=\"data row1 col4\" >1084.535297</td>\n",
              "      <td id=\"T_35f38_row1_col5\" class=\"data row1 col5\" >593</td>\n",
              "    </tr>\n",
              "    <tr>\n",
              "      <th id=\"T_35f38_level0_row2\" class=\"row_heading level0 row2\" >cant_loose</th>\n",
              "      <td id=\"T_35f38_row2_col0\" class=\"data row2 col0\" >132.968254</td>\n",
              "      <td id=\"T_35f38_row2_col1\" class=\"data row2 col1\" >63</td>\n",
              "      <td id=\"T_35f38_row2_col2\" class=\"data row2 col2\" >8.380952</td>\n",
              "      <td id=\"T_35f38_row2_col3\" class=\"data row2 col3\" >63</td>\n",
              "      <td id=\"T_35f38_row2_col4\" class=\"data row2 col4\" >2796.155873</td>\n",
              "      <td id=\"T_35f38_row2_col5\" class=\"data row2 col5\" >63</td>\n",
              "    </tr>\n",
              "    <tr>\n",
              "      <th id=\"T_35f38_level0_row3\" class=\"row_heading level0 row3\" >champions</th>\n",
              "      <td id=\"T_35f38_row3_col0\" class=\"data row3 col0\" >6.361769</td>\n",
              "      <td id=\"T_35f38_row3_col1\" class=\"data row3 col1\" >633</td>\n",
              "      <td id=\"T_35f38_row3_col2\" class=\"data row3 col2\" >12.417062</td>\n",
              "      <td id=\"T_35f38_row3_col3\" class=\"data row3 col3\" >633</td>\n",
              "      <td id=\"T_35f38_row3_col4\" class=\"data row3 col4\" >6857.963918</td>\n",
              "      <td id=\"T_35f38_row3_col5\" class=\"data row3 col5\" >633</td>\n",
              "    </tr>\n",
              "    <tr>\n",
              "      <th id=\"T_35f38_level0_row4\" class=\"row_heading level0 row4\" >hibernating</th>\n",
              "      <td id=\"T_35f38_row4_col0\" class=\"data row4 col0\" >217.605042</td>\n",
              "      <td id=\"T_35f38_row4_col1\" class=\"data row4 col1\" >1071</td>\n",
              "      <td id=\"T_35f38_row4_col2\" class=\"data row4 col2\" >1.101774</td>\n",
              "      <td id=\"T_35f38_row4_col3\" class=\"data row4 col3\" >1071</td>\n",
              "      <td id=\"T_35f38_row4_col4\" class=\"data row4 col4\" >488.643307</td>\n",
              "      <td id=\"T_35f38_row4_col5\" class=\"data row4 col5\" >1071</td>\n",
              "    </tr>\n",
              "    <tr>\n",
              "      <th id=\"T_35f38_level0_row5\" class=\"row_heading level0 row5\" >loyal_customers</th>\n",
              "      <td id=\"T_35f38_row5_col0\" class=\"data row5 col0\" >33.608059</td>\n",
              "      <td id=\"T_35f38_row5_col1\" class=\"data row5 col1\" >819</td>\n",
              "      <td id=\"T_35f38_row5_col2\" class=\"data row5 col2\" >6.479853</td>\n",
              "      <td id=\"T_35f38_row5_col3\" class=\"data row5 col3\" >819</td>\n",
              "      <td id=\"T_35f38_row5_col4\" class=\"data row5 col4\" >2864.247791</td>\n",
              "      <td id=\"T_35f38_row5_col5\" class=\"data row5 col5\" >819</td>\n",
              "    </tr>\n",
              "    <tr>\n",
              "      <th id=\"T_35f38_level0_row6\" class=\"row_heading level0 row6\" >need_attention</th>\n",
              "      <td id=\"T_35f38_row6_col0\" class=\"data row6 col0\" >52.427807</td>\n",
              "      <td id=\"T_35f38_row6_col1\" class=\"data row6 col1\" >187</td>\n",
              "      <td id=\"T_35f38_row6_col2\" class=\"data row6 col2\" >2.326203</td>\n",
              "      <td id=\"T_35f38_row6_col3\" class=\"data row6 col3\" >187</td>\n",
              "      <td id=\"T_35f38_row6_col4\" class=\"data row6 col4\" >897.627861</td>\n",
              "      <td id=\"T_35f38_row6_col5\" class=\"data row6 col5\" >187</td>\n",
              "    </tr>\n",
              "    <tr>\n",
              "      <th id=\"T_35f38_level0_row7\" class=\"row_heading level0 row7\" >new_customers</th>\n",
              "      <td id=\"T_35f38_row7_col0\" class=\"data row7 col0\" >7.428571</td>\n",
              "      <td id=\"T_35f38_row7_col1\" class=\"data row7 col1\" >42</td>\n",
              "      <td id=\"T_35f38_row7_col2\" class=\"data row7 col2\" >1.000000</td>\n",
              "      <td id=\"T_35f38_row7_col3\" class=\"data row7 col3\" >42</td>\n",
              "      <td id=\"T_35f38_row7_col4\" class=\"data row7 col4\" >388.212857</td>\n",
              "      <td id=\"T_35f38_row7_col5\" class=\"data row7 col5\" >42</td>\n",
              "    </tr>\n",
              "    <tr>\n",
              "      <th id=\"T_35f38_level0_row8\" class=\"row_heading level0 row8\" >potential_loyalists</th>\n",
              "      <td id=\"T_35f38_row8_col0\" class=\"data row8 col0\" >17.398760</td>\n",
              "      <td id=\"T_35f38_row8_col1\" class=\"data row8 col1\" >484</td>\n",
              "      <td id=\"T_35f38_row8_col2\" class=\"data row8 col2\" >2.010331</td>\n",
              "      <td id=\"T_35f38_row8_col3\" class=\"data row8 col3\" >484</td>\n",
              "      <td id=\"T_35f38_row8_col4\" class=\"data row8 col4\" >1041.222004</td>\n",
              "      <td id=\"T_35f38_row8_col5\" class=\"data row8 col5\" >484</td>\n",
              "    </tr>\n",
              "    <tr>\n",
              "      <th id=\"T_35f38_level0_row9\" class=\"row_heading level0 row9\" >promising</th>\n",
              "      <td id=\"T_35f38_row9_col0\" class=\"data row9 col0\" >23.510638</td>\n",
              "      <td id=\"T_35f38_row9_col1\" class=\"data row9 col1\" >94</td>\n",
              "      <td id=\"T_35f38_row9_col2\" class=\"data row9 col2\" >1.000000</td>\n",
              "      <td id=\"T_35f38_row9_col3\" class=\"data row9 col3\" >94</td>\n",
              "      <td id=\"T_35f38_row9_col4\" class=\"data row9 col4\" >294.007979</td>\n",
              "      <td id=\"T_35f38_row9_col5\" class=\"data row9 col5\" >94</td>\n",
              "    </tr>\n",
              "  </tbody>\n",
              "</table>\n"
            ]
          },
          "metadata": {},
          "execution_count": 23
        }
      ]
    },
    {
      "cell_type": "code",
      "source": [
        "rfm[rfm[\"segment\"] == \"cant_loose\"].head().style.set_properties(**{\"background-color\": \"#000000\",\"color\":\"#FFEA20\",\"border\": \"0.2px solid white\"})"
      ],
      "metadata": {
        "colab": {
          "base_uri": "https://localhost:8080/",
          "height": 211
        },
        "id": "LduciT1INcUM",
        "outputId": "2ec0c7e6-94be-4111-e138-7186b192d317"
      },
      "execution_count": 24,
      "outputs": [
        {
          "output_type": "execute_result",
          "data": {
            "text/plain": [
              "<pandas.io.formats.style.Styler at 0x796c58672200>"
            ],
            "text/html": [
              "<style type=\"text/css\">\n",
              "#T_1d2b9_row0_col0, #T_1d2b9_row0_col1, #T_1d2b9_row0_col2, #T_1d2b9_row0_col3, #T_1d2b9_row0_col4, #T_1d2b9_row0_col5, #T_1d2b9_row0_col6, #T_1d2b9_row0_col7, #T_1d2b9_row0_col8, #T_1d2b9_row1_col0, #T_1d2b9_row1_col1, #T_1d2b9_row1_col2, #T_1d2b9_row1_col3, #T_1d2b9_row1_col4, #T_1d2b9_row1_col5, #T_1d2b9_row1_col6, #T_1d2b9_row1_col7, #T_1d2b9_row1_col8, #T_1d2b9_row2_col0, #T_1d2b9_row2_col1, #T_1d2b9_row2_col2, #T_1d2b9_row2_col3, #T_1d2b9_row2_col4, #T_1d2b9_row2_col5, #T_1d2b9_row2_col6, #T_1d2b9_row2_col7, #T_1d2b9_row2_col8, #T_1d2b9_row3_col0, #T_1d2b9_row3_col1, #T_1d2b9_row3_col2, #T_1d2b9_row3_col3, #T_1d2b9_row3_col4, #T_1d2b9_row3_col5, #T_1d2b9_row3_col6, #T_1d2b9_row3_col7, #T_1d2b9_row3_col8, #T_1d2b9_row4_col0, #T_1d2b9_row4_col1, #T_1d2b9_row4_col2, #T_1d2b9_row4_col3, #T_1d2b9_row4_col4, #T_1d2b9_row4_col5, #T_1d2b9_row4_col6, #T_1d2b9_row4_col7, #T_1d2b9_row4_col8 {\n",
              "  background-color: #000000;\n",
              "  color: #FFEA20;\n",
              "  border: 0.2px solid white;\n",
              "}\n",
              "</style>\n",
              "<table id=\"T_1d2b9\" class=\"dataframe\">\n",
              "  <thead>\n",
              "    <tr>\n",
              "      <th class=\"blank level0\" >&nbsp;</th>\n",
              "      <th id=\"T_1d2b9_level0_col0\" class=\"col_heading level0 col0\" >CustomerID</th>\n",
              "      <th id=\"T_1d2b9_level0_col1\" class=\"col_heading level0 col1\" >recency</th>\n",
              "      <th id=\"T_1d2b9_level0_col2\" class=\"col_heading level0 col2\" >frequency</th>\n",
              "      <th id=\"T_1d2b9_level0_col3\" class=\"col_heading level0 col3\" >monetary</th>\n",
              "      <th id=\"T_1d2b9_level0_col4\" class=\"col_heading level0 col4\" >recency_score</th>\n",
              "      <th id=\"T_1d2b9_level0_col5\" class=\"col_heading level0 col5\" >frequency_score</th>\n",
              "      <th id=\"T_1d2b9_level0_col6\" class=\"col_heading level0 col6\" >monetary_score</th>\n",
              "      <th id=\"T_1d2b9_level0_col7\" class=\"col_heading level0 col7\" >RFM_SCORE</th>\n",
              "      <th id=\"T_1d2b9_level0_col8\" class=\"col_heading level0 col8\" >segment</th>\n",
              "    </tr>\n",
              "  </thead>\n",
              "  <tbody>\n",
              "    <tr>\n",
              "      <th id=\"T_1d2b9_level0_row0\" class=\"row_heading level0 row0\" >241</th>\n",
              "      <td id=\"T_1d2b9_row0_col0\" class=\"data row0 col0\" >12643.000000</td>\n",
              "      <td id=\"T_1d2b9_row0_col1\" class=\"data row0 col1\" >129</td>\n",
              "      <td id=\"T_1d2b9_row0_col2\" class=\"data row0 col2\" >6</td>\n",
              "      <td id=\"T_1d2b9_row0_col3\" class=\"data row0 col3\" >3344.640000</td>\n",
              "      <td id=\"T_1d2b9_row0_col4\" class=\"data row0 col4\" >2</td>\n",
              "      <td id=\"T_1d2b9_row0_col5\" class=\"data row0 col5\" >5</td>\n",
              "      <td id=\"T_1d2b9_row0_col6\" class=\"data row0 col6\" >5</td>\n",
              "      <td id=\"T_1d2b9_row0_col7\" class=\"data row0 col7\" >25</td>\n",
              "      <td id=\"T_1d2b9_row0_col8\" class=\"data row0 col8\" >cant_loose</td>\n",
              "    </tr>\n",
              "    <tr>\n",
              "      <th id=\"T_1d2b9_level0_row1\" class=\"row_heading level0 row1\" >400</th>\n",
              "      <td id=\"T_1d2b9_row1_col0\" class=\"data row1 col0\" >12853.000000</td>\n",
              "      <td id=\"T_1d2b9_row1_col1\" class=\"data row1 col1\" >135</td>\n",
              "      <td id=\"T_1d2b9_row1_col2\" class=\"data row1 col2\" >6</td>\n",
              "      <td id=\"T_1d2b9_row1_col3\" class=\"data row1 col3\" >1957.100000</td>\n",
              "      <td id=\"T_1d2b9_row1_col4\" class=\"data row1 col4\" >2</td>\n",
              "      <td id=\"T_1d2b9_row1_col5\" class=\"data row1 col5\" >5</td>\n",
              "      <td id=\"T_1d2b9_row1_col6\" class=\"data row1 col6\" >4</td>\n",
              "      <td id=\"T_1d2b9_row1_col7\" class=\"data row1 col7\" >25</td>\n",
              "      <td id=\"T_1d2b9_row1_col8\" class=\"data row1 col8\" >cant_loose</td>\n",
              "    </tr>\n",
              "    <tr>\n",
              "      <th id=\"T_1d2b9_level0_row2\" class=\"row_heading level0 row2\" >410</th>\n",
              "      <td id=\"T_1d2b9_row2_col0\" class=\"data row2 col0\" >12868.000000</td>\n",
              "      <td id=\"T_1d2b9_row2_col1\" class=\"data row2 col1\" >186</td>\n",
              "      <td id=\"T_1d2b9_row2_col2\" class=\"data row2 col2\" >6</td>\n",
              "      <td id=\"T_1d2b9_row2_col3\" class=\"data row2 col3\" >1607.060000</td>\n",
              "      <td id=\"T_1d2b9_row2_col4\" class=\"data row2 col4\" >1</td>\n",
              "      <td id=\"T_1d2b9_row2_col5\" class=\"data row2 col5\" >5</td>\n",
              "      <td id=\"T_1d2b9_row2_col6\" class=\"data row2 col6\" >4</td>\n",
              "      <td id=\"T_1d2b9_row2_col7\" class=\"data row2 col7\" >15</td>\n",
              "      <td id=\"T_1d2b9_row2_col8\" class=\"data row2 col8\" >cant_loose</td>\n",
              "    </tr>\n",
              "    <tr>\n",
              "      <th id=\"T_1d2b9_level0_row3\" class=\"row_heading level0 row3\" >464</th>\n",
              "      <td id=\"T_1d2b9_row3_col0\" class=\"data row3 col0\" >12947.000000</td>\n",
              "      <td id=\"T_1d2b9_row3_col1\" class=\"data row3 col1\" >144</td>\n",
              "      <td id=\"T_1d2b9_row3_col2\" class=\"data row3 col2\" >6</td>\n",
              "      <td id=\"T_1d2b9_row3_col3\" class=\"data row3 col3\" >1603.990000</td>\n",
              "      <td id=\"T_1d2b9_row3_col4\" class=\"data row3 col4\" >2</td>\n",
              "      <td id=\"T_1d2b9_row3_col5\" class=\"data row3 col5\" >5</td>\n",
              "      <td id=\"T_1d2b9_row3_col6\" class=\"data row3 col6\" >4</td>\n",
              "      <td id=\"T_1d2b9_row3_col7\" class=\"data row3 col7\" >25</td>\n",
              "      <td id=\"T_1d2b9_row3_col8\" class=\"data row3 col8\" >cant_loose</td>\n",
              "    </tr>\n",
              "    <tr>\n",
              "      <th id=\"T_1d2b9_level0_row4\" class=\"row_heading level0 row4\" >485</th>\n",
              "      <td id=\"T_1d2b9_row4_col0\" class=\"data row4 col0\" >12980.000000</td>\n",
              "      <td id=\"T_1d2b9_row4_col1\" class=\"data row4 col1\" >158</td>\n",
              "      <td id=\"T_1d2b9_row4_col2\" class=\"data row4 col2\" >9</td>\n",
              "      <td id=\"T_1d2b9_row4_col3\" class=\"data row4 col3\" >7374.900000</td>\n",
              "      <td id=\"T_1d2b9_row4_col4\" class=\"data row4 col4\" >2</td>\n",
              "      <td id=\"T_1d2b9_row4_col5\" class=\"data row4 col5\" >5</td>\n",
              "      <td id=\"T_1d2b9_row4_col6\" class=\"data row4 col6\" >5</td>\n",
              "      <td id=\"T_1d2b9_row4_col7\" class=\"data row4 col7\" >25</td>\n",
              "      <td id=\"T_1d2b9_row4_col8\" class=\"data row4 col8\" >cant_loose</td>\n",
              "    </tr>\n",
              "  </tbody>\n",
              "</table>\n"
            ]
          },
          "metadata": {},
          "execution_count": 24
        }
      ]
    },
    {
      "cell_type": "markdown",
      "source": [
        "### RFM MODEL EVALUATION & COHORT ANALYSIS"
      ],
      "metadata": {
        "id": "zm3fC09iQcWg"
      }
    },
    {
      "cell_type": "code",
      "source": [
        "print(' RFM Model Evaluation '.center(70, '*'))\n",
        "X = rfm[['recency_score', 'frequency_score']]\n",
        "labels = rfm['segment']\n",
        "print(f'Number of Observations: {X.shape[0]}')\n",
        "print(f'Number of Segments: {labels.nunique()}')\n",
        "print(f'Silhouette Score: {round(silhouette_score(X, labels), 3)}')\n",
        "print(f'Calinski Harabasz Score: {round(calinski_harabasz_score(X, labels), 3)}')\n",
        "print(f'Davies Bouldin Score: {round(davies_bouldin_score(X, labels), 3)} \\n{70*\"*\"}')"
      ],
      "metadata": {
        "id": "PEmv2j47NcWZ"
      },
      "execution_count": 24,
      "outputs": []
    },
    {
      "cell_type": "code",
      "source": [
        "background = \"#313332\"\n",
        "backgroundr = \"#6D6D6D\"\n",
        "text_color = \"w\"\n",
        "title_font=\"Alegreya Sans\"\n",
        "\n",
        "plt.figure(figsize=(20,15))\n",
        "fig, ax = plt.subplots(figsize=(20,10))\n",
        "ax.patch.set_facecolor(backgroundr)\n",
        "fig.set_facecolor(backgroundr)\n",
        "fig.facecolor=\"white\"\n",
        "fig.edgecolor=\"white\"\n",
        "\n",
        "ax.grid(ls=\"dotted\",lw=0.5,color=\"lightgrey\",zorder=1)\n",
        "bar_ap = sns.countplot(data = rfm,\n",
        "                   x = 'segment')\n",
        "total = len(rfm.segment)\n",
        "for patch in ax.patches:\n",
        "    percentage = '{:.1f}%'.format(100 * patch.get_height()/total)\n",
        "    x = patch.get_x() + patch.get_width() / 2 - 0.17\n",
        "    y = patch.get_y() + patch.get_height() * 1.005\n",
        "    ax.annotate(percentage, (x, y), size = 14)\n",
        "bar_ap.set_xticklabels(bar_ap.get_xticklabels(), rotation=90)\n",
        "plt.title('Number of Customers by Segments', size = 16, color=text_color)\n",
        "plt.ylabel('Count', size = 14,color=\"white\" )\n",
        "plt.xlabel(\"SEGMENT\",fontsize = 14,color=\"white\" )\n",
        "plt.xticks(size = 10)\n",
        "plt.yticks(size = 10)\n",
        "plt.show()"
      ],
      "metadata": {
        "id": "i-2qS_WfNcYp"
      },
      "execution_count": 24,
      "outputs": []
    },
    {
      "cell_type": "code",
      "source": [
        "segments = rfm[\"segment\"].value_counts().sort_values(ascending=False)\n",
        "fig = plt.gcf()\n",
        "ax = fig.add_subplot()\n",
        "fig.set_size_inches(16, 10)\n",
        "squarify.plot(\n",
        "    sizes=segments,\n",
        "    label=[label for label in seg_map.values()],\n",
        "    color=[\n",
        "        \"#AFB6B5\",\n",
        "        \"#F0819A\",\n",
        "        \"#926717\",\n",
        "        \"#F0F081\",\n",
        "        \"#81D5F0\",\n",
        "        \"#C78BE5\",\n",
        "        \"#748E80\",\n",
        "        \"#FAAF3A\",\n",
        "        \"#7B8FE4\",\n",
        "        \"#86E8C0\",\n",
        "    ],\n",
        "    pad=False,\n",
        "    bar_kwargs={\"alpha\": 1},\n",
        "    text_kwargs={\"fontsize\": 15},\n",
        ")\n",
        "plt.title(\"Customer Segmentation Map\", fontsize=20)\n",
        "plt.xlabel(\"Frequency\", fontsize=18)\n",
        "plt.ylabel(\"Recency\", fontsize=18)\n",
        "plt.show()"
      ],
      "metadata": {
        "id": "bMnUx6hjNcbJ"
      },
      "execution_count": 24,
      "outputs": []
    },
    {
      "cell_type": "code",
      "source": [
        "plt.figure(figsize=(18, 8))\n",
        "sns.scatterplot(data=rfm, x=\"recency\", y=\"frequency\", hue=\"segment\", palette=palette, s=60)\n",
        "plt.title(\"Recency & Frequency by Segments\", size=16)\n",
        "plt.xlabel(\"Recency\", size=12)\n",
        "plt.ylabel(\"Frequency\", size=12)\n",
        "plt.xticks(size=10)\n",
        "plt.yticks(size=10)\n",
        "plt.legend(loc=\"best\", fontsize=12, title=\"Segments\", title_fontsize=14)\n",
        "plt.show()"
      ],
      "metadata": {
        "colab": {
          "base_uri": "https://localhost:8080/",
          "height": 724
        },
        "id": "BVcXDnHBQiTK",
        "outputId": "0b6294bc-7241-40ee-8e12-f76aa12278ec"
      },
      "execution_count": 25,
      "outputs": [
        {
          "output_type": "display_data",
          "data": {
            "text/plain": [
              "<Figure size 1800x800 with 1 Axes>"
            ],
            "image/png": "[encoded data removed]"
          },
          "metadata": {}
        }
      ]
    },
    {
      "cell_type": "code",
      "source": [
        "def CohortAnalysis(dataframe):\n",
        "\n",
        "    dataframe = dataframe[[\"CustomerID\", \"Invoice\", \"InvoiceDate\"]].drop_duplicates()\n",
        "    dataframe[\"order_month\"] = dataframe[\"InvoiceDate\"].dt.to_period(\"M\")\n",
        "    dataframe[\"cohort\"] = (dataframe.groupby(\"CustomerID\")[\"InvoiceDate\"].transform(\"min\").dt.to_period(\"M\"))\n",
        "    cohort_data = (dataframe.groupby([\"cohort\", \"order_month\"]).agg(n_customers=(\"CustomerID\", \"nunique\")).reset_index(drop=False))\n",
        "    cohort_data[\"period_number\"] = (cohort_data.order_month - cohort_data.cohort).apply(attrgetter(\"n\"))\n",
        "    cohort_pivot = cohort_data.pivot_table(index=\"cohort\", columns=\"period_number\", values=\"n_customers\")\n",
        "    cohort_size = cohort_pivot.iloc[:, 0]\n",
        "    retention_matrix = cohort_pivot.divide(cohort_size, axis=0)\n",
        "    with sns.axes_style(\"white\"):\n",
        "        fig, ax = plt.subplots(1, 2, figsize=(12, 8), sharey=True, gridspec_kw={\"width_ratios\": [1, 11]})\n",
        "        sns.heatmap(retention_matrix,mask=retention_matrix.isnull(), annot=True, cbar=False, fmt=\".0%\", cmap=\"coolwarm\", ax=ax[1],)\n",
        "        ax[1].set_title(\"Monthly Cohorts: User Retention\", fontsize=14)\n",
        "        ax[1].set(xlabel=\"# of periods\", ylabel=\"\")\n",
        "        white_cmap = mcolors.ListedColormap([\"white\"])\n",
        "        sns.heatmap(pd.DataFrame(cohort_size).rename(columns={0: \"cohort_size\"}),annot=True,cbar=False,fmt=\"g\",cmap=white_cmap,ax=ax[0],)\n",
        "        fig.tight_layout()\n",
        "\n",
        "CohortAnalysis(df)"
      ],
      "metadata": {
        "colab": {
          "base_uri": "https://localhost:8080/",
          "height": 807
        },
        "id": "64BDJZWBQiVi",
        "outputId": "5480cb66-eac6-4a4a-b95b-7f791658cae9"
      },
      "execution_count": 26,
      "outputs": [
        {
          "output_type": "display_data",
          "data": {
            "text/plain": [
              "<Figure size 1200x800 with 2 Axes>"
            ],
            "image/png": "[encoded data removed]"
          },
          "metadata": {}
        }
      ]
    },
    {
      "cell_type": "code",
      "source": [
        "rfm.to_csv(\"/content/drive/MyDrive/02.coding/10.Team_Project/08.고객이탈예측_CLV/rfm.csv\")"
      ],
      "metadata": {
        "id": "Rlnlv8IrQiX_"
      },
      "execution_count": null,
      "outputs": []
    }
  ]
}