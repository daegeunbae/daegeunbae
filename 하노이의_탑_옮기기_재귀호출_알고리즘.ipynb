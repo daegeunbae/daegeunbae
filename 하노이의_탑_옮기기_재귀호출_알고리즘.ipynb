{
  "nbformat": 4,
  "nbformat_minor": 0,
  "metadata": {
    "colab": {
      "provenance": [],
      "authorship_tag": "ABX9TyNE4+pYnUs3jUlFXG0Tcy6I",
      "include_colab_link": true
    },
    "kernelspec": {
      "name": "python3",
      "display_name": "Python 3"
    },
    "language_info": {
      "name": "python"
    }
  },
  "cells": [
    {
      "cell_type": "markdown",
      "metadata": {
        "id": "view-in-github",
        "colab_type": "text"
      },
      "source": [
        "<a href=\"https://colab.research.google.com/github/daegeunbae/daegeunbae/blob/main/%ED%95%98%EB%85%B8%EC%9D%B4%EC%9D%98_%ED%83%91_%EC%98%AE%EA%B8%B0%EA%B8%B0_%EC%9E%AC%EA%B7%80%ED%98%B8%EC%B6%9C_%EC%95%8C%EA%B3%A0%EB%A6%AC%EC%A6%98.ipynb\" target=\"_parent\"><img src=\"https://colab.research.google.com/assets/colab-badge.svg\" alt=\"Open In Colab\"/></a>"
      ]
    },
    {
      "cell_type": "code",
      "execution_count": 1,
      "metadata": {
        "colab": {
          "base_uri": "https://localhost:8080/"
        },
        "id": "_CHxbOkKlzzN",
        "outputId": "67e56322-4524-4ecf-ad97-3f9ba08e3659"
      },
      "outputs": [
        {
          "output_type": "stream",
          "name": "stdout",
          "text": [
            "1번 원반을 A에서 B로 이동\n",
            "2번 원반을 A에서 C로 이동\n",
            "1번 원반을 B에서 C로 이동\n",
            "3번 원반을 A에서 B로 이동\n",
            "1번 원반을 C에서 A로 이동\n",
            "2번 원반을 C에서 B로 이동\n",
            "1번 원반을 A에서 B로 이동\n",
            "4번 원반을 A에서 C로 이동\n",
            "1번 원반을 B에서 C로 이동\n",
            "2번 원반을 B에서 A로 이동\n",
            "1번 원반을 C에서 A로 이동\n",
            "3번 원반을 B에서 C로 이동\n",
            "1번 원반을 A에서 B로 이동\n",
            "2번 원반을 A에서 C로 이동\n",
            "1번 원반을 B에서 C로 이동\n"
          ]
        }
      ],
      "source": [
        "# 하노이 문제\n",
        "\n",
        "#문제 정의 : 원반의 개수 N을 입력 받아 모든 원반을 'C' 막대에 옮기는 각 움직임을 출력\n",
        "\n",
        "# 규칙\n",
        "# 크기가 다른 원반 n개를 시작 기둥에서 도착 기둥으로 모두 옮겨야 한다.\n",
        "# 원반은 한 번에 한 개씩만 옮길 수 있다.\n",
        "# 원반을 뽑을 땐 기둥의 맨 위의 원반을 뽑아야 한다. (중간에 있는 원반은 어떤 경우에도 뽑을 수 없다.)\n",
        "# 원반을 쌓을 땐 기둥의 맨 위에 쌓아야 한다. (원반과 원반 사이에 끼워 넣을 수 없다.)\n",
        "# 원반을 쌓을 땐 큰 원반 위에 작은 원반을 올려야 한다. (작은 원반 위에 큰 원반을 올릴 수 없다.)\n",
        "\n",
        "#n개의 원판을 옮기기 위해서는 n-1개의 원판을 중간 기둥까지 옮겨야 하고,\n",
        "#1번 기둥에서 3번 기둥으로 n번째 원판을 옮긴다.\n",
        "#다시 중간 기둥에 위치한 n-1개의 원판을 3번 기둥으로 옮기면,\n",
        "#n개의 원판을 옮기는 데 성공\n",
        "\n",
        "# n =2일때 총 3번 이동\n",
        "# 1번 원반 A -> B\n",
        "# 2번 원반 A -> C\n",
        "# 1번 원반 B -> C\n",
        "\n",
        "# n=3일때 7번 이동\n",
        "# 1번 원반을 A에서 C로 이동 A -> C\n",
        "# 2번 원반을 A에서 B로 이동 A -> B\n",
        "# 1번 원반을 C에서 B로 이동 C -> B\n",
        "# 3번 원반을 A에서 C로 이동 A -> C\n",
        "# 1번 원반을 B에서 A로 이동 B -> A\n",
        "# n-1번 원반을 B에서 C로 이동 B -> C\n",
        "# 1번 원반을 A에서 C로 이동 A -> C\n",
        "\n",
        "# n=4일때\n",
        "\n",
        "# 원반을 이동할 때 출력할 메시지\n",
        "MSG_FORMAT = \"{}번 원반을 {}에서 {}로 이동\"\n",
        "\n",
        "# 원반을 이동하는 함수를 정의\n",
        "def move(N, start, to):\n",
        "    # MSG_FORMAT 형식에 맞게 메시지를 출력\n",
        "    print(MSG_FORMAT.format(N, start, to))\n",
        "\n",
        "# 하노이의 탑 알고리즘을 구현하는 함수 정의\n",
        "def hanoi(N, start, to, via):\n",
        "    # 원반이 하나만 남은 경우에는 바로 이동시키고 출력\n",
        "    if N == 1:\n",
        "        move(1, start, to)\n",
        "    else:\n",
        "        # (1) N-1개의 원반을 시작 기둥에서 보조 기둥으로 이동.\n",
        "        hanoi(N-1, start, via, to)\n",
        "        # (2) 가장 큰 N번 원반을 시작 기둥에서 목표 기둥으로 이동\n",
        "        move(N, start, to)\n",
        "        # (3) N-1개의 원반을 보조 기둥에서 목표 기둥으로 이동\n",
        "        hanoi(N-1, via, to, start)\n",
        "\n",
        "#hanoi(3, 'A', 'C', 'B') 원반 3개 A -> C 기둥으로 이동(2번을 보조 기둥으로)\n",
        "hanoi(4, 'A', 'C', 'B') # 원반 4개 A -> C 기둥으로 이동(2번을 보조 기둥으로)\n",
        "\n"
      ]
    },
    {
      "cell_type": "code",
      "source": [],
      "metadata": {
        "id": "S6Db1Exwp_jX"
      },
      "execution_count": null,
      "outputs": []
    },
    {
      "cell_type": "code",
      "source": [],
      "metadata": {
        "id": "RdGJp7wop_ls"
      },
      "execution_count": null,
      "outputs": []
    },
    {
      "cell_type": "code",
      "source": [],
      "metadata": {
        "id": "kFQPVjdYp_oC"
      },
      "execution_count": null,
      "outputs": []
    },
    {
      "cell_type": "code",
      "source": [],
      "metadata": {
        "id": "na2IGXMqp_7l"
      },
      "execution_count": null,
      "outputs": []
    }
  ]
}
