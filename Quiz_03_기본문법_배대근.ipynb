{
  "cells": [
    {
      "cell_type": "markdown",
      "metadata": {
        "id": "view-in-github",
        "colab_type": "text"
      },
      "source": [
        "<a href=\"https://colab.research.google.com/github/daegeunbae/daegeunbae/blob/main/Quiz_03_%EA%B8%B0%EB%B3%B8%EB%AC%B8%EB%B2%95_%EB%B0%B0%EB%8C%80%EA%B7%BC.ipynb\" target=\"_parent\"><img src=\"https://colab.research.google.com/assets/colab-badge.svg\" alt=\"Open In Colab\"/></a>"
      ]
    },
    {
      "cell_type": "markdown",
      "id": "59ca3b38",
      "metadata": {
        "id": "59ca3b38"
      },
      "source": [
        "# 기본 연습 문제 리뷰"
      ]
    },
    {
      "cell_type": "markdown",
      "id": "b8886266",
      "metadata": {
        "id": "b8886266"
      },
      "source": [
        " "
      ]
    },
    {
      "cell_type": "markdown",
      "id": "bc182f96",
      "metadata": {
        "id": "bc182f96"
      },
      "source": [
        "### 01. \n",
        "8과목의 점수를 입력을 받아서, 이들의 평균을 구하는 것을 구하세요. 아래와 같이 본인이 입력을 받으려는 과목의 이름을 출력을 하면서, 그 과목의 점수를 입력을 받으면서 진행을 하세요"
      ]
    },
    {
      "cell_type": "code",
      "execution_count": null,
      "id": "fac1747a",
      "metadata": {
        "id": "fac1747a",
        "outputId": "85e02637-eea0-46c5-b6fc-b404416b0103",
        "colab": {
          "base_uri": "https://localhost:8080/"
        }
      },
      "outputs": [
        {
          "output_type": "stream",
          "name": "stdout",
          "text": [
            "국어점수를 입력하세요 : 10\n",
            "수학점수를 입력하세요 : 20\n",
            "과학점수를 입력하세요 : 30\n",
            "사회점수를 입력하세요 : 40\n",
            "영어점수를 입력하세요 : 50\n",
            "음악점수를 입력하세요 : 60\n",
            "35.0\n"
          ]
        }
      ],
      "source": [
        "sub = [\"국어\", \"수학\", \"과학\", \"사회\", \"영어\", \"음악\"]\n",
        "zumsu = []\n",
        "\n",
        "for i in sub:\n",
        "    txt = i + \"점수를 입력하세요 : \"\n",
        "    zumsu.append(int(input(txt)))\n",
        "print(sum(zumsu)/len(zumsu))"
      ]
    },
    {
      "cell_type": "markdown",
      "id": "a2359c7b",
      "metadata": {
        "id": "a2359c7b"
      },
      "source": [
        "### 02. \n",
        "아래와 같은 학생 성적에 대해서 a = {\"A\": 30, \"B\":50, \"C\":20,\"D\":30, \"E\":85, \"F\":85,\"G\":20}의 데이터에 대해서, 최고점의 점수와 최고점을 받은 학생이 몇 명인지 알려주세요"
      ]
    },
    {
      "cell_type": "code",
      "execution_count": null,
      "id": "417964d3",
      "metadata": {
        "id": "417964d3",
        "outputId": "b6ede1a0-e538-48c5-bc89-8e0074530b27",
        "colab": {
          "base_uri": "https://localhost:8080/"
        }
      },
      "outputs": [
        {
          "output_type": "stream",
          "name": "stdout",
          "text": [
            "최고점 : 85\n",
            "최고점 학생 수 : 2\n"
          ]
        }
      ],
      "source": [
        "a = {\"A\": 30, \"B\":50, \"C\":20,\"D\":30, \"E\":85, \"F\":85,\"G\":20}\n",
        "print(\"최고점 : {}\".format(max(a.values())))\n",
        "print(\"최고점 학생 수 : {}\".format(len([x for x in a.values() if x == max(a.values())])))"
      ]
    },
    {
      "cell_type": "markdown",
      "id": "9b0f3744",
      "metadata": {
        "id": "9b0f3744"
      },
      "source": [
        "### 03.\n",
        "a = [\"three\", \"six\", \"nine\", \"twelve\"] 데이터를 기반으로 b = [\"three_3\", \"six_6\", \"nine_9\", \"twelve_12\"]로 만들어보세요~"
      ]
    },
    {
      "cell_type": "code",
      "execution_count": null,
      "id": "977bc151",
      "metadata": {
        "id": "977bc151",
        "outputId": "979a96f6-afcb-4312-cac6-aa6b2be7877e",
        "colab": {
          "base_uri": "https://localhost:8080/"
        }
      },
      "outputs": [
        {
          "output_type": "execute_result",
          "data": {
            "text/plain": [
              "['three_3', 'six_6', 'nine_9', 'twelve_12']"
            ]
          },
          "metadata": {},
          "execution_count": 12
        }
      ],
      "source": [
        "a = [\"three\", \"six\", \"nine\", \"twelve\"]\n",
        "[x+'_'+str(3+3*i) for i, x in enumerate(a)]\n"
      ]
    },
    {
      "cell_type": "code",
      "source": [
        "a = [\"three\", \"six\", \"nine\", \"twelve\"]\n",
        "\n",
        "b = [a[i] + '_' + str((i+1)*3) for i in range(4)]\n",
        "b"
      ],
      "metadata": {
        "id": "KcEhWbji5qtN"
      },
      "id": "KcEhWbji5qtN",
      "execution_count": null,
      "outputs": []
    },
    {
      "cell_type": "markdown",
      "id": "0b0446ad",
      "metadata": {
        "id": "0b0446ad"
      },
      "source": [
        "### 04.\n",
        "a = [ 100, 300, 150, 200, 500, 800, 300, 200, 100, 450 , 800, 100 ] 의 데이터가 주어졌을 때, 이들 중에서 100, 200, 800, 500, 450, 300 의 값을 제외한 나머지 값들에 대해서  / 100을 값을 아래와 같이 출력하세요~ 아래와 같은 2가지 방법으로 하세요<br>\n",
        "방법1 : 리스트 컴프리핸션, not in 사용<br>\n",
        "방법2 : 리스트 컴프리핸션, in 사용"
      ]
    },
    {
      "cell_type": "code",
      "execution_count": null,
      "id": "7eb4eb00",
      "metadata": {
        "id": "7eb4eb00"
      },
      "outputs": [],
      "source": [
        "a = [ 100, 300, 150, 200, 500, 800, 300, 200, 100, 450 , 800, 100 ]"
      ]
    },
    {
      "cell_type": "code",
      "execution_count": null,
      "id": "c5f5c1b9",
      "metadata": {
        "id": "c5f5c1b9",
        "outputId": "40aa2771-adb3-453e-e3e3-f10eef11749a",
        "colab": {
          "base_uri": "https://localhost:8080/"
        }
      },
      "outputs": [
        {
          "output_type": "execute_result",
          "data": {
            "text/plain": [
              "[1.5]"
            ]
          },
          "metadata": {},
          "execution_count": 14
        }
      ],
      "source": [
        "#) not in 을 사용해서 하기\n",
        "[ x/100 for x in a if x not in [100, 200, 800, 500, 450, 300]]"
      ]
    },
    {
      "cell_type": "code",
      "execution_count": null,
      "id": "823d2e6e",
      "metadata": {
        "id": "823d2e6e",
        "outputId": "d81d3fa9-41fa-47df-dec6-4afcc15ec1b1"
      },
      "outputs": [
        {
          "data": {
            "text/plain": [
              "[1.5]"
            ]
          },
          "execution_count": 13,
          "metadata": {},
          "output_type": "execute_result"
        }
      ],
      "source": [
        "# in을 사용해서 하기\n",
        "[ x/100 for x in a if x in set(a) - set([100, 200, 800, 500, 450, 300])]"
      ]
    },
    {
      "cell_type": "markdown",
      "id": "b6cdd80a",
      "metadata": {
        "id": "b6cdd80a"
      },
      "source": [
        "### 05.\n",
        "100까지의 소수를 모두 찾아보세요~"
      ]
    },
    {
      "cell_type": "code",
      "execution_count": null,
      "id": "e1000432",
      "metadata": {
        "id": "e1000432",
        "outputId": "d227216d-41d6-4874-811e-050768290c2f"
      },
      "outputs": [
        {
          "name": "stdout",
          "output_type": "stream",
          "text": [
            "3,5,7,11,13,17,19,23,29,31,37,41,43,47,53,59,61,67,71,73,79,83,89,97,"
          ]
        }
      ],
      "source": [
        ""
      ]
    },
    {
      "cell_type": "markdown",
      "id": "1298f9f1",
      "metadata": {
        "id": "1298f9f1"
      },
      "source": [
        "### 06.\n",
        "아래의 그림을 만들어 보세요"
      ]
    },
    {
      "cell_type": "code",
      "execution_count": null,
      "id": "5dc3543f",
      "metadata": {
        "id": "5dc3543f",
        "outputId": "1c4149f5-3483-4ada-ec28-710e30fea9dc"
      },
      "outputs": [
        {
          "name": "stdout",
          "output_type": "stream",
          "text": [
            "@@@@@@@@@\n",
            " @@@@@@@\n",
            "  @@@@@\n",
            "   @@@\n",
            "    @\n"
          ]
        }
      ],
      "source": [
        ""
      ]
    },
    {
      "cell_type": "markdown",
      "id": "3f12723d",
      "metadata": {
        "id": "3f12723d"
      },
      "source": [
        "### 07.\n",
        "3개의 수를 입력을 받고, 그 중에서 가장 큰 숫자를 출력하세요"
      ]
    },
    {
      "cell_type": "code",
      "execution_count": null,
      "id": "ad7dbc92",
      "metadata": {
        "id": "ad7dbc92",
        "outputId": "edc9bec0-eb18-4210-9af9-4c1af53110c8"
      },
      "outputs": [
        {
          "name": "stdout",
          "output_type": "stream",
          "text": [
            "처음 수: 3\n",
            "두번 째 수: 5\n",
            "마지막 수: 2\n",
            "5\n"
          ]
        }
      ],
      "source": [
        "sorted([int(input('첫번째수:')),int(input('두번째수:')),int(input('세번째수:'))])[-1]"
      ]
    },
    {
      "cell_type": "markdown",
      "id": "f00d5d81",
      "metadata": {
        "id": "f00d5d81"
      },
      "source": [
        "### 08.\n",
        "아래와 같이 주가 가격의 정보가 있다. 가로줄은 1일에 대한 시가, 고가, 저가, 종가의 순으로 되어 있으며, 고가가 200보다 큰 경우를 출력하세요"
      ]
    },
    {
      "cell_type": "code",
      "execution_count": null,
      "id": "b9efb534",
      "metadata": {
        "id": "b9efb534"
      },
      "outputs": [],
      "source": [
        "data = [[\"open\", \"high\", \"low\", \"close\"],\n",
        "        [120, 150, 90, 100],\n",
        "        [230, 220, 120, 200],\n",
        "        [340, 340, 300, 200]]"
      ]
    },
    {
      "cell_type": "code",
      "execution_count": null,
      "id": "97ed67d3",
      "metadata": {
        "id": "97ed67d3",
        "outputId": "7fc64f8a-122a-4c15-b5f0-0734da8ff785"
      },
      "outputs": [
        {
          "name": "stdout",
          "output_type": "stream",
          "text": [
            "220\n",
            "340\n"
          ]
        }
      ],
      "source": [
        "for i in data[1:]:\n",
        "    if i[1]>200:\n",
        "        print(i[1])"
      ]
    },
    {
      "cell_type": "markdown",
      "id": "48c7305b",
      "metadata": {
        "id": "48c7305b"
      },
      "source": [
        "### 09.\n",
        "아래와 같이 주가 가격의 정보가 있다. 가로줄은 1일에 대한 시가, 고가, 저가, 종가의 순으로 되어 있으며, 그 날의 고가과 저가의 변동폭을 날짜별로 출력을 하세요"
      ]
    },
    {
      "cell_type": "code",
      "execution_count": null,
      "id": "62d68df9",
      "metadata": {
        "id": "62d68df9"
      },
      "outputs": [],
      "source": [
        "data = [[\"open\", \"high\", \"low\", \"close\"],\n",
        "        [120, 150, 90, 100],\n",
        "        [230, 220, 120, 200],\n",
        "        [340, 340, 300, 200]]"
      ]
    },
    {
      "cell_type": "code",
      "execution_count": null,
      "id": "58b7b28d",
      "metadata": {
        "id": "58b7b28d",
        "outputId": "4edc00e8-7665-4299-c37c-1a5bed2fe7e5"
      },
      "outputs": [
        {
          "data": {
            "text/plain": [
              "[60, 100, 40]"
            ]
          },
          "execution_count": 25,
          "metadata": {},
          "output_type": "execute_result"
        }
      ],
      "source": [
        "cnt=1\n",
        "for i in data[1:]:\n",
        "    \n",
        "    print(f'날짜 {cnt}일 : {abs(i[1]-i[2])}')\n",
        "    cnt+=1"
      ]
    },
    {
      "cell_type": "markdown",
      "id": "1a469858",
      "metadata": {
        "id": "1a469858"
      },
      "source": [
        "### 10. \n",
        "아래와 같이 주가 가격의 정보가 있다. 가로 줄은 1일에 대한 시가, 고가, 저가, 종가의 순으로 되어 있으며, 그날 시가에 사서 고가에 매도를 하였을 때 날짜별로 수익금을 출력하세요"
      ]
    },
    {
      "cell_type": "code",
      "execution_count": null,
      "id": "49fe34f1",
      "metadata": {
        "id": "49fe34f1"
      },
      "outputs": [],
      "source": [
        "data = [[\"open\", \"high\", \"low\", \"close\"],\n",
        "        [120, 150, 90, 100],\n",
        "        [230, 220, 120, 200],\n",
        "        [340, 340, 300, 200]]"
      ]
    },
    {
      "cell_type": "code",
      "execution_count": null,
      "id": "0bffe1e3",
      "metadata": {
        "id": "0bffe1e3",
        "outputId": "bd7ce4a4-1532-4468-c418-5e356dae5313"
      },
      "outputs": [
        {
          "name": "stdout",
          "output_type": "stream",
          "text": [
            "1일 수익금 : 30\n",
            "2일 수익금 : -10\n",
            "3일 수익금 : 0\n"
          ]
        }
      ],
      "source": [
        "date=1\n",
        "for i in data[1:]:\n",
        "    수익금=(i[1]-i[0])\n",
        "    date+=1\n",
        "    print(f'{date}일 수익금 : {수익금}')"
      ]
    }
  ],
  "metadata": {
    "kernelspec": {
      "display_name": "Python 3 (ipykernel)",
      "language": "python",
      "name": "python3"
    },
    "language_info": {
      "codemirror_mode": {
        "name": "ipython",
        "version": 3
      },
      "file_extension": ".py",
      "mimetype": "text/x-python",
      "name": "python",
      "nbconvert_exporter": "python",
      "pygments_lexer": "ipython3",
      "version": "3.9.7"
    },
    "colab": {
      "name": "Quiz_03_기본문법_배대근",
      "provenance": [],
      "collapsed_sections": [],
      "include_colab_link": true
    }
  },
  "nbformat": 4,
  "nbformat_minor": 5
}